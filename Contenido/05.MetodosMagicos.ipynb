{
 "cells": [
  {
   "cell_type": "markdown",
   "metadata": {},
   "source": [
    "# Atributos de clase protegidos\n",
    "\n",
    "Los atributos dentro de una clase pueden ser modificados por el usuario directamente. Volvamos al ejemplo\n",
    "de la clase `Persona`."
   ]
  },
  {
   "cell_type": "code",
   "execution_count": 144,
   "metadata": {},
   "outputs": [],
   "source": [
    "class Persona:\n",
    "    def __init__(self, nombre, edad, num_cuenta):\n",
    "        self.nombre, self.edad, self.num_cuenta = nombre, edad, num_cuenta\n",
    "\n",
    "    def mostrarInformación(self):\n",
    "        print(f'{self.nombre} -> {self.edad}')"
   ]
  },
  {
   "cell_type": "markdown",
   "metadata": {},
   "source": [
    "Con esta clase `Persona` se crea un objeto llamado `cliente1`."
   ]
  },
  {
   "cell_type": "code",
   "execution_count": 145,
   "metadata": {},
   "outputs": [
    {
     "name": "stdout",
     "output_type": "stream",
     "text": [
      "Juan -> 34\n"
     ]
    }
   ],
   "source": [
    "cliente1 = Persona(\"Juan\", 34, 123456789)\n",
    "cliente1.mostrarInformación()"
   ]
  },
  {
   "cell_type": "markdown",
   "metadata": {},
   "source": [
    "El objeto `cliente1` tiene los valores se sus propiedades pasadas por el constructor al momento de ser creado, y no existe\n",
    "limitante alguna para ser modificados directamente. Por ejemplo:"
   ]
  },
  {
   "cell_type": "code",
   "execution_count": 146,
   "metadata": {},
   "outputs": [
    {
     "name": "stdout",
     "output_type": "stream",
     "text": [
      "Juan Perez -> 34\n"
     ]
    }
   ],
   "source": [
    "cliente1.nombre = \"Juan Perez\"\n",
    "cliente1.mostrarInformación()"
   ]
  },
  {
   "cell_type": "markdown",
   "metadata": {},
   "source": [
    "Aunque esto es permitido por el intérprete en `Python`, es considerado como una mala práctica de programación. \n",
    "Lo que se debe hacer es escribir un módulo dentro de la clase que reciba el nuevo nombre y haga el cambio del valor\n",
    "de la propiedad. De esta manera se tiene un control y certeza sobre los cambios en las propiedades. Considere además \n",
    "el caso de que en la propiedad se almacene información sensible que no se desea revelar, sería necesario limitar\n",
    "el acceso a la propiedad que contenga esa información."
   ]
  },
  {
   "cell_type": "code",
   "execution_count": 147,
   "metadata": {},
   "outputs": [
    {
     "data": {
      "text/plain": [
       "123456789"
      ]
     },
     "execution_count": 147,
     "metadata": {},
     "output_type": "execute_result"
    }
   ],
   "source": [
    "cliente1.num_cuenta"
   ]
  },
  {
   "cell_type": "markdown",
   "metadata": {},
   "source": [
    "Dado que `Python` no posee mecanismo para evitar el acceso o que se modifiquen los valores de las propiedades, existe una\n",
    "convención para marcar los atributos como protegidos. Para ello se utiliza el prefijo guión bajo \\_ en el nombre de la \n",
    "propiedad. Esto indica a cualquier otro programador que dicha propiedad no debería ser accedida o modificada fuera de \n",
    "la clase. "
   ]
  },
  {
   "cell_type": "code",
   "execution_count": 148,
   "metadata": {},
   "outputs": [],
   "source": [
    "class Persona:\n",
    "    def __init__(self, nombre, edad, num_cuenta):\n",
    "        self.nombre, self.edad, self._num_cuenta = nombre, edad, num_cuenta \n",
    "        # Nótese que num_cuenta se marcó como propiedad protegida\n",
    "\n",
    "    def mostrarInformación(self):\n",
    "        print(f'{self.nombre} -> {self.edad}')"
   ]
  },
  {
   "cell_type": "code",
   "execution_count": 149,
   "metadata": {},
   "outputs": [
    {
     "name": "stdout",
     "output_type": "stream",
     "text": [
      "Juan -> 34\n"
     ]
    }
   ],
   "source": [
    "cliente1 = Persona(\"Juan\", 34, 123456789)\n",
    "cliente1.mostrarInformación()"
   ]
  },
  {
   "cell_type": "code",
   "execution_count": 150,
   "metadata": {},
   "outputs": [
    {
     "data": {
      "text/plain": [
       "123456789"
      ]
     },
     "execution_count": 150,
     "metadata": {},
     "output_type": "execute_result"
    }
   ],
   "source": [
    "cliente1._num_cuenta"
   ]
  },
  {
   "cell_type": "markdown",
   "metadata": {},
   "source": [
    "Aunque la propiedad _\\_num\\_cuenta_ aún puede ser impresa e incluso modificada, marcarla como protegida\n",
    "indica al programador que hacerlo va en contra de las buenas prácticas de codificación."
   ]
  },
  {
   "cell_type": "markdown",
   "metadata": {},
   "source": [
    "# Métodos especiales\n",
    "\n",
    "Los métodos especiales en Python, también conocidos como **métodos mágicos** o **dunder methods**, \n",
    "son funciones integradas dentro de las clases que permiten definir comportamientos específicos \n",
    "para operaciones estándar. Tienen dos guiones bajos al principio y al final de sus nombres, \n",
    "como `__init__` o `__str__`.\n",
    "\n",
    "## Algunos métodos especiales comunes:\n",
    "\n",
    "- **`__init__`**: Inicializa una nueva instancia de una clase.\n",
    "- **`__str__`**: Define cómo representar un objeto como una cadena de texto, usado en `str(obj)` y `print(obj)`.\n",
    "- **`__repr__`**: Proporciona una representación oficial de un objeto, usada en `repr(obj)`.\n",
    "- **`__len__`**: Devuelve el tamaño o longitud de un objeto, usado en `len(obj)`.\n",
    "- **`__getitem__`, `__setitem__`, `__delitem__`**: Permiten acceder, modificar y eliminar elementos por índice.\n",
    "- **`__iter__`, `__next__`**: Permiten que un objeto sea iterable, como en un bucle `for`.\n",
    "- **`__eq__`, `__lt__`, `__gt__`**: Implementan comparaciones (igualdad, menor que, mayor que, etc.).\n",
    "- **`__add__`, `__sub__`, `__mul__`, etc.**: Definen el comportamiento de operadores aritméticos.\n",
    "\n",
    "Ya hemos utilizado el método `__init__` que es el constructor, y se ejecuta automáticamente \n",
    "cada vez que se crea un objeto/instancia de la clase. \n",
    "\n",
    "El nombre **método especial** o más aún **método mágico** puede ser engañoso, ya que técnicamente\n",
    "no hay algo especial o mágico en ellos. Lo único especial acerca de ellos es el nombre, el cual\n",
    "asegura que serán llamados en situaciones especiales. Por ejemplo, el método `__init__` que se \n",
    "ejecuta al crear un objeto.\n",
    "\n",
    "Por ejemplo, considere la *fórmula general barométrica* para calcular la presión atmosférica $p$\n",
    "dada la altura $h$.\n",
    "\n",
    "$$ p = p_0e^{-Mgh/RT} $$\n",
    "\n",
    "donde $M$ es la masa molar del aire, $g$ es la constante gravitacional, $R$ es la constante del gas, \n",
    "$T$ la temperatura y $p_0$ la presión del aire a nivel del mar. Se define además $h_0 = \\dfrac{RT}{Mg}$.\n",
    "\n",
    "$$ p = p_0e^{-h/h_0} $$\n",
    "\n",
    "Ahora se define una clase para el cálculo barométrico."
   ]
  },
  {
   "cell_type": "code",
   "execution_count": 151,
   "metadata": {},
   "outputs": [],
   "source": [
    "import math \n",
    "\n",
    "class Barometric:\n",
    "    def __init__(self, T):\n",
    "        g = 9.81        # m/s²\n",
    "        R = 8.314       # J/(K*mol)\n",
    "        M = 0.02896     # kg/mol\n",
    "        self.h0 = R*T/M/g\n",
    "        self.p0 = 100        # kPa\n",
    "\n",
    "    def value(self, h):\n",
    "        return self.p0 * math.exp(-h/self.h0)"
   ]
  },
  {
   "cell_type": "code",
   "execution_count": 152,
   "metadata": {},
   "outputs": [
    {
     "data": {
      "text/plain": [
       "77.31204126500637"
      ]
     },
     "execution_count": 152,
     "metadata": {},
     "output_type": "execute_result"
    }
   ],
   "source": [
    "bar1 = Barometric(292.15)\n",
    "bar1.value(2200)"
   ]
  },
  {
   "cell_type": "markdown",
   "metadata": {},
   "source": [
    "Esta forma de la clase permite obtener el valor de la presión para cierto valor de $T$ y $h$. El valor de la presión de \n",
    "obtiene al llamar al método `value` y pasarle el argumento $h$.\n",
    "\n",
    "Sería más simple de utilizar si se pudiese llamar directamente al objeto sin necesidad de emplear el método intermedio.\n",
    "Para ello existe el método especial `__call__`. \n",
    "\n",
    "Veamos una nueva versión de la clase empleando este método especial."
   ]
  },
  {
   "cell_type": "code",
   "execution_count": 153,
   "metadata": {},
   "outputs": [],
   "source": [
    "import math \n",
    "\n",
    "class Barometric:\n",
    "    def __init__(self, T):\n",
    "        g = 9.81        # m/s²\n",
    "        R = 8.314       # J/(K*mol)\n",
    "        M = 0.02896     # kg/mol\n",
    "        self.h0 = R*T/M/g\n",
    "        self.p0 = 100        # kPa\n",
    "\n",
    "    def __call__(self, h):\n",
    "        return self.p0 * math.exp(-h/self.h0)"
   ]
  },
  {
   "cell_type": "code",
   "execution_count": 154,
   "metadata": {},
   "outputs": [
    {
     "name": "stdout",
     "output_type": "stream",
     "text": [
      "77.31204126500637\n",
      "77.31204126500637\n"
     ]
    }
   ],
   "source": [
    "bar2 = Barometric(292.15)\n",
    "print(bar2(2200))\n",
    "\n",
    "# Es equivalente a esta forma de la llamada\n",
    "print(bar2.__call__(2200))"
   ]
  },
  {
   "cell_type": "markdown",
   "metadata": {},
   "source": [
    "## Método especial para imprimir\n",
    "\n",
    "Es posible imprmir un objeto `a` empleando un `print(a)`, lo cual funciona bien para los objetos propios \n",
    "de Python como cadenas y listas. Sin embrago, si nosotros creamos una clase, ese print no necesariamente \n",
    "mostrará información útil. Por ello tendremos que resolver ese problema definiendo el método `__str__`\n",
    "dentro de la clase. El método `__str__` debe devolver de preferencia una cadena y no debe recibir argumentos\n",
    "excepto por `self`. \n",
    "\n",
    "Redefiniendo la clase `Barometric`, queda así:"
   ]
  },
  {
   "cell_type": "code",
   "execution_count": 155,
   "metadata": {},
   "outputs": [],
   "source": [
    "import math \n",
    "\n",
    "class Barometric:\n",
    "    def __init__(self, T):\n",
    "        g = 9.81        # m/s²\n",
    "        R = 8.314       # J/(K*mol)\n",
    "        M = 0.02896     # kg/mol\n",
    "        self.h0 = R*T/M/g\n",
    "        self.p0 = 100        # kPa\n",
    "        self.T = T\n",
    "\n",
    "    def __call__(self, h):\n",
    "        return f'p(h = {h}, T = {self.T}) = {self.p0 * math.exp(-h/self.h0)} kPa'\n",
    "    \n",
    "    def __str__(self):\n",
    "        return f'p0 * exp(-Mgh/(RT)) [kPa]; T = {self.T}ºK'"
   ]
  },
  {
   "cell_type": "code",
   "execution_count": 156,
   "metadata": {},
   "outputs": [
    {
     "name": "stdout",
     "output_type": "stream",
     "text": [
      "p(h = 2200, T = 292.15) = 77.31204126500637 kPa\n",
      "p0 * exp(-Mgh/(RT)) [kPa]; T = 292.15ºK\n"
     ]
    }
   ],
   "source": [
    "bar3 = Barometric(292.15)\n",
    "print(bar3(2200))\n",
    "print(bar3)"
   ]
  },
  {
   "cell_type": "markdown",
   "metadata": {},
   "source": [
    "## Métodos especiales para operaciones matemáticas\n",
    "\n",
    "Hasta ahora hemos cubierto los métodos `__init__`, `__call__` y `__str__`, pero hay más de ellos.\n",
    "Por ejemplo, los métodos `__add__`, `__sub__` y `__mul__`. Definir estos métodos dentro de la clase\n",
    "nos permite emplear expresiones como $c = a + b$, donde $a$ y $b$ son instancias de una clase. \n",
    "\n",
    "\n",
    "```python\n",
    "c = a + b       # c = a.__add__(b)\n",
    "\n",
    "c = a - b       # c = a.__sub__(b)\n",
    "\n",
    "c = a * b       # c = a.__mul__(b)\n",
    "\n",
    "c = a / b       # c = a.__div__(b)\n",
    "\n",
    "c = a ** b      # c = a.__pow__(b)\n",
    "```\n",
    "\n",
    "Para la mayoría de los casos, cualquiera de estas operaciones devuelve un objeto de la misma clase\n",
    "que los operandos.\n",
    "\n",
    "De manera similar, también existen métodos especiales para comparar objetos:\n",
    "\n",
    "```python\n",
    "a == b          # a.__eq__(b)\n",
    "\n",
    "a != b          # a.__ne__(b)\n",
    "\n",
    "a < b           # a.__lt__(b)\n",
    "\n",
    "a <= b          # a.__le__(b)\n",
    "\n",
    "a > b           # a.__gt__(b)\n",
    "\n",
    "a >= b          # a.__ge__(b)\n",
    "```\n",
    "\n",
    "Estos métodos deben ser implementados para devolver un booleano, para que sea consistente con el comportamiento\n",
    "de los operadores de comparación. \n",
    "\n",
    "El contenido de los métodos al momento de definirlos dependen del desarrollador, lo único especial acerca de los \n",
    "métodos es su nombre, ya que mediante este pueden ser llamados automáticamente por varios operadores. \n",
    "\n",
    "Por ejemplo, si se desea multiplicar dos objetos $c = a * b$, Python buscará el método llamado `__mul__` en \n",
    "la instancia $a$. Si el método existe, será llamado pasandole como argumento la instancia $b$ y cualquiera\n",
    "que sea la devolución del método `__mul__` se asigna a $c$."
   ]
  },
  {
   "cell_type": "markdown",
   "metadata": {},
   "source": [
    "## Método especial `__repr__`\n",
    "\n",
    "Este método especial es semejante al método `__str__`, ya que devuelve una cadena con información acerca del objeto. \n",
    "Por un lado la cadena devuelta por `__str__` muestra información que es fácilmente leíble y por otro lado la cadena\n",
    "devuelta por `__repr__` contiene la información necesaria para recrear el objeto. \n",
    "\n",
    "Para un objeto `a` el método `__repr__` se puede llamar mediante la función nativa de Python llamada `repr(a)`."
   ]
  },
  {
   "cell_type": "code",
   "execution_count": 192,
   "metadata": {},
   "outputs": [],
   "source": [
    "import math \n",
    "\n",
    "class Barometric:\n",
    "    def __init__(self, T):\n",
    "        g = 9.81        # m/s²\n",
    "        R = 8.314       # J/(K*mol)\n",
    "        M = 0.02896     # kg/mol\n",
    "        self.h0 = R*T/M/g\n",
    "        self.p0 = 100        # kPa\n",
    "        self.T = T\n",
    "\n",
    "    def __call__(self, h):\n",
    "        return f'p(h = {h}, T = {self.T}) = {self.p0 * math.exp(-h/self.h0)} kPa'\n",
    "    \n",
    "    def __str__(self):\n",
    "        return f'p0 * exp(-Mgh/(RT)) [kPa]; T = {self.T}ºK'\n",
    "\n",
    "    def __repr__(self):\n",
    "        \"\"\" Return code for regenerating this instance \"\"\"\n",
    "        return f'Barometric({self.T})'"
   ]
  },
  {
   "cell_type": "code",
   "execution_count": 193,
   "metadata": {},
   "outputs": [
    {
     "name": "stdout",
     "output_type": "stream",
     "text": [
      "p0 * exp(-Mgh/(RT)) [kPa]; T = 292.15ºK\n"
     ]
    },
    {
     "data": {
      "text/plain": [
       "'Barometric(292.15)'"
      ]
     },
     "execution_count": 193,
     "metadata": {},
     "output_type": "execute_result"
    }
   ],
   "source": [
    "b3 = Barometric(292.15)\n",
    "print(b3)\n",
    "repr(b3)"
   ]
  },
  {
   "cell_type": "code",
   "execution_count": 194,
   "metadata": {},
   "outputs": [
    {
     "name": "stdout",
     "output_type": "stream",
     "text": [
      "p0 * exp(-Mgh/(RT)) [kPa]; T = 292.15ºK\n"
     ]
    }
   ],
   "source": [
    "b4 = eval(repr(b3))\n",
    "print(b4)"
   ]
  },
  {
   "cell_type": "markdown",
   "metadata": {},
   "source": [
    "Estos resultados confirman que el método `__repr__` funciona de acuerdo a lo esperado, dado que \n",
    "`eval(repr(b3))` devuelve un objeto idéntico a `b3`. \n",
    "\n",
    "Ambos métodos `__str__` y `__repr__` muestran información acerca de un objeto, la diferencia es\n",
    "que una muestra información legible para humanos y la segunda información legible para Python."
   ]
  },
  {
   "cell_type": "markdown",
   "metadata": {},
   "source": [
    "## Mostrar contenido de una clase\n",
    "\n",
    "Algunas veces resulta útil mostrar el contenido de una clase, por ejemplo para realizar debugging.\n",
    "\n",
    "Considere la siguiente clase de ejemplo que solo contiene un comentario, el constructor y una propiedad:"
   ]
  },
  {
   "cell_type": "code",
   "execution_count": 195,
   "metadata": {},
   "outputs": [],
   "source": [
    "class A:\n",
    "    \"\"\" Una clase de muestra \"\"\"\n",
    "    def __init__(self, value):\n",
    "        self.v = value"
   ]
  },
  {
   "cell_type": "markdown",
   "metadata": {},
   "source": [
    "Si se realiza un dir(A) se mostrarán varios métodos y propiedades que se han definido automáticamente\n",
    "en la clase. "
   ]
  },
  {
   "cell_type": "code",
   "execution_count": 196,
   "metadata": {},
   "outputs": [
    {
     "data": {
      "text/plain": [
       "['__class__',\n",
       " '__delattr__',\n",
       " '__dict__',\n",
       " '__dir__',\n",
       " '__doc__',\n",
       " '__eq__',\n",
       " '__format__',\n",
       " '__ge__',\n",
       " '__getattribute__',\n",
       " '__getstate__',\n",
       " '__gt__',\n",
       " '__hash__',\n",
       " '__init__',\n",
       " '__init_subclass__',\n",
       " '__le__',\n",
       " '__lt__',\n",
       " '__module__',\n",
       " '__ne__',\n",
       " '__new__',\n",
       " '__reduce__',\n",
       " '__reduce_ex__',\n",
       " '__repr__',\n",
       " '__setattr__',\n",
       " '__sizeof__',\n",
       " '__str__',\n",
       " '__subclasshook__',\n",
       " '__weakref__']"
      ]
     },
     "execution_count": 196,
     "metadata": {},
     "output_type": "execute_result"
    }
   ],
   "source": [
    "dir(A)"
   ]
  },
  {
   "cell_type": "markdown",
   "metadata": {},
   "source": [
    "Además, si se crea un objeto de la clase y se ejecuta el método `dir(a)` observaremos la misma salida mostrado \n",
    "con la clase pero también los valores creados por el constructor al momento de la creación del objeto."
   ]
  },
  {
   "cell_type": "code",
   "execution_count": 197,
   "metadata": {},
   "outputs": [
    {
     "data": {
      "text/plain": [
       "['__class__',\n",
       " '__delattr__',\n",
       " '__dict__',\n",
       " '__dir__',\n",
       " '__doc__',\n",
       " '__eq__',\n",
       " '__format__',\n",
       " '__ge__',\n",
       " '__getattribute__',\n",
       " '__getstate__',\n",
       " '__gt__',\n",
       " '__hash__',\n",
       " '__init__',\n",
       " '__init_subclass__',\n",
       " '__le__',\n",
       " '__lt__',\n",
       " '__module__',\n",
       " '__ne__',\n",
       " '__new__',\n",
       " '__reduce__',\n",
       " '__reduce_ex__',\n",
       " '__repr__',\n",
       " '__setattr__',\n",
       " '__sizeof__',\n",
       " '__str__',\n",
       " '__subclasshook__',\n",
       " '__weakref__',\n",
       " 'v']"
      ]
     },
     "execution_count": 197,
     "metadata": {},
     "output_type": "execute_result"
    }
   ],
   "source": [
    "a = A(2)\n",
    "dir(a)"
   ]
  },
  {
   "cell_type": "markdown",
   "metadata": {},
   "source": [
    "## Método especial `__doc__`"
   ]
  },
  {
   "cell_type": "markdown",
   "metadata": {},
   "source": [
    "El método especial `__doc__` muestra los comentarios que existen dentro de la definición de la clase\n",
    "que han sido escritos dentro de triples comillas dobles. Estos textos y este método son los que sirven\n",
    "para construir la documentación del código posteriormente."
   ]
  },
  {
   "cell_type": "code",
   "execution_count": 198,
   "metadata": {},
   "outputs": [
    {
     "data": {
      "text/plain": [
       "' Una clase de muestra '"
      ]
     },
     "execution_count": 198,
     "metadata": {},
     "output_type": "execute_result"
    }
   ],
   "source": [
    "a.__doc__"
   ]
  },
  {
   "cell_type": "code",
   "execution_count": 199,
   "metadata": {},
   "outputs": [
    {
     "data": {
      "text/plain": [
       "' Una clase de muestra '"
      ]
     },
     "execution_count": 199,
     "metadata": {},
     "output_type": "execute_result"
    }
   ],
   "source": [
    "A.__doc__"
   ]
  },
  {
   "cell_type": "code",
   "execution_count": 200,
   "metadata": {},
   "outputs": [
    {
     "data": {
      "text/plain": [
       "'\\nNumPy\\n=====\\n\\nProvides\\n  1. An array object of arbitrary homogeneous items\\n  2. Fast mathematical operations over arrays\\n  3. Linear Algebra, Fourier Transforms, Random Number Generation\\n\\nHow to use the documentation\\n----------------------------\\nDocumentation is available in two forms: docstrings provided\\nwith the code, and a loose standing reference guide, available from\\n`the NumPy homepage <https://numpy.org>`_.\\n\\nWe recommend exploring the docstrings using\\n`IPython <https://ipython.org>`_, an advanced Python shell with\\nTAB-completion and introspection capabilities.  See below for further\\ninstructions.\\n\\nThe docstring examples assume that `numpy` has been imported as ``np``::\\n\\n  >>> import numpy as np\\n\\nCode snippets are indicated by three greater-than signs::\\n\\n  >>> x = 42\\n  >>> x = x + 1\\n\\nUse the built-in ``help`` function to view a function\\'s docstring::\\n\\n  >>> help(np.sort)\\n  ... # doctest: +SKIP\\n\\nFor some objects, ``np.info(obj)`` may provide additional help.  This is\\nparticularly true if you see the line \"Help on ufunc object:\" at the top\\nof the help() page.  Ufuncs are implemented in C, not Python, for speed.\\nThe native Python help() does not know how to view their help, but our\\nnp.info() function does.\\n\\nTo search for documents containing a keyword, do::\\n\\n  >>> np.lookfor(\\'keyword\\')\\n  ... # doctest: +SKIP\\n\\nGeneral-purpose documents like a glossary and help on the basic concepts\\nof numpy are available under the ``doc`` sub-module::\\n\\n  >>> from numpy import doc\\n  >>> help(doc)\\n  ... # doctest: +SKIP\\n\\nAvailable subpackages\\n---------------------\\nlib\\n    Basic functions used by several sub-packages.\\nrandom\\n    Core Random Tools\\nlinalg\\n    Core Linear Algebra Tools\\nfft\\n    Core FFT routines\\npolynomial\\n    Polynomial tools\\ntesting\\n    NumPy testing tools\\ndistutils\\n    Enhancements to distutils with support for\\n    Fortran compilers support and more  (for Python <= 3.11).\\n\\nUtilities\\n---------\\ntest\\n    Run numpy unittests\\nshow_config\\n    Show numpy build configuration\\nmatlib\\n    Make everything matrices.\\n__version__\\n    NumPy version string\\n\\nViewing documentation using IPython\\n-----------------------------------\\n\\nStart IPython and import `numpy` usually under the alias ``np``: `import\\nnumpy as np`.  Then, directly past or use the ``%cpaste`` magic to paste\\nexamples into the shell.  To see which functions are available in `numpy`,\\ntype ``np.<TAB>`` (where ``<TAB>`` refers to the TAB key), or use\\n``np.*cos*?<ENTER>`` (where ``<ENTER>`` refers to the ENTER key) to narrow\\ndown the list.  To view the docstring for a function, use\\n``np.cos?<ENTER>`` (to view the docstring) and ``np.cos??<ENTER>`` (to view\\nthe source code).\\n\\nCopies vs. in-place operation\\n-----------------------------\\nMost of the functions in `numpy` return a copy of the array argument\\n(e.g., `np.sort`).  In-place versions of these functions are often\\navailable as array methods, i.e. ``x = np.array([1,2,3]); x.sort()``.\\nExceptions to this rule are documented.\\n\\n'"
      ]
     },
     "execution_count": 200,
     "metadata": {},
     "output_type": "execute_result"
    }
   ],
   "source": [
    "import numpy\n",
    "numpy.__doc__"
   ]
  },
  {
   "cell_type": "markdown",
   "metadata": {},
   "source": [
    "## Otors métodos especiales"
   ]
  },
  {
   "cell_type": "markdown",
   "metadata": {},
   "source": [
    "El método `__module__` devuelve el nombre del módulo al cual pertenece la clase, en el siguiente ejemplo\n",
    "se devuelve `__main__` dado que el objeto fue creado dentro de ese módulo."
   ]
  },
  {
   "cell_type": "code",
   "execution_count": 201,
   "metadata": {},
   "outputs": [
    {
     "data": {
      "text/plain": [
       "'__main__'"
      ]
     },
     "execution_count": 201,
     "metadata": {},
     "output_type": "execute_result"
    }
   ],
   "source": [
    "a.__module__"
   ]
  },
  {
   "cell_type": "markdown",
   "metadata": {},
   "source": [
    "El método especial `__dict__` devuelve un diccionario con las propiedades y los valores de un objeto."
   ]
  },
  {
   "cell_type": "code",
   "execution_count": 202,
   "metadata": {},
   "outputs": [
    {
     "data": {
      "text/plain": [
       "{'v': 2}"
      ]
     },
     "execution_count": 202,
     "metadata": {},
     "output_type": "execute_result"
    }
   ],
   "source": [
    "a.__dict__"
   ]
  },
  {
   "cell_type": "markdown",
   "metadata": {},
   "source": [
    "Una instancia contiene todos los atributos de la clase creados automáticamente por Python.\n",
    "Si se agregan nuevos valores al objeto, éstos son añadidos al diccionario."
   ]
  },
  {
   "cell_type": "code",
   "execution_count": 203,
   "metadata": {},
   "outputs": [
    {
     "data": {
      "text/plain": [
       "{'v': 2, 'myVar': 10}"
      ]
     },
     "execution_count": 203,
     "metadata": {},
     "output_type": "execute_result"
    }
   ],
   "source": [
    "a.myVar = 10\n",
    "a.__dict__"
   ]
  },
  {
   "cell_type": "code",
   "execution_count": 204,
   "metadata": {},
   "outputs": [
    {
     "data": {
      "text/plain": [
       "10"
      ]
     },
     "execution_count": 204,
     "metadata": {},
     "output_type": "execute_result"
    }
   ],
   "source": [
    "a.__getattribute__(\"v\")\n",
    "a.__getattribute__(\"myVar\")"
   ]
  },
  {
   "cell_type": "markdown",
   "metadata": {},
   "source": [
    "### Ejemplo 1\n",
    "Crear una clase que calcule la evaluación de la derivada de una función.\n",
    "Utilizar una definición genérica para el cálculo de una aproximación de la derivada.\n",
    "\n",
    "$$ f'(x) \\approx \\dfrac{f(x+h) - f(x)}{h}. $$ "
   ]
  },
  {
   "cell_type": "code",
   "execution_count": 205,
   "metadata": {},
   "outputs": [],
   "source": [
    "class Derivada:\n",
    "    def __init__(self, f, h=1e-5):\n",
    "        self.f = f  # Función f(x) a derivar\n",
    "        self.h = h\n",
    "    \n",
    "    def __call__(self, x):\n",
    "        f, h = self.f, self.h\n",
    "        return (f(x+h) - f(x))/h"
   ]
  },
  {
   "cell_type": "code",
   "execution_count": 206,
   "metadata": {},
   "outputs": [
    {
     "data": {
      "text/plain": [
       "3.000030000110953"
      ]
     },
     "execution_count": 206,
     "metadata": {},
     "output_type": "execute_result"
    }
   ],
   "source": [
    "def f(x):\n",
    "    return x**3\n",
    "\n",
    "dfdx = Derivada(f)\n",
    "\n",
    "dfdx(1)"
   ]
  },
  {
   "cell_type": "markdown",
   "metadata": {},
   "source": [
    "### Ejemplo 2.\n",
    "Crear una clase que calcule la aproximación de una integral definida. Para ello consideremos la regla compuesta del trapecio.\n",
    "\n",
    "$$ A = \\int_a^b f(x)dx \\approx \\frac{h}{2}\\left[f(a) + 2\\sum_{j=1}^{n-1}f(x_j) + f(b) \\right] $$\n",
    "\n",
    "considere:\n",
    "\n",
    "$$ h = \\dfrac{b-a}{n} $$ \n",
    "\n",
    "y \n",
    "\n",
    "$$ x_j = a + j\\cdot h, $$\n",
    "\n",
    "donde $n$ es la cantidad de trapecios y $h$ la altura de cada uno de ellos."
   ]
  },
  {
   "cell_type": "code",
   "execution_count": 207,
   "metadata": {},
   "outputs": [],
   "source": [
    "class TrapecioCompuesta:\n",
    "    def __init__(self, f, n=1):\n",
    "        self.f, self.n = f, n\n",
    "    \n",
    "    def __call__(self, a, b):\n",
    "        f, n = self.f, self.n\n",
    "        h = (b-a)/n\n",
    "        suma = 0\n",
    "        for j in range(1,n):\n",
    "            suma += f(a + j*h)\n",
    "\n",
    "        return f'A = {h/2*(f(a) + 2*suma + f(b))} u^2'"
   ]
  },
  {
   "cell_type": "code",
   "execution_count": 208,
   "metadata": {},
   "outputs": [
    {
     "data": {
      "text/plain": [
       "'A = -1.9999999835506608 u^2'"
      ]
     },
     "execution_count": 208,
     "metadata": {},
     "output_type": "execute_result"
    }
   ],
   "source": [
    "import math\n",
    "def f(x):\n",
    "    return math.sin(x)\n",
    "\n",
    "intf = TrapecioCompuesta(f, 10000)\n",
    "\n",
    "intf(math.pi, 2*math.pi)"
   ]
  },
  {
   "cell_type": "markdown",
   "metadata": {},
   "source": [
    "### Ejemplo 3. Polinomios\n",
    "Crear una clase que permita construir un polinomio\n",
    "\n",
    "$$ P(x) = a_0 + a_1x + a_2x^2 $$ \n",
    "\n",
    "La clase debe incluir la funcionalidad de evaluar un polinomio en un valor dado, y sumar dos polinomios.\n",
    "Se deben utilizar los métodos especiales para usarlos de la forma indicada:\n",
    "\n",
    "* `__init__`: para constuir un polinomio de la forma `p = Polynomial([1,-1])`\n",
    "* `__str__`: para imprimir el polinomio\n",
    "* `__call__`: para evaluar el polinomio de la forma `p(2.0)`\n",
    "* `__add__`: para realizar la suma de polinomios\n",
    "* `__mul__`: para realizar la multiplicación de polinomios\n",
    "\n",
    "Además se debe incluir un método para realizar la derivada del polinomio."
   ]
  },
  {
   "cell_type": "markdown",
   "metadata": {},
   "source": [
    "### Solución\n",
    "Creación de la clase Polynomial, el constructor y el método ´__call__´"
   ]
  },
  {
   "cell_type": "code",
   "execution_count": 209,
   "metadata": {},
   "outputs": [],
   "source": [
    "class Polynomial:\n",
    "    def __init__(self, coefficients):\n",
    "        self.coeff = coefficients\n",
    "\n",
    "    def __call__(self, x):\n",
    "        s = 0\n",
    "        for i in range(len(self.coeff)):\n",
    "            s += self.coeff[i]*x**i\n",
    "        return s"
   ]
  },
  {
   "cell_type": "code",
   "execution_count": 210,
   "metadata": {},
   "outputs": [
    {
     "data": {
      "text/plain": [
       "-3"
      ]
     },
     "execution_count": 210,
     "metadata": {},
     "output_type": "execute_result"
    }
   ],
   "source": [
    "p1 = Polynomial([1,-1])\n",
    "p1(4)"
   ]
  },
  {
   "cell_type": "markdown",
   "metadata": {},
   "source": [
    "Implementación de la suma de polinomios"
   ]
  },
  {
   "cell_type": "code",
   "execution_count": 211,
   "metadata": {},
   "outputs": [],
   "source": [
    "class Polynomial:\n",
    "    def __init__(self, coefficients):\n",
    "        self.coeff = coefficients\n",
    "\n",
    "    def __call__(self, x):\n",
    "        s = 0\n",
    "        for i in range(len(self.coeff)):\n",
    "            s += self.coeff[i]*x**i\n",
    "        return s\n",
    "    \n",
    "    def __add__(self, other):\n",
    "        # return self + other\n",
    "\n",
    "        # we start with longest list and add it to the other\n",
    "        if len(self.coeff) > len(other.coeff):\n",
    "            coeffsum = self.coeff[:] # copy list\n",
    "            for i in range(len(other.coeff)):\n",
    "                coeffsum[i] += other.coeff[i]\n",
    "\n",
    "        else: \n",
    "            coeffsum = other.coeff[:] # copy list\n",
    "            for i in range(len(self.coeff)):\n",
    "                coeffsum[i] += self.coeff[i]\n",
    "            \n",
    "        return Polynomial(coeffsum)\n"
   ]
  },
  {
   "cell_type": "code",
   "execution_count": 212,
   "metadata": {},
   "outputs": [
    {
     "name": "stdout",
     "output_type": "stream",
     "text": [
      "[-2, 1, 3, 1]\n"
     ]
    }
   ],
   "source": [
    "p1 = Polynomial([-3, 0, 2, 1])     # x³ + 2x² -3\n",
    "p2 = Polynomial([1, 1, 1])        # x² + x + 1\n",
    "p3 = p1 + p2    # x³ + 3x² + x - 2\n",
    "print(p3.coeff)"
   ]
  },
  {
   "cell_type": "markdown",
   "metadata": {},
   "source": [
    "Para la multiplicación se requiere realizar un proceso un poco más complicado. Nos referiremos\n",
    "a la expresión matemática para la multiplicación de polinomios.\n",
    "\n",
    "$$ p_1 \\cdot p_2 = \\left( \\sum_{i=0}^M c_ix^i \\right) \\left( \\sum_{j=0}^N d_jx^j \\right) = \\sum_{i=0}^M \\sum_{j=0}^N c_id_jx^{i+j}, $$\n",
    "\n",
    "donde \n",
    "\n",
    "$$p_1 = c_0 + c_1x + c_2x^2 + \\dots + c_Mx^M $$\n",
    "y\n",
    "$$p_2 = d_0 + d_1x + d_2x^2 + \\dots + d_Nx^N $$"
   ]
  },
  {
   "cell_type": "code",
   "execution_count": 213,
   "metadata": {},
   "outputs": [],
   "source": [
    "class Polynomial:\n",
    "    def __init__(self, coefficients):\n",
    "        self.coeff = coefficients\n",
    "\n",
    "    def __call__(self, x):\n",
    "        s = 0\n",
    "        for i in range(len(self.coeff)):\n",
    "            s += self.coeff[i]*x**i\n",
    "        return s\n",
    "    \n",
    "    def __add__(self, other):\n",
    "        # return self + other\n",
    "\n",
    "        # we start with longest list and add it to the other\n",
    "        if len(self.coeff) > len(other.coeff):\n",
    "            coeffsum = self.coeff[:] # copy list\n",
    "            for i in range(len(other.coeff)):\n",
    "                coeffsum[i] += other.coeff[i]\n",
    "\n",
    "        else: \n",
    "            coeffsum = other.coeff[:] # copy list\n",
    "            for i in range(len(self.coeff)):\n",
    "                coeffsum[i] += self.coeff[i]\n",
    "            \n",
    "        return Polynomial(coeffsum)\n",
    "\n",
    "    def __mul__(self, other):\n",
    "        M = len(self.coeff) - 1\n",
    "        N = len(other.coeff) - 1\n",
    "        coeff = [0]*(M+N+1) # [0 for i in range(10)]    # List of M+N+1 zeros\n",
    "        for i in range(0, M+1): \n",
    "            for j in range(0, N+1):\n",
    "                coeff[i+j] += self.coeff[i] * other.coeff[j]\n",
    "        \n",
    "        return Polynomial(coeff)"
   ]
  },
  {
   "cell_type": "code",
   "execution_count": 214,
   "metadata": {},
   "outputs": [
    {
     "name": "stdout",
     "output_type": "stream",
     "text": [
      "[-3, -3, -1, 3, 3, 1]\n"
     ]
    }
   ],
   "source": [
    "p1 = Polynomial([-3, 0, 2, 1])     # x³ + 2x² -3\n",
    "p2 = Polynomial([1, 1, 1])        # x² + x + 1\n",
    "p4 = p1 * p2    # x³ + 3x² + x - 2\n",
    "print(p4.coeff)"
   ]
  },
  {
   "cell_type": "markdown",
   "metadata": {},
   "source": [
    "Para el cálculo de la derivada del polinomio, se puede utilizar la regla:\n",
    "\n",
    "$$ \\dfrac{d}{dx}\\sum_{i=0}^n c_ix^i = \\sum_{i=1}^n ic_ix^{i-1} $$\n",
    "\n",
    "Por lo tanto, si $c$ es la lista de coeficientes del polinomio, la derivada tiene una lista \n",
    "de coeficientes en $dc$, donde $dc[i-1] = i\\cdot c[i]$ para todos los valores de $i$ desde\n",
    "1 hasta el índice mayor en $c$. Recuerde que la derivada de un polinomio se reduce en grado\n",
    "en 1, por lo tanto la lista $dc$ tendrá un elemento menos que la lista $c$."
   ]
  },
  {
   "cell_type": "code",
   "execution_count": 262,
   "metadata": {},
   "outputs": [],
   "source": [
    "class Polynomial:\n",
    "    def __init__(self, coefficients):\n",
    "        self.coeff = coefficients\n",
    "\n",
    "    def __call__(self, x):\n",
    "        s = 0\n",
    "        for i in range(len(self.coeff)):\n",
    "            s += self.coeff[i]*x**i\n",
    "        return s\n",
    "    \n",
    "    def __add__(self, other):\n",
    "        # return self + other\n",
    "\n",
    "        # we start with longest list and add it to the other\n",
    "        if len(self.coeff) > len(other.coeff):\n",
    "            coeffsum = self.coeff[:] # copy list\n",
    "            for i in range(len(other.coeff)):\n",
    "                coeffsum[i] += other.coeff[i]\n",
    "\n",
    "        else: \n",
    "            coeffsum = other.coeff[:] # copy list\n",
    "            for i in range(len(self.coeff)):\n",
    "                coeffsum[i] += self.coeff[i]\n",
    "            \n",
    "        return Polynomial(coeffsum)\n",
    "\n",
    "    def __mul__(self, other):\n",
    "        M = len(self.coeff) - 1\n",
    "        N = len(other.coeff) - 1\n",
    "        coeff = [0]*(M+N+1) # [0 for i in range(10)]    # List of M+N+1 zeros\n",
    "        for i in range(0, M+1): \n",
    "            for j in range(0, N+1):\n",
    "                coeff[i+j] += self.coeff[i] * other.coeff[j]\n",
    "        \n",
    "        return Polynomial(coeff)\n",
    "\n",
    "    def differentiate(self):\n",
    "        for i in range(1, len(self.coeff)):\n",
    "            self.coeff[i-1] = i * self.coeff[i]\n",
    "        del self.coeff[-1]\n",
    "\n",
    "    def derivative(self):\n",
    "        dpdx = Polynomial(self.coeff[:])\n",
    "        dpdx.differentiate()\n",
    "        return dpdx"
   ]
  },
  {
   "cell_type": "code",
   "execution_count": 264,
   "metadata": {},
   "outputs": [
    {
     "data": {
      "text/plain": [
       "<__main__.Polynomial at 0x7fa9cc5e0fd0>"
      ]
     },
     "execution_count": 264,
     "metadata": {},
     "output_type": "execute_result"
    }
   ],
   "source": [
    "p1 = Polynomial([-3, 0, 2, 1])     # x³ + 2x² -3\n",
    "p1.derivative()"
   ]
  },
  {
   "cell_type": "markdown",
   "metadata": {},
   "source": [
    "Por último, hace falta agregar la función `__str__` para mostrar el polinomio de una forma legible.\n",
    "El método debe devolver una representación del polinomio lo más cercana posible a como se escribe en \n",
    "Matemáticas."
   ]
  },
  {
   "cell_type": "code",
   "execution_count": 238,
   "metadata": {},
   "outputs": [],
   "source": [
    "class Polynomial:\n",
    "    def __init__(self, coefficients):\n",
    "        self.coeff = coefficients\n",
    "\n",
    "    def __call__(self, x):\n",
    "        s = 0\n",
    "        for i in range(len(self.coeff)):\n",
    "            s += self.coeff[i]*x**i\n",
    "        return s\n",
    "    \n",
    "    def __add__(self, other):\n",
    "        # return self + other\n",
    "\n",
    "        # we start with longest list and add it to the other\n",
    "        if len(self.coeff) > len(other.coeff):\n",
    "            coeffsum = self.coeff[:] # copy list\n",
    "            for i in range(len(other.coeff)):\n",
    "                coeffsum[i] += other.coeff[i]\n",
    "\n",
    "        else: \n",
    "            coeffsum = other.coeff[:] # copy list\n",
    "            for i in range(len(self.coeff)):\n",
    "                coeffsum[i] += self.coeff[i]\n",
    "            \n",
    "        return Polynomial(coeffsum)\n",
    "\n",
    "    def __mul__(self, other):\n",
    "        M = len(self.coeff) - 1\n",
    "        N = len(other.coeff) - 1\n",
    "        coeff = [0]*(M+N+1) # [0 for i in range(10)]    # List of M+N+1 zeros\n",
    "        for i in range(0, M+1): \n",
    "            for j in range(0, N+1):\n",
    "                coeff[i+j] += self.coeff[i] * other.coeff[j]\n",
    "        \n",
    "        return Polynomial(coeff)\n",
    "\n",
    "    def differentiate(self):\n",
    "        for i in range(1, len(self.coeff)):\n",
    "            self.coeff[i-1] = i * self.coeff[i]\n",
    "        del self.coeff[-1]\n",
    "\n",
    "    def derivative(self):\n",
    "        dpdx = Polynomial(self.coeff[:])\n",
    "        dpdx.differentiate()\n",
    "        return dpdx\n",
    "\n",
    "    def __str__(self):\n",
    "        s = ''\n",
    "        for i in range(0, len(self.coeff)):\n",
    "            if self.coeff[i] != 0:\n",
    "                s += f' + {self.coeff[i]:g}*x^{i:g}'\n",
    "        # fix layout\n",
    "        s = s.replace('+ - ', '- ')\n",
    "        s = s.replace(' 1*', ' ')\n",
    "        s = s.replace('x^0','1')\n",
    "        s = s.replace('*1', '')\n",
    "        s = s.replace('x^1', 'x')\n",
    "        if s[0:3] == ' + ':\n",
    "            s = s[3:]\n",
    "        if s[0:3] == ' - ':\n",
    "            s = '-' + s[3:]\n",
    "        return s"
   ]
  },
  {
   "cell_type": "markdown",
   "metadata": {},
   "source": [
    "$$ p_1(x) = x^3 + 2x^2 - 3$$"
   ]
  },
  {
   "cell_type": "code",
   "execution_count": 257,
   "metadata": {},
   "outputs": [
    {
     "name": "stdout",
     "output_type": "stream",
     "text": [
      "-3 + 2*x^2 + x^3\n"
     ]
    }
   ],
   "source": [
    "p1 = Polynomial([-3, 0, 2, 1])     # x³ + 2x² -3\n",
    "print(p1)"
   ]
  },
  {
   "cell_type": "markdown",
   "metadata": {},
   "source": [
    "$$ \\dfrac{dp_1}{dx} = 3x^2 + 4x $$"
   ]
  },
  {
   "cell_type": "code",
   "execution_count": 261,
   "metadata": {},
   "outputs": [
    {
     "name": "stdout",
     "output_type": "stream",
     "text": [
      "4*x + 3*x^2\n"
     ]
    }
   ],
   "source": [
    "p2 = p1.derivative()\n",
    "print(p2)"
   ]
  }
 ],
 "metadata": {
  "kernelspec": {
   "display_name": "Python 3",
   "language": "python",
   "name": "python3"
  },
  "language_info": {
   "codemirror_mode": {
    "name": "ipython",
    "version": 3
   },
   "file_extension": ".py",
   "mimetype": "text/x-python",
   "name": "python",
   "nbconvert_exporter": "python",
   "pygments_lexer": "ipython3",
   "version": "3.11.9"
  }
 },
 "nbformat": 4,
 "nbformat_minor": 2
}
