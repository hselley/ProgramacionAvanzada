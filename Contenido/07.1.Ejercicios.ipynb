{
 "cells": [
  {
   "cell_type": "markdown",
   "metadata": {},
   "source": [
    "# Ejercicios\n",
    "\n",
    "## Listas por compresión"
   ]
  },
  {
   "cell_type": "markdown",
   "metadata": {},
   "source": [
    "1. Crea una lista que contenga los cuadrados de los números del 1 al 10."
   ]
  },
  {
   "cell_type": "code",
   "execution_count": 1,
   "metadata": {},
   "outputs": [
    {
     "name": "stdout",
     "output_type": "stream",
     "text": [
      "[1, 4, 9, 16, 25, 36, 49, 64, 81, 100]\n"
     ]
    }
   ],
   "source": [
    "cuadrados = [x**2 for x in range(1, 11)]\n",
    "print(cuadrados)  # Salida: [1, 4, 9, 16, 25, 36, 49, 64, 81, 100]"
   ]
  },
  {
   "cell_type": "markdown",
   "metadata": {},
   "source": [
    "2. Genera una lista que contenga los números pares del 1 al 20."
   ]
  },
  {
   "cell_type": "code",
   "execution_count": 3,
   "metadata": {},
   "outputs": [
    {
     "name": "stdout",
     "output_type": "stream",
     "text": [
      "[2, 4, 6, 8, 10, 12, 14, 16, 18, 20]\n"
     ]
    }
   ],
   "source": [
    "pares = [x for x in range(1, 21) if x % 2 == 0]\n",
    "print(pares)  # Salida: [2, 4, 6, 8, 10, 12, 14, 16, 18, 20]"
   ]
  },
  {
   "cell_type": "markdown",
   "metadata": {},
   "source": [
    "3. Dada una lista de palabras, crea una nueva lista que contenga la longitud de cada palabra."
   ]
  },
  {
   "cell_type": "code",
   "execution_count": 4,
   "metadata": {},
   "outputs": [
    {
     "name": "stdout",
     "output_type": "stream",
     "text": [
      "[7, 6, 6, 7]\n"
     ]
    }
   ],
   "source": [
    "palabras = [\"manzana\", \"banana\", \"cereza\", \"durazno\"]\n",
    "longitudes = [len(palabra) for palabra in palabras]\n",
    "print(longitudes)  # Salida: [7, 6, 6, 7]"
   ]
  },
  {
   "cell_type": "markdown",
   "metadata": {},
   "source": [
    "4. Crea una lista que contenga los números del 1 al 30 que sean divisibles por 3."
   ]
  },
  {
   "cell_type": "code",
   "execution_count": 6,
   "metadata": {},
   "outputs": [
    {
     "name": "stdout",
     "output_type": "stream",
     "text": [
      "[3, 6, 9, 12, 15, 18, 21, 24, 27, 30]\n"
     ]
    }
   ],
   "source": [
    "divisibles_por_3 = [x for x in range(1, 31) if x % 3 == 0]\n",
    "print(divisibles_por_3)  # Salida: [3, 6, 9, 12, 15, 18, 21, 24, 27, 30]"
   ]
  },
  {
   "cell_type": "markdown",
   "metadata": {},
   "source": [
    "5. Dada una palabra, crea una lista que contenga solo las vocales de la palabra."
   ]
  },
  {
   "cell_type": "code",
   "execution_count": 8,
   "metadata": {},
   "outputs": [
    {
     "name": "stdout",
     "output_type": "stream",
     "text": [
      "['o', 'u', 'a', 'o', 'a']\n"
     ]
    }
   ],
   "source": [
    "palabra = \"computadora\"\n",
    "vocales = [letra for letra in palabra if letra in 'aeiou']\n",
    "print(vocales)  # Salida: ['o', 'u', 'a', 'o', 'a']"
   ]
  },
  {
   "cell_type": "markdown",
   "metadata": {},
   "source": [
    "6. Crea una lista que contenga todos los números primos entre 1 y 50 usando una lista por comprensión."
   ]
  },
  {
   "cell_type": "code",
   "execution_count": 9,
   "metadata": {},
   "outputs": [
    {
     "name": "stdout",
     "output_type": "stream",
     "text": [
      "[2, 3, 5, 7, 11, 13, 17, 19, 23, 29, 31, 37, 41, 43, 47]\n"
     ]
    }
   ],
   "source": [
    "def es_primo(n):\n",
    "    return n > 1 and all(n % i != 0 for i in range(2, int(n**0.5) + 1))\n",
    "\n",
    "primos = [x for x in range(1, 51) if es_primo(x)]\n",
    "print(primos)  # Salida: [2, 3, 5, 7, 11, 13, 17, 19, 23, 29, 31, 37, 41, 43, 47]"
   ]
  },
  {
   "cell_type": "markdown",
   "metadata": {},
   "source": [
    "7. Genera una lista de listas donde cada sublista contenga un número y su cuadrado, para los números del 1 al 5."
   ]
  },
  {
   "cell_type": "code",
   "execution_count": 10,
   "metadata": {},
   "outputs": [
    {
     "name": "stdout",
     "output_type": "stream",
     "text": [
      "[[1, 1], [2, 4], [3, 9], [4, 16], [5, 25]]\n"
     ]
    }
   ],
   "source": [
    "lista_de_listas = [[x, x**2] for x in range(1, 6)]\n",
    "print(lista_de_listas)  # Salida: [[1, 1], [2, 4], [3, 9], [4, 16], [5, 25]]"
   ]
  },
  {
   "cell_type": "markdown",
   "metadata": {},
   "source": [
    "8. Dada una lista de palabras, crea una nueva lista que contenga solo aquellas palabras que tienen más de 5 letras."
   ]
  },
  {
   "cell_type": "code",
   "execution_count": 11,
   "metadata": {},
   "outputs": [
    {
     "name": "stdout",
     "output_type": "stream",
     "text": [
      "['estrellas', 'cometa', 'galaxia']\n"
     ]
    }
   ],
   "source": [
    "palabras = [\"sol\", \"luna\", \"estrellas\", \"cometa\", \"galaxia\"]\n",
    "palabras_largas = [palabra for palabra in palabras if len(palabra) > 5]\n",
    "print(palabras_largas)  # Salida: ['estrellas', 'cometa', 'galaxia']"
   ]
  },
  {
   "cell_type": "markdown",
   "metadata": {},
   "source": [
    "9. Genera una lista de tuplas, donde cada tupla contenga un número y su cubo, para los números del 1 al 5."
   ]
  },
  {
   "cell_type": "code",
   "execution_count": 12,
   "metadata": {},
   "outputs": [
    {
     "name": "stdout",
     "output_type": "stream",
     "text": [
      "[(1, 1), (2, 8), (3, 27), (4, 64), (5, 125)]\n"
     ]
    }
   ],
   "source": [
    "lista_de_tuplas = [(x, x**3) for x in range(1, 6)]\n",
    "print(lista_de_tuplas)  # Salida: [(1, 1), (2, 8), (3, 27), (4, 64), (5, 125)]"
   ]
  },
  {
   "cell_type": "markdown",
   "metadata": {},
   "source": [
    "10. Dada una lista de listas, usa una lista por comprensión para aplanarla en una sola lista."
   ]
  },
  {
   "cell_type": "code",
   "execution_count": 13,
   "metadata": {},
   "outputs": [
    {
     "name": "stdout",
     "output_type": "stream",
     "text": [
      "[1, 2, 3, 4, 5, 6, 7, 8, 9]\n"
     ]
    }
   ],
   "source": [
    "lista_de_listas = [[1, 2, 3], [4, 5], [6, 7, 8, 9]]\n",
    "lista_aplanada = [elemento for sublista in lista_de_listas for elemento in sublista]\n",
    "print(lista_aplanada)  # Salida: [1, 2, 3, 4, 5, 6, 7, 8, 9]"
   ]
  },
  {
   "cell_type": "markdown",
   "metadata": {},
   "source": [
    "## Expresiones generadoras"
   ]
  },
  {
   "cell_type": "markdown",
   "metadata": {},
   "source": [
    "11. Crea una expresión generadora que calcule la suma de los cuadrados de los números del 1 al 10."
   ]
  },
  {
   "cell_type": "code",
   "execution_count": 14,
   "metadata": {},
   "outputs": [
    {
     "name": "stdout",
     "output_type": "stream",
     "text": [
      "385\n"
     ]
    }
   ],
   "source": [
    "suma_cuadrados = sum(x**2 for x in range(1, 11))\n",
    "print(suma_cuadrados)  # Salida: 385"
   ]
  },
  {
   "cell_type": "markdown",
   "metadata": {},
   "source": [
    "12. Genera una expresión generadora que produzca los números pares entre 1 y 20."
   ]
  },
  {
   "cell_type": "code",
   "execution_count": 15,
   "metadata": {},
   "outputs": [
    {
     "name": "stdout",
     "output_type": "stream",
     "text": [
      "2, 4, 6, 8, 10, 12, 14, 16, 18, 20\n"
     ]
    }
   ],
   "source": [
    "pares = (x for x in range(1, 21) if x % 2 == 0)\n",
    "print(*pares, sep=\", \")  # Salida: 2, 4, 6, 8, 10, 12, 14, 16, 18, 20"
   ]
  },
  {
   "cell_type": "markdown",
   "metadata": {},
   "source": [
    "13. Dada una lista de palabras, usa una expresión generadora para calcular la longitud total de todas las palabras."
   ]
  },
  {
   "cell_type": "code",
   "execution_count": 16,
   "metadata": {},
   "outputs": [
    {
     "name": "stdout",
     "output_type": "stream",
     "text": [
      "26\n"
     ]
    }
   ],
   "source": [
    "palabras = [\"manzana\", \"banana\", \"cereza\", \"durazno\"]\n",
    "longitud_total = sum(len(palabra) for palabra in palabras)\n",
    "print(longitud_total)  # Salida: 26"
   ]
  },
  {
   "cell_type": "markdown",
   "metadata": {},
   "source": [
    "14. Crea una expresión generadora que filtre los números divisibles por 3 en el rango de 1 a 30."
   ]
  },
  {
   "cell_type": "code",
   "execution_count": 17,
   "metadata": {},
   "outputs": [
    {
     "name": "stdout",
     "output_type": "stream",
     "text": [
      "3, 6, 9, 12, 15, 18, 21, 24, 27, 30\n"
     ]
    }
   ],
   "source": [
    "divisibles_por_3 = (x for x in range(1, 31) if x % 3 == 0)\n",
    "print(*divisibles_por_3, sep=\", \")  # Salida: 3, 6, 9, 12, 15, 18, 21, 24, 27, 30"
   ]
  },
  {
   "cell_type": "markdown",
   "metadata": {},
   "source": [
    "15. Genera una expresión generadora que calcule las raíces cuadradas de los números pares entre 1 y 20."
   ]
  },
  {
   "cell_type": "code",
   "execution_count": 18,
   "metadata": {},
   "outputs": [
    {
     "name": "stdout",
     "output_type": "stream",
     "text": [
      "1.4142135623730951, 2.0, 2.449489742783178, 2.8284271247461903, 3.1622776601683795, 3.4641016151377544, 3.7416573867739413, 4.0, 4.242640687119285, 4.47213595499958\n"
     ]
    }
   ],
   "source": [
    "import math\n",
    "raices_cuadradas = (math.sqrt(x) for x in range(2, 21, 2))\n",
    "print(*raices_cuadradas, sep=\", \")\n",
    "# Salida: 1.4142135623730951, 2.0, 2.8284271247461903, 3.4641016151377544, 4.0, 4.47213595499958, 5.0990195135927845, 5.656854249492381, 6.324555320336759, 7.0710678118654755"
   ]
  },
  {
   "cell_type": "markdown",
   "metadata": {},
   "source": [
    "16. Dada una lista de números, utiliza una expresión generadora para calcular el producto de todos los elementos."
   ]
  },
  {
   "cell_type": "code",
   "execution_count": 19,
   "metadata": {},
   "outputs": [
    {
     "name": "stdout",
     "output_type": "stream",
     "text": [
      "120\n"
     ]
    }
   ],
   "source": [
    "import math\n",
    "numeros = [1, 2, 3, 4, 5]\n",
    "producto = math.prod(x for x in numeros)\n",
    "print(producto)  # Salida: 120"
   ]
  },
  {
   "cell_type": "markdown",
   "metadata": {},
   "source": [
    "17. Dada una lista de cadenas, utiliza una expresión generadora para concatenarlas en una sola cadena."
   ]
  },
  {
   "cell_type": "code",
   "execution_count": 20,
   "metadata": {},
   "outputs": [
    {
     "name": "stdout",
     "output_type": "stream",
     "text": [
      "Hola Mundo!\n"
     ]
    }
   ],
   "source": [
    "cadenas = [\"Hola\", \" \", \"Mundo\", \"!\"]\n",
    "resultado = ''.join(cadena for cadena in cadenas)\n",
    "print(resultado)  # Salida: \"Hola Mundo!\""
   ]
  },
  {
   "cell_type": "markdown",
   "metadata": {},
   "source": [
    "18. Usa una expresión generadora para sumar los primeros **N** números primos. "
   ]
  },
  {
   "cell_type": "code",
   "execution_count": 21,
   "metadata": {},
   "outputs": [
    {
     "name": "stdout",
     "output_type": "stream",
     "text": [
      "1060\n"
     ]
    }
   ],
   "source": [
    "def es_primo(n):\n",
    "    return n > 1 and all(n % i != 0 for i in range(2, int(n**0.5) + 1))\n",
    "\n",
    "N = 10\n",
    "primos_sum = sum(x for x in range(2, 100) if es_primo(x))  # Generamos una lista amplia para cubrir los primeros 10 primos\n",
    "print(primos_sum)  # Salida: 129 (suma de los primeros 10 números primos)"
   ]
  },
  {
   "cell_type": "markdown",
   "metadata": {},
   "source": [
    "19. Dada una lista de palabras, utiliza una expresión generadora para filtrar solo aquellas palabras que tengan más de 5 letras."
   ]
  },
  {
   "cell_type": "code",
   "execution_count": 22,
   "metadata": {},
   "outputs": [
    {
     "name": "stdout",
     "output_type": "stream",
     "text": [
      "estrellas, cometa, galaxia\n"
     ]
    }
   ],
   "source": [
    "palabras = [\"sol\", \"luna\", \"estrellas\", \"cometa\", \"galaxia\"]\n",
    "palabras_largas = (palabra for palabra in palabras if len(palabra) > 5)\n",
    "print(*palabras_largas, sep=\", \")  # Salida: \"estrellas\", \"cometa\", \"galaxia\""
   ]
  },
  {
   "cell_type": "markdown",
   "metadata": {},
   "source": [
    "20. Usa una expresión generadora para generar números aleatorios entre 1 y 100, pero detente cuando el número generado supere 90."
   ]
  },
  {
   "cell_type": "code",
   "execution_count": 23,
   "metadata": {},
   "outputs": [
    {
     "name": "stdout",
     "output_type": "stream",
     "text": [
      "59, 45, 92, "
     ]
    }
   ],
   "source": [
    "import random\n",
    "numeros_al_azar = (num for num in iter(lambda: random.randint(1, 100), None))\n",
    "for num in numeros_al_azar:\n",
    "    print(num, end=\", \")\n",
    "    if num > 90:\n",
    "        break  # Detenemos la iteración cuando el número es mayor a 90"
   ]
  }
 ],
 "metadata": {
  "kernelspec": {
   "display_name": "Python 3",
   "language": "python",
   "name": "python3"
  },
  "language_info": {
   "codemirror_mode": {
    "name": "ipython",
    "version": 3
   },
   "file_extension": ".py",
   "mimetype": "text/x-python",
   "name": "python",
   "nbconvert_exporter": "python",
   "pygments_lexer": "ipython3",
   "version": "3.12.4"
  }
 },
 "nbformat": 4,
 "nbformat_minor": 2
}
