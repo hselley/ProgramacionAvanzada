{
 "cells": [
  {
   "cell_type": "markdown",
   "metadata": {},
   "source": [
    "# Iterables\n",
    "\n",
    "<!-- Página 366 (418 en PDF) -->\n",
    "\n",
    "Un iterador es un objeto que contiene una cantidad contable de valores.\n",
    "\n",
    "Un iterador es un objeto que se puede iterar, lo que significa que se pueden recorrer todos los valores.\n",
    "\n",
    "Técnicamente, en Python, un iterador es un objeto que implementa el protocolo `iterator`, que consta de \n",
    "los métodos `__iter__()` y `__next__()`.\n",
    "\n",
    "Python tiene varios métodos nativos que procesan iterables: \n",
    "\n",
    "* `sort`: ordena elementos en un iterable.\n",
    "* `zip`: combina elementos de iterables.\n",
    "* `enumerate`: empareja elementos en un iterable con posiciones relativas.\n",
    "* `filter`: selecciona elementos para los que una función es verdadera.\n",
    "* `reduce`: ejecuta pares de elementos en un iterable a través de una función.\n",
    "\n",
    "## Iterator vs Iterable\n",
    "\n",
    "Las listas, tuplas, diccionarios y conjuntos son objetos iterables. Son contenedores iterables de los que se\n",
    "puede obtener un iterador.\n",
    "\n",
    "Todos estos objetos tienen un método `iter()` que se utiliza para obtener un iterador:\n",
    "\n",
    "**Ejemplo**:"
   ]
  },
  {
   "cell_type": "code",
   "execution_count": 11,
   "metadata": {},
   "outputs": [
    {
     "name": "stdout",
     "output_type": "stream",
     "text": [
      "apple\n",
      "banana\n",
      "cherry\n"
     ]
    }
   ],
   "source": [
    "mytuple = (\"apple\", \"banana\", \"cherry\")\n",
    "myit = iter(mytuple)\n",
    "\n",
    "print(next(myit))\n",
    "print(next(myit))\n",
    "print(next(myit))"
   ]
  },
  {
   "cell_type": "markdown",
   "metadata": {},
   "source": [
    "Incluso las cadenas String son objetos iterables, y pueden devolver un iterador."
   ]
  },
  {
   "cell_type": "code",
   "execution_count": 12,
   "metadata": {},
   "outputs": [
    {
     "name": "stdout",
     "output_type": "stream",
     "text": [
      "b\n",
      "a\n",
      "n\n",
      "a\n",
      "n\n",
      "a\n"
     ]
    }
   ],
   "source": [
    "mystr = \"banana\"\n",
    "myit = iter(mystr)\n",
    "\n",
    "print(next(myit))\n",
    "print(next(myit))\n",
    "print(next(myit))\n",
    "print(next(myit))\n",
    "print(next(myit))\n",
    "print(next(myit))"
   ]
  },
  {
   "cell_type": "markdown",
   "metadata": {},
   "source": [
    "## Recorriendo un iterador\n",
    "\n",
    "Se puede utilizar un ciclo for para iterar a través del objeto iterable.\n",
    "\n",
    "**Ejemplo**: Iterar los valores de una tupla"
   ]
  },
  {
   "cell_type": "code",
   "execution_count": 13,
   "metadata": {},
   "outputs": [
    {
     "name": "stdout",
     "output_type": "stream",
     "text": [
      "apple\n",
      "banana\n",
      "cherry\n"
     ]
    }
   ],
   "source": [
    "mytuple = (\"apple\", \"banana\", \"cherry\")\n",
    "\n",
    "for x in mytuple:\n",
    "  print(x) "
   ]
  },
  {
   "cell_type": "markdown",
   "metadata": {},
   "source": [
    "**Ejemplo**: Iterar los caracteres de una cadena"
   ]
  },
  {
   "cell_type": "code",
   "execution_count": 14,
   "metadata": {},
   "outputs": [
    {
     "name": "stdout",
     "output_type": "stream",
     "text": [
      "b\n",
      "a\n",
      "n\n",
      "a\n",
      "n\n",
      "a\n"
     ]
    }
   ],
   "source": [
    " mystr = \"banana\"\n",
    "\n",
    "for x in mystr:\n",
    "  print(x) "
   ]
  },
  {
   "cell_type": "markdown",
   "metadata": {},
   "source": [
    "El ciclo `for` en realidad crea un objeto iterador y ejecuta el método `next()` para cada bucle."
   ]
  },
  {
   "cell_type": "markdown",
   "metadata": {},
   "source": [
    "## Crear un iterador\n",
    "\n",
    "Para crear un objeto/clase como iterador, debe implementar los métodos `__iter__()` y `__next__()` en su objeto.\n",
    "\n",
    "Recordando la creación de clases, todas ellas tienen una función llamada `__init__()`, que le permite realizar \n",
    "algunas inicializaciones cuando se crea el objeto.\n",
    "\n",
    "El método `__iter__()` actúa de manera similar, puede realizar operaciones (inicializar, etc.), pero siempre \n",
    "debe devolver el objeto iterador en sí.\n",
    "\n",
    "El método `__next__()` también le permite realizar operaciones y debe devolver el siguiente elemento de la secuencia.\n",
    "\n",
    "**Ejemplo**: Crear un iterador que devuelve números, comenzando con 1 y cada secuencia se incrementa en uno."
   ]
  },
  {
   "cell_type": "code",
   "execution_count": 15,
   "metadata": {},
   "outputs": [
    {
     "name": "stdout",
     "output_type": "stream",
     "text": [
      "1\n",
      "2\n",
      "3\n",
      "4\n",
      "5\n"
     ]
    }
   ],
   "source": [
    "class MyNumbers:\n",
    "  def __iter__(self):\n",
    "    self.a = 1\n",
    "    return self\n",
    "\n",
    "  def __next__(self):\n",
    "    x = self.a\n",
    "    self.a += 1\n",
    "    return x\n",
    "\n",
    "myclass = MyNumbers()\n",
    "myiter = iter(myclass)\n",
    "\n",
    "print(next(myiter))\n",
    "print(next(myiter))\n",
    "print(next(myiter))\n",
    "print(next(myiter))\n",
    "print(next(myiter)) "
   ]
  },
  {
   "cell_type": "markdown",
   "metadata": {},
   "source": [
    "## StopIteration\n",
    "\n",
    "El código anterior iteraría indefinidamente para un número indefinido de llamadas `next()` o si fuese utilizado\n",
    "en un ciclo `for`. Para prevenir esto se puede utilizar la sentencia `StopIteration`.\n",
    "\n",
    "En la definición del método `__next__()` se puede definir la condición de terminación que lanzará un error si se \n",
    "sobrepasa la cantidad de iteraciones definidas.\n",
    "\n",
    "**Ejemplo**. Detener la iteración luego de 20 repeticiones."
   ]
  },
  {
   "cell_type": "code",
   "execution_count": 16,
   "metadata": {},
   "outputs": [
    {
     "name": "stdout",
     "output_type": "stream",
     "text": [
      "1\n",
      "2\n",
      "3\n",
      "4\n",
      "5\n",
      "6\n",
      "7\n",
      "8\n",
      "9\n",
      "10\n",
      "11\n",
      "12\n",
      "13\n",
      "14\n",
      "15\n",
      "16\n",
      "17\n",
      "18\n",
      "19\n",
      "20\n"
     ]
    }
   ],
   "source": [
    "class MyNumbers:\n",
    "  def __iter__(self):\n",
    "    self.a = 1\n",
    "    return self\n",
    "\n",
    "  def __next__(self):\n",
    "    if self.a <= 20:\n",
    "      x = self.a\n",
    "      self.a += 1\n",
    "      return x\n",
    "    else:\n",
    "      raise StopIteration\n",
    "\n",
    "myclass = MyNumbers()\n",
    "myiter = iter(myclass)\n",
    "\n",
    "for x in myiter:\n",
    "  print(x)"
   ]
  },
  {
   "cell_type": "markdown",
   "metadata": {},
   "source": [
    "## Iterador `range`\n",
    "\n",
    "Ya hemos utilizado con anterioridad el método `range`, pero ahora ya podemos especificar que el método\n",
    "devuelve un iterador que genera números bajo demanda, en lugar de construir la lista resultante en la memoria.\n",
    "Se puede forzar a que el iterador sea una lista de números mediante el método `list`."
   ]
  },
  {
   "cell_type": "code",
   "execution_count": 17,
   "metadata": {},
   "outputs": [
    {
     "data": {
      "text/plain": [
       "range(0, 10)"
      ]
     },
     "execution_count": 17,
     "metadata": {},
     "output_type": "execute_result"
    }
   ],
   "source": [
    "R = range(10)\n",
    "R"
   ]
  },
  {
   "cell_type": "code",
   "execution_count": 24,
   "metadata": {},
   "outputs": [
    {
     "name": "stdout",
     "output_type": "stream",
     "text": [
      "0\n",
      "1\n",
      "2\n"
     ]
    }
   ],
   "source": [
    "I = iter(R)\n",
    "print(next(I))\n",
    "print(next(I))\n",
    "print(I.__next__())"
   ]
  },
  {
   "cell_type": "code",
   "execution_count": 23,
   "metadata": {},
   "outputs": [
    {
     "name": "stdout",
     "output_type": "stream",
     "text": [
      "0\n",
      "1\n",
      "2\n",
      "3\n",
      "4\n",
      "5\n",
      "6\n",
      "7\n",
      "8\n",
      "9\n"
     ]
    }
   ],
   "source": [
    "I = iter(R)\n",
    "for x in R:\n",
    "    print(next(I))"
   ]
  },
  {
   "cell_type": "code",
   "execution_count": 27,
   "metadata": {},
   "outputs": [
    {
     "data": {
      "text/plain": [
       "[0, 1, 2, 3, 4, 5, 6, 7, 8, 9]"
      ]
     },
     "execution_count": 27,
     "metadata": {},
     "output_type": "execute_result"
    }
   ],
   "source": [
    "list(R)"
   ]
  },
  {
   "cell_type": "markdown",
   "metadata": {},
   "source": [
    "## Iteradores map, zip y filter\n",
    "\n",
    "Al igual que `range`, los métodos `map`, `zip` y `filter` son iteradores en lugar de producir una lista\n",
    "con los resultados. Pero a diferencia de `range`, estos métodos métodos son sus propios iteradores. Es decir, \n",
    "después de recorrer sus resultados una vez, se agotan. En otras palabras, no puede tener múltiples iteradores \n",
    "en sus resultados que mantengan diferentes posiciones en esos resultados.\n",
    "\n",
    "En el siguiente ejemplo, `map` devuelve un iterador y no una lista. "
   ]
  },
  {
   "cell_type": "code",
   "execution_count": 43,
   "metadata": {},
   "outputs": [
    {
     "data": {
      "text/plain": [
       "<map at 0x7fa89c5382b0>"
      ]
     },
     "execution_count": 43,
     "metadata": {},
     "output_type": "execute_result"
    }
   ],
   "source": [
    "M = map(abs, (-1, 0, 1))\n",
    "M"
   ]
  },
  {
   "cell_type": "code",
   "execution_count": 44,
   "metadata": {},
   "outputs": [
    {
     "data": {
      "text/plain": [
       "1"
      ]
     },
     "execution_count": 44,
     "metadata": {},
     "output_type": "execute_result"
    }
   ],
   "source": [
    "next(M)"
   ]
  },
  {
   "cell_type": "code",
   "execution_count": 46,
   "metadata": {},
   "outputs": [
    {
     "name": "stdout",
     "output_type": "stream",
     "text": [
      "1\n",
      "0\n",
      "1\n"
     ]
    }
   ],
   "source": [
    "M = map(abs, (-1, 0, 1))\n",
    "\n",
    "for m in M:\n",
    "    print(m)"
   ]
  },
  {
   "cell_type": "code",
   "execution_count": 34,
   "metadata": {},
   "outputs": [
    {
     "data": {
      "text/plain": [
       "[1, 0, 1]"
      ]
     },
     "execution_count": 34,
     "metadata": {},
     "output_type": "execute_result"
    }
   ],
   "source": [
    "M = map(abs, (-1, 0, 1))\n",
    "list(M)"
   ]
  },
  {
   "cell_type": "markdown",
   "metadata": {},
   "source": [
    "La función `zip` devuelve un iterador que funciona de la misma forma."
   ]
  },
  {
   "cell_type": "code",
   "execution_count": 51,
   "metadata": {},
   "outputs": [
    {
     "data": {
      "text/plain": [
       "<zip at 0x7fa89c1c7500>"
      ]
     },
     "execution_count": 51,
     "metadata": {},
     "output_type": "execute_result"
    }
   ],
   "source": [
    "Z = zip((1,2,3), (10,20,30))\n",
    "Z"
   ]
  },
  {
   "cell_type": "code",
   "execution_count": 49,
   "metadata": {},
   "outputs": [
    {
     "data": {
      "text/plain": [
       "[(1, 10), (2, 20), (3, 30)]"
      ]
     },
     "execution_count": 49,
     "metadata": {},
     "output_type": "execute_result"
    }
   ],
   "source": [
    "list(Z)"
   ]
  },
  {
   "cell_type": "code",
   "execution_count": 53,
   "metadata": {},
   "outputs": [
    {
     "name": "stdout",
     "output_type": "stream",
     "text": [
      "(1, 10)\n",
      "(2, 20)\n",
      "(3, 30)\n"
     ]
    }
   ],
   "source": [
    "Z = zip((1,2,3), (10,20,30))\n",
    "\n",
    "for pair in Z:\n",
    "    print(pair)"
   ]
  },
  {
   "cell_type": "code",
   "execution_count": 54,
   "metadata": {},
   "outputs": [
    {
     "data": {
      "text/plain": [
       "(1, 10)"
      ]
     },
     "execution_count": 54,
     "metadata": {},
     "output_type": "execute_result"
    }
   ],
   "source": [
    "Z = zip((1,2,3), (10,20,30))\n",
    "next(Z)"
   ]
  },
  {
   "cell_type": "code",
   "execution_count": 55,
   "metadata": {},
   "outputs": [
    {
     "data": {
      "text/plain": [
       "(2, 20)"
      ]
     },
     "execution_count": 55,
     "metadata": {},
     "output_type": "execute_result"
    }
   ],
   "source": [
    "next(Z)"
   ]
  },
  {
   "cell_type": "markdown",
   "metadata": {},
   "source": [
    "El método nativo filter devuelve elementos en un iterable para los cuales la función pasada \n",
    "como argumento devolvió `True`. El método `filter` acepta un iterable para procesarlo y devuelve un \n",
    "iterable para los resultados generados."
   ]
  },
  {
   "cell_type": "code",
   "execution_count": 56,
   "metadata": {},
   "outputs": [
    {
     "data": {
      "text/plain": [
       "<filter at 0x7fa89c7d9c90>"
      ]
     },
     "execution_count": 56,
     "metadata": {},
     "output_type": "execute_result"
    }
   ],
   "source": [
    "filter(bool, ['spam', '', 'ni'])"
   ]
  },
  {
   "cell_type": "code",
   "execution_count": 57,
   "metadata": {},
   "outputs": [
    {
     "data": {
      "text/plain": [
       "['spam', 'ni']"
      ]
     },
     "execution_count": 57,
     "metadata": {},
     "output_type": "execute_result"
    }
   ],
   "source": [
    "list(filter(bool, ['spam', '', 'ni']))"
   ]
  },
  {
   "cell_type": "markdown",
   "metadata": {},
   "source": [
    "## Iteradores múltiples y sencillos\n",
    "\n",
    "El objeto `range` difiere de los demás métodos mencionados, ya que soporta len e indexación pero no es su propio iterador,\n",
    "(se crea uno con `iter` cuando se itera manualmente) y admite múltiples iteradores sobre su resultado que recuerdan sus \n",
    "posiciones de manera independiente."
   ]
  },
  {
   "cell_type": "code",
   "execution_count": 58,
   "metadata": {},
   "outputs": [
    {
     "ename": "TypeError",
     "evalue": "'range' object is not an iterator",
     "output_type": "error",
     "traceback": [
      "\u001b[0;31m---------------------------------------------------------------------------\u001b[0m",
      "\u001b[0;31mTypeError\u001b[0m                                 Traceback (most recent call last)",
      "Cell \u001b[0;32mIn[58], line 2\u001b[0m\n\u001b[1;32m      1\u001b[0m R \u001b[38;5;241m=\u001b[39m \u001b[38;5;28mrange\u001b[39m(\u001b[38;5;241m3\u001b[39m)\n\u001b[0;32m----> 2\u001b[0m \u001b[38;5;28;43mnext\u001b[39;49m\u001b[43m(\u001b[49m\u001b[43mR\u001b[49m\u001b[43m)\u001b[49m\n",
      "\u001b[0;31mTypeError\u001b[0m: 'range' object is not an iterator"
     ]
    }
   ],
   "source": [
    "R = range(3)\n",
    "next(R)"
   ]
  },
  {
   "cell_type": "code",
   "execution_count": 61,
   "metadata": {},
   "outputs": [
    {
     "data": {
      "text/plain": [
       "0"
      ]
     },
     "execution_count": 61,
     "metadata": {},
     "output_type": "execute_result"
    }
   ],
   "source": [
    "I1 = iter(R)\n",
    "next(I1)"
   ]
  },
  {
   "cell_type": "code",
   "execution_count": 62,
   "metadata": {},
   "outputs": [
    {
     "data": {
      "text/plain": [
       "1"
      ]
     },
     "execution_count": 62,
     "metadata": {},
     "output_type": "execute_result"
    }
   ],
   "source": [
    "next(I1)"
   ]
  },
  {
   "cell_type": "code",
   "execution_count": 63,
   "metadata": {},
   "outputs": [
    {
     "data": {
      "text/plain": [
       "0"
      ]
     },
     "execution_count": 63,
     "metadata": {},
     "output_type": "execute_result"
    }
   ],
   "source": [
    "I2 = iter(R)\n",
    "next(I2)"
   ]
  },
  {
   "cell_type": "code",
   "execution_count": 64,
   "metadata": {},
   "outputs": [
    {
     "data": {
      "text/plain": [
       "2"
      ]
     },
     "execution_count": 64,
     "metadata": {},
     "output_type": "execute_result"
    }
   ],
   "source": [
    "next(I1)"
   ]
  },
  {
   "cell_type": "markdown",
   "metadata": {},
   "source": [
    "Por el contrario, `zip`, `map` y `filter` no soportan múltiples iteradores activos en el mismo resultado."
   ]
  },
  {
   "cell_type": "code",
   "execution_count": 65,
   "metadata": {},
   "outputs": [],
   "source": [
    "Z = zip((1, 2, 3), (10, 20, 30))\n",
    "I1 = iter(Z)\n",
    "I2 = iter(Z)"
   ]
  },
  {
   "cell_type": "code",
   "execution_count": 66,
   "metadata": {},
   "outputs": [
    {
     "data": {
      "text/plain": [
       "(1, 10)"
      ]
     },
     "execution_count": 66,
     "metadata": {},
     "output_type": "execute_result"
    }
   ],
   "source": [
    "next(I1)"
   ]
  },
  {
   "cell_type": "code",
   "execution_count": 67,
   "metadata": {},
   "outputs": [
    {
     "data": {
      "text/plain": [
       "(2, 20)"
      ]
     },
     "execution_count": 67,
     "metadata": {},
     "output_type": "execute_result"
    }
   ],
   "source": [
    "next(I2)"
   ]
  },
  {
   "cell_type": "code",
   "execution_count": 68,
   "metadata": {},
   "outputs": [
    {
     "data": {
      "text/plain": [
       "(3, 30)"
      ]
     },
     "execution_count": 68,
     "metadata": {},
     "output_type": "execute_result"
    }
   ],
   "source": [
    "next(I1)"
   ]
  },
  {
   "cell_type": "code",
   "execution_count": 69,
   "metadata": {},
   "outputs": [
    {
     "ename": "StopIteration",
     "evalue": "",
     "output_type": "error",
     "traceback": [
      "\u001b[0;31m---------------------------------------------------------------------------\u001b[0m",
      "\u001b[0;31mStopIteration\u001b[0m                             Traceback (most recent call last)",
      "Cell \u001b[0;32mIn[69], line 1\u001b[0m\n\u001b[0;32m----> 1\u001b[0m \u001b[38;5;28;43mnext\u001b[39;49m\u001b[43m(\u001b[49m\u001b[43mI2\u001b[49m\u001b[43m)\u001b[49m\n",
      "\u001b[0;31mStopIteration\u001b[0m: "
     ]
    }
   ],
   "source": [
    "next(I2)"
   ]
  },
  {
   "cell_type": "markdown",
   "metadata": {},
   "source": [
    "Para el caso de `map`:"
   ]
  },
  {
   "cell_type": "code",
   "execution_count": 74,
   "metadata": {},
   "outputs": [
    {
     "name": "stdout",
     "output_type": "stream",
     "text": [
      "1 0 1\n"
     ]
    },
    {
     "ename": "StopIteration",
     "evalue": "",
     "output_type": "error",
     "traceback": [
      "\u001b[0;31m---------------------------------------------------------------------------\u001b[0m",
      "\u001b[0;31mStopIteration\u001b[0m                             Traceback (most recent call last)",
      "Cell \u001b[0;32mIn[74], line 5\u001b[0m\n\u001b[1;32m      3\u001b[0m I2 \u001b[38;5;241m=\u001b[39m \u001b[38;5;28miter\u001b[39m(M)\n\u001b[1;32m      4\u001b[0m \u001b[38;5;28mprint\u001b[39m(\u001b[38;5;28mnext\u001b[39m(I1), \u001b[38;5;28mnext\u001b[39m(I1), \u001b[38;5;28mnext\u001b[39m(I1))\n\u001b[0;32m----> 5\u001b[0m \u001b[38;5;28mprint\u001b[39m(\u001b[38;5;28;43mnext\u001b[39;49m\u001b[43m(\u001b[49m\u001b[43mI2\u001b[49m\u001b[43m)\u001b[49m)\n",
      "\u001b[0;31mStopIteration\u001b[0m: "
     ]
    }
   ],
   "source": [
    "M = map(abs, (-1, 0, 1))\n",
    "I1 = iter(M)\n",
    "I2 = iter(M)\n",
    "print(next(I1), next(I1), next(I1))\n",
    "print(next(I2))"
   ]
  },
  {
   "cell_type": "markdown",
   "metadata": {},
   "source": [
    "Y en el caso de `range` para un código similar:"
   ]
  },
  {
   "cell_type": "code",
   "execution_count": 75,
   "metadata": {},
   "outputs": [
    {
     "name": "stdout",
     "output_type": "stream",
     "text": [
      "0 1 2\n",
      "0\n"
     ]
    }
   ],
   "source": [
    "R = range(3)\n",
    "I1 = iter(R)\n",
    "I2 = iter(R)\n",
    "print(next(I1), next(I1), next(I1))\n",
    "print(next(I2))"
   ]
  },
  {
   "cell_type": "markdown",
   "metadata": {},
   "source": [
    "## Iteradores de vista de Diccionario\n",
    "\n",
    "<!-- Página 370 (422 en PDF) -->\n",
    "\n",
    "En Python las claves, valores y métodos de elementos del diccionario devuelven objetos iterables \n",
    "`view` que generan elementos de resultado de a uno por vez, en lugar de producir listas \n",
    "de resultados de una sola vez en la memoria. Los elementos `view` mantienen el mismo orden físico \n",
    "que el del diccionario y reflejan los cambios realizados en el diccionario subyacente."
   ]
  },
  {
   "cell_type": "code",
   "execution_count": 76,
   "metadata": {},
   "outputs": [
    {
     "data": {
      "text/plain": [
       "{'a': 1, 'b': 2, 'c': 3}"
      ]
     },
     "execution_count": 76,
     "metadata": {},
     "output_type": "execute_result"
    }
   ],
   "source": [
    "D = dict(a=1, b=2, c=3)\n",
    "D"
   ]
  },
  {
   "cell_type": "code",
   "execution_count": 81,
   "metadata": {},
   "outputs": [
    {
     "data": {
      "text/plain": [
       "dict_keys(['a', 'b', 'c'])"
      ]
     },
     "execution_count": 81,
     "metadata": {},
     "output_type": "execute_result"
    }
   ],
   "source": [
    "K = D.keys()\n",
    "K"
   ]
  },
  {
   "cell_type": "code",
   "execution_count": 82,
   "metadata": {},
   "outputs": [
    {
     "ename": "TypeError",
     "evalue": "'dict_keys' object is not an iterator",
     "output_type": "error",
     "traceback": [
      "\u001b[0;31m---------------------------------------------------------------------------\u001b[0m",
      "\u001b[0;31mTypeError\u001b[0m                                 Traceback (most recent call last)",
      "Cell \u001b[0;32mIn[82], line 1\u001b[0m\n\u001b[0;32m----> 1\u001b[0m \u001b[38;5;28;43mnext\u001b[39;49m\u001b[43m(\u001b[49m\u001b[43mK\u001b[49m\u001b[43m)\u001b[49m\n",
      "\u001b[0;31mTypeError\u001b[0m: 'dict_keys' object is not an iterator"
     ]
    }
   ],
   "source": [
    "next(K)"
   ]
  },
  {
   "cell_type": "code",
   "execution_count": 83,
   "metadata": {},
   "outputs": [
    {
     "data": {
      "text/plain": [
       "'a'"
      ]
     },
     "execution_count": 83,
     "metadata": {},
     "output_type": "execute_result"
    }
   ],
   "source": [
    "I = iter(K)\n",
    "next(I)"
   ]
  },
  {
   "cell_type": "code",
   "execution_count": 84,
   "metadata": {},
   "outputs": [
    {
     "data": {
      "text/plain": [
       "'b'"
      ]
     },
     "execution_count": 84,
     "metadata": {},
     "output_type": "execute_result"
    }
   ],
   "source": [
    "next(I)"
   ]
  },
  {
   "cell_type": "code",
   "execution_count": 85,
   "metadata": {},
   "outputs": [
    {
     "name": "stdout",
     "output_type": "stream",
     "text": [
      "a b c "
     ]
    }
   ],
   "source": [
    "for k in D.keys():\n",
    "    print(k, end=' ')"
   ]
  },
  {
   "cell_type": "markdown",
   "metadata": {},
   "source": [
    "Al igual que con todos los iteradores, siempre puedes forzar una vista de diccionario para que construya una lista real. \n",
    "Sin embargo, esto no suele ser necesario, excepto para mostrar resultados de forma interactiva o para aplicar operaciones \n",
    "de lista como la indexación:"
   ]
  },
  {
   "cell_type": "code",
   "execution_count": 86,
   "metadata": {},
   "outputs": [
    {
     "data": {
      "text/plain": [
       "['a', 'b', 'c']"
      ]
     },
     "execution_count": 86,
     "metadata": {},
     "output_type": "execute_result"
    }
   ],
   "source": [
    "K = D.keys()\n",
    "list(K)"
   ]
  },
  {
   "cell_type": "code",
   "execution_count": 87,
   "metadata": {},
   "outputs": [
    {
     "data": {
      "text/plain": [
       "[1, 2, 3]"
      ]
     },
     "execution_count": 87,
     "metadata": {},
     "output_type": "execute_result"
    }
   ],
   "source": [
    "V = D.values()\n",
    "list(V)"
   ]
  },
  {
   "cell_type": "code",
   "execution_count": 88,
   "metadata": {},
   "outputs": [
    {
     "data": {
      "text/plain": [
       "dict_items([('a', 1), ('b', 2), ('c', 3)])"
      ]
     },
     "execution_count": 88,
     "metadata": {},
     "output_type": "execute_result"
    }
   ],
   "source": [
    "D.items()"
   ]
  },
  {
   "cell_type": "code",
   "execution_count": 89,
   "metadata": {},
   "outputs": [
    {
     "data": {
      "text/plain": [
       "[('a', 1), ('b', 2), ('c', 3)]"
      ]
     },
     "execution_count": 89,
     "metadata": {},
     "output_type": "execute_result"
    }
   ],
   "source": [
    "list(D.items())"
   ]
  },
  {
   "cell_type": "code",
   "execution_count": 90,
   "metadata": {},
   "outputs": [
    {
     "name": "stdout",
     "output_type": "stream",
     "text": [
      "a -> 1\n",
      "b -> 2\n",
      "c -> 3\n"
     ]
    }
   ],
   "source": [
    "for (k, v) in D.items():\n",
    "    print(f'{k} -> {v}')"
   ]
  },
  {
   "cell_type": "markdown",
   "metadata": {},
   "source": [
    "Además, los diccionarios también tienen iteradores, que devuelven claves sucesivas, por lo que no suele \n",
    "ser necesario llamar a las claves directamente en este contexto."
   ]
  },
  {
   "cell_type": "code",
   "execution_count": 91,
   "metadata": {},
   "outputs": [
    {
     "data": {
      "text/plain": [
       "{'a': 1, 'b': 2, 'c': 3}"
      ]
     },
     "execution_count": 91,
     "metadata": {},
     "output_type": "execute_result"
    }
   ],
   "source": [
    "D "
   ]
  },
  {
   "cell_type": "code",
   "execution_count": 92,
   "metadata": {},
   "outputs": [
    {
     "data": {
      "text/plain": [
       "'a'"
      ]
     },
     "execution_count": 92,
     "metadata": {},
     "output_type": "execute_result"
    }
   ],
   "source": [
    "I = iter(D)\n",
    "next(I)"
   ]
  },
  {
   "cell_type": "code",
   "execution_count": 93,
   "metadata": {},
   "outputs": [
    {
     "data": {
      "text/plain": [
       "'b'"
      ]
     },
     "execution_count": 93,
     "metadata": {},
     "output_type": "execute_result"
    }
   ],
   "source": [
    "next(I)"
   ]
  },
  {
   "cell_type": "markdown",
   "metadata": {},
   "source": [
    "No se necesita llamar a la función `keys()` para iterar el diccionario, pero `keys` también es un iterador."
   ]
  },
  {
   "cell_type": "code",
   "execution_count": 94,
   "metadata": {},
   "outputs": [
    {
     "name": "stdout",
     "output_type": "stream",
     "text": [
      "a\n",
      "b\n",
      "c\n"
     ]
    }
   ],
   "source": [
    "for key in D:\n",
    "    print(key)"
   ]
  },
  {
   "cell_type": "markdown",
   "metadata": {},
   "source": [
    "Por último, recuerde nuevamente que, dado que `keys` ya no devuelve una lista, el patrón de \n",
    "codificación tradicional para escanear un diccionario por claves ordenadas no funcionará. \n",
    "En su lugar, convierta primero las vistas de `keys` con una llamada de lista, o utilice la \n",
    "llamada `sorted` en una vista de `keys` o en el diccionario mismo, de la siguiente manera:"
   ]
  },
  {
   "cell_type": "code",
   "execution_count": 97,
   "metadata": {},
   "outputs": [
    {
     "data": {
      "text/plain": [
       "{'a': 1, 'c': 3, 'b': 2}"
      ]
     },
     "execution_count": 97,
     "metadata": {},
     "output_type": "execute_result"
    }
   ],
   "source": [
    "D = dict(a=1, c=3, b=2)\n",
    "D"
   ]
  },
  {
   "cell_type": "code",
   "execution_count": 98,
   "metadata": {},
   "outputs": [
    {
     "name": "stdout",
     "output_type": "stream",
     "text": [
      "a -> 1\n",
      "b -> 2\n",
      "c -> 3\n"
     ]
    }
   ],
   "source": [
    "for k in sorted(D.keys()):\n",
    "    print(f'{k} -> {D[k]}')"
   ]
  },
  {
   "cell_type": "markdown",
   "metadata": {},
   "source": [
    "O mejor aún, una buena práctica para el ordenamiento de las llaves:"
   ]
  },
  {
   "cell_type": "code",
   "execution_count": 99,
   "metadata": {},
   "outputs": [
    {
     "data": {
      "text/plain": [
       "{'a': 1, 'c': 3, 'b': 2}"
      ]
     },
     "execution_count": 99,
     "metadata": {},
     "output_type": "execute_result"
    }
   ],
   "source": [
    "D"
   ]
  },
  {
   "cell_type": "code",
   "execution_count": 100,
   "metadata": {},
   "outputs": [
    {
     "name": "stdout",
     "output_type": "stream",
     "text": [
      "a -> 1\n",
      "b -> 2\n",
      "c -> 3\n"
     ]
    }
   ],
   "source": [
    "for k in sorted(D):\n",
    "    print(f'{k} -> {D[k]}')"
   ]
  },
  {
   "cell_type": "markdown",
   "metadata": {},
   "source": [
    "# Listas por Comprensión\n",
    "\n",
    "<!-- Página 485 (537 en PDF) -->\n",
    "\n",
    "En el capítulo anterior, estudiamos herramientas de programación funcional como `map` y `filter`,\n",
    "que mapean operaciones sobre secuencias y recopilan resultados. Debido a que esta es una tarea \n",
    "tan común en la codificación, Python finalmente generó una nueva funcionalidad: **listas por comprensión** \n",
    "(o la comprensión de listas), que es incluso más flexible que las herramientas anteriormente \n",
    "mencionadas. \n",
    "\n",
    "En resumen, las listas por comprensión aplican una expresión arbitraria a los elementos de un \n",
    "iterable, en lugar de aplicar una función. Como tal, pueden ser herramientas más generales.\n",
    "\n",
    "\n",
    "## Listas por Comprensión Vs. map\n",
    "\n",
    "Trabajemos con un ejemplo que demuestra los conceptos básicos. La función nativa de Python `ord` \n",
    "devuelve el código ASCII de un caracter (la función nativa `chr` hace lo opuesto, devuelve el \n",
    "caracter de un código ASCII):"
   ]
  },
  {
   "cell_type": "code",
   "execution_count": 5,
   "metadata": {},
   "outputs": [
    {
     "data": {
      "text/plain": [
       "72"
      ]
     },
     "execution_count": 5,
     "metadata": {},
     "output_type": "execute_result"
    }
   ],
   "source": [
    "ord('H')"
   ]
  },
  {
   "cell_type": "markdown",
   "metadata": {},
   "source": [
    "Ahora supongamos que se desea tener una lista con el código ASCII de cada uno de los \n",
    "caracteres de una cadena. Una forma de realizarlo sería a través de un ciclo `for` e ir\n",
    "añadiendo cada valor en una lista:"
   ]
  },
  {
   "cell_type": "code",
   "execution_count": 6,
   "metadata": {},
   "outputs": [
    {
     "data": {
      "text/plain": [
       "[72, 111, 108, 97]"
      ]
     },
     "execution_count": 6,
     "metadata": {},
     "output_type": "execute_result"
    }
   ],
   "source": [
    "res = []\n",
    "for x in 'Hola':\n",
    "    res.append(ord(x))\n",
    "res"
   ]
  },
  {
   "cell_type": "markdown",
   "metadata": {},
   "source": [
    "Ahora empleando el método `map` para realizar la misma tarea:"
   ]
  },
  {
   "cell_type": "code",
   "execution_count": 8,
   "metadata": {},
   "outputs": [
    {
     "data": {
      "text/plain": [
       "[72, 111, 108, 97]"
      ]
     },
     "execution_count": 8,
     "metadata": {},
     "output_type": "execute_result"
    }
   ],
   "source": [
    "res = list(map(ord, \"Hola\"))\n",
    "res"
   ]
  },
  {
   "cell_type": "markdown",
   "metadata": {},
   "source": [
    "Esta operación requirió menos código utilizando `map`.\n",
    "\n",
    "Sin embargo, es posible obtener el mismo resultado empleando ahora listas por\n",
    "comprensión.  \n",
    "\n",
    "Mientras que `map` asocia (mapea) una _función_ sobre una _secuencia_, las listas \n",
    "por comprensión asocian una _expresión_ sobre una _secuencia_."
   ]
  },
  {
   "cell_type": "code",
   "execution_count": 9,
   "metadata": {},
   "outputs": [
    {
     "data": {
      "text/plain": [
       "[72, 111, 108, 97]"
      ]
     },
     "execution_count": 9,
     "metadata": {},
     "output_type": "execute_result"
    }
   ],
   "source": [
    "res = [ord(x) for x in \"Hola\"]\n",
    "res"
   ]
  },
  {
   "cell_type": "markdown",
   "metadata": {},
   "source": [
    "Las listas por comprensión recopilan los resultados de aplicar una expresión arbitraria a una secuencia de valores \n",
    "y los devuelven en una nueva lista. Sintácticamente, las listas por comprensión se encierran entre corchetes para \n",
    "enfatizar que construye una lista. \n",
    "\n",
    "En su forma simple, dentro de los corchetes se codifica una expresión que nombra una variable seguida de un de bucle \n",
    "`for` que nombra la misma variable. Luego, Python recopila los resultados de la expresión para cada iteración del \n",
    "bucle implícito.\n",
    "\n",
    "El resultado obtenido por el último código es el mismo con respecto a sus equivalentes con `for` y `map`. Sin embargo, \n",
    "las listas por comprensión se vuelven más convenientes cuando deseamos aplicar una expresión arbitraria a una secuencia:"
   ]
  },
  {
   "cell_type": "code",
   "execution_count": 10,
   "metadata": {},
   "outputs": [
    {
     "data": {
      "text/plain": [
       "[0, 1, 4, 9, 16, 25, 36, 49, 64, 81]"
      ]
     },
     "execution_count": 10,
     "metadata": {},
     "output_type": "execute_result"
    }
   ],
   "source": [
    "[x**2 for x in range(10)]"
   ]
  },
  {
   "cell_type": "markdown",
   "metadata": {},
   "source": [
    "Esta lista recopila el cuadrado de los números enteros de 0 hasta 9. Si deseamos una versión del código empleando\n",
    "`map` se necesita de una función pequeña que haga el cuadrado de un número. Esta es una oportunidad de utilizar a \n",
    "su vez una función `lambda`, dado que no se utilizará para otro propósito adicional."
   ]
  },
  {
   "cell_type": "code",
   "execution_count": 13,
   "metadata": {},
   "outputs": [
    {
     "data": {
      "text/plain": [
       "[0, 1, 4, 9, 16, 25, 36, 49, 64, 81]"
      ]
     },
     "execution_count": 13,
     "metadata": {},
     "output_type": "execute_result"
    }
   ],
   "source": [
    "list(map(lambda x:x**2, range(10)))"
   ]
  },
  {
   "cell_type": "markdown",
   "metadata": {},
   "source": [
    "A pesar de que esta línea realiza el mismo trabajo, requiere un poco más de código y resulta también un poco \n",
    "más difícil de leer debido a la función `lambda`. Para expresiones más avanzadas, las listas por comprensión\n",
    "típicamente requieren menos código.\n",
    "\n",
    "\n",
    "## Añadiendo pruebas y ciclos anidados\n",
    "\n",
    "Las listas por comprensión son incluso más generales que lo que se ha mostrado hasta ahora. Por ejemplo, se \n",
    "puede codificar una cláusula `if` después del `for` para agregar lógica de selección. \n",
    "\n",
    "Las listas por comprensión con cláusulas `if` pueden considerarse análogas al filtro incorporado que se analizó \n",
    "previamente: omiten elementos de secuencia para los que la cláusula `if` no es verdadera.\n",
    "\n",
    "Para demostrarlo, aquí se muestran dos códigos que recogen números pares del 0 al 4; al igual que con \n",
    "la alternativa `map` a la lista por comprensión, la versión con `filter` requiere una pequeña función `lambda` \n",
    "para la expresión de prueba. A modo de comparación, aquí también se muestra el bucle `for` equivalente:"
   ]
  },
  {
   "cell_type": "code",
   "execution_count": 14,
   "metadata": {},
   "outputs": [
    {
     "data": {
      "text/plain": [
       "[0, 2, 4]"
      ]
     },
     "execution_count": 14,
     "metadata": {},
     "output_type": "execute_result"
    }
   ],
   "source": [
    "# Lista por comprensión\n",
    "[x for x in range(5) if x %2 ==0]"
   ]
  },
  {
   "cell_type": "code",
   "execution_count": 15,
   "metadata": {},
   "outputs": [
    {
     "data": {
      "text/plain": [
       "[0, 2, 4]"
      ]
     },
     "execution_count": 15,
     "metadata": {},
     "output_type": "execute_result"
    }
   ],
   "source": [
    "# filter y lambda\n",
    "list(filter(lambda x:x%2==0, range(5)))"
   ]
  },
  {
   "cell_type": "code",
   "execution_count": 16,
   "metadata": {},
   "outputs": [
    {
     "data": {
      "text/plain": [
       "[0, 2, 4]"
      ]
     },
     "execution_count": 16,
     "metadata": {},
     "output_type": "execute_result"
    }
   ],
   "source": [
    "# ciclo for\n",
    "res = []\n",
    "for x in range(5):\n",
    "    if x%2==0:\n",
    "        res.append(x)\n",
    "res"
   ]
  },
  {
   "cell_type": "markdown",
   "metadata": {},
   "source": [
    "En todos los casos se utiliza el operador módulo (residuo de la división) para identificar números pares. \n",
    "El ćodigo que emplea `filter` no es considerablemente más largo que la versió de listas por comprensión.\n",
    "Sin embargo, podemos combinar una condicional `if` y una expresión arbitraria en nuestra lista por comprensión \n",
    "para darle el efecto de `filter` y `map`, en una sola expresión:"
   ]
  },
  {
   "cell_type": "code",
   "execution_count": 17,
   "metadata": {},
   "outputs": [
    {
     "data": {
      "text/plain": [
       "[0, 4, 16, 36, 64]"
      ]
     },
     "execution_count": 17,
     "metadata": {},
     "output_type": "execute_result"
    }
   ],
   "source": [
    "[x**2 for x in range(10) if x%2==0]"
   ]
  },
  {
   "cell_type": "markdown",
   "metadata": {},
   "source": [
    "Esta vez, recopilamos los cuadrados de los números pares del 0 al 9: el ciclo `for` omite los números \n",
    "para los cuales el condicional `if` a la derecha es falso, y la expresión a la izquierda calcula los \n",
    "cuadrados. \n",
    "\n",
    "La versión del código equivalente con `map` requiere más trabajo: tenemos que combinar selecciones  \n",
    "`filter` con iteración `map`, lo que daría como resultado una expresión notablemente más compleja:"
   ]
  },
  {
   "cell_type": "code",
   "execution_count": 18,
   "metadata": {},
   "outputs": [
    {
     "data": {
      "text/plain": [
       "[0, 4, 16, 36, 64]"
      ]
     },
     "execution_count": 18,
     "metadata": {},
     "output_type": "execute_result"
    }
   ],
   "source": [
    "list(map(lambda x:x**2, filter(lambda x:x%2==0, range(10))))"
   ]
  },
  {
   "cell_type": "markdown",
   "metadata": {},
   "source": [
    "Las listas por comprensión son aún más generales. Se puede codificar cualquier cantidad de ciclos `for` \n",
    "anidados en una lista por comprensión, y cada una puede tener una condicional `if` asociada opcional.\n",
    "\n",
    "La estructura general de las listas por comprensión es la siguiente:\n",
    "\n",
    "```python\n",
    "    [\n",
    "        expression for target1 in iterable1 [if condition1]\n",
    "                   for target2 in iterable2 [if condition2]\n",
    "                   ...\n",
    "                   for targetN in iterableN [if conditionN]\n",
    "    ]\n",
    "```\n",
    "\n",
    "Cuando los ciclos `for` están anidados dentro de una lista por comprensión, funcionan como ciclos `for` \n",
    "anidados. Por ejemplo:"
   ]
  },
  {
   "cell_type": "code",
   "execution_count": 20,
   "metadata": {},
   "outputs": [
    {
     "data": {
      "text/plain": [
       "[100, 200, 300, 101, 201, 301, 102, 202, 302]"
      ]
     },
     "execution_count": 20,
     "metadata": {},
     "output_type": "execute_result"
    }
   ],
   "source": [
    "res = [x+y for x in [0, 1, 2] for y in [100, 200, 300]]\n",
    "res"
   ]
  },
  {
   "cell_type": "markdown",
   "metadata": {},
   "source": [
    "La versión equivalente del código:"
   ]
  },
  {
   "cell_type": "code",
   "execution_count": 21,
   "metadata": {},
   "outputs": [
    {
     "data": {
      "text/plain": [
       "[100, 200, 300, 101, 201, 301, 102, 202, 302]"
      ]
     },
     "execution_count": 21,
     "metadata": {},
     "output_type": "execute_result"
    }
   ],
   "source": [
    "res = []\n",
    "for x in [0, 1, 2]:\n",
    "    for y in [100, 200, 300]:\n",
    "        res.append(x+y)\n",
    "\n",
    "res"
   ]
  },
  {
   "cell_type": "markdown",
   "metadata": {},
   "source": [
    "Aunque las listas por comprensión construyen listas, recuerde que pueden iterar sobre cualquier\n",
    "secuencia u otro tipo iterable. El siguiente código recorre una cadena en lugar de una \n",
    "lista de números y, por lo tanto recopila resultados de una concatenación."
   ]
  },
  {
   "cell_type": "code",
   "execution_count": 23,
   "metadata": {},
   "outputs": [
    {
     "data": {
      "text/plain": [
       "['hH',\n",
       " 'hO',\n",
       " 'hL',\n",
       " 'hA',\n",
       " 'oH',\n",
       " 'oO',\n",
       " 'oL',\n",
       " 'oA',\n",
       " 'lH',\n",
       " 'lO',\n",
       " 'lL',\n",
       " 'lA',\n",
       " 'aH',\n",
       " 'aO',\n",
       " 'aL',\n",
       " 'aA']"
      ]
     },
     "execution_count": 23,
     "metadata": {},
     "output_type": "execute_result"
    }
   ],
   "source": [
    "res = [x+y for x in 'hola' for y in 'HOLA']\n",
    "res"
   ]
  },
  {
   "cell_type": "markdown",
   "metadata": {},
   "source": [
    "Por último, se muestra a contuación un código que muestra el efecto de añadir condicionales `if` a ciclos `for` anidados.\n",
    "El código debe formar pares ordenados donde su primer elemento sea par y su segundo elemento impar, empleando valores \n",
    "desde 0 hasta 4."
   ]
  },
  {
   "cell_type": "code",
   "execution_count": 24,
   "metadata": {},
   "outputs": [
    {
     "data": {
      "text/plain": [
       "[(0, 1), (0, 3), (2, 1), (2, 3), (4, 1), (4, 3)]"
      ]
     },
     "execution_count": 24,
     "metadata": {},
     "output_type": "execute_result"
    }
   ],
   "source": [
    "[(x,y) for x in range(5) if x%2==0 for y in range(5) if y%2==1]"
   ]
  },
  {
   "cell_type": "markdown",
   "metadata": {},
   "source": [
    "La versión equivalente empleando ciclos `for`:"
   ]
  },
  {
   "cell_type": "code",
   "execution_count": 25,
   "metadata": {},
   "outputs": [
    {
     "data": {
      "text/plain": [
       "[(0, 1), (0, 3), (2, 1), (2, 3), (4, 1), (4, 3)]"
      ]
     },
     "execution_count": 25,
     "metadata": {},
     "output_type": "execute_result"
    }
   ],
   "source": [
    "res = []\n",
    "for x in range(5):\n",
    "    if x%2==0:\n",
    "        for y in range(5):\n",
    "            if y%2==1:\n",
    "                res.append((x,y))\n",
    "\n",
    "res"
   ]
  },
  {
   "cell_type": "markdown",
   "metadata": {},
   "source": [
    "El código equivalente empleando `map` y `filter` es extremadamente complejo y profundamente anidado, \n",
    "así que ni siquiera intentaré mostrarlo aquí.\n",
    "\n",
    "\n",
    "## Listas por comprensión y matrices\n",
    "\n",
    "Una forma básica de codificar matrices en Python es con listas anidadas. A continuación, se definen dos matrices \n",
    "de $3\\times 3$ como listas de listas anidadas:"
   ]
  },
  {
   "cell_type": "code",
   "execution_count": 31,
   "metadata": {},
   "outputs": [],
   "source": [
    "M = [\n",
    "    [1, 2, 3],\n",
    "    [4, 5, 6],\n",
    "    [7, 8, 9]\n",
    "]\n",
    "N = [\n",
    "    [2, 2, 2], \n",
    "    [3, 3, 3],\n",
    "    [4, 4, 4]\n",
    "]"
   ]
  },
  {
   "cell_type": "markdown",
   "metadata": {},
   "source": [
    "Dada esta estructura, se puede ubicar por índice los renglones y columnas, utilizando operaciones de índice ordinarias:"
   ]
  },
  {
   "cell_type": "code",
   "execution_count": 23,
   "metadata": {},
   "outputs": [
    {
     "data": {
      "text/plain": [
       "[4, 5, 6]"
      ]
     },
     "execution_count": 23,
     "metadata": {},
     "output_type": "execute_result"
    }
   ],
   "source": [
    "M[1]"
   ]
  },
  {
   "cell_type": "code",
   "execution_count": 24,
   "metadata": {},
   "outputs": [
    {
     "data": {
      "text/plain": [
       "6"
      ]
     },
     "execution_count": 24,
     "metadata": {},
     "output_type": "execute_result"
    }
   ],
   "source": [
    "M[1][2]"
   ]
  },
  {
   "cell_type": "markdown",
   "metadata": {},
   "source": [
    "Sin embargo, las listas por comprensión son herramientas poderosas para procesar dichas estructuras, ya que\n",
    "escanean automáticamente las filas y columnas por nosotros. Por ejemplo, aunque esta estructura\n",
    "almacena la matriz por filas, para recolectar la segunda columna podemos simplemente iterar a través de las\n",
    "filas y extraer la columna deseada, o iterar a través de las posiciones en las filas e\n",
    "indexar a medida que avanzamos"
   ]
  },
  {
   "cell_type": "code",
   "execution_count": 25,
   "metadata": {},
   "outputs": [
    {
     "data": {
      "text/plain": [
       "[2, 5, 8]"
      ]
     },
     "execution_count": 25,
     "metadata": {},
     "output_type": "execute_result"
    }
   ],
   "source": [
    "[row[1] for row in M]"
   ]
  },
  {
   "cell_type": "code",
   "execution_count": 26,
   "metadata": {},
   "outputs": [
    {
     "data": {
      "text/plain": [
       "[2, 5, 8]"
      ]
     },
     "execution_count": 26,
     "metadata": {},
     "output_type": "execute_result"
    }
   ],
   "source": [
    "[M[row][1] for row in (0, 1, 2)]"
   ]
  },
  {
   "cell_type": "markdown",
   "metadata": {},
   "source": [
    "Dadas las posiciones, también podemos realizar tareas fácilmente, como extraer una diagonal. \n",
    "\n",
    "La siguiente expresión usa `range` para generar la lista de elementos que se encuentran en el mismo\n",
    "índice para fila y columna, esto es, `M[0][0]`, `M[1][1]`, y así sucesivamente (suponiendo que la matriz \n",
    "tiene la misma cantidad de filas y columnas):"
   ]
  },
  {
   "cell_type": "code",
   "execution_count": 27,
   "metadata": {},
   "outputs": [
    {
     "data": {
      "text/plain": [
       "[1, 5, 9]"
      ]
     },
     "execution_count": 27,
     "metadata": {},
     "output_type": "execute_result"
    }
   ],
   "source": [
    "[M[i][i] for i in range(len(M))]"
   ]
  },
  {
   "cell_type": "markdown",
   "metadata": {},
   "source": [
    "También podemos usar listas por comprensión para combinar varias matrices. \n",
    "A continuación, primero se crea una lista plana que contiene el resultado de multiplicar las\n",
    "matrices por pares y luego se crea una estructura de lista anidada que tiene los mismos valores\n",
    "anidando listas por comprensión:"
   ]
  },
  {
   "cell_type": "code",
   "execution_count": 33,
   "metadata": {},
   "outputs": [
    {
     "data": {
      "text/plain": [
       "[2, 4, 6, 12, 15, 18, 28, 32, 36]"
      ]
     },
     "execution_count": 33,
     "metadata": {},
     "output_type": "execute_result"
    }
   ],
   "source": [
    "[M[row][col] * N[row][col] for row in range(len(M)) for col in range(len(N))]"
   ]
  },
  {
   "cell_type": "markdown",
   "metadata": {},
   "source": [
    "Y si anidamos la lista, para crear una lista bidimiensional:"
   ]
  },
  {
   "cell_type": "code",
   "execution_count": 35,
   "metadata": {},
   "outputs": [
    {
     "data": {
      "text/plain": [
       "[[2, 4, 6], [12, 15, 18], [28, 32, 36]]"
      ]
     },
     "execution_count": 35,
     "metadata": {},
     "output_type": "execute_result"
    }
   ],
   "source": [
    "[[M[row][col] * N[row][col] for col in range(len(M))] for row in range(len(N))]"
   ]
  },
  {
   "cell_type": "markdown",
   "metadata": {},
   "source": [
    "Esta última expresión funciona dado que la iteración del renglón ocurre en el ciclo exterior del anidamiento de ciclos `for`.\n",
    "Es decir, para cada renglón se iteran todas las columnas y se almacena en la lista resultante.\n",
    "\n",
    "Un código equivalente empleando ciclos `for` es el siguiente:"
   ]
  },
  {
   "cell_type": "code",
   "execution_count": 37,
   "metadata": {},
   "outputs": [
    {
     "data": {
      "text/plain": [
       "[[2, 4, 6], [12, 15, 18], [28, 32, 36]]"
      ]
     },
     "execution_count": 37,
     "metadata": {},
     "output_type": "execute_result"
    }
   ],
   "source": [
    "res = []\n",
    "for row in range(len(M)):\n",
    "    temp = []\n",
    "    for col in range(len(N)):\n",
    "        temp.append(M[row][col] * N[row][col])\n",
    "    res.append(temp)\n",
    "    \n",
    "res"
   ]
  },
  {
   "cell_type": "markdown",
   "metadata": {},
   "source": [
    "Comparando ambas versiones, el código que emplea listas por comprensión sólo requiere una línea. Además de acuerdo a la \n",
    "documentación, se ejecuta más rápido para matrices más grandes.\n",
    "\n",
    "\n",
    "## Regresando a los iteradores: Generadores\n",
    "\n",
    "Python proporciona herramientas que producen resultados solo cuando son necesarios, en lugar de hacerlo todos \n",
    "a la vez. En particular, dos construcciones del lenguaje retrasan la creación de resultados siempre que sea posible:\n",
    "\n",
    "* _Funciones generador_. Las funciones de generador se codifican como declaraciones `def` normales, pero utilizan \n",
    "    declaraciones `yield` para devolver los resultados de a uno por vez, suspendiendo y reanudando su estado entre \n",
    "    cada uno.\n",
    "* _Expresiones generador_. Las expresiones de generador son similares a las comprensiones de listas, pero devuelven \n",
    "    un objeto que produce resultados a pedido en lugar de construir una lista de resultados.\n",
    "\n",
    "\n",
    "### Funciones generador: yield vs. return\n",
    "\n",
    "#### Suspensión de estado\n",
    "A diferencia de las funciones normales que devuelven un valor y salen, las funciones generadoras\n",
    "suspenden y reanudan automáticamente su ejecución y estado alrededor del punto de generación del valor.\n",
    "Por eso, suelen ser una alternativa útil tanto para calcular una serie completa\n",
    "de valores por adelantado como para guardar y restaurar manualmente el estado en las clases. Debido a que el estado\n",
    "que las funciones generadoras conservan cuando se suspenden incluye todo su ámbito local,\n",
    "sus variables locales conservan información y la ponen a disposición cuando se reanudan las funciones.\n",
    "\n",
    "Página 545 PDF\n"
   ]
  },
  {
   "cell_type": "markdown",
   "metadata": {},
   "source": []
  },
  {
   "cell_type": "markdown",
   "metadata": {},
   "source": [
    "# Referencias\n",
    "\n",
    "* Lutz M., Learning Python, O'Reilly. 2009"
   ]
  },
  {
   "cell_type": "markdown",
   "metadata": {},
   "source": []
  }
 ],
 "metadata": {
  "kernelspec": {
   "display_name": "Python 3",
   "language": "python",
   "name": "python3"
  },
  "language_info": {
   "codemirror_mode": {
    "name": "ipython",
    "version": 3
   },
   "file_extension": ".py",
   "mimetype": "text/x-python",
   "name": "python",
   "nbconvert_exporter": "python",
   "pygments_lexer": "ipython3",
   "version": "3.12.4"
  }
 },
 "nbformat": 4,
 "nbformat_minor": 2
}
