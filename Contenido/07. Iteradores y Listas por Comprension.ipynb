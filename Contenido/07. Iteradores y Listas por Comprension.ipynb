{
 "cells": [
  {
   "cell_type": "markdown",
   "metadata": {},
   "source": [
    "Python includes various additional built-ins that process iterables, too: sorted sorts\n",
    "items in an iterable, zip combines items from iterables, enumerate pairs items in an\n",
    "iterable with relative positions, filter selects items for which a function is true, and\n",
    "reduce runs pairs of items in an iterable through a function. All of these accept iterables,\n",
    "and zip, enumerate, and filter also return an iterable in Python 3.0, like map. Here they\n",
    "are in action running the file’s iterator automatically to scan line by line:"
   ]
  },
  {
   "cell_type": "code",
   "execution_count": null,
   "metadata": {},
   "outputs": [],
   "source": []
  }
 ],
 "metadata": {
  "language_info": {
   "name": "python"
  }
 },
 "nbformat": 4,
 "nbformat_minor": 2
}
