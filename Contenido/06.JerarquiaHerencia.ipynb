{
 "cells": [
  {
   "cell_type": "markdown",
   "metadata": {},
   "source": [
    "# Jerarquía de clases y herencia \n",
    "\n",
    "La jerarquía de clases es una familia de clases que heredan métodos y atributos entre sí.\n",
    "\n",
    "Una jerarquía de clases es una familia de clases estrechamente relacionadas organizadas de manera jerárquica. \n",
    "\n",
    "Un concepto clave es la _herencia_, lo que significa que las clases hijo pueden heredar atributos y métodos \n",
    "de las clases padre. Una estrategia típica es escribir una clase general como clase base (o clase principal) \n",
    "y luego dejar que los casos especiales se representen como subclases (clases secundarias). Este enfoque a menudo \n",
    "puede ahorrar mucha escritura y duplicación de código. "
   ]
  },
  {
   "cell_type": "markdown",
   "metadata": {},
   "source": [
    "## Ejemplo. Clases para líneas y parábolas\n",
    "En este ejemplo crearemos una clase que represente y evalúe líneas rectas $y=c_0 + c_1 x$."
   ]
  },
  {
   "cell_type": "code",
   "execution_count": 54,
   "metadata": {},
   "outputs": [],
   "source": [
    "import numpy as np\n",
    "from prettytable import PrettyTable\n",
    "\n",
    "class Line: \n",
    "    def __init__(self, c0, c1):\n",
    "        self.c0, self.c1 = c0, c1\n",
    "\n",
    "    def __call__(self, x):\n",
    "        return self.c0 + self.c1 * x\n",
    "\n",
    "    def table(self, a, b, n):\n",
    "        \"\"\" Devuelve una tabla con n puntos dado a <= x <= b \"\"\"\n",
    "        tabla = PrettyTable(field_names = ['x', 'f(x)'], float_format='.6')\n",
    "        for x in np.linspace(a, b, n):\n",
    "            y = self(x)\n",
    "            tabla.add_row([x, y])\n",
    "        return tabla\n",
    "    \n",
    "    def __str__(self):\n",
    "        return f'y = {self.c0} + {self.c1}x'"
   ]
  },
  {
   "cell_type": "markdown",
   "metadata": {},
   "source": [
    "La clase tiene su constructor estándar y un método especial `__str__` para la impresión de la función:"
   ]
  },
  {
   "cell_type": "code",
   "execution_count": 55,
   "metadata": {},
   "outputs": [
    {
     "name": "stdout",
     "output_type": "stream",
     "text": [
      "y = 1 + 2x\n"
     ]
    }
   ],
   "source": [
    "linea = Line(1,2)\n",
    "print(linea)"
   ]
  },
  {
   "cell_type": "markdown",
   "metadata": {},
   "source": [
    "Tiene un método especial `__call__` que permite la evaluación de la función:"
   ]
  },
  {
   "cell_type": "code",
   "execution_count": 56,
   "metadata": {},
   "outputs": [
    {
     "data": {
      "text/plain": [
       "7"
      ]
     },
     "execution_count": 56,
     "metadata": {},
     "output_type": "execute_result"
    }
   ],
   "source": [
    "linea(3)"
   ]
  },
  {
   "cell_type": "markdown",
   "metadata": {},
   "source": [
    "Y tiene un método table que construye una tabla tipo `PrettyTable` con la evaluación de la función en un \n",
    "rango de valores de acuerdo a los valores recibidos por los argumentos $a$, $b$, y $n$."
   ]
  },
  {
   "cell_type": "code",
   "execution_count": 57,
   "metadata": {},
   "outputs": [
    {
     "data": {
      "text/html": [
       "<table>\n",
       "    <thead>\n",
       "        <tr>\n",
       "            <th>x</th>\n",
       "            <th>f(x)</th>\n",
       "        </tr>\n",
       "    </thead>\n",
       "    <tbody>\n",
       "        <tr>\n",
       "            <td>1.000000</td>\n",
       "            <td>3.000000</td>\n",
       "        </tr>\n",
       "        <tr>\n",
       "            <td>1.578947</td>\n",
       "            <td>4.157895</td>\n",
       "        </tr>\n",
       "        <tr>\n",
       "            <td>2.157895</td>\n",
       "            <td>5.315789</td>\n",
       "        </tr>\n",
       "        <tr>\n",
       "            <td>2.736842</td>\n",
       "            <td>6.473684</td>\n",
       "        </tr>\n",
       "        <tr>\n",
       "            <td>3.315789</td>\n",
       "            <td>7.631579</td>\n",
       "        </tr>\n",
       "        <tr>\n",
       "            <td>3.894737</td>\n",
       "            <td>8.789474</td>\n",
       "        </tr>\n",
       "        <tr>\n",
       "            <td>4.473684</td>\n",
       "            <td>9.947368</td>\n",
       "        </tr>\n",
       "        <tr>\n",
       "            <td>5.052632</td>\n",
       "            <td>11.105263</td>\n",
       "        </tr>\n",
       "        <tr>\n",
       "            <td>5.631579</td>\n",
       "            <td>12.263158</td>\n",
       "        </tr>\n",
       "        <tr>\n",
       "            <td>6.210526</td>\n",
       "            <td>13.421053</td>\n",
       "        </tr>\n",
       "        <tr>\n",
       "            <td>6.789474</td>\n",
       "            <td>14.578947</td>\n",
       "        </tr>\n",
       "        <tr>\n",
       "            <td>7.368421</td>\n",
       "            <td>15.736842</td>\n",
       "        </tr>\n",
       "        <tr>\n",
       "            <td>7.947368</td>\n",
       "            <td>16.894737</td>\n",
       "        </tr>\n",
       "        <tr>\n",
       "            <td>8.526316</td>\n",
       "            <td>18.052632</td>\n",
       "        </tr>\n",
       "        <tr>\n",
       "            <td>9.105263</td>\n",
       "            <td>19.210526</td>\n",
       "        </tr>\n",
       "        <tr>\n",
       "            <td>9.684211</td>\n",
       "            <td>20.368421</td>\n",
       "        </tr>\n",
       "        <tr>\n",
       "            <td>10.263158</td>\n",
       "            <td>21.526316</td>\n",
       "        </tr>\n",
       "        <tr>\n",
       "            <td>10.842105</td>\n",
       "            <td>22.684211</td>\n",
       "        </tr>\n",
       "        <tr>\n",
       "            <td>11.421053</td>\n",
       "            <td>23.842105</td>\n",
       "        </tr>\n",
       "        <tr>\n",
       "            <td>12.000000</td>\n",
       "            <td>25.000000</td>\n",
       "        </tr>\n",
       "    </tbody>\n",
       "</table>"
      ],
      "text/plain": [
       "+-----------+-----------+\n",
       "|     x     |    f(x)   |\n",
       "+-----------+-----------+\n",
       "|  1.000000 |  3.000000 |\n",
       "|  1.578947 |  4.157895 |\n",
       "|  2.157895 |  5.315789 |\n",
       "|  2.736842 |  6.473684 |\n",
       "|  3.315789 |  7.631579 |\n",
       "|  3.894737 |  8.789474 |\n",
       "|  4.473684 |  9.947368 |\n",
       "|  5.052632 | 11.105263 |\n",
       "|  5.631579 | 12.263158 |\n",
       "|  6.210526 | 13.421053 |\n",
       "|  6.789474 | 14.578947 |\n",
       "|  7.368421 | 15.736842 |\n",
       "|  7.947368 | 16.894737 |\n",
       "|  8.526316 | 18.052632 |\n",
       "|  9.105263 | 19.210526 |\n",
       "|  9.684211 | 20.368421 |\n",
       "| 10.263158 | 21.526316 |\n",
       "| 10.842105 | 22.684211 |\n",
       "| 11.421053 | 23.842105 |\n",
       "| 12.000000 | 25.000000 |\n",
       "+-----------+-----------+"
      ]
     },
     "execution_count": 57,
     "metadata": {},
     "output_type": "execute_result"
    }
   ],
   "source": [
    "linea.table(a=1, b=12, n=20)"
   ]
  },
  {
   "cell_type": "markdown",
   "metadata": {},
   "source": [
    "Digamos que ahora se requiere escribir una clase similar para la evaluación de la parábola $y = c_0 + c_1x + c_2x^2$,\n",
    "el código será el siguiente:"
   ]
  },
  {
   "cell_type": "code",
   "execution_count": 58,
   "metadata": {},
   "outputs": [],
   "source": [
    "class Parabola:\n",
    "    def __init__(self, c0, c1, c2):\n",
    "        self.c0=c0, self.c1=c1, self.c2=c2\n",
    "\n",
    "    def __call__(self, x):\n",
    "        return self.c0 + self.c1*x + self.c2*x**2\n",
    "\n",
    "    def table(self, a, b, n):\n",
    "        \"\"\" Devuelve una tabla con n puntos dado a <= x <= b \"\"\"\n",
    "        tabla = PrettyTable(field_names = ['x', 'f(x)'], float_format='.6')\n",
    "        for x in np.linspace(a, b, n):\n",
    "            y = self(x)\n",
    "            tabla.add_row([x, y])\n",
    "        return tabla\n",
    "    \n",
    "    def __str__(self):\n",
    "        return f'y = {self.c0} + {self.c1}x + {self.c2}x²'"
   ]
  },
  {
   "cell_type": "markdown",
   "metadata": {},
   "source": [
    "Observe que la mayoría del código es la misma excepto por las partes que involucran a $c_2$. Quizá copiar, \n",
    "pegar y modificar el código no sea tardado ni problemático, pero tal repetición de código es una mala práctica.\n",
    "\n",
    "Imáginese que fuese necesario cambiar la funcionalidad de la generación de la tabla o corregir un error en \n",
    "el código replicado, sería necesario cambiar en todos los lugares donde el código fue replicado. Esto sería lento,\n",
    "impráctico y una posible fuente de más errores.\n",
    "\n",
    "Por ello, se puede reutilizar el código de la clase `Line` para la construcción de la clase `Parabola` mediante \n",
    "la herencia."
   ]
  },
  {
   "cell_type": "code",
   "execution_count": 59,
   "metadata": {},
   "outputs": [],
   "source": [
    "class Parabola(Line):\n",
    "    pass"
   ]
  },
  {
   "cell_type": "markdown",
   "metadata": {},
   "source": [
    "El término `pass` es una palabra clave que indica a Python que la clase se ha dejado intencionalmente vacía.\n",
    "Sin embargo, aunque no haya código en la definición de la clase Parabola, ésta clase no está vacía. \n",
    "De esta forma `Parabola` ha heredado los atributos $c_0$ y $c_1$ y los métodos `__init__`, `__call__`, `__str__` \n",
    "y `table` de la clase `Line`. \n",
    "\n",
    "En este sentido se dice que `Line` es la clase base (padre o superclase) y `Parabola` es una subclase (clase hijo o \n",
    "clase derivada). En ese momento, `Parabola` es una copia exacta de `Line` pero es posible modificarla para los \n",
    "propósitos de su uso. Para ello es necesario agregar su propio constructor `__init__`, sus métodos `__call__` \n",
    "y `__str__` de acuerdo a lo requerido."
   ]
  },
  {
   "cell_type": "code",
   "execution_count": 60,
   "metadata": {},
   "outputs": [],
   "source": [
    "class Parabola(Line):\n",
    "    def __init__(self, c0, c1, c2):\n",
    "        super().__init__(c0, c1)    # La clase Linea almacena c0 y c1\n",
    "        self.c2 = c2\n",
    "\n",
    "    def __call__(self, x):\n",
    "        return super().__call__(x) + self.c2*x**2\n",
    "    \n",
    "    def __str__(self):\n",
    "        return super().__str__() + f' + {self.c2}x²'"
   ]
  },
  {
   "cell_type": "code",
   "execution_count": 61,
   "metadata": {},
   "outputs": [
    {
     "name": "stdout",
     "output_type": "stream",
     "text": [
      "+----------+-----------+\n",
      "|    x     |    f(x)   |\n",
      "+----------+-----------+\n",
      "| 1.000000 |  6.000000 |\n",
      "| 1.111111 |  6.925926 |\n",
      "| 1.222222 |  7.925926 |\n",
      "| 1.333333 |  9.000000 |\n",
      "| 1.444444 | 10.148148 |\n",
      "| 1.555556 | 11.370370 |\n",
      "| 1.666667 | 12.666667 |\n",
      "| 1.777778 | 14.037037 |\n",
      "| 1.888889 | 15.481481 |\n",
      "| 2.000000 | 17.000000 |\n",
      "+----------+-----------+\n",
      "y = 1 + 2x + 3x²\n"
     ]
    }
   ],
   "source": [
    "par = Parabola(1,2,3)\n",
    "print(par.table(1,2,10))\n",
    "print(par)"
   ]
  },
  {
   "cell_type": "markdown",
   "metadata": {},
   "source": [
    "Observe que para maximizar la reutilización del código se ha llamado los métodos de la superclase `Line` \n",
    "y añadido las partes faltantes. Siempre será posible tener acceso a los métodos del padre mediante la \n",
    "función `super()`. \n",
    "\n",
    "Es posible llamar directamente al padre mediante su nombre, pero será necesario agregar en los argumentos \n",
    "el contexto del objeto mediante `self`. Esto debido a que el nombre genérico no tiene una relación con \n",
    "la subclase, mientras que con `super()` si se hace una referencia directa a la superclase.\n",
    "\n",
    "Esto es:\n",
    "\n",
    "```python\n",
    "super().__init__(c0, c1)        # super() hace referencia a la superclase del objeto\n",
    "Line.__init__(self, c0, c1)     # Se hace referencia a la clase `Line`, que en general no tiene relación con el objeto\n",
    "```\n",
    "\n",
    "En términos generales sería lo siguiente:\n",
    "\n",
    "```python\n",
    "SuperClassName.method(self, arg1, arg2, ...)\n",
    "super(arg1, arg2, ...)\n",
    "```"
   ]
  },
  {
   "cell_type": "markdown",
   "metadata": {},
   "source": [
    "## El verdadero significado de la herencia\n",
    "\n",
    "Desde un punto de vista práctico, la herencia permite reutilizar código y minimizar la duplicidad del mismo. \n",
    "Pero desde un punto de vista teórico, la herencia representa la relación que hay entre dos clases. \n",
    "\n",
    "Esto significa que si `Parabola` es una subclase de `Line`, un objeto `Parabola` también es un objeto de `Line`.\n",
    "En otras palabras, la clase `Parabola` es un caso especial de la clase `Line`, por lo tanto cualquier instancia \n",
    "de `Parabola` es una instancia de `Line` pero no viceversa."
   ]
  },
  {
   "cell_type": "code",
   "execution_count": 62,
   "metadata": {},
   "outputs": [
    {
     "name": "stdout",
     "output_type": "stream",
     "text": [
      "True\n",
      "False\n"
     ]
    }
   ],
   "source": [
    "l = Line(-1,1)\n",
    "print(isinstance(l, Line))\n",
    "print(isinstance(l, Parabola))"
   ]
  },
  {
   "cell_type": "code",
   "execution_count": 63,
   "metadata": {},
   "outputs": [
    {
     "name": "stdout",
     "output_type": "stream",
     "text": [
      "True\n",
      "True\n"
     ]
    }
   ],
   "source": [
    "p = Parabola(1,2,3)\n",
    "print(isinstance(p, Parabola))\n",
    "print(isinstance(p, Line))"
   ]
  },
  {
   "cell_type": "code",
   "execution_count": 64,
   "metadata": {},
   "outputs": [
    {
     "name": "stdout",
     "output_type": "stream",
     "text": [
      "True\n",
      "False\n"
     ]
    }
   ],
   "source": [
    "print(issubclass(Parabola, Line))\n",
    "print(issubclass(Line, Parabola))"
   ]
  },
  {
   "cell_type": "code",
   "execution_count": 65,
   "metadata": {},
   "outputs": [
    {
     "name": "stdout",
     "output_type": "stream",
     "text": [
      "True\n",
      "Parabola\n"
     ]
    }
   ],
   "source": [
    "print(p.__class__ == Parabola)\n",
    "print(p.__class__.__name__)"
   ]
  },
  {
   "cell_type": "markdown",
   "metadata": {},
   "source": [
    "Se ha dicho que una subclase es un caso especial de una superclase. \n",
    "En el ejemplo, la clase `Parabola` es un caso específico de la clase `Line`, sin embargo \n",
    "matemáticamente una parábola no es un caso específico de una linea, en realidad una línea\n",
    "es un caso específico de una parábola cuando $c_2 = 0$.\n",
    "\n",
    "Dado este hecho quizá valga la pena redefinir las clases para corregir esta discrepancia."
   ]
  },
  {
   "cell_type": "code",
   "execution_count": 66,
   "metadata": {},
   "outputs": [],
   "source": [
    "class Parabola:\n",
    "    def __init__(self, c0, c1, c2):\n",
    "        self.c0 = c0, self.c1, self.c2 = c0, c1, c2\n",
    "\n",
    "    def __call__(self, x):\n",
    "        return self.c0 + self.c1*x + self.c2*x**2\n",
    "    \n",
    "    def table(self, a, b, n):\n",
    "        \"\"\" Devuelve una tabla con n puntos dado a <= x <= b \"\"\"\n",
    "        tabla = PrettyTable(field_names = ['x', 'f(x)'], float_format='.6')\n",
    "        for x in np.linspace(a, b, n):\n",
    "            y = self(x)\n",
    "            tabla.add_row([x, y])\n",
    "        return tabla\n",
    "    \n",
    "    def __str__(self):\n",
    "        return f'y = {self.c0} + {self.c1}x + {self.c2}x²'\n",
    "\n",
    "class Line(Parabola):\n",
    "    def __init__(self, c0, c1):\n",
    "        super().__init__(c0, c1, 0)"
   ]
  },
  {
   "cell_type": "markdown",
   "metadata": {},
   "source": [
    "### Ejemplo: Diferenciación Numérica\n",
    "\n",
    "Una tarea común en el cómputo científico es la diferenciación e integración que pueden ser resueltas por diversos métodos numéricos. \n",
    "Muchos de esos métodos están muy relacionados entre sí, por lo que pueden ser agrupados en familias de métodos.\n",
    "Una fórmula simple de cálculo es la siguiente:\n",
    "\n",
    "$$ f'(x) \\approx \\dfrac{f(x+h) - f(x)}{h}, $$ \n",
    "\n",
    "que puede ser implementada por la clase:"
   ]
  },
  {
   "cell_type": "code",
   "execution_count": 67,
   "metadata": {},
   "outputs": [],
   "source": [
    "class Derivative:\n",
    "    def __init__(self, f, h=1e-5):\n",
    "        self.f = f\n",
    "        self.h = float(h)\n",
    "\n",
    "    def __call__(self, x):\n",
    "        f, h = self.f, self.h \n",
    "        return (f(x+h)-f(x))/h"
   ]
  },
  {
   "cell_type": "markdown",
   "metadata": {},
   "source": [
    "Para hacer uso del método, sólo creamos una función y una instancia de la clase. Posteriormente hacemos una llamada a la instancia\n",
    "con el valor a evaluar. Por ejemplo:\n",
    "\n",
    "$$ f(x) = e^{-x} \\sin \\left(4\\pi x\\right) $$\n",
    "$$ f'(1.2) = ?$$"
   ]
  },
  {
   "cell_type": "code",
   "execution_count": 68,
   "metadata": {},
   "outputs": [
    {
     "name": "stdout",
     "output_type": "stream",
     "text": [
      "-3.239208844119101\n"
     ]
    }
   ],
   "source": [
    "from math import exp, sin, pi\n",
    "\n",
    "def f(x):\n",
    "    return exp(-x) * sin(4*pi*x)\n",
    "\n",
    "dfdx = Derivative(f)\n",
    "print(dfdx(1.2))"
   ]
  },
  {
   "cell_type": "markdown",
   "metadata": {},
   "source": [
    "Sim embargo, dado que hay diversas fórumlas para encontrar la aproximación a la derivada:\n",
    "\n",
    "$$ f'(x) \\approx \\dfrac{f(x+h) - f(x)}{h}, $$ \n",
    "$$ f'(x) \\approx \\dfrac{f(x+h) - f(x-h)}{2h}, $$ \n",
    "$$ f'(x) \\approx \\dfrac{4}{3}\\dfrac{f(x+h)-f(x-h)}{2h} - \\dfrac{1}{3}\\dfrac{f(x+2h)-f(x-2h)}{4h} $$ \n",
    "\n",
    "entre otras. \n",
    "\n",
    "Por ello se puede escribir fácilmente un módulo que ofrezca múltiples fórmulas. "
   ]
  },
  {
   "cell_type": "code",
   "execution_count": 69,
   "metadata": {},
   "outputs": [],
   "source": [
    "class Forward:\n",
    "    def __init__(self, f, h=1e-5):\n",
    "        self.f, self.h = f, h\n",
    "\n",
    "    def __call__(self, x):\n",
    "        f, h = self.f, self.h\n",
    "        return (f(x+h)-f(x))/h\n",
    "\n",
    "class Central2:\n",
    "    def __init__(self, f, h=1e-5):\n",
    "        self.f, self.h = f, h\n",
    "\n",
    "    def __call__(self, x):\n",
    "        f, h = self.f, self.h\n",
    "        return (f(x+h)-f(x-h))/2/h\n",
    "\n",
    "class Central4:\n",
    "    def __init__(self, f, h=1e-5):\n",
    "        self.f, self.h = f, h\n",
    "\n",
    "    def __call__(self, x):\n",
    "        f, h = self.f, self.h\n",
    "        return 4/3* (f(x+h) - f(x-h))/(2*h) - 1/3 * (f(x+2*h) - f(x-2*h))*(4*h)"
   ]
  },
  {
   "cell_type": "markdown",
   "metadata": {},
   "source": [
    "El problema en este código es la repetición de código para el constructor. Para resolverlo se puede crear una superclase que contenga\n",
    "el constructor e implementar una subclase por método.\n",
    "\n",
    "La superclase queda de la siguiente forma:"
   ]
  },
  {
   "cell_type": "code",
   "execution_count": 70,
   "metadata": {},
   "outputs": [],
   "source": [
    "class Diff:\n",
    "    def __init__(self, f, h=1e-5):\n",
    "        self.f, self.h = f, h"
   ]
  },
  {
   "cell_type": "markdown",
   "metadata": {},
   "source": [
    "Y las subclases se definen de la siguiente forma:"
   ]
  },
  {
   "cell_type": "code",
   "execution_count": 71,
   "metadata": {},
   "outputs": [],
   "source": [
    "class Forward(Diff):\n",
    "    def __call__(self, x):\n",
    "        f, h = self.f, self.h\n",
    "        return (f(x+h) - f(x))/h\n",
    "\n",
    "class Central2(Diff):\n",
    "    def __call__(self, x):\n",
    "        f, h = self.f, self.h\n",
    "        return (f(x+h) - f(x-h))/2/h\n",
    "\n",
    "class Central4(Diff):\n",
    "    def __call__(self, x):\n",
    "        f, h = self.f, self.h\n",
    "        return (4/3) * (f(x+h) - f(x-h))/(2*h) - (1/3) * (f(x+2*h) - f(x-2*h))/(4*h)"
   ]
  },
  {
   "cell_type": "code",
   "execution_count": 72,
   "metadata": {},
   "outputs": [
    {
     "name": "stdout",
     "output_type": "stream",
     "text": [
      "-3.239208844119101\n",
      "-3.2391005667389834\n",
      "-3.2391005760477407\n"
     ]
    }
   ],
   "source": [
    "from math import exp, sin, pi\n",
    "\n",
    "def f(x):\n",
    "    return exp(-x) * sin(4*pi*x)\n",
    "\n",
    "dfdx = Forward(f)\n",
    "print(dfdx(1.2))\n",
    "\n",
    "dfdx = Central2(f)\n",
    "print(dfdx(1.2))\n",
    "\n",
    "dfdx = Central4(f)\n",
    "print(dfdx(1.2))"
   ]
  },
  {
   "cell_type": "markdown",
   "metadata": {},
   "source": [
    "Ahora hagamos una concentración de aproximaciones con todas las fórmulas:"
   ]
  },
  {
   "cell_type": "code",
   "execution_count": 73,
   "metadata": {},
   "outputs": [
    {
     "name": "stdout",
     "output_type": "stream",
     "text": [
      "+-------------+--------------------+--------------------+--------------------+\n",
      "|      h      |      Forward       |     Central 2      |     Central 4      |\n",
      "+-------------+--------------------+--------------------+--------------------+\n",
      "|     1.0     | 0.2699544827129282 | 0.5950098395293859 | 0.6861847232685281 |\n",
      "|     0.5     | 0.5048856975964859 | 0.6780100988420897 | 0.7056768519463243 |\n",
      "|     0.25    | 0.611835119448811  | 0.6997640691250939 | 0.707015392552762  |\n",
      "|    0.125    | 0.6611301360648314 | 0.7052667953545546 | 0.7071010374310415 |\n",
      "|    0.0625   | 0.6845566203276636 | 0.7066465151141275 | 0.7071064217006517 |\n",
      "|   0.03125   | 0.6959440534591259 | 0.706991697811663  | 0.7071067587108415 |\n",
      "|   0.015625  | 0.7015538499518499 | 0.7070780092891873 | 0.7071067797816953 |\n",
      "|  0.0078125  | 0.7043374663312676 | 0.7070995881463489 | 0.7071067810987361 |\n",
      "|  0.00390625 | 0.705723916746507  | 0.7071049829223881 | 0.7071067811810678 |\n",
      "| 0.001953125 | 0.706415797873774  | 0.7071063316202526 | 0.7071067811862074 |\n",
      "+-------------+--------------------+--------------------+--------------------+\n"
     ]
    }
   ],
   "source": [
    "# from Diff import Forward, Central2, Central4\n",
    "from math import pi, sin, cos\n",
    "from prettytable import PrettyTable\n",
    "\n",
    "H = [(1/2)**i for i in range(10)]\n",
    "x0 = pi/4\n",
    "\n",
    "table = PrettyTable(field_names=['h', 'Forward', 'Central 2', 'Central 4'])\n",
    "for h in H:\n",
    "    f1 = Forward(sin, h)\n",
    "    c2 = Central2(sin, h)\n",
    "    c4 = Central4(sin, h)\n",
    "    table.add_row([h, f1(x0), c2(x0), c4(x0)])\n",
    "\n",
    "print(table)"
   ]
  },
  {
   "cell_type": "markdown",
   "metadata": {},
   "source": [
    "# Programación funcional\n",
    "\n",
    "## Funciones recursivas\n",
    "\n",
    "La recursividad es un fenómeno presente en la naturaleza. La recursividad es un concepto donde una función, procedimiento o proceso se define en términos de sí mismo. \n",
    "Es una técnica fundamental en matemáticas y ciencias de la computación, pero también se puede observar en la naturaleza y en otros campos.\n",
    "\n",
    "### Ejemplos de Recursividad en la Naturaleza:\n",
    "\n",
    "1. **Fractales:**\n",
    "   - **Helechos:** Las hojas de un helecho son ejemplos clásicos de recursividad. Cada hoja está compuesta de pequeñas hojas que tienen una forma similar a la hoja completa.\n",
    "   - **Brócoli Romanesco:** Este vegetal tiene una estructura fractal, donde cada florete se asemeja a una versión en miniatura de la planta completa.\n",
    "\n",
    "2. **Conchas Marinas:**\n",
    "   - Muchas conchas marinas, como las de los nautilos, muestran patrones recursivos en su estructura, donde el crecimiento de la concha sigue un patrón logarítmico.\n",
    "\n",
    "3. **Ramas de Árboles:**\n",
    "   - La ramificación de los árboles es un ejemplo de recursividad. Cada rama principal se divide en ramas más pequeñas, y estas a su vez se dividen en ramas aún más pequeñas, siguiendo un patrón similar.\n",
    "\n",
    "4. **Ríos y Deltas:**\n",
    "   - Los sistemas fluviales también muestran recursividad. Un río principal se divide en afluentes, y estos a su vez en arroyos más pequeños, siguiendo una estructura jerárquica.\n",
    "\n",
    "5. **Sistemas Circulatorios:**\n",
    "   - El sistema circulatorio de muchos organismos, donde los grandes vasos sanguíneos se dividen en vasos más pequeños y así sucesivamente, es un ejemplo de recursividad biológica.\n",
    "\n",
    "6. **Nervios y Neuronas:**\n",
    "   - Las estructuras neuronales, con dendritas que se ramifican en subdendritas y axones que se ramifican en terminales más pequeños, también son recursivas.\n",
    "\n",
    "### Concepto Matemático:\n",
    "\n",
    "En matemáticas, un ejemplo clásico de recursividad es la secuencia de Fibonacci, donde cada término se define como la suma de los dos términos anteriores:\n",
    "\n",
    "$$ F(n) = F(n-1) + F(n-2) \\forall n\\geq 2$$\n",
    "\n",
    "con $F(0) = 0$ y  $F(1) = 1$.\n",
    "\n",
    "La recursividad es una herramienta poderosa porque permite resolver problemas complejos dividiéndolos en subproblemas más simples del mismo tipo."
   ]
  },
  {
   "cell_type": "markdown",
   "metadata": {},
   "source": [
    "### Ejemplo: Serie de Fibonacci"
   ]
  },
  {
   "cell_type": "code",
   "execution_count": 74,
   "metadata": {},
   "outputs": [
    {
     "name": "stdout",
     "output_type": "stream",
     "text": [
      "0\n",
      "1\n",
      "1\n",
      "2\n",
      "3\n",
      "5\n",
      "8\n",
      "13\n",
      "21\n",
      "34\n",
      "55\n",
      "89\n",
      "144\n",
      "233\n",
      "377\n",
      "610\n",
      "987\n",
      "1597\n",
      "2584\n",
      "4181\n"
     ]
    }
   ],
   "source": [
    "# Serie de Fibonacci\n",
    "\n",
    "def Fibonacci(n):\n",
    "    if n==0 or n==1:\n",
    "        return n\n",
    "    else: \n",
    "        return Fibonacci(n-1) + Fibonacci(n-2)\n",
    "\n",
    "for i in range(20):\n",
    "    print(Fibonacci(i))"
   ]
  },
  {
   "cell_type": "markdown",
   "metadata": {},
   "source": [
    "### Razón áurea (proporción dorada).\n",
    "\n",
    "La razón áurea, también conocida como número áureo o proporción dorada, es un número irracional denotado por la letra griega phi $(\\varphi)$. \n",
    "\n",
    "Su valor es aproximadamente 1.6180339887. \n",
    "\n",
    "Se define algebraicamente como:\n",
    "\n",
    "$$ \\varphi = \\frac{1 + \\sqrt{5}}{2} $$\n",
    "\n",
    "### Propiedades:\n",
    "\n",
    "1. **Proporción Ideal:**\n",
    "   El número surge de la división en dos de un segmento guardando las siguientes proporciones: La longitud total $a+b$ es al segmento más largo $a$, \n",
    "   como $a$ es al segmento más corto $b$, entonces esa proporción es la razón áurea:\n",
    "\n",
    "   $$ \\frac{a+b}{a} = \\frac{a}{b} = \\varphi $$\n",
    "\n",
    "\n",
    "<!-- ![Golden Ratio](img/golden_ratio.png)  -->\n",
    "\n",
    "\n",
    "2. **Aparición en la Naturaleza:**\n",
    "   La razón áurea aparece en diversas formas en la naturaleza, como en las proporciones de las conchas de nautilo, la disposición de las hojas, y las espirales de las piñas.\n",
    "\n",
    "3. **Uso en Arte y Arquitectura:**\n",
    "   Ha sido utilizada en obras de arte y arquitectura para crear estéticamente agradables proporciones, como en el Partenón de Atenas o en las obras de Leonardo da Vinci.\n",
    "\n",
    "4. **Relación con la Secuencia de Fibonacci:**\n",
    "   La razón áurea se relaciona con la serie de Fibonacci a través de la relación de los términos consecutivos de la serie. A medida que avanzas en la secuencia de Fibonacci, \n",
    "   la proporción de un número con el anterior se aproxima a la razón áurea.\n",
    "\n",
    "   $$ \\lim_{{n \\to \\infty}} \\frac{F(n+1)}{F(n)} = \\varphi $$\n",
    "\n",
    "   Este límite tiende a $ \\varphi \\approx 1.6180339887$ cuando $n$ tiende a infinito.\n",
    "\n",
    "La razón áurea ha fascinado a matemáticos, artistas y arquitectos durante siglos debido a su presencia en patrones naturales y su aplicación en el diseño.\n",
    "\n",
    "[Número áureo](https://www.youtube.com/watch?v=aopHcOm7a-w)"
   ]
  },
  {
   "cell_type": "code",
   "execution_count": 75,
   "metadata": {},
   "outputs": [
    {
     "data": {
      "text/plain": [
       "1.6180339887499087"
      ]
     },
     "execution_count": 75,
     "metadata": {},
     "output_type": "execute_result"
    }
   ],
   "source": [
    "n=35\n",
    "Fibonacci(n)/Fibonacci(n-1)"
   ]
  },
  {
   "cell_type": "markdown",
   "metadata": {},
   "source": [
    "### Ejemplo: Suma recursiva\n",
    "\n",
    "Para sumar una lista de números se puede utilizar la función nativa `sum` de Python, pero hagamos una propia que utilice el concepto de recursividad."
   ]
  },
  {
   "cell_type": "code",
   "execution_count": 76,
   "metadata": {},
   "outputs": [
    {
     "name": "stdout",
     "output_type": "stream",
     "text": [
      "15\n",
      "5050\n"
     ]
    }
   ],
   "source": [
    "def miSuma(L):\n",
    "    if not L: \n",
    "        return 0\n",
    "    else:\n",
    "        return L[0] + miSuma(L[1:])\n",
    "\n",
    "print(miSuma([1,2,3,4,5]))\n",
    "print(miSuma(list(range(101))))"
   ]
  },
  {
   "cell_type": "markdown",
   "metadata": {},
   "source": [
    "Una versión alternativa del código empleando la expresión tenaria `if-else` de Python."
   ]
  },
  {
   "cell_type": "code",
   "execution_count": 77,
   "metadata": {},
   "outputs": [
    {
     "name": "stdout",
     "output_type": "stream",
     "text": [
      "15\n",
      "5050\n"
     ]
    }
   ],
   "source": [
    "def miSuma(L):\n",
    "    return 0 if not L else L[0] + miSuma(L[1:])\n",
    "\n",
    "print(miSuma([1,2,3,4,5]))\n",
    "print(miSuma(list(range(101))))"
   ]
  },
  {
   "cell_type": "markdown",
   "metadata": {},
   "source": [
    "Otra versión que soporta no sólo números."
   ]
  },
  {
   "cell_type": "code",
   "execution_count": 78,
   "metadata": {},
   "outputs": [
    {
     "name": "stdout",
     "output_type": "stream",
     "text": [
      "15\n",
      "5050\n",
      "holamundocruel\n"
     ]
    }
   ],
   "source": [
    "def miSuma(L):\n",
    "    return L[0] if len(L) == 1 else L[0] + miSuma(L[1:])\n",
    "\n",
    "\n",
    "print(miSuma([1,2,3,4,5]))\n",
    "print(miSuma(list(range(101))))\n",
    "print(miSuma(['hola', 'mundo', 'cruel']))"
   ]
  },
  {
   "cell_type": "markdown",
   "metadata": {},
   "source": [
    "Una versión que además de no sólo soportar números, utiliza el desempaquetado de la lista."
   ]
  },
  {
   "cell_type": "code",
   "execution_count": 79,
   "metadata": {},
   "outputs": [
    {
     "name": "stdout",
     "output_type": "stream",
     "text": [
      "15\n",
      "5050\n",
      "holamundocruel\n"
     ]
    }
   ],
   "source": [
    "def miSuma(L):\n",
    "    first, *rest = L    # Desempaquetado: Toma el primer elemento de la lista L y lo asigna a first, mientras que el resto de los elementos se asignan a rest como una lista\n",
    "    return first if not rest else first + miSuma(rest)\n",
    "\n",
    "print(miSuma([1,2,3,4,5]))\n",
    "print(miSuma(list(range(101))))\n",
    "print(miSuma(['hola', 'mundo', 'cruel']))"
   ]
  },
  {
   "cell_type": "markdown",
   "metadata": {},
   "source": [
    "## Recursividad vs Ciclos\n",
    "\n",
    "La recursividad y los ciclos son dos enfoques para repetir acciones en un programa. Aquí están sus diferencias:\n",
    "\n",
    "### Recursividad\n",
    "\n",
    "1. **Definición:**\n",
    "   - Una función se llama a sí misma para resolver subproblemas más pequeños.\n",
    "\n",
    "2. **Estructura:**\n",
    "   - Requiere un caso base para detener las llamadas recursivas.\n",
    "   - Cada llamada crea un nuevo contexto en la pila de llamadas.\n",
    "\n",
    "3. **Ventajas:**\n",
    "   - Más intuitiva para problemas que tienen una naturaleza divisoria, como el recorrido de árboles o la generación de fractales.\n",
    "   - Puede ser más fácil de entender y escribir para ciertos problemas.\n",
    "\n",
    "4. **Desventajas:**\n",
    "   - Puede causar desbordamiento de pila si la profundidad de la recursión es muy grande.\n",
    "   - A menudo es menos eficiente en términos de memoria y tiempo debido a las múltiples llamadas a funciones.\n",
    "\n",
    "### Ciclos\n",
    "\n",
    "1. **Definición:**\n",
    "   - Utilizan estructuras de control (como `for`, `while`) para repetir acciones.\n",
    "\n",
    "2. **Estructura:**\n",
    "   - No involucran llamadas repetidas de función.\n",
    "   - Mantienen el control en un único contexto de ejecución.\n",
    "\n",
    "3. **Ventajas:**\n",
    "   - Más eficiente en términos de uso de memoria, ya que no hay múltiples contextos.\n",
    "   - Evita problemas de desbordamiento de pila.\n",
    "\n",
    "4. **Desventajas:**\n",
    "   - A veces puede ser menos intuitivo para problemas que se modelan naturalmente de manera recursiva.\n"
   ]
  },
  {
   "cell_type": "markdown",
   "metadata": {},
   "source": [
    "Podría pensarse que las estructuras cíclicas son más sencillas y pueden realizar todo aquello que las formas recursivas pueden. \n",
    "Por ejemplo, la versión cíclica de la función suma anterior es:"
   ]
  },
  {
   "cell_type": "code",
   "execution_count": 80,
   "metadata": {},
   "outputs": [
    {
     "data": {
      "text/plain": [
       "15"
      ]
     },
     "execution_count": 80,
     "metadata": {},
     "output_type": "execute_result"
    }
   ],
   "source": [
    "# Suma cíclica\n",
    "L = [1, 2, 3, 4, 5]\n",
    "\n",
    "sum = 0\n",
    "while L:\n",
    "    sum += L[0]\n",
    "    L = L[1:]\n",
    "\n",
    "sum\n"
   ]
  },
  {
   "cell_type": "code",
   "execution_count": 81,
   "metadata": {},
   "outputs": [
    {
     "data": {
      "text/plain": [
       "15"
      ]
     },
     "execution_count": 81,
     "metadata": {},
     "output_type": "execute_result"
    }
   ],
   "source": [
    "# Suma cíclica, versión alternativa\n",
    "L = [1, 2, 3, 4, 5]\n",
    "\n",
    "sum = 0\n",
    "for x in L: \n",
    "    sum += x\n",
    "\n",
    "sum"
   ]
  },
  {
   "cell_type": "markdown",
   "metadata": {},
   "source": [
    "Sin embargo hay ocasiones donde la forma recursiva es más simple que una cíclica. Por ejemplo, considere el caso de la suma de números en una lista anidada:\n",
    "\n",
    "```python\n",
    "[1, [2, [3, 4], 5], 6, [7, 8], [[9], [10]]]\n",
    "```\n",
    "\n",
    "En casos como este la programación cíclica no sirve dado que no es una iteración lineal. Para ello sería necesario agregar más código de manera que los ciclos\n",
    "puedan funcionar. Por otro lado, una versión recursiva se acomoda mejor debido a la construcción recursiva de la propia lista anidada. \n",
    "\n",
    "Veamos el código:"
   ]
  },
  {
   "cell_type": "code",
   "execution_count": 82,
   "metadata": {},
   "outputs": [
    {
     "name": "stdout",
     "output_type": "stream",
     "text": [
      "55\n"
     ]
    }
   ],
   "source": [
    "def miSuma(L):\n",
    "    total = 0\n",
    "    for x in L:\n",
    "        if not isinstance(x, list):\n",
    "            total += x\n",
    "        else:\n",
    "            total += miSuma(x)\n",
    "    return total\n",
    "\n",
    "print(miSuma([1, [2, [3, 4], 5], 6, [7, 8], [[9], [10]]]))"
   ]
  },
  {
   "cell_type": "markdown",
   "metadata": {},
   "source": [
    "## Llamada indirecta de funciones\n",
    "<!-- Página 469 -->\n",
    "\n",
    "Debido a que en Python las funciones son objetos, se pueden escribir programas que las procesen de forma\n",
    "genérica. Las funciones como objeto pueden ser asignadas a otro nombre, pasadas a otras funciones, incrustarlas\n",
    "en estructuras de datos, devueltas por una función, entre otras cosas más.\n",
    "\n",
    "El nombre utilizado al declarar una función a través de `def`, es sólo una variable asignada al contexto actual.\n",
    "Luego de que el operador `def` sea ejecutado, el nombre sólo es una referencia al objeto."
   ]
  },
  {
   "cell_type": "code",
   "execution_count": 83,
   "metadata": {},
   "outputs": [
    {
     "name": "stdout",
     "output_type": "stream",
     "text": [
      "Hola mundo cruel\n"
     ]
    }
   ],
   "source": [
    "# Llamada directa\n",
    "def echo(message):\n",
    "    print(message)\n",
    "\n",
    "echo(\"Hola mundo cruel\")"
   ]
  },
  {
   "cell_type": "code",
   "execution_count": 84,
   "metadata": {},
   "outputs": [
    {
     "name": "stdout",
     "output_type": "stream",
     "text": [
      "Hola mundo cruel\n"
     ]
    }
   ],
   "source": [
    "# Llamada indirecta\n",
    "x = echo\n",
    "x(\"Hola mundo cruel\")"
   ]
  },
  {
   "cell_type": "markdown",
   "metadata": {},
   "source": [
    "Debido a que los argumentos se pasan como una asignación de objetos, es posible pasar funciones como\n",
    "argumento para otras funciones."
   ]
  },
  {
   "cell_type": "code",
   "execution_count": 85,
   "metadata": {},
   "outputs": [
    {
     "name": "stdout",
     "output_type": "stream",
     "text": [
      "Llamada por argumento\n"
     ]
    }
   ],
   "source": [
    "def indirect(func, arg):\n",
    "    func(arg)\n",
    "\n",
    "indirect(echo, \"Llamada por argumento\")"
   ]
  },
  {
   "cell_type": "markdown",
   "metadata": {},
   "source": [
    "Incluso es posible incluir funciones en estructuras de datos, como si fueran números enteros o cadenas. \n",
    "El siguiente ejemplo, incluye la función dos veces en una lista de tuplas, como una especie de tabla de acciones. \n",
    "Debido a que los tipos compuestos de Python como estos pueden contener cualquier tipo de objeto, tampoco hay \n",
    "ningún caso especial aquí:"
   ]
  },
  {
   "cell_type": "code",
   "execution_count": 86,
   "metadata": {},
   "outputs": [
    {
     "name": "stdout",
     "output_type": "stream",
     "text": [
      "Hola\n",
      "mundo\n",
      "cruel\n"
     ]
    }
   ],
   "source": [
    "myList = [(echo, \"Hola\"), (echo, \"mundo\"), (echo, \"cruel\")]\n",
    "for (func, arg) in myList:\n",
    "    func(arg)"
   ]
  },
  {
   "cell_type": "markdown",
   "metadata": {},
   "source": [
    "En el siguiente ejemplo, se define una función como y se devuelve resultado de otra función."
   ]
  },
  {
   "cell_type": "code",
   "execution_count": 87,
   "metadata": {},
   "outputs": [
    {
     "name": "stdout",
     "output_type": "stream",
     "text": [
      "Hola: Mundo Cruel\n"
     ]
    }
   ],
   "source": [
    "def make(label):\n",
    "    def echo(message):\n",
    "        print(label + ':' + message)\n",
    "    return echo\n",
    "\n",
    "F = make(\"Hola\")\n",
    "F(\" Mundo Cruel\")"
   ]
  },
  {
   "cell_type": "markdown",
   "metadata": {},
   "source": [
    "En este ejemplo, se define una función `make` que recibe un argumento `label` que se pasa como argumento a \n",
    "la función `echo`. Esta última función recibe el argumento, forma un mensaje y lo imprime. Finalmente\n",
    "la función make devuelve la función `echo`."
   ]
  },
  {
   "cell_type": "markdown",
   "metadata": {},
   "source": [
    "## Funciones anónimas `lambda`\n",
    "<!-- Página 474 -->\n",
    "Además del parámetro `def` para definir funciones, Python ofrece la expresión `lambda` para definir funciones. Al igual\n",
    "que con `def`, `lambda` permite crear una función para ser utilizada posteriormente pero devuelve la función en lugar de \n",
    "asignarlo a un nombre. Es por ello que se les conoce como _funciones anónimas_. \n",
    "\n",
    "Para declarar una función anónima, se utiliza la palabra clave `lambda` seguida de uno o más argumentos, y separado con\n",
    "dos puntos la expresión a evaluar por la función.\n",
    "\n",
    "```python\n",
    "lambda argument1, argument2, ..., argumentN : expression using arguments\n",
    "```\n",
    "Las funciones `lambda` operan de forma idéntica a las funciones `def`, pero existen algunas diferencias entre ellas.\n",
    "\n",
    "* **`lambda` es una expresión, no una sentencia**. Debido a esto, las funciones lambda pueden aparecer en lugares donde la \n",
    "    sintáxis de Python no lo permite (dentro de una lista, en los argumentos de una función, entre muchos otros). Debido \n",
    "    a que es una expresión, devuelve un valor (una función) que puede ser opcionalmente asignada a un nombre. A diferencia\n",
    "    de `def` que siempre asigna la función al nombre indicado.\n",
    "* **El cuerpo de `lambda` es una sola expresión, no un bloque de sentencias.** El contenido de las funciones `lambda`\n",
    "    es similar al de las funciones `def`, pero sólo se escribe la expresión a evlauar sin ser necesario devolverlo \n",
    "    explícitamente. Dado que las funciones `lambda` están limitadas a una sola expresión, son menos generales que las \n",
    "    funciones `def`. Esta limitante es intencional por diseño, de manera que `lambda` está diseñada para usarse para \n",
    "    operaciones simples y `def` para operaciones más largas. \n",
    "\n",
    "A pesar de sus diferencias, las funciones `def` y `lambda` pueden hacer el mismo trabajo:"
   ]
  },
  {
   "cell_type": "code",
   "execution_count": 88,
   "metadata": {},
   "outputs": [
    {
     "data": {
      "text/plain": [
       "12"
      ]
     },
     "execution_count": 88,
     "metadata": {},
     "output_type": "execute_result"
    }
   ],
   "source": [
    "# Función def\n",
    "def funcion(x,y,z):\n",
    "    return x+y+z\n",
    "funcion(3,4,5)"
   ]
  },
  {
   "cell_type": "code",
   "execution_count": 89,
   "metadata": {},
   "outputs": [
    {
     "data": {
      "text/plain": [
       "12"
      ]
     },
     "execution_count": 89,
     "metadata": {},
     "output_type": "execute_result"
    }
   ],
   "source": [
    "# Función lambda\n",
    "funcion = lambda x,y,z : x+y+z\n",
    "funcion(3,4,5)"
   ]
  },
  {
   "cell_type": "markdown",
   "metadata": {},
   "source": [
    "Otro ejemplo con función `lambda`:"
   ]
  },
  {
   "cell_type": "code",
   "execution_count": 90,
   "metadata": {},
   "outputs": [
    {
     "data": {
      "text/plain": [
       "'Sir Robin'"
      ]
     },
     "execution_count": 90,
     "metadata": {},
     "output_type": "execute_result"
    }
   ],
   "source": [
    "def knights():\n",
    "    title = 'Sir'\n",
    "    action = lambda x : title + ' ' + x\n",
    "    return action\n",
    "\n",
    "act = knights()\n",
    "act(\"Robin\")"
   ]
  },
  {
   "cell_type": "markdown",
   "metadata": {},
   "source": [
    "En este ejemplo, la función `knigths` devuelve una función `lambda`. Por ello `act` es nombre de variable que \n",
    "apunta a un objeto función `lambda` asociado en la llamada indirecta. Cuado se invoca `act(\"Robin\")`, la función\n",
    "`lambda` recibe el argumento en `x` y realiza la operación definida."
   ]
  },
  {
   "cell_type": "code",
   "execution_count": 91,
   "metadata": {},
   "outputs": [
    {
     "data": {
      "text/plain": [
       "<function __main__.knights.<locals>.<lambda>(x)>"
      ]
     },
     "execution_count": 91,
     "metadata": {},
     "output_type": "execute_result"
    }
   ],
   "source": [
    "act"
   ]
  },
  {
   "cell_type": "markdown",
   "metadata": {},
   "source": [
    "### ¿Porqué utilizar funciones `lambda`?\n",
    "\n",
    "Este tipo de funciones resultan útiles en casos donde se quiere incrustar la definición de la función dentro del \n",
    "código que la utiliza. Aunque su uso es opcional, tienden a generar código más simple en escenarios donde se necesita\n",
    "crear bloques de código concisos e independientes.\n",
    "\n",
    "Las funciones lambda se utilizan comunmente para codificar _jump tables_, que son listas o diccionarios de acciones\n",
    "que se deben realizar bajo demanda. Por ejemplo:"
   ]
  },
  {
   "cell_type": "code",
   "execution_count": 92,
   "metadata": {},
   "outputs": [
    {
     "name": "stdout",
     "output_type": "stream",
     "text": [
      "4\n",
      "8\n",
      "16\n",
      "9\n"
     ]
    }
   ],
   "source": [
    "L = [lambda x:x**2, lambda x:x**3, lambda x:x**4]   # Lista de 3 funciones\n",
    "\n",
    "for f in L:\n",
    "    print(f(2))\n",
    "\n",
    "print(L[0](3))"
   ]
  },
  {
   "cell_type": "markdown",
   "metadata": {},
   "source": [
    "Este código es muy simple e intuitivo, sin embargo, es posibble obtener el mismo resultado mediante funciones `def`."
   ]
  },
  {
   "cell_type": "code",
   "execution_count": 93,
   "metadata": {},
   "outputs": [
    {
     "name": "stdout",
     "output_type": "stream",
     "text": [
      "4\n",
      "8\n",
      "16\n"
     ]
    }
   ],
   "source": [
    "def f1(x): return x**2\n",
    "def f2(x): return x**3\n",
    "def f3(x): return x**4\n",
    "\n",
    "L = [f1, f2, f3]\n",
    "\n",
    "for f in L:\n",
    "    print(f(2))"
   ]
  },
  {
   "cell_type": "markdown",
   "metadata": {},
   "source": [
    "El resultado es el mismo pero el código es más simple.\n",
    "\n",
    "Para el caso de los diccionarios veamos el ejemplo:"
   ]
  },
  {
   "cell_type": "code",
   "execution_count": 94,
   "metadata": {},
   "outputs": [
    {
     "data": {
      "text/plain": [
       "12"
      ]
     },
     "execution_count": 94,
     "metadata": {},
     "output_type": "execute_result"
    }
   ],
   "source": [
    "key = 'got'\n",
    "D = {\n",
    "    'already': lambda x: x+4, \n",
    "    'got': lambda x: x*4,\n",
    "    'one' : lambda x: x**4\n",
    "}\n",
    "\n",
    "D[key](3)"
   ]
  },
  {
   "cell_type": "markdown",
   "metadata": {},
   "source": [
    "Ahora veamos el caso de funciones `lambda` anidadas, pero primero hagamos un ejemplo con uina función `def` y dentro \n",
    "una `lambda`."
   ]
  },
  {
   "cell_type": "code",
   "execution_count": 95,
   "metadata": {},
   "outputs": [
    {
     "name": "stdout",
     "output_type": "stream",
     "text": [
      "<function action.<locals>.<lambda> at 0x7fa3ccd81580>\n"
     ]
    },
    {
     "data": {
      "text/plain": [
       "101"
      ]
     },
     "execution_count": 95,
     "metadata": {},
     "output_type": "execute_result"
    }
   ],
   "source": [
    "def action(x):\n",
    "    return lambda y : x+y\n",
    "\n",
    "act = action(99)\n",
    "print(act)\n",
    "act(2)"
   ]
  },
  {
   "cell_type": "markdown",
   "metadata": {},
   "source": [
    "Ahora la misma operación pero con un par de funciones `lambda`, en una sola línea."
   ]
  },
  {
   "cell_type": "code",
   "execution_count": 96,
   "metadata": {},
   "outputs": [
    {
     "data": {
      "text/plain": [
       "102"
      ]
     },
     "execution_count": 96,
     "metadata": {},
     "output_type": "execute_result"
    }
   ],
   "source": [
    "action = lambda x : (lambda y : x+y)\n",
    "act = action(99)\n",
    "act(3)"
   ]
  },
  {
   "cell_type": "markdown",
   "metadata": {},
   "source": [
    "## Funciones `map` sobre secuencias\n",
    "<!-- Página 479 -->\n",
    "Otra tarea común al utilizar listas es aplicar una operación a todos los elementos y recolectar un resultado.\n",
    "Por ejemplo, actualizar todos los elementos en una lista se puede hacer fácilmente con un ciclo empleando programación\n",
    "convencional."
   ]
  },
  {
   "cell_type": "code",
   "execution_count": 97,
   "metadata": {},
   "outputs": [
    {
     "data": {
      "text/plain": [
       "[11, 12, 13, 14]"
      ]
     },
     "execution_count": 97,
     "metadata": {},
     "output_type": "execute_result"
    }
   ],
   "source": [
    "counters = [1,2,3,4]\n",
    "updated = []\n",
    "\n",
    "for x in counters:\n",
    "    updated.append(x+10)\n",
    "updated"
   ]
  },
  {
   "cell_type": "markdown",
   "metadata": {},
   "source": [
    "Pero dado que este tipo de operaciones son muy comúnes, Python ofrece una función nativa que hace este trabajo. \n",
    "La función `map` aplica una función pasada com oargumento a cada uno de los elementos de una lista y devuelve otra\n",
    "lista con los resultados. Por ejemplo:"
   ]
  },
  {
   "cell_type": "code",
   "execution_count": 98,
   "metadata": {},
   "outputs": [
    {
     "data": {
      "text/plain": [
       "[11, 12, 13, 14]"
      ]
     },
     "execution_count": 98,
     "metadata": {},
     "output_type": "execute_result"
    }
   ],
   "source": [
    "def inc(x):\n",
    "    return x+10\n",
    "\n",
    "list(map(inc, counters))"
   ]
  },
  {
   "cell_type": "markdown",
   "metadata": {},
   "source": [
    "La función `map` llama a la función pre-existente inc para cada uno de los elementos de la lista y los almacena\n",
    "en una nueva lista. \n",
    "\n",
    "Dado que `map` espera recibir una función como argumento, es un buen lugar para utilizar una función `lambda`."
   ]
  },
  {
   "cell_type": "code",
   "execution_count": 99,
   "metadata": {},
   "outputs": [
    {
     "data": {
      "text/plain": [
       "[11, 12, 13, 14]"
      ]
     },
     "execution_count": 99,
     "metadata": {},
     "output_type": "execute_result"
    }
   ],
   "source": [
    "counters = [1,2,3,4]\n",
    "list(map(lambda x : x+10, counters))"
   ]
  },
  {
   "cell_type": "markdown",
   "metadata": {},
   "source": [
    "Es posible replicar el funcionamiento de `map` con programación ciclos y programación convencional. Sin embargo\n",
    "`map` es una función nativa de Python, por lo que siempre está disponible, funciona siempre igual y es más rápida \n",
    "que su versión equivalente con ciclos `for`.\n",
    "\n",
    "Además `map` puede utilizarse en situaciones más complicadas. Por ejemplo, si la función recibida como argumento por `map`\n",
    "requiere a su vez más de un argumento, se pueden agregar todos los argumentos necesarios y `map` se los hace llegar\n",
    "a la función.\n",
    "\n",
    "Por ejemplo, considere la función `pow` que requiere dos argumentos:"
   ]
  },
  {
   "cell_type": "code",
   "execution_count": 100,
   "metadata": {},
   "outputs": [
    {
     "data": {
      "text/plain": [
       "[1, 64, 2187, 65536]"
      ]
     },
     "execution_count": 100,
     "metadata": {},
     "output_type": "execute_result"
    }
   ],
   "source": [
    "pow(2,3)\n",
    "\n",
    "list(map(pow, [1,2,3,4], [5,6,7,8]))"
   ]
  },
  {
   "cell_type": "markdown",
   "metadata": {},
   "source": [
    "Para una función que requiere $n$ argumentos, `map` espera $n$ secuencias para esa función."
   ]
  },
  {
   "cell_type": "markdown",
   "metadata": {},
   "source": [
    "## Herramientas de programación funcional: `filter` y `reduce`\n",
    "<!-- Página 481 -->\n",
    "La función `map` es la representación más simple de las funciones nativas de Python para la _programación funcional_,\n",
    "que son herramientas que aplican funciones a secuencias y otros iterables.\n",
    "\n",
    "Estas herramientas filtran elementos de acuerdo a una función de prueba (filtro) y aplican funciones a pares de elementos \n",
    "y resultados de ejecución (reduce). Debido a que devuelven iterables, range y filter requieren llamadas de lista para mostrar \n",
    "todos sus resultados. \n",
    "\n",
    "### Filter\n",
    "Por ejemplo, el siguiente filtro selecciona elementos en una secuencia dada por `range(-5, 5)` que son mayores que cero:"
   ]
  },
  {
   "cell_type": "code",
   "execution_count": 101,
   "metadata": {},
   "outputs": [
    {
     "data": {
      "text/plain": [
       "[1, 2, 3, 4]"
      ]
     },
     "execution_count": 101,
     "metadata": {},
     "output_type": "execute_result"
    }
   ],
   "source": [
    "list(filter(lambda x:x>0, range(-5, 5)))"
   ]
  },
  {
   "cell_type": "markdown",
   "metadata": {},
   "source": [
    "Los elementos de la secuencia o iterable que cumplen la condición dada por la función `lambda` son añadidos a \n",
    "la lista resultante. Esta función, al igual que con `map`, puede ser construida con ciclos `for`, pero es más \n",
    "rápida y nativa."
   ]
  },
  {
   "cell_type": "code",
   "execution_count": 102,
   "metadata": {},
   "outputs": [
    {
     "data": {
      "text/plain": [
       "[1, 2, 3, 4]"
      ]
     },
     "execution_count": 102,
     "metadata": {},
     "output_type": "execute_result"
    }
   ],
   "source": [
    "res = []\n",
    "for x in range(-5, 5):\n",
    "    if x>0:\n",
    "        res.append(x)\n",
    "res"
   ]
  },
  {
   "cell_type": "markdown",
   "metadata": {},
   "source": [
    "### Reduce\n",
    "`reduce` es una función nativa contenida dentro del modulo `functools` y acepta un iterador para proceder pero \n",
    "`reduce` no es un iterador ya que devuelve un sólo resultado.\n",
    "\n",
    "Por ejemplo, `reduce` llama la suma y multiplicación para los elementos de la lista:"
   ]
  },
  {
   "cell_type": "code",
   "execution_count": 103,
   "metadata": {},
   "outputs": [
    {
     "name": "stdout",
     "output_type": "stream",
     "text": [
      "10\n",
      "24\n"
     ]
    }
   ],
   "source": [
    "from functools import reduce\n",
    "\n",
    "print(reduce(lambda x,y : x+y, [1,2,3,4]))\n",
    "print(reduce(lambda x,y : x*y, [1,2,3,4]))"
   ]
  },
  {
   "cell_type": "markdown",
   "metadata": {},
   "source": [
    "En cada paso, `reduce` pasa el valor actual de la suma o multiplicación junto con el siguiente valor de la lista\n",
    "a la función `lambda`. Por defecto, el primer valor de la lista inicializa el acumulador para el resultado final.\n",
    "\n",
    "El siguiente código es una versión equivalente empleando ciclo `for`."
   ]
  },
  {
   "cell_type": "code",
   "execution_count": 104,
   "metadata": {},
   "outputs": [
    {
     "data": {
      "text/plain": [
       "10"
      ]
     },
     "execution_count": 104,
     "metadata": {},
     "output_type": "execute_result"
    }
   ],
   "source": [
    "L = [1,2,3,4]\n",
    "res = L[0]\n",
    "for x in L[1:]:\n",
    "    res += x\n",
    "res"
   ]
  },
  {
   "cell_type": "markdown",
   "metadata": {},
   "source": [
    "Para fines ilustrativos y entender el funcionamiento de `reduce` a fondo, éste es un código\n",
    "que replica el funcionamiento de `reduce`."
   ]
  },
  {
   "cell_type": "code",
   "execution_count": 105,
   "metadata": {},
   "outputs": [
    {
     "name": "stdout",
     "output_type": "stream",
     "text": [
      "10\n",
      "24\n"
     ]
    }
   ],
   "source": [
    "def myReduce(function, sequence):\n",
    "    result = sequence[0]\n",
    "    for next in sequence[1:]:\n",
    "        result = function(result, next)\n",
    "    return result\n",
    "\n",
    "print(myReduce(lambda x,y : x+y, [1,2,3,4]))\n",
    "print(myReduce(lambda x,y : x*y, [1,2,3,4]))"
   ]
  },
  {
   "cell_type": "markdown",
   "metadata": {},
   "source": [
    "En el código se puede observar que `result` fue inicializado en el primer elemento de la lista. Sin \n",
    "embargo `reduce` acepta un tercer argumento que se utiliza como valor inicial, o incluso final si la \n",
    "lista estuviese vacía."
   ]
  },
  {
   "cell_type": "code",
   "execution_count": 106,
   "metadata": {},
   "outputs": [
    {
     "name": "stdout",
     "output_type": "stream",
     "text": [
      "20\n",
      "120\n"
     ]
    }
   ],
   "source": [
    "print(reduce(lambda x,y : x+y, [1,2,3,4], 10))\n",
    "print(reduce(lambda x,y : x*y, [1,2,3,4], 5))"
   ]
  },
  {
   "cell_type": "markdown",
   "metadata": {},
   "source": [
    "El valor inicial no debe ser necesariamente un número, puede ser cualquier tipo de dato hasta incluso un objeto.\n",
    "Debe considerarse el tipo que sea dicho valor inicial para las operaciones que `reduce` llevará a cabo con dicho\n",
    "valor inicial."
   ]
  },
  {
   "cell_type": "markdown",
   "metadata": {},
   "source": [
    "## Referencias\n",
    "\n",
    "* [Sundnes J., Introduction to Scientific Programming with Python, Springer Open, 2020.](https://link.springer.com/book/10.1007/978-3-030-50356-7)\n",
    "* Lutz M., Learning Python, O'Reilly, 2009."
   ]
  }
 ],
 "metadata": {
  "kernelspec": {
   "display_name": "Python 3 (ipykernel)",
   "language": "python",
   "name": "python3"
  },
  "language_info": {
   "codemirror_mode": {
    "name": "ipython",
    "version": 3
   },
   "file_extension": ".py",
   "mimetype": "text/x-python",
   "name": "python",
   "nbconvert_exporter": "python",
   "pygments_lexer": "ipython3",
   "version": "3.12.4"
  }
 },
 "nbformat": 4,
 "nbformat_minor": 4
}
