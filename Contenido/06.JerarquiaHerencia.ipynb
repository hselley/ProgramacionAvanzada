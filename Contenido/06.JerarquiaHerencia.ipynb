{
 "cells": [
  {
   "cell_type": "markdown",
   "metadata": {},
   "source": [
    "# Jerarquías de clases y herencia \n",
    "\n",
    "Una jerarquía de clases es una familia de clases estrechamente relacionadas organizadas de manera jerárquica. \n",
    "Un concepto clave es la herencia, lo que significa que las clases hijas pueden heredar atributos y métodos \n",
    "de las clases padres. Una estrategia típica es escribir una clase general como clase base (o clase principal) \n",
    "y luego dejar que los casos especiales se representen como subclases (clases secundarias). Este enfoque a menudo \n",
    "puede ahorrar mucha escritura y duplicación de código. "
   ]
  },
  {
   "cell_type": "markdown",
   "metadata": {},
   "source": [
    "## Ejemplo. Clases para líneas y parábolas\n",
    "En este ejemplo crearemos una clase que represente y evalúe líneas rectas $y=c_0 + c_1 x$."
   ]
  },
  {
   "cell_type": "code",
   "execution_count": 2,
   "metadata": {},
   "outputs": [],
   "source": [
    "import numpy as np\n",
    "\n",
    "class Line: \n",
    "    def __init__(self, c0, c1):\n",
    "        self.c0, self.c1 = c0, c1\n",
    "\n",
    "    def __call__(self, x):\n",
    "        return self.c0 + self.c1 * x\n",
    "\n",
    "    def table(self, L, R, n):\n",
    "        \"\"\" Devuelve una tabla con n puntos dado L <= x <= R \"\"\"\n",
    "        s =''\n",
    "        for x in np.linspace(L, R, n):\n",
    "            y = self(x)\n",
    "            s += f'{x:12g} {y:12g}\\n'\n",
    "        return s"
   ]
  },
  {
   "cell_type": "code",
   "execution_count": 12,
   "metadata": {},
   "outputs": [],
   "source": [
    "linea = Line(1,2)"
   ]
  },
  {
   "cell_type": "code",
   "execution_count": 14,
   "metadata": {},
   "outputs": [
    {
     "data": {
      "text/plain": [
       "<__main__.Line at 0x7fef38be0990>"
      ]
     },
     "execution_count": 14,
     "metadata": {},
     "output_type": "execute_result"
    }
   ],
   "source": [
    "linea"
   ]
  },
  {
   "cell_type": "code",
   "execution_count": 20,
   "metadata": {},
   "outputs": [
    {
     "name": "stdout",
     "output_type": "stream",
     "text": [
      "           1            3\n",
      "     2.22222      5.44444\n",
      "     3.44444      7.88889\n",
      "     4.66667      10.3333\n",
      "     5.88889      12.7778\n",
      "     7.11111      15.2222\n",
      "     8.33333      17.6667\n",
      "     9.55556      20.1111\n",
      "     10.7778      22.5556\n",
      "          12           25\n",
      "\n"
     ]
    }
   ],
   "source": [
    "print(linea.table(1,12,10))"
   ]
  },
  {
   "cell_type": "code",
   "execution_count": 19,
   "metadata": {},
   "outputs": [
    {
     "data": {
      "text/plain": [
       "7"
      ]
     },
     "execution_count": 19,
     "metadata": {},
     "output_type": "execute_result"
    }
   ],
   "source": [
    "linea(3)"
   ]
  },
  {
   "cell_type": "code",
   "execution_count": 21,
   "metadata": {},
   "outputs": [],
   "source": [
    "import numpy as np\n",
    "from prettytable import PrettyTable\n",
    "\n",
    "class Line: \n",
    "    def __init__(self, c0, c1):\n",
    "        self.c0, self.c1 = c0, c1\n",
    "\n",
    "    def __call__(self, x):\n",
    "        return self.c0 + self.c1 * x\n",
    "\n",
    "    def table(self, L, R, n):\n",
    "        \"\"\" Devuelve una tabla con n puntos dado L <= x <= R \"\"\"\n",
    "        tabla = PrettyTable(field_names = ['x', 'f(x)'])\n",
    "        for x in np.linspace(L, R, n):\n",
    "            y = self(x)\n",
    "            tabla.add_row([x, y])\n",
    "        return tabla"
   ]
  },
  {
   "cell_type": "code",
   "execution_count": 23,
   "metadata": {},
   "outputs": [],
   "source": [
    "linea = Line(4,5)"
   ]
  },
  {
   "cell_type": "code",
   "execution_count": 25,
   "metadata": {},
   "outputs": [
    {
     "data": {
      "text/html": [
       "<table>\n",
       "    <thead>\n",
       "        <tr>\n",
       "            <th>x</th>\n",
       "            <th>f(x)</th>\n",
       "        </tr>\n",
       "    </thead>\n",
       "    <tbody>\n",
       "        <tr>\n",
       "            <td>1.0</td>\n",
       "            <td>9.0</td>\n",
       "        </tr>\n",
       "        <tr>\n",
       "            <td>1.4736842105263157</td>\n",
       "            <td>11.368421052631579</td>\n",
       "        </tr>\n",
       "        <tr>\n",
       "            <td>1.9473684210526314</td>\n",
       "            <td>13.736842105263158</td>\n",
       "        </tr>\n",
       "        <tr>\n",
       "            <td>2.4210526315789473</td>\n",
       "            <td>16.105263157894736</td>\n",
       "        </tr>\n",
       "        <tr>\n",
       "            <td>2.894736842105263</td>\n",
       "            <td>18.473684210526315</td>\n",
       "        </tr>\n",
       "        <tr>\n",
       "            <td>3.3684210526315788</td>\n",
       "            <td>20.842105263157894</td>\n",
       "        </tr>\n",
       "        <tr>\n",
       "            <td>3.8421052631578947</td>\n",
       "            <td>23.210526315789473</td>\n",
       "        </tr>\n",
       "        <tr>\n",
       "            <td>4.315789473684211</td>\n",
       "            <td>25.578947368421055</td>\n",
       "        </tr>\n",
       "        <tr>\n",
       "            <td>4.789473684210526</td>\n",
       "            <td>27.94736842105263</td>\n",
       "        </tr>\n",
       "        <tr>\n",
       "            <td>5.263157894736842</td>\n",
       "            <td>30.31578947368421</td>\n",
       "        </tr>\n",
       "        <tr>\n",
       "            <td>5.7368421052631575</td>\n",
       "            <td>32.68421052631579</td>\n",
       "        </tr>\n",
       "        <tr>\n",
       "            <td>6.2105263157894735</td>\n",
       "            <td>35.05263157894737</td>\n",
       "        </tr>\n",
       "        <tr>\n",
       "            <td>6.684210526315789</td>\n",
       "            <td>37.421052631578945</td>\n",
       "        </tr>\n",
       "        <tr>\n",
       "            <td>7.157894736842105</td>\n",
       "            <td>39.78947368421053</td>\n",
       "        </tr>\n",
       "        <tr>\n",
       "            <td>7.63157894736842</td>\n",
       "            <td>42.1578947368421</td>\n",
       "        </tr>\n",
       "        <tr>\n",
       "            <td>8.105263157894736</td>\n",
       "            <td>44.526315789473685</td>\n",
       "        </tr>\n",
       "        <tr>\n",
       "            <td>8.578947368421051</td>\n",
       "            <td>46.89473684210526</td>\n",
       "        </tr>\n",
       "        <tr>\n",
       "            <td>9.052631578947368</td>\n",
       "            <td>49.26315789473684</td>\n",
       "        </tr>\n",
       "        <tr>\n",
       "            <td>9.526315789473683</td>\n",
       "            <td>51.63157894736842</td>\n",
       "        </tr>\n",
       "        <tr>\n",
       "            <td>10.0</td>\n",
       "            <td>54.0</td>\n",
       "        </tr>\n",
       "    </tbody>\n",
       "</table>"
      ],
      "text/plain": [
       "+--------------------+--------------------+\n",
       "|         x          |        f(x)        |\n",
       "+--------------------+--------------------+\n",
       "|        1.0         |        9.0         |\n",
       "| 1.4736842105263157 | 11.368421052631579 |\n",
       "| 1.9473684210526314 | 13.736842105263158 |\n",
       "| 2.4210526315789473 | 16.105263157894736 |\n",
       "| 2.894736842105263  | 18.473684210526315 |\n",
       "| 3.3684210526315788 | 20.842105263157894 |\n",
       "| 3.8421052631578947 | 23.210526315789473 |\n",
       "| 4.315789473684211  | 25.578947368421055 |\n",
       "| 4.789473684210526  | 27.94736842105263  |\n",
       "| 5.263157894736842  | 30.31578947368421  |\n",
       "| 5.7368421052631575 | 32.68421052631579  |\n",
       "| 6.2105263157894735 | 35.05263157894737  |\n",
       "| 6.684210526315789  | 37.421052631578945 |\n",
       "| 7.157894736842105  | 39.78947368421053  |\n",
       "|  7.63157894736842  |  42.1578947368421  |\n",
       "| 8.105263157894736  | 44.526315789473685 |\n",
       "| 8.578947368421051  | 46.89473684210526  |\n",
       "| 9.052631578947368  | 49.26315789473684  |\n",
       "| 9.526315789473683  | 51.63157894736842  |\n",
       "|        10.0        |        54.0        |\n",
       "+--------------------+--------------------+"
      ]
     },
     "execution_count": 25,
     "metadata": {},
     "output_type": "execute_result"
    }
   ],
   "source": [
    "linea.table(1,10, 20)"
   ]
  },
  {
   "cell_type": "code",
   "execution_count": 27,
   "metadata": {},
   "outputs": [
    {
     "data": {
      "text/plain": [
       "4"
      ]
     },
     "execution_count": 27,
     "metadata": {},
     "output_type": "execute_result"
    }
   ],
   "source": [
    "linea.c0"
   ]
  },
  {
   "cell_type": "code",
   "execution_count": 37,
   "metadata": {},
   "outputs": [
    {
     "data": {
      "text/plain": [
       "array([ 0.        ,  1.02040816,  2.04081633,  3.06122449,  4.08163265,\n",
       "        5.10204082,  6.12244898,  7.14285714,  8.16326531,  9.18367347,\n",
       "       10.20408163, 11.2244898 , 12.24489796, 13.26530612, 14.28571429,\n",
       "       15.30612245, 16.32653061, 17.34693878, 18.36734694, 19.3877551 ,\n",
       "       20.40816327, 21.42857143, 22.44897959, 23.46938776, 24.48979592,\n",
       "       25.51020408, 26.53061224, 27.55102041, 28.57142857, 29.59183673,\n",
       "       30.6122449 , 31.63265306, 32.65306122, 33.67346939, 34.69387755,\n",
       "       35.71428571, 36.73469388, 37.75510204, 38.7755102 , 39.79591837,\n",
       "       40.81632653, 41.83673469, 42.85714286, 43.87755102, 44.89795918,\n",
       "       45.91836735, 46.93877551, 47.95918367, 48.97959184, 50.        ])"
      ]
     },
     "execution_count": 37,
     "metadata": {},
     "output_type": "execute_result"
    }
   ],
   "source": [
    "np.linspace(0,50)"
   ]
  },
  {
   "cell_type": "code",
   "execution_count": null,
   "metadata": {},
   "outputs": [],
   "source": []
  }
 ],
 "metadata": {
  "kernelspec": {
   "display_name": "Python 3",
   "language": "python",
   "name": "python3"
  },
  "language_info": {
   "codemirror_mode": {
    "name": "ipython",
    "version": 3
   },
   "file_extension": ".py",
   "mimetype": "text/x-python",
   "name": "python",
   "nbconvert_exporter": "python",
   "pygments_lexer": "ipython3",
   "version": "3.11.9"
  }
 },
 "nbformat": 4,
 "nbformat_minor": 2
}
