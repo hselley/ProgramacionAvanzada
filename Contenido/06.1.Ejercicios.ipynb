{
 "cells": [
  {
   "cell_type": "markdown",
   "metadata": {},
   "source": [
    "# Ejercicios"
   ]
  },
  {
   "cell_type": "markdown",
   "metadata": {},
   "source": [
    "## map, filter, lambda"
   ]
  },
  {
   "cell_type": "markdown",
   "metadata": {},
   "source": [
    "1. Escribe una función lambda que tome dos números y devuelva su producto."
   ]
  },
  {
   "cell_type": "code",
   "execution_count": 1,
   "metadata": {},
   "outputs": [
    {
     "name": "stdout",
     "output_type": "stream",
     "text": [
      "20\n"
     ]
    }
   ],
   "source": [
    "product = lambda x, y: x * y\n",
    "print(product(4, 5))"
   ]
  },
  {
   "cell_type": "markdown",
   "metadata": {},
   "source": [
    "2. Usa una función lambda dentro de map para sumar 10 a cada número en una lista."
   ]
  },
  {
   "cell_type": "code",
   "execution_count": 2,
   "metadata": {},
   "outputs": [
    {
     "name": "stdout",
     "output_type": "stream",
     "text": [
      "[11, 12, 13, 14, 15]\n"
     ]
    }
   ],
   "source": [
    "numbers = [1, 2, 3, 4, 5]\n",
    "result = list(map(lambda x: x + 10, numbers))\n",
    "print(result)"
   ]
  },
  {
   "cell_type": "markdown",
   "metadata": {},
   "source": [
    "3. Usa una función lambda para ordenar una lista de tuplas en función del segundo elemento de cada tupla."
   ]
  },
  {
   "cell_type": "code",
   "execution_count": 6,
   "metadata": {},
   "outputs": [
    {
     "name": "stdout",
     "output_type": "stream",
     "text": [
      "[(3, 1), (1, 2), (5, 4)]\n"
     ]
    }
   ],
   "source": [
    "tuples = [(1, 2), (3, 1), (5, 4)]\n",
    "sorted_tuples = sorted(tuples, key=lambda x: x[1])\n",
    "print(sorted_tuples)  # Salida esperada: [(3, 1), (1, 2), (5, 4)]"
   ]
  },
  {
   "cell_type": "markdown",
   "metadata": {},
   "source": [
    "4. Usa una función lambda dentro de sorted para ordenar una lista de cadenas en función de su longitud."
   ]
  },
  {
   "cell_type": "code",
   "execution_count": 13,
   "metadata": {},
   "outputs": [
    {
     "name": "stdout",
     "output_type": "stream",
     "text": [
      "['es', 'Hola', 'Mundo', 'Python', 'genial']\n"
     ]
    }
   ],
   "source": [
    "strings = [\"Hola\", \"Mundo\", \"Python\", \"es\", \"genial\"]\n",
    "sorted_strings = sorted(strings, key=lambda s: len(s))\n",
    "print(sorted_strings)"
   ]
  },
  {
   "cell_type": "markdown",
   "metadata": {},
   "source": [
    "5. Filtrar y transformar una lista de diccionarios. \n",
    "    Escribe un programa que tome una lista de diccionarios, donde cada diccionario representa a una persona con \n",
    "    llaves nombre y edad. Devuelve una nueva lista de nombres de personas que tengan al menos 18 años."
   ]
  },
  {
   "cell_type": "code",
   "execution_count": 14,
   "metadata": {},
   "outputs": [
    {
     "name": "stdout",
     "output_type": "stream",
     "text": [
      "['Ana', 'Marta']\n"
     ]
    }
   ],
   "source": [
    "def mayores_de_edad(personas):\n",
    "    return list(\n",
    "                map(\n",
    "                    lambda persona: persona['nombre'], \n",
    "                    filter(\n",
    "                        lambda persona: persona['edad'] >= 18, \n",
    "                        personas\n",
    "                    )\n",
    "                )\n",
    "            )\n",
    "\n",
    "# Ejemplo de uso\n",
    "personas = [\n",
    "    {\"nombre\": \"Ana\", \"edad\": 22},\n",
    "    {\"nombre\": \"Luis\", \"edad\": 17},\n",
    "    {\"nombre\": \"Marta\", \"edad\": 19},\n",
    "    {\"nombre\": \"Carlos\", \"edad\": 15}\n",
    "]\n",
    "nombres_mayores = mayores_de_edad(personas)\n",
    "print(nombres_mayores)  # Output: ['Ana', 'Marta']"
   ]
  },
  {
   "cell_type": "markdown",
   "metadata": {},
   "source": [
    "6. Aplicar múltiples funciones a una lista de números.\n",
    "    Escribe un programa que tome una lista de números y aplique dos funciones diferentes a cada número: una que \n",
    "    calcule el cuadrado y otra que calcule el cubo. Devuelve una lista de tuplas donde cada tupla contiene el \n",
    "    resultado de ambas funciones."
   ]
  },
  {
   "cell_type": "code",
   "execution_count": 5,
   "metadata": {},
   "outputs": [
    {
     "name": "stdout",
     "output_type": "stream",
     "text": [
      "[(1, 1), (4, 8), (9, 27), (16, 64)]\n"
     ]
    }
   ],
   "source": [
    "def cuadrado_y_cubo(lista):\n",
    "    return list(\n",
    "        map(\n",
    "            lambda x: (x ** 2, x ** 3), \n",
    "            lista\n",
    "        )\n",
    "    )\n",
    "\n",
    "# Ejemplo de uso\n",
    "numeros = [1, 2, 3, 4]\n",
    "resultados = cuadrado_y_cubo(numeros)\n",
    "print(resultados)  # Output: [(1, 1), (4, 8), (9, 27), (16, 64)]"
   ]
  },
  {
   "cell_type": "markdown",
   "metadata": {},
   "source": [
    "7. Ordenar una lista de tuplas basada en la suma de sus elementos.\n",
    "    Escribe un programa que tome una lista de tuplas, donde cada tupla contiene dos números. \n",
    "    Devuelve una nueva lista de tuplas ordenadas por la suma de sus elementos."
   ]
  },
  {
   "cell_type": "code",
   "execution_count": 15,
   "metadata": {},
   "outputs": [
    {
     "name": "stdout",
     "output_type": "stream",
     "text": [
      "[(1, 1), (1, 2), (2, 2), (3, 4)]\n"
     ]
    }
   ],
   "source": [
    "def ordenar_por_suma(lista):\n",
    "    return list(\n",
    "        map(\n",
    "            lambda x: x, \n",
    "            sorted(\n",
    "                lista, \n",
    "                key = lambda x: x[0] + x[1]\n",
    "            )\n",
    "        )\n",
    "    )\n",
    "\n",
    "# Ejemplo de uso\n",
    "tuplas = [(1, 2), (3, 4), (1, 1), (2, 2)]\n",
    "tuplas_ordenadas = ordenar_por_suma(tuplas)\n",
    "print(tuplas_ordenadas)  # Output: [(1, 1), (1, 2), (2, 2), (3, 4)]\n"
   ]
  },
  {
   "cell_type": "markdown",
   "metadata": {},
   "source": [
    "8. Convertir una lista de tuplas a un diccionario.\n",
    "    Escribe un programa que tome una lista de tuplas, donde cada tupla contiene una llave y un valor. \n",
    "    Devuelve un diccionario construido a partir de estas tuplas."
   ]
  },
  {
   "cell_type": "code",
   "execution_count": 16,
   "metadata": {},
   "outputs": [
    {
     "name": "stdout",
     "output_type": "stream",
     "text": [
      "{'llave1': 'valor1', 'llave2': 'valor2', 'llave3': 'valor3'}\n"
     ]
    }
   ],
   "source": [
    "def tuplas_a_diccionario(lista):\n",
    "    return dict(map(lambda x: (x[0], x[1]), lista))\n",
    "\n",
    "# Ejemplo de uso\n",
    "tuplas = [(\"llave1\", \"valor1\"), (\"llave2\", \"valor2\"), (\"llave3\", \"valor3\")]\n",
    "diccionario = tuplas_a_diccionario(tuplas)\n",
    "print(diccionario)  # Output: {'llave1': 'valor1', 'llave2': 'valor2', 'llave3': 'valor3'}"
   ]
  },
  {
   "cell_type": "markdown",
   "metadata": {},
   "source": [
    "9. Aplicar una función a una lista de listas.\n",
    "    Escribe un programa que tome una lista de listas de números y aplique una función que calcule el promedio de \n",
    "    cada lista interna. Devuelve una lista de promedios."
   ]
  },
  {
   "cell_type": "code",
   "execution_count": 17,
   "metadata": {},
   "outputs": [
    {
     "name": "stdout",
     "output_type": "stream",
     "text": [
      "[2.0, 5.5, 8.5, 0]\n"
     ]
    }
   ],
   "source": [
    "def promedios_de_listas(lista):\n",
    "    return list(\n",
    "        map(\n",
    "            lambda x: sum(x) / len(x) if len(x) > 0 else 0, \n",
    "            lista\n",
    "        )\n",
    "    )\n",
    "\n",
    "# Ejemplo de uso\n",
    "listas = [[1, 2, 3], [4, 5, 6, 7], [8, 9], []]\n",
    "promedios = promedios_de_listas(listas)\n",
    "print(promedios)  # Output: [2.0, 5.5, 8.5, 0]"
   ]
  },
  {
   "cell_type": "markdown",
   "metadata": {},
   "source": [
    "## Reduce"
   ]
  },
  {
   "cell_type": "markdown",
   "metadata": {},
   "source": [
    "10. Usa una función lambda dentro de reduce para calcular el producto de todos los números en una lista."
   ]
  },
  {
   "cell_type": "code",
   "execution_count": 18,
   "metadata": {},
   "outputs": [
    {
     "name": "stdout",
     "output_type": "stream",
     "text": [
      "120\n"
     ]
    }
   ],
   "source": [
    "from functools import reduce\n",
    "\n",
    "numbers = [1, 2, 3, 4, 5]\n",
    "product = reduce(lambda x, y: x * y, numbers)\n",
    "print(product)  # Salida esperada: 120"
   ]
  },
  {
   "cell_type": "markdown",
   "metadata": {},
   "source": [
    "11. Suma de una lista de números.\n",
    "    Escribe un programa que tome una lista de números y devuelva la suma de todos los números en la lista."
   ]
  },
  {
   "cell_type": "code",
   "execution_count": 19,
   "metadata": {},
   "outputs": [
    {
     "name": "stdout",
     "output_type": "stream",
     "text": [
      "15\n"
     ]
    }
   ],
   "source": [
    "from functools import reduce\n",
    "\n",
    "def suma(lista):\n",
    "    return reduce(lambda x, y: x + y, lista)\n",
    "\n",
    "# Ejemplo de uso\n",
    "numeros = [1, 2, 3, 4, 5]\n",
    "resultado = suma(numeros)\n",
    "print(resultado)  # Output: 15"
   ]
  },
  {
   "cell_type": "markdown",
   "metadata": {},
   "source": [
    "12. Encontrar el máximo en una lista de números.\n",
    "    Escribe un programa que tome una lista de números y devuelva el número más grande en la lista."
   ]
  },
  {
   "cell_type": "code",
   "execution_count": 20,
   "metadata": {},
   "outputs": [
    {
     "name": "stdout",
     "output_type": "stream",
     "text": [
      "9\n"
     ]
    }
   ],
   "source": [
    "from functools import reduce\n",
    "\n",
    "def maximo(lista):\n",
    "    return reduce(lambda x, y: x if x > y else y, lista)\n",
    "\n",
    "# Ejemplo de uso\n",
    "numeros = [1, 7, 3, 9, 5]\n",
    "resultado = maximo(numeros)\n",
    "print(resultado)  # Output: 9"
   ]
  },
  {
   "cell_type": "markdown",
   "metadata": {},
   "source": [
    "13. Contar la frecuencia de elementos en una lista.\n",
    "    Escribe un programa que tome una lista de elementos y devuelva un diccionario con la frecuencia de cada elemento en la lista."
   ]
  },
  {
   "cell_type": "code",
   "execution_count": 21,
   "metadata": {},
   "outputs": [
    {
     "name": "stdout",
     "output_type": "stream",
     "text": [
      "{'a': 3, 'b': 2, 'c': 1}\n"
     ]
    }
   ],
   "source": [
    "from functools import reduce\n",
    "\n",
    "def frecuencia(lista):\n",
    "    return reduce(lambda acc, x: {**acc, x: acc.get(x, 0) + 1}, lista, {})\n",
    "\n",
    "# Ejemplo de uso\n",
    "elementos = ['a', 'b', 'a', 'c', 'b', 'a']\n",
    "resultado = frecuencia(elementos)\n",
    "print(resultado)  # Output: {'a': 3, 'b': 2, 'c': 1}"
   ]
  },
  {
   "cell_type": "markdown",
   "metadata": {},
   "source": [
    "14. Calcular la diferencia entre el número más grande y el más pequeño en una lista.\n",
    "    Escribe un programa que tome una lista de números y devuelva la diferencia entre el número más grande y \n",
    "    el más pequeño en la lista."
   ]
  },
  {
   "cell_type": "code",
   "execution_count": 22,
   "metadata": {},
   "outputs": [
    {
     "name": "stdout",
     "output_type": "stream",
     "text": [
      "8\n"
     ]
    }
   ],
   "source": [
    "from functools import reduce\n",
    "\n",
    "def diferencia_max_min(lista):\n",
    "    maximo = reduce(lambda x, y: x if x > y else y, lista)\n",
    "    minimo = reduce(lambda x, y: x if x < y else y, lista)\n",
    "    return maximo - minimo\n",
    "\n",
    "# Ejemplo de uso\n",
    "numeros = [1, 7, 3, 9, 5]\n",
    "resultado = diferencia_max_min(numeros)\n",
    "print(resultado)  # Output: 8"
   ]
  },
  {
   "cell_type": "markdown",
   "metadata": {},
   "source": [
    "15. Encontrar el número de palabras en una lista de cadenas.\n",
    "    Escribe un programa que tome una lista de cadenas y devuelva el número total de palabras en todas las cadenas."
   ]
  },
  {
   "cell_type": "code",
   "execution_count": 23,
   "metadata": {},
   "outputs": [
    {
     "name": "stdout",
     "output_type": "stream",
     "text": [
      "8\n"
     ]
    }
   ],
   "source": [
    "from functools import reduce\n",
    "\n",
    "def contar_palabras(lista):\n",
    "    return reduce(lambda acc, x: acc + len(x.split()), lista, 0)\n",
    "\n",
    "# Ejemplo de uso\n",
    "cadenas = [\"hola mundo\", \"python es genial\", \"reduce es útil\"]\n",
    "resultado = contar_palabras(cadenas)\n",
    "print(resultado)  # Output: 8\n"
   ]
  }
 ],
 "metadata": {
  "kernelspec": {
   "display_name": "Python 3",
   "language": "python",
   "name": "python3"
  },
  "language_info": {
   "codemirror_mode": {
    "name": "ipython",
    "version": 3
   },
   "file_extension": ".py",
   "mimetype": "text/x-python",
   "name": "python",
   "nbconvert_exporter": "python",
   "pygments_lexer": "ipython3",
   "version": "3.12.4"
  }
 },
 "nbformat": 4,
 "nbformat_minor": 2
}
