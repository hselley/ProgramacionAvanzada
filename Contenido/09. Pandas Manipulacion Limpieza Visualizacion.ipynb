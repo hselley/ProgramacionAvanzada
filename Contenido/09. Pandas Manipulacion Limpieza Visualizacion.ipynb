{
 "cells": [
  {
   "cell_type": "markdown",
   "metadata": {},
   "source": [
    "# Pandas"
   ]
  },
  {
   "cell_type": "markdown",
   "metadata": {},
   "source": [
    "## ¿Qué es Pandas?\n",
    "\n",
    "Pandas es una biblioteca de Python y sirve para analizar datos. Tiene funciones para analizar, limpiar, explorar y manipular datos.\n",
    "\n",
    "Pandas es una herramienta de análisis y manipulación de datos de código abierto rápida, potente, flexible y fácil de usar, \n",
    "construida sobre el lenguaje de programación Python.\n",
    "\n",
    "El nombre \"Pandas\" hace referencia tanto a \"Panel Data\" como a \"Python Data Analysis\" y fue creado por Wes McKinney en 2008.\n",
    "\n",
    "El código fuente de Pandas se encuentra en un [repositorio de GitHub](https://github.com/pandas-dev/pandas).\n",
    "\n",
    "## Historia de su desarrollo\n",
    "\n",
    "En 2008, AQR Capital Management comenzó a desarrollar pandas. A fines de 2009, ya era de código abierto y, en la actualidad, \n",
    "cuenta con el apoyo activo de una comunidad de personas con ideas afines en todo el mundo que contribuyen con su valioso tiempo \n",
    "y energía para ayudar a que el código abierto de pandas sea posible. Gracias a todos nuestros colaboradores.\n",
    "\n",
    "Desde 2015, pandas es un [proyecto patrocinado por NumFOCUS](https://numfocus.org/sponsored-projects). Esto ayudará a garantizar \n",
    "el éxito del desarrollo de pandas como un proyecto de código abierto de clase mundial.\n",
    "\n",
    "\n",
    "## Documentación\n",
    "\n",
    "Pandas posee una muy buena documentación en su [sitio web oficial](https://pandas.pydata.org/docs/). En ella se puede encontrar\n",
    "una guía rápida de uso, además de la documentación completa del paquete.\n",
    "\n",
    "\n",
    "## ¿Porqué usar Pandas?\n",
    "\n",
    "Pandas nos permite analizar grandes cantidades de datos y sacar conclusiones basadas en teorías estadísticas.\n",
    "\n",
    "Pandas puede limpiar conjuntos de datos desordenados y hacerlos legibles y relevantes.\n",
    "\n",
    "Los datos relevantes son muy importantes en la ciencia de datos.\n",
    "\n",
    "Pandas puede dar respuestas sobre los datos. Por ejemplo:\n",
    "\n",
    "* ¿Existe una correlación entre dos o más columnas?\n",
    "* ¿Qué es el valor promedio?\n",
    "* ¿Valor máximo?\n",
    "* ¿Valor mínimo?\n",
    "\n",
    "Pandas también puede eliminar filas que no son relevantes o que contienen valores incorrectos, como valores vacíos o NULL. \n",
    "Esto se llama limpiar los datos.\n",
    "\n",
    "\n",
    "## Instalación\n",
    "\n",
    "Si ya tiene Python y PIP instalados en un sistema, entonces la instalación de Pandas es muy sencilla.\n",
    "Instálelo usando este comando:\n",
    "\n",
    "```bash\n",
    "$ pip install pandas\n",
    "```\n",
    "\n",
    "Si este comando falla, entonces use una distribución de Python que ya tenga Pandas instalado, como Anaconda, Spyder, etc.\n",
    "\n",
    "\n",
    "## Importar Pandas\n",
    "Una vez que Pandas esté instalado, impórtelo en sus aplicaciones agregando la palabra clave `import`:\n",
    "\n",
    "```python\n",
    "import pandas\n",
    "```\n",
    "\n",
    "Con esto Pandas está importado y listo para usarse.\n",
    "\n",
    "**Ejemplo**. "
   ]
  },
  {
   "cell_type": "code",
   "execution_count": 1,
   "metadata": {},
   "outputs": [
    {
     "name": "stdout",
     "output_type": "stream",
     "text": [
      "    cars  passings\n",
      "0    BMW         3\n",
      "1  Volvo         7\n",
      "2   Ford         2\n"
     ]
    }
   ],
   "source": [
    "import pandas\n",
    "\n",
    "mydataset = {\n",
    "  'cars': [\"BMW\", \"Volvo\", \"Ford\"],\n",
    "  'passings': [3, 7, 2]\n",
    "}\n",
    "\n",
    "myvar = pandas.DataFrame(mydataset)\n",
    "\n",
    "print(myvar)"
   ]
  },
  {
   "cell_type": "markdown",
   "metadata": {},
   "source": [
    "Al importar pandas se puede emplear el alias `pd`. Ahora, el paquete Pandas se puede invocar con `pd` en lugar del nombre \n",
    "completo `pandas`."
   ]
  },
  {
   "cell_type": "code",
   "execution_count": 2,
   "metadata": {},
   "outputs": [
    {
     "name": "stdout",
     "output_type": "stream",
     "text": [
      "    cars  passings\n",
      "0    BMW         3\n",
      "1  Volvo         7\n",
      "2   Ford         2\n"
     ]
    }
   ],
   "source": [
    "import pandas as pd\n",
    "\n",
    "mydataset = {\n",
    "  'cars': [\"BMW\", \"Volvo\", \"Ford\"],\n",
    "  'passings': [3, 7, 2]\n",
    "}\n",
    "\n",
    "myvar = pd.DataFrame(mydataset)\n",
    "\n",
    "print(myvar)"
   ]
  },
  {
   "cell_type": "markdown",
   "metadata": {},
   "source": [
    "## Verificando la versión\n",
    "\n",
    "La versión de pandas se almacena en una cadena almacenada en el atributo `__version__`.\n"
   ]
  },
  {
   "cell_type": "code",
   "execution_count": 3,
   "metadata": {},
   "outputs": [
    {
     "name": "stdout",
     "output_type": "stream",
     "text": [
      "2.2.2\n"
     ]
    }
   ],
   "source": [
    "import pandas as pd\n",
    "\n",
    "print(pd.__version__)"
   ]
  },
  {
   "cell_type": "markdown",
   "metadata": {},
   "source": [
    "## Series Pandas\n",
    "\n",
    "Una serie de Pandas es como una columna de una tabla. Es una matriz unidimensional que contiene datos de cualquier tipo.\n",
    "\n",
    "**Ejemplo**. Crear una serie de pandas a partir de una lista."
   ]
  },
  {
   "cell_type": "code",
   "execution_count": 4,
   "metadata": {},
   "outputs": [
    {
     "name": "stdout",
     "output_type": "stream",
     "text": [
      "0    1\n",
      "1    7\n",
      "2    2\n",
      "dtype: int64\n"
     ]
    }
   ],
   "source": [
    "import pandas as pd\n",
    "\n",
    "a = [1, 7, 2]\n",
    "\n",
    "myvar = pd.Series(a)\n",
    "\n",
    "print(myvar)"
   ]
  },
  {
   "cell_type": "markdown",
   "metadata": {},
   "source": [
    "Si no se especifica nada más, los valores se etiquetan con su número de índice. El primer valor tiene el índice 0, el segundo \n",
    "valor tiene el índice 1, etc.\n",
    "\n",
    "Esta etiqueta se puede utilizar para acceder a un valor especifico.\n",
    "\n",
    "**Ejemplo**. Devolver el primer valor de la serie."
   ]
  },
  {
   "cell_type": "code",
   "execution_count": 5,
   "metadata": {},
   "outputs": [
    {
     "name": "stdout",
     "output_type": "stream",
     "text": [
      "1\n"
     ]
    }
   ],
   "source": [
    "print(myvar[0])"
   ]
  },
  {
   "cell_type": "markdown",
   "metadata": {},
   "source": [
    "Con el argumento `index` se puede nombrar las etiquetas.\n",
    "\n",
    "**Ejemplo**. Crear etiquetas propias."
   ]
  },
  {
   "cell_type": "code",
   "execution_count": 6,
   "metadata": {},
   "outputs": [
    {
     "name": "stdout",
     "output_type": "stream",
     "text": [
      "x    1\n",
      "y    7\n",
      "z    2\n",
      "dtype: int64\n"
     ]
    }
   ],
   "source": [
    "import pandas as pd\n",
    "\n",
    "a = [1, 7, 2]\n",
    "\n",
    "myvar = pd.Series(a, index = [\"x\", \"y\", \"z\"])\n",
    "\n",
    "print(myvar)"
   ]
  },
  {
   "cell_type": "markdown",
   "metadata": {},
   "source": [
    "Una vez que haya creado etiquetas, podrá acceder a un elemento haciendo referencia a la etiqueta.\n",
    "\n",
    "**Ejemplo**. Devolver el valor de \"y\"."
   ]
  },
  {
   "cell_type": "code",
   "execution_count": 7,
   "metadata": {},
   "outputs": [
    {
     "name": "stdout",
     "output_type": "stream",
     "text": [
      "7\n"
     ]
    }
   ],
   "source": [
    "print(myvar[\"y\"])"
   ]
  },
  {
   "cell_type": "markdown",
   "metadata": {},
   "source": [
    "## Objetos llave/valor como series\n",
    "\n",
    "También puedes utilizar un objeto clave/valor, como un diccionario, al crear una Serie.\n",
    "\n",
    "**Ejemplo**. Crea una serie Pandas sencilla a partir de un diccionario."
   ]
  },
  {
   "cell_type": "code",
   "execution_count": 8,
   "metadata": {},
   "outputs": [
    {
     "name": "stdout",
     "output_type": "stream",
     "text": [
      "day1    420\n",
      "day2    380\n",
      "day3    390\n",
      "dtype: int64\n"
     ]
    }
   ],
   "source": [
    "import pandas as pd\n",
    "\n",
    "calories = {\"day1\": 420, \"day2\": 380, \"day3\": 390}\n",
    "\n",
    "myvar = pd.Series(calories)\n",
    "\n",
    "print(myvar)"
   ]
  },
  {
   "cell_type": "markdown",
   "metadata": {},
   "source": [
    "Observe que las claves del diccionario se convierten en las etiquetas.\n",
    "\n",
    "Para seleccionar solo algunos de los elementos del diccionario, utilice el argumento de índice y especifique solo los \n",
    "elementos que desea incluir en la serie.\n",
    "\n",
    "**Ejemplo**. Cree una serie utilizando solo datos de \"día1\" y \"día2\"."
   ]
  },
  {
   "cell_type": "code",
   "execution_count": 9,
   "metadata": {},
   "outputs": [
    {
     "name": "stdout",
     "output_type": "stream",
     "text": [
      "day1    420\n",
      "day2    380\n",
      "dtype: int64\n"
     ]
    }
   ],
   "source": [
    "import pandas as pd\n",
    "\n",
    "calories = {\"day1\": 420, \"day2\": 380, \"day3\": 390}\n",
    "\n",
    "myvar = pd.Series(calories, index = [\"day1\", \"day2\"])\n",
    "\n",
    "print(myvar)"
   ]
  },
  {
   "cell_type": "markdown",
   "metadata": {},
   "source": [
    "## DataFrames\n",
    "\n",
    "Los conjuntos de datos en Pandas suelen ser tablas multidimensionales, llamadas DataFrames.\n",
    "\n",
    "Una serie es como una columna, un DataFrame es la tabla completa.\n",
    "\n",
    "**Ejemplo**. Crear un DataFrame a partir de dos series."
   ]
  },
  {
   "cell_type": "code",
   "execution_count": 10,
   "metadata": {},
   "outputs": [
    {
     "name": "stdout",
     "output_type": "stream",
     "text": [
      "   calories  duration\n",
      "0       420        50\n",
      "1       380        40\n",
      "2       390        45\n"
     ]
    }
   ],
   "source": [
    "import pandas as pd\n",
    "\n",
    "# Diccionario data\n",
    "data = {\n",
    "  \"calories\": [420, 380, 390],\n",
    "  \"duration\": [50, 40, 45]\n",
    "}\n",
    "\n",
    "df = pd.DataFrame(data)\n",
    "\n",
    "print(df)"
   ]
  },
  {
   "cell_type": "markdown",
   "metadata": {},
   "source": [
    "## ¿Qué es un DataFrame?\n",
    "\n",
    "Un Pandas DataFrame es una estructura de datos de 2 dimensiones, como una de 2 dimensiones array, o una tabla con filas y columnas.\n",
    "\n",
    "Como puede ver en el resultado anterior, el DataFrame es como una tabla con filas y columnas.\n",
    "\n",
    "## Localizar una fila\n",
    "\n",
    "Los pandas usan el atributo `loc` a devolver una o más filas especificadas.\n",
    "\n",
    "**Ejemplo**. Devolver la fila 0.\n",
    "<!-- [https://www.w3schools.com/python/pandas/pandas_dataframes.asp](https://www.w3schools.com/python/pandas/pandas_dataframes.asp) -->"
   ]
  },
  {
   "cell_type": "code",
   "execution_count": 11,
   "metadata": {},
   "outputs": [
    {
     "name": "stdout",
     "output_type": "stream",
     "text": [
      "calories    420\n",
      "duration     50\n",
      "Name: 0, dtype: int64\n"
     ]
    }
   ],
   "source": [
    "print(df.loc[0])"
   ]
  },
  {
   "cell_type": "markdown",
   "metadata": {},
   "source": [
    "Este código devuelve una serie Pandas."
   ]
  },
  {
   "cell_type": "markdown",
   "metadata": {},
   "source": [
    "**Ejemplo**. Devolver filas 0 y 1."
   ]
  },
  {
   "cell_type": "code",
   "execution_count": 12,
   "metadata": {},
   "outputs": [
    {
     "name": "stdout",
     "output_type": "stream",
     "text": [
      "   calories  duration\n",
      "0       420        50\n",
      "1       380        40\n"
     ]
    }
   ],
   "source": [
    "print(df.loc[[0, 1]])"
   ]
  },
  {
   "cell_type": "markdown",
   "metadata": {},
   "source": [
    "En este caso, el código devuelve un DataFrame Pandas."
   ]
  },
  {
   "cell_type": "markdown",
   "metadata": {},
   "source": [
    "## Índices nombrados\n",
    "\n",
    "Con el argumento `index`, se puede nombrar sus propios índices. Nótese que los índices deben ser una lista."
   ]
  },
  {
   "cell_type": "code",
   "execution_count": 13,
   "metadata": {},
   "outputs": [
    {
     "name": "stdout",
     "output_type": "stream",
     "text": [
      "      calories  duration\n",
      "day1       420        50\n",
      "day2       380        40\n",
      "day3       390        45\n"
     ]
    }
   ],
   "source": [
    "import pandas as pd\n",
    "\n",
    "data = {\n",
    "  \"calories\": [420, 380, 390],\n",
    "  \"duration\": [50, 40, 45]\n",
    "}\n",
    "\n",
    "df = pd.DataFrame(data, index = [\"day1\", \"day2\", \"day3\"])\n",
    "\n",
    "print(df) "
   ]
  },
  {
   "cell_type": "markdown",
   "metadata": {},
   "source": [
    "## Localizar Índices Nombrados\n",
    "\n",
    "Utilice el índice nombrado en el atributo `loc` para devolver la fila especificada.\n",
    "\n",
    "**Ejemplo**. Retorno \"day2\"."
   ]
  },
  {
   "cell_type": "code",
   "execution_count": 14,
   "metadata": {},
   "outputs": [
    {
     "name": "stdout",
     "output_type": "stream",
     "text": [
      "calories    380\n",
      "duration     40\n",
      "Name: day2, dtype: int64\n"
     ]
    }
   ],
   "source": [
    "# Referencia al índice nombrado:\n",
    "print(df.loc[\"day2\"])"
   ]
  },
  {
   "cell_type": "markdown",
   "metadata": {},
   "source": [
    "## Carga de archivos en un DataFrame\n",
    "\n",
    "Una forma sencilla de almacenar grandes conjuntos de datos es usar archivos CSV (separados por comas archivos).\n",
    "\n",
    "Los archivos CSV contienen texto sin formato y es un formato bien conocido que puede ser leído por todos, incluyendo Pandas.\n",
    "\n",
    "Si sus conjuntos de datos se almacenan en un archivo, Pandas puede cargarlos en un DataFrame.\n",
    "\n",
    "**Ejemplo**. Cargue un archivo separado por comas (Archivo CSV) en un DataFrame."
   ]
  },
  {
   "cell_type": "code",
   "execution_count": 15,
   "metadata": {},
   "outputs": [
    {
     "name": "stdout",
     "output_type": "stream",
     "text": [
      "     Duration  Pulse  Maxpulse  Calories\n",
      "0          60    110       130     409.1\n",
      "1          60    117       145     479.0\n",
      "2          60    103       135     340.0\n",
      "3          45    109       175     282.4\n",
      "4          45    117       148     406.0\n",
      "..        ...    ...       ...       ...\n",
      "164        60    105       140     290.8\n",
      "165        60    110       145     300.0\n",
      "166        60    115       145     310.2\n",
      "167        75    120       150     320.4\n",
      "168        75    125       150     330.4\n",
      "\n",
      "[169 rows x 4 columns]\n"
     ]
    }
   ],
   "source": [
    "import pandas as pd\n",
    "\n",
    "df = pd.read_csv('data/data.csv')\n",
    "\n",
    "print(df) "
   ]
  },
  {
   "cell_type": "markdown",
   "metadata": {},
   "source": [
    "Si tiene un DataFrame grande con muchas filas, Pandas solo devolverá las primeras 5 filas y las últimas 5 filas.\n",
    "\n",
    "Se puede emplear el método `to_string()` para convertir el DataFrame en una sola representación String. \n",
    "La salida es una tabla amigable para la consola."
   ]
  },
  {
   "cell_type": "code",
   "execution_count": 1,
   "metadata": {},
   "outputs": [
    {
     "name": "stdout",
     "output_type": "stream",
     "text": [
      "     Duration  Pulse  Maxpulse  Calories\n",
      "0          60    110       130     409.1\n",
      "1          60    117       145     479.0\n",
      "2          60    103       135     340.0\n",
      "3          45    109       175     282.4\n",
      "4          45    117       148     406.0\n",
      "5          60    102       127     300.0\n",
      "6          60    110       136     374.0\n",
      "7          45    104       134     253.3\n",
      "8          30    109       133     195.1\n",
      "9          60     98       124     269.0\n",
      "10         60    103       147     329.3\n",
      "11         60    100       120     250.7\n",
      "12         60    106       128     345.3\n",
      "13         60    104       132     379.3\n",
      "14         60     98       123     275.0\n",
      "15         60     98       120     215.2\n",
      "16         60    100       120     300.0\n",
      "17         45     90       112       NaN\n",
      "18         60    103       123     323.0\n",
      "19         45     97       125     243.0\n",
      "20         60    108       131     364.2\n",
      "21         45    100       119     282.0\n",
      "22         60    130       101     300.0\n",
      "23         45    105       132     246.0\n",
      "24         60    102       126     334.5\n",
      "25         60    100       120     250.0\n",
      "26         60     92       118     241.0\n",
      "27         60    103       132       NaN\n",
      "28         60    100       132     280.0\n",
      "29         60    102       129     380.3\n",
      "30         60     92       115     243.0\n",
      "31         45     90       112     180.1\n",
      "32         60    101       124     299.0\n",
      "33         60     93       113     223.0\n",
      "34         60    107       136     361.0\n",
      "35         60    114       140     415.0\n",
      "36         60    102       127     300.0\n",
      "37         60    100       120     300.0\n",
      "38         60    100       120     300.0\n",
      "39         45    104       129     266.0\n",
      "40         45     90       112     180.1\n",
      "41         60     98       126     286.0\n",
      "42         60    100       122     329.4\n",
      "43         60    111       138     400.0\n",
      "44         60    111       131     397.0\n",
      "45         60     99       119     273.0\n",
      "46         60    109       153     387.6\n",
      "47         45    111       136     300.0\n",
      "48         45    108       129     298.0\n",
      "49         60    111       139     397.6\n",
      "50         60    107       136     380.2\n",
      "51         80    123       146     643.1\n",
      "52         60    106       130     263.0\n",
      "53         60    118       151     486.0\n",
      "54         30    136       175     238.0\n",
      "55         60    121       146     450.7\n",
      "56         60    118       121     413.0\n",
      "57         45    115       144     305.0\n",
      "58         20    153       172     226.4\n",
      "59         45    123       152     321.0\n",
      "60        210    108       160    1376.0\n",
      "61        160    110       137    1034.4\n",
      "62        160    109       135     853.0\n",
      "63         45    118       141     341.0\n",
      "64         20    110       130     131.4\n",
      "65        180     90       130     800.4\n",
      "66        150    105       135     873.4\n",
      "67        150    107       130     816.0\n",
      "68         20    106       136     110.4\n",
      "69        300    108       143    1500.2\n",
      "70        150     97       129    1115.0\n",
      "71         60    109       153     387.6\n",
      "72         90    100       127     700.0\n",
      "73        150     97       127     953.2\n",
      "74         45    114       146     304.0\n",
      "75         90     98       125     563.2\n",
      "76         45    105       134     251.0\n",
      "77         45    110       141     300.0\n",
      "78        120    100       130     500.4\n",
      "79        270    100       131    1729.0\n",
      "80         30    159       182     319.2\n",
      "81         45    149       169     344.0\n",
      "82         30    103       139     151.1\n",
      "83        120    100       130     500.0\n",
      "84         45    100       120     225.3\n",
      "85         30    151       170     300.0\n",
      "86         45    102       136     234.0\n",
      "87        120    100       157    1000.1\n",
      "88         45    129       103     242.0\n",
      "89         20     83       107      50.3\n",
      "90        180    101       127     600.1\n",
      "91         45    107       137       NaN\n",
      "92         30     90       107     105.3\n",
      "93         15     80       100      50.5\n",
      "94         20    150       171     127.4\n",
      "95         20    151       168     229.4\n",
      "96         30     95       128     128.2\n",
      "97         25    152       168     244.2\n",
      "98         30    109       131     188.2\n",
      "99         90     93       124     604.1\n",
      "100        20     95       112      77.7\n",
      "101        90     90       110     500.0\n",
      "102        90     90       100     500.0\n",
      "103        90     90       100     500.4\n",
      "104        30     92       108      92.7\n",
      "105        30     93       128     124.0\n",
      "106       180     90       120     800.3\n",
      "107        30     90       120      86.2\n",
      "108        90     90       120     500.3\n",
      "109       210    137       184    1860.4\n",
      "110        60    102       124     325.2\n",
      "111        45    107       124     275.0\n",
      "112        15    124       139     124.2\n",
      "113        45    100       120     225.3\n",
      "114        60    108       131     367.6\n",
      "115        60    108       151     351.7\n",
      "116        60    116       141     443.0\n",
      "117        60     97       122     277.4\n",
      "118        60    105       125       NaN\n",
      "119        60    103       124     332.7\n",
      "120        30    112       137     193.9\n",
      "121        45    100       120     100.7\n",
      "122        60    119       169     336.7\n",
      "123        60    107       127     344.9\n",
      "124        60    111       151     368.5\n",
      "125        60     98       122     271.0\n",
      "126        60     97       124     275.3\n",
      "127        60    109       127     382.0\n",
      "128        90     99       125     466.4\n",
      "129        60    114       151     384.0\n",
      "130        60    104       134     342.5\n",
      "131        60    107       138     357.5\n",
      "132        60    103       133     335.0\n",
      "133        60    106       132     327.5\n",
      "134        60    103       136     339.0\n",
      "135        20    136       156     189.0\n",
      "136        45    117       143     317.7\n",
      "137        45    115       137     318.0\n",
      "138        45    113       138     308.0\n",
      "139        20    141       162     222.4\n",
      "140        60    108       135     390.0\n",
      "141        60     97       127       NaN\n",
      "142        45    100       120     250.4\n",
      "143        45    122       149     335.4\n",
      "144        60    136       170     470.2\n",
      "145        45    106       126     270.8\n",
      "146        60    107       136     400.0\n",
      "147        60    112       146     361.9\n",
      "148        30    103       127     185.0\n",
      "149        60    110       150     409.4\n",
      "150        60    106       134     343.0\n",
      "151        60    109       129     353.2\n",
      "152        60    109       138     374.0\n",
      "153        30    150       167     275.8\n",
      "154        60    105       128     328.0\n",
      "155        60    111       151     368.5\n",
      "156        60     97       131     270.4\n",
      "157        60    100       120     270.4\n",
      "158        60    114       150     382.8\n",
      "159        30     80       120     240.9\n",
      "160        30     85       120     250.4\n",
      "161        45     90       130     260.4\n",
      "162        45     95       130     270.0\n",
      "163        45    100       140     280.9\n",
      "164        60    105       140     290.8\n",
      "165        60    110       145     300.0\n",
      "166        60    115       145     310.2\n",
      "167        75    120       150     320.4\n",
      "168        75    125       150     330.4\n"
     ]
    }
   ],
   "source": [
    "import pandas as pd\n",
    "\n",
    "df = pd.read_csv('data/data.csv')\n",
    "\n",
    "print(df.to_string()) "
   ]
  },
  {
   "cell_type": "code",
   "execution_count": 17,
   "metadata": {},
   "outputs": [
    {
     "name": "stdout",
     "output_type": "stream",
     "text": [
      "  Social media platform Number of monthly (million)\n",
      "0              Facebook                      3 000m\n",
      "1               YouTube                    2000.5 m\n",
      "2             Instagram                      2 000m\n",
      "3                TikTok                    1000.5 m\n",
      "4              Snapchat                       800 m\n",
      "5           X (Twitter)                       611 m\n",
      "6                Reddit                       500 m\n",
      "7             Pinterest                       498 m\n",
      "8              LinkedIn                       350 m\n",
      "9               Threads                       175 m\n"
     ]
    }
   ],
   "source": [
    "import pandas as pd\n",
    "\n",
    "df = pd.read_csv('data/social.csv')\n",
    "\n",
    "print(df.to_string()) "
   ]
  },
  {
   "cell_type": "markdown",
   "metadata": {},
   "source": [
    "## `max_filas`\n",
    "\n",
    "El número de filas devueltas se define en la configuración de la opción Pandas. Puede verificar las filas \n",
    "máximas de su sistema con la declaración `pd.options.display.max_rows`."
   ]
  },
  {
   "cell_type": "code",
   "execution_count": 2,
   "metadata": {},
   "outputs": [
    {
     "name": "stdout",
     "output_type": "stream",
     "text": [
      "60\n"
     ]
    }
   ],
   "source": [
    "import pandas as pd\n",
    "\n",
    "print(pd.options.display.max_rows) "
   ]
  },
  {
   "cell_type": "markdown",
   "metadata": {},
   "source": [
    "En mi sistema el número es 60, lo que significa que si el DataFrame contiene más de 60 filas, el `print(df)` la declaración \n",
    "devolverá solo los encabezados y las primeras y últimas 5 filas.\n",
    "\n",
    "Puede cambiar el número máximo de filas con la misma instrucción."
   ]
  },
  {
   "cell_type": "code",
   "execution_count": 19,
   "metadata": {},
   "outputs": [
    {
     "name": "stdout",
     "output_type": "stream",
     "text": [
      "     Duration  Pulse  Maxpulse  Calories\n",
      "0          60    110       130     409.1\n",
      "1          60    117       145     479.0\n",
      "2          60    103       135     340.0\n",
      "3          45    109       175     282.4\n",
      "4          45    117       148     406.0\n",
      "5          60    102       127     300.0\n",
      "6          60    110       136     374.0\n",
      "7          45    104       134     253.3\n",
      "8          30    109       133     195.1\n",
      "9          60     98       124     269.0\n",
      "10         60    103       147     329.3\n",
      "11         60    100       120     250.7\n",
      "12         60    106       128     345.3\n",
      "13         60    104       132     379.3\n",
      "14         60     98       123     275.0\n",
      "15         60     98       120     215.2\n",
      "16         60    100       120     300.0\n",
      "17         45     90       112       NaN\n",
      "18         60    103       123     323.0\n",
      "19         45     97       125     243.0\n",
      "20         60    108       131     364.2\n",
      "21         45    100       119     282.0\n",
      "22         60    130       101     300.0\n",
      "23         45    105       132     246.0\n",
      "24         60    102       126     334.5\n",
      "25         60    100       120     250.0\n",
      "26         60     92       118     241.0\n",
      "27         60    103       132       NaN\n",
      "28         60    100       132     280.0\n",
      "29         60    102       129     380.3\n",
      "30         60     92       115     243.0\n",
      "31         45     90       112     180.1\n",
      "32         60    101       124     299.0\n",
      "33         60     93       113     223.0\n",
      "34         60    107       136     361.0\n",
      "35         60    114       140     415.0\n",
      "36         60    102       127     300.0\n",
      "37         60    100       120     300.0\n",
      "38         60    100       120     300.0\n",
      "39         45    104       129     266.0\n",
      "40         45     90       112     180.1\n",
      "41         60     98       126     286.0\n",
      "42         60    100       122     329.4\n",
      "43         60    111       138     400.0\n",
      "44         60    111       131     397.0\n",
      "45         60     99       119     273.0\n",
      "46         60    109       153     387.6\n",
      "47         45    111       136     300.0\n",
      "48         45    108       129     298.0\n",
      "49         60    111       139     397.6\n",
      "50         60    107       136     380.2\n",
      "51         80    123       146     643.1\n",
      "52         60    106       130     263.0\n",
      "53         60    118       151     486.0\n",
      "54         30    136       175     238.0\n",
      "55         60    121       146     450.7\n",
      "56         60    118       121     413.0\n",
      "57         45    115       144     305.0\n",
      "58         20    153       172     226.4\n",
      "59         45    123       152     321.0\n",
      "60        210    108       160    1376.0\n",
      "61        160    110       137    1034.4\n",
      "62        160    109       135     853.0\n",
      "63         45    118       141     341.0\n",
      "64         20    110       130     131.4\n",
      "65        180     90       130     800.4\n",
      "66        150    105       135     873.4\n",
      "67        150    107       130     816.0\n",
      "68         20    106       136     110.4\n",
      "69        300    108       143    1500.2\n",
      "70        150     97       129    1115.0\n",
      "71         60    109       153     387.6\n",
      "72         90    100       127     700.0\n",
      "73        150     97       127     953.2\n",
      "74         45    114       146     304.0\n",
      "75         90     98       125     563.2\n",
      "76         45    105       134     251.0\n",
      "77         45    110       141     300.0\n",
      "78        120    100       130     500.4\n",
      "79        270    100       131    1729.0\n",
      "80         30    159       182     319.2\n",
      "81         45    149       169     344.0\n",
      "82         30    103       139     151.1\n",
      "83        120    100       130     500.0\n",
      "84         45    100       120     225.3\n",
      "85         30    151       170     300.0\n",
      "86         45    102       136     234.0\n",
      "87        120    100       157    1000.1\n",
      "88         45    129       103     242.0\n",
      "89         20     83       107      50.3\n",
      "90        180    101       127     600.1\n",
      "91         45    107       137       NaN\n",
      "92         30     90       107     105.3\n",
      "93         15     80       100      50.5\n",
      "94         20    150       171     127.4\n",
      "95         20    151       168     229.4\n",
      "96         30     95       128     128.2\n",
      "97         25    152       168     244.2\n",
      "98         30    109       131     188.2\n",
      "99         90     93       124     604.1\n",
      "100        20     95       112      77.7\n",
      "101        90     90       110     500.0\n",
      "102        90     90       100     500.0\n",
      "103        90     90       100     500.4\n",
      "104        30     92       108      92.7\n",
      "105        30     93       128     124.0\n",
      "106       180     90       120     800.3\n",
      "107        30     90       120      86.2\n",
      "108        90     90       120     500.3\n",
      "109       210    137       184    1860.4\n",
      "110        60    102       124     325.2\n",
      "111        45    107       124     275.0\n",
      "112        15    124       139     124.2\n",
      "113        45    100       120     225.3\n",
      "114        60    108       131     367.6\n",
      "115        60    108       151     351.7\n",
      "116        60    116       141     443.0\n",
      "117        60     97       122     277.4\n",
      "118        60    105       125       NaN\n",
      "119        60    103       124     332.7\n",
      "120        30    112       137     193.9\n",
      "121        45    100       120     100.7\n",
      "122        60    119       169     336.7\n",
      "123        60    107       127     344.9\n",
      "124        60    111       151     368.5\n",
      "125        60     98       122     271.0\n",
      "126        60     97       124     275.3\n",
      "127        60    109       127     382.0\n",
      "128        90     99       125     466.4\n",
      "129        60    114       151     384.0\n",
      "130        60    104       134     342.5\n",
      "131        60    107       138     357.5\n",
      "132        60    103       133     335.0\n",
      "133        60    106       132     327.5\n",
      "134        60    103       136     339.0\n",
      "135        20    136       156     189.0\n",
      "136        45    117       143     317.7\n",
      "137        45    115       137     318.0\n",
      "138        45    113       138     308.0\n",
      "139        20    141       162     222.4\n",
      "140        60    108       135     390.0\n",
      "141        60     97       127       NaN\n",
      "142        45    100       120     250.4\n",
      "143        45    122       149     335.4\n",
      "144        60    136       170     470.2\n",
      "145        45    106       126     270.8\n",
      "146        60    107       136     400.0\n",
      "147        60    112       146     361.9\n",
      "148        30    103       127     185.0\n",
      "149        60    110       150     409.4\n",
      "150        60    106       134     343.0\n",
      "151        60    109       129     353.2\n",
      "152        60    109       138     374.0\n",
      "153        30    150       167     275.8\n",
      "154        60    105       128     328.0\n",
      "155        60    111       151     368.5\n",
      "156        60     97       131     270.4\n",
      "157        60    100       120     270.4\n",
      "158        60    114       150     382.8\n",
      "159        30     80       120     240.9\n",
      "160        30     85       120     250.4\n",
      "161        45     90       130     260.4\n",
      "162        45     95       130     270.0\n",
      "163        45    100       140     280.9\n",
      "164        60    105       140     290.8\n",
      "165        60    110       145     300.0\n",
      "166        60    115       145     310.2\n",
      "167        75    120       150     320.4\n",
      "168        75    125       150     330.4\n"
     ]
    }
   ],
   "source": [
    "import pandas as pd\n",
    "\n",
    "pd.options.display.max_rows = 9999\n",
    "df = pd.read_csv('data/data.csv')\n",
    "\n",
    "print(df) "
   ]
  },
  {
   "cell_type": "markdown",
   "metadata": {},
   "source": [
    "## Leer archivos JSON\n",
    "\n",
    "Los grandes conjuntos de datos a menudo se almacenan o extraen como JSON.\n",
    "\n",
    "JSON es texto sin formato, pero tiene el formato de un objeto, y es bien conocido en el mundo de la programación, incluyendo Pandas.\n",
    "\n",
    "En nuestros ejemplos usaremos un archivo JSON llamado `'data.json'`.\n",
    "\n",
    "**Ejemplo**. Cargar el archivo `json` en un DataFrame."
   ]
  },
  {
   "cell_type": "code",
   "execution_count": 3,
   "metadata": {},
   "outputs": [
    {
     "name": "stdout",
     "output_type": "stream",
     "text": [
      "     Duration  Pulse  Maxpulse  Calories\n",
      "0          60    110       130     409.1\n",
      "1          60    117       145     479.0\n",
      "2          60    103       135     340.0\n",
      "3          45    109       175     282.4\n",
      "4          45    117       148     406.0\n",
      "5          60    102       127     300.5\n",
      "6          60    110       136     374.0\n",
      "7          45    104       134     253.3\n",
      "8          30    109       133     195.1\n",
      "9          60     98       124     269.0\n",
      "10         60    103       147     329.3\n",
      "11         60    100       120     250.7\n",
      "12         60    106       128     345.3\n",
      "13         60    104       132     379.3\n",
      "14         60     98       123     275.0\n",
      "15         60     98       120     215.2\n",
      "16         60    100       120     300.0\n",
      "17         45     90       112       NaN\n",
      "18         60    103       123     323.0\n",
      "19         45     97       125     243.0\n",
      "20         60    108       131     364.2\n",
      "21         45    100       119     282.0\n",
      "22         60    130       101     300.0\n",
      "23         45    105       132     246.0\n",
      "24         60    102       126     334.5\n",
      "25         60    100       120     250.0\n",
      "26         60     92       118     241.0\n",
      "27         60    103       132       NaN\n",
      "28         60    100       132     280.0\n",
      "29         60    102       129     380.3\n",
      "30         60     92       115     243.0\n",
      "31         45     90       112     180.1\n",
      "32         60    101       124     299.0\n",
      "33         60     93       113     223.0\n",
      "34         60    107       136     361.0\n",
      "35         60    114       140     415.0\n",
      "36         60    102       127     300.5\n",
      "37         60    100       120     300.1\n",
      "38         60    100       120     300.0\n",
      "39         45    104       129     266.0\n",
      "40         45     90       112     180.1\n",
      "41         60     98       126     286.0\n",
      "42         60    100       122     329.4\n",
      "43         60    111       138     400.0\n",
      "44         60    111       131     397.0\n",
      "45         60     99       119     273.0\n",
      "46         60    109       153     387.6\n",
      "47         45    111       136     300.0\n",
      "48         45    108       129     298.0\n",
      "49         60    111       139     397.6\n",
      "50         60    107       136     380.2\n",
      "51         80    123       146     643.1\n",
      "52         60    106       130     263.0\n",
      "53         60    118       151     486.0\n",
      "54         30    136       175     238.0\n",
      "55         60    121       146     450.7\n",
      "56         60    118       121     413.0\n",
      "57         45    115       144     305.0\n",
      "58         20    153       172     226.4\n",
      "59         45    123       152     321.0\n",
      "60        210    108       160    1376.0\n",
      "61        160    110       137    1034.4\n",
      "62        160    109       135     853.0\n",
      "63         45    118       141     341.0\n",
      "64         20    110       130     131.4\n",
      "65        180     90       130     800.4\n",
      "66        150    105       135     873.4\n",
      "67        150    107       130     816.0\n",
      "68         20    106       136     110.4\n",
      "69        300    108       143    1500.2\n",
      "70        150     97       129    1115.0\n",
      "71         60    109       153     387.6\n",
      "72         90    100       127     700.0\n",
      "73        150     97       127     953.2\n",
      "74         45    114       146     304.0\n",
      "75         90     98       125     563.2\n",
      "76         45    105       134     251.0\n",
      "77         45    110       141     300.0\n",
      "78        120    100       130     500.4\n",
      "79        270    100       131    1729.0\n",
      "80         30    159       182     319.2\n",
      "81         45    149       169     344.0\n",
      "82         30    103       139     151.1\n",
      "83        120    100       130     500.0\n",
      "84         45    100       120     225.3\n",
      "85         30    151       170     300.1\n",
      "86         45    102       136     234.0\n",
      "87        120    100       157    1000.1\n",
      "88         45    129       103     242.0\n",
      "89         20     83       107      50.3\n",
      "90        180    101       127     600.1\n",
      "91         45    107       137       NaN\n",
      "92         30     90       107     105.3\n",
      "93         15     80       100      50.5\n",
      "94         20    150       171     127.4\n",
      "95         20    151       168     229.4\n",
      "96         30     95       128     128.2\n",
      "97         25    152       168     244.2\n",
      "98         30    109       131     188.2\n",
      "99         90     93       124     604.1\n",
      "100        20     95       112      77.7\n",
      "101        90     90       110     500.0\n",
      "102        90     90       100     500.0\n",
      "103        90     90       100     500.4\n",
      "104        30     92       108      92.7\n",
      "105        30     93       128     124.0\n",
      "106       180     90       120     800.3\n",
      "107        30     90       120      86.2\n",
      "108        90     90       120     500.3\n",
      "109       210    137       184    1860.4\n",
      "110        60    102       124     325.2\n",
      "111        45    107       124     275.0\n",
      "112        15    124       139     124.2\n",
      "113        45    100       120     225.3\n",
      "114        60    108       131     367.6\n",
      "115        60    108       151     351.7\n",
      "116        60    116       141     443.0\n",
      "117        60     97       122     277.4\n",
      "118        60    105       125       NaN\n",
      "119        60    103       124     332.7\n",
      "120        30    112       137     193.9\n",
      "121        45    100       120     100.7\n",
      "122        60    119       169     336.7\n",
      "123        60    107       127     344.9\n",
      "124        60    111       151     368.5\n",
      "125        60     98       122     271.0\n",
      "126        60     97       124     275.3\n",
      "127        60    109       127     382.0\n",
      "128        90     99       125     466.4\n",
      "129        60    114       151     384.0\n",
      "130        60    104       134     342.5\n",
      "131        60    107       138     357.5\n",
      "132        60    103       133     335.0\n",
      "133        60    106       132     327.5\n",
      "134        60    103       136     339.0\n",
      "135        20    136       156     189.0\n",
      "136        45    117       143     317.7\n",
      "137        45    115       137     318.0\n",
      "138        45    113       138     308.0\n",
      "139        20    141       162     222.4\n",
      "140        60    108       135     390.0\n",
      "141        60     97       127       NaN\n",
      "142        45    100       120     250.4\n",
      "143        45    122       149     335.4\n",
      "144        60    136       170     470.2\n",
      "145        45    106       126     270.8\n",
      "146        60    107       136     400.0\n",
      "147        60    112       146     361.9\n",
      "148        30    103       127     185.0\n",
      "149        60    110       150     409.4\n",
      "150        60    106       134     343.0\n",
      "151        60    109       129     353.2\n",
      "152        60    109       138     374.0\n",
      "153        30    150       167     275.8\n",
      "154        60    105       128     328.0\n",
      "155        60    111       151     368.5\n",
      "156        60     97       131     270.4\n",
      "157        60    100       120     270.4\n",
      "158        60    114       150     382.8\n",
      "159        30     80       120     240.9\n",
      "160        30     85       120     250.4\n",
      "161        45     90       130     260.4\n",
      "162        45     95       130     270.0\n",
      "163        45    100       140     280.9\n",
      "164        60    105       140     290.8\n",
      "165        60    110       145     300.4\n",
      "166        60    115       145     310.2\n",
      "167        75    120       150     320.4\n",
      "168        75    125       150     330.4\n"
     ]
    }
   ],
   "source": [
    "import pandas as pd\n",
    "\n",
    "df = pd.read_json('data/data.json')\n",
    "\n",
    "print(df.to_string()) "
   ]
  },
  {
   "cell_type": "markdown",
   "metadata": {},
   "source": [
    "Los objetos JSON tienen el mismo formato que los diccionarios Python.\n",
    "\n",
    "Si su código JSON no está en un archivo, sino en un diccionario Python, puede cargarlo en un DataFrame directamente.\n",
    "\n",
    "**Ejemplo.** Cargar un diccionario Python en un DataFrame."
   ]
  },
  {
   "cell_type": "code",
   "execution_count": 4,
   "metadata": {},
   "outputs": [
    {
     "name": "stdout",
     "output_type": "stream",
     "text": [
      "   Duration  Pulse  Maxpulse  Calories\n",
      "0        60    110       130       409\n",
      "1        60    117       145       479\n",
      "2        60    103       135       340\n",
      "3        45    109       175       282\n",
      "4        45    117       148       406\n",
      "5        60    102       127       300\n"
     ]
    }
   ],
   "source": [
    "import pandas as pd\n",
    "\n",
    "data = {\n",
    "  \"Duration\":{\n",
    "    \"0\":60,\n",
    "    \"1\":60,\n",
    "    \"2\":60,\n",
    "    \"3\":45,\n",
    "    \"4\":45,\n",
    "    \"5\":60\n",
    "  },\n",
    "  \"Pulse\":{\n",
    "    \"0\":110,\n",
    "    \"1\":117,\n",
    "    \"2\":103,\n",
    "    \"3\":109,\n",
    "    \"4\":117,\n",
    "    \"5\":102\n",
    "  },\n",
    "  \"Maxpulse\":{\n",
    "    \"0\":130,\n",
    "    \"1\":145,\n",
    "    \"2\":135,\n",
    "    \"3\":175,\n",
    "    \"4\":148,\n",
    "    \"5\":127\n",
    "  },\n",
    "  \"Calories\":{\n",
    "    \"0\":409,\n",
    "    \"1\":479,\n",
    "    \"2\":340,\n",
    "    \"3\":282,\n",
    "    \"4\":406,\n",
    "    \"5\":300\n",
    "  }\n",
    "}\n",
    "\n",
    "df = pd.DataFrame(data)\n",
    "\n",
    "print(df)"
   ]
  },
  {
   "cell_type": "markdown",
   "metadata": {},
   "source": [
    "## Vistazo rápido a los Datos\n",
    "\n",
    "Uno de los métodos más utilizados para obtener una visión general rápida del DataFrame, es el `head()` método.\n",
    "\n",
    "El `head()` el método devuelve los encabezados y un número específico de filas, comenzando desde la parte superior. \n",
    "Por defecto se muestran las primeras 5 líneas a menos que se indique otra cosa.\n",
    "\n",
    "**Ejemplo**. Obtenga una visión general rápida imprimiendo las primeras 10 filas de DataFrame."
   ]
  },
  {
   "cell_type": "code",
   "execution_count": 7,
   "metadata": {},
   "outputs": [
    {
     "name": "stdout",
     "output_type": "stream",
     "text": [
      "   Duration  Pulse  Maxpulse  Calories\n",
      "0        60    110       130     409.1\n",
      "1        60    117       145     479.0\n",
      "2        60    103       135     340.0\n",
      "3        45    109       175     282.4\n",
      "4        45    117       148     406.0\n",
      "5        60    102       127     300.0\n",
      "6        60    110       136     374.0\n",
      "7        45    104       134     253.3\n",
      "8        30    109       133     195.1\n",
      "9        60     98       124     269.0\n"
     ]
    }
   ],
   "source": [
    "import pandas as pd\n",
    "\n",
    "df = pd.read_csv('data/data.csv')\n",
    "\n",
    "print(df.head(10))"
   ]
  },
  {
   "cell_type": "markdown",
   "metadata": {},
   "source": [
    "También hay un `tail()` método para ver el último filas del DataFrame.\n",
    "\n",
    "El `tail()` el método devuelve los encabezados y un número específico de filas, comenzando desde la parte inferior.\n",
    "\n",
    "**Ejemplo**. Imprima las últimas 5 filas de DataFrame."
   ]
  },
  {
   "cell_type": "code",
   "execution_count": 8,
   "metadata": {},
   "outputs": [
    {
     "name": "stdout",
     "output_type": "stream",
     "text": [
      "     Duration  Pulse  Maxpulse  Calories\n",
      "164        60    105       140     290.8\n",
      "165        60    110       145     300.0\n",
      "166        60    115       145     310.2\n",
      "167        75    120       150     320.4\n",
      "168        75    125       150     330.4\n"
     ]
    }
   ],
   "source": [
    "print(df.tail())"
   ]
  },
  {
   "cell_type": "markdown",
   "metadata": {},
   "source": [
    "## Información Sobre los Datos\n",
    "\n",
    "El objeto DataFrames tiene un método llamado `info()`, eso le da más información sobre el conjunto de datos.\n",
    "\n",
    "**Ejemplo**. Imprimir información sobre los datos."
   ]
  },
  {
   "cell_type": "code",
   "execution_count": 9,
   "metadata": {},
   "outputs": [
    {
     "name": "stdout",
     "output_type": "stream",
     "text": [
      "<class 'pandas.core.frame.DataFrame'>\n",
      "RangeIndex: 169 entries, 0 to 168\n",
      "Data columns (total 4 columns):\n",
      " #   Column    Non-Null Count  Dtype  \n",
      "---  ------    --------------  -----  \n",
      " 0   Duration  169 non-null    int64  \n",
      " 1   Pulse     169 non-null    int64  \n",
      " 2   Maxpulse  169 non-null    int64  \n",
      " 3   Calories  164 non-null    float64\n",
      "dtypes: float64(1), int64(3)\n",
      "memory usage: 5.4 KB\n",
      "None\n"
     ]
    }
   ],
   "source": [
    "print(df.info()) "
   ]
  },
  {
   "cell_type": "markdown",
   "metadata": {},
   "source": [
    "El resultado nos dice que hay 169 filas y 4 columnas, el nombre de cada columna, con el tipo de dato. \n",
    "\n",
    "El `info()` el método también nos dice cuántos valores no nulos hay presentes en cada columna y en nuestro \n",
    "conjunto de datos parece que hay 164 de 169 valores No Nulos en la columna \"Calorías\".\n",
    "\n",
    "Lo que significa que hay 5 filas sin ningún valor en absoluto, en la columna \"Calorías\", por alguna razón desconocida.\n",
    "\n",
    "Los valores vacíos, o valores nulos, pueden ser malos al analizar los datos y debe considerar eliminar filas con valores \n",
    "vacíos. Este es un paso hacia lo que se llama datos de limpieza."
   ]
  },
  {
   "cell_type": "markdown",
   "metadata": {},
   "source": [
    "# Limpieza de Datos"
   ]
  },
  {
   "cell_type": "markdown",
   "metadata": {},
   "source": [
    "La limpieza de datos significa arreglar datos incorrectos en su conjunto de datos.\n",
    "\n",
    "Los datos malos incorrectos pueden ser:\n",
    "\n",
    "* Celdas vacías\n",
    "* Datos en formato incorrecto\n",
    "* Datos incorrectos\n",
    "* Duplicados\n",
    "\n",
    "Las celdas vacías pueden potencialmente darle un resultado incorrecto cuando analiza datos.\n",
    "\n",
    "## Eliminar Filas\n",
    "\n",
    "Una forma de tratar con las celdas vacías es eliminar las filas que las contienen.\n",
    "\n",
    "Esto suele estar bien, siempre y cuando los conjuntos de datos sean muy grandes, ya que eliminar algunas \n",
    "filas no tendrá un gran impacto en el resultado.\n",
    "\n",
    "**Ejemplo**. Devuelve un nuevo Marco de datos sin celdas vacías."
   ]
  },
  {
   "cell_type": "code",
   "execution_count": 16,
   "metadata": {},
   "outputs": [
    {
     "name": "stdout",
     "output_type": "stream",
     "text": [
      "     Duration  Pulse  Maxpulse  Calories\n",
      "0          60    110       130     409.1\n",
      "1          60    117       145     479.0\n",
      "2          60    103       135     340.0\n",
      "3          45    109       175     282.4\n",
      "4          45    117       148     406.0\n",
      "5          60    102       127     300.0\n",
      "6          60    110       136     374.0\n",
      "7          45    104       134     253.3\n",
      "8          30    109       133     195.1\n",
      "9          60     98       124     269.0\n",
      "10         60    103       147     329.3\n",
      "11         60    100       120     250.7\n",
      "12         60    106       128     345.3\n",
      "13         60    104       132     379.3\n",
      "14         60     98       123     275.0\n",
      "15         60     98       120     215.2\n",
      "16         60    100       120     300.0\n",
      "18         60    103       123     323.0\n",
      "19         45     97       125     243.0\n",
      "20         60    108       131     364.2\n",
      "21         45    100       119     282.0\n",
      "22         60    130       101     300.0\n",
      "23         45    105       132     246.0\n",
      "24         60    102       126     334.5\n",
      "25         60    100       120     250.0\n",
      "26         60     92       118     241.0\n",
      "28         60    100       132     280.0\n",
      "29         60    102       129     380.3\n",
      "30         60     92       115     243.0\n",
      "31         45     90       112     180.1\n",
      "32         60    101       124     299.0\n",
      "33         60     93       113     223.0\n",
      "34         60    107       136     361.0\n",
      "35         60    114       140     415.0\n",
      "36         60    102       127     300.0\n",
      "37         60    100       120     300.0\n",
      "38         60    100       120     300.0\n",
      "39         45    104       129     266.0\n",
      "40         45     90       112     180.1\n",
      "41         60     98       126     286.0\n",
      "42         60    100       122     329.4\n",
      "43         60    111       138     400.0\n",
      "44         60    111       131     397.0\n",
      "45         60     99       119     273.0\n",
      "46         60    109       153     387.6\n",
      "47         45    111       136     300.0\n",
      "48         45    108       129     298.0\n",
      "49         60    111       139     397.6\n",
      "50         60    107       136     380.2\n",
      "51         80    123       146     643.1\n",
      "52         60    106       130     263.0\n",
      "53         60    118       151     486.0\n",
      "54         30    136       175     238.0\n",
      "55         60    121       146     450.7\n",
      "56         60    118       121     413.0\n",
      "57         45    115       144     305.0\n",
      "58         20    153       172     226.4\n",
      "59         45    123       152     321.0\n",
      "60        210    108       160    1376.0\n",
      "61        160    110       137    1034.4\n",
      "62        160    109       135     853.0\n",
      "63         45    118       141     341.0\n",
      "64         20    110       130     131.4\n",
      "65        180     90       130     800.4\n",
      "66        150    105       135     873.4\n",
      "67        150    107       130     816.0\n",
      "68         20    106       136     110.4\n",
      "69        300    108       143    1500.2\n",
      "70        150     97       129    1115.0\n",
      "71         60    109       153     387.6\n",
      "72         90    100       127     700.0\n",
      "73        150     97       127     953.2\n",
      "74         45    114       146     304.0\n",
      "75         90     98       125     563.2\n",
      "76         45    105       134     251.0\n",
      "77         45    110       141     300.0\n",
      "78        120    100       130     500.4\n",
      "79        270    100       131    1729.0\n",
      "80         30    159       182     319.2\n",
      "81         45    149       169     344.0\n",
      "82         30    103       139     151.1\n",
      "83        120    100       130     500.0\n",
      "84         45    100       120     225.3\n",
      "85         30    151       170     300.0\n",
      "86         45    102       136     234.0\n",
      "87        120    100       157    1000.1\n",
      "88         45    129       103     242.0\n",
      "89         20     83       107      50.3\n",
      "90        180    101       127     600.1\n",
      "92         30     90       107     105.3\n",
      "93         15     80       100      50.5\n",
      "94         20    150       171     127.4\n",
      "95         20    151       168     229.4\n",
      "96         30     95       128     128.2\n",
      "97         25    152       168     244.2\n",
      "98         30    109       131     188.2\n",
      "99         90     93       124     604.1\n",
      "100        20     95       112      77.7\n",
      "101        90     90       110     500.0\n",
      "102        90     90       100     500.0\n",
      "103        90     90       100     500.4\n",
      "104        30     92       108      92.7\n",
      "105        30     93       128     124.0\n",
      "106       180     90       120     800.3\n",
      "107        30     90       120      86.2\n",
      "108        90     90       120     500.3\n",
      "109       210    137       184    1860.4\n",
      "110        60    102       124     325.2\n",
      "111        45    107       124     275.0\n",
      "112        15    124       139     124.2\n",
      "113        45    100       120     225.3\n",
      "114        60    108       131     367.6\n",
      "115        60    108       151     351.7\n",
      "116        60    116       141     443.0\n",
      "117        60     97       122     277.4\n",
      "119        60    103       124     332.7\n",
      "120        30    112       137     193.9\n",
      "121        45    100       120     100.7\n",
      "122        60    119       169     336.7\n",
      "123        60    107       127     344.9\n",
      "124        60    111       151     368.5\n",
      "125        60     98       122     271.0\n",
      "126        60     97       124     275.3\n",
      "127        60    109       127     382.0\n",
      "128        90     99       125     466.4\n",
      "129        60    114       151     384.0\n",
      "130        60    104       134     342.5\n",
      "131        60    107       138     357.5\n",
      "132        60    103       133     335.0\n",
      "133        60    106       132     327.5\n",
      "134        60    103       136     339.0\n",
      "135        20    136       156     189.0\n",
      "136        45    117       143     317.7\n",
      "137        45    115       137     318.0\n",
      "138        45    113       138     308.0\n",
      "139        20    141       162     222.4\n",
      "140        60    108       135     390.0\n",
      "142        45    100       120     250.4\n",
      "143        45    122       149     335.4\n",
      "144        60    136       170     470.2\n",
      "145        45    106       126     270.8\n",
      "146        60    107       136     400.0\n",
      "147        60    112       146     361.9\n",
      "148        30    103       127     185.0\n",
      "149        60    110       150     409.4\n",
      "150        60    106       134     343.0\n",
      "151        60    109       129     353.2\n",
      "152        60    109       138     374.0\n",
      "153        30    150       167     275.8\n",
      "154        60    105       128     328.0\n",
      "155        60    111       151     368.5\n",
      "156        60     97       131     270.4\n",
      "157        60    100       120     270.4\n",
      "158        60    114       150     382.8\n",
      "159        30     80       120     240.9\n",
      "160        30     85       120     250.4\n",
      "161        45     90       130     260.4\n",
      "162        45     95       130     270.0\n",
      "163        45    100       140     280.9\n",
      "164        60    105       140     290.8\n",
      "165        60    110       145     300.0\n",
      "166        60    115       145     310.2\n",
      "167        75    120       150     320.4\n",
      "168        75    125       150     330.4\n"
     ]
    }
   ],
   "source": [
    "import pandas as pd\n",
    "\n",
    "df = pd.read_csv('data/data.csv')\n",
    "\n",
    "new_df = df.dropna()\n",
    "\n",
    "print(new_df.to_string())"
   ]
  },
  {
   "cell_type": "code",
   "execution_count": 17,
   "metadata": {},
   "outputs": [
    {
     "name": "stdout",
     "output_type": "stream",
     "text": [
      "<class 'pandas.core.frame.DataFrame'>\n",
      "Index: 164 entries, 0 to 168\n",
      "Data columns (total 4 columns):\n",
      " #   Column    Non-Null Count  Dtype  \n",
      "---  ------    --------------  -----  \n",
      " 0   Duration  164 non-null    int64  \n",
      " 1   Pulse     164 non-null    int64  \n",
      " 2   Maxpulse  164 non-null    int64  \n",
      " 3   Calories  164 non-null    float64\n",
      "dtypes: float64(1), int64(3)\n",
      "memory usage: 6.4 KB\n",
      "None\n"
     ]
    }
   ],
   "source": [
    "print(new_df.info())"
   ]
  },
  {
   "cell_type": "markdown",
   "metadata": {},
   "source": [
    "Por defecto, el método `dropna()` devuelve un nuevo DataFrame, y no cambia el original.\n",
    "\n",
    "Si desea cambiar el DataFrame original, utilice el argumento `inplace = True`.\n",
    "\n",
    "**Ejemplo**. Eliminar todas las filas con valores NULL."
   ]
  },
  {
   "cell_type": "code",
   "execution_count": 18,
   "metadata": {},
   "outputs": [
    {
     "name": "stdout",
     "output_type": "stream",
     "text": [
      "     Duration  Pulse  Maxpulse  Calories\n",
      "0          60    110       130     409.1\n",
      "1          60    117       145     479.0\n",
      "2          60    103       135     340.0\n",
      "3          45    109       175     282.4\n",
      "4          45    117       148     406.0\n",
      "5          60    102       127     300.0\n",
      "6          60    110       136     374.0\n",
      "7          45    104       134     253.3\n",
      "8          30    109       133     195.1\n",
      "9          60     98       124     269.0\n",
      "10         60    103       147     329.3\n",
      "11         60    100       120     250.7\n",
      "12         60    106       128     345.3\n",
      "13         60    104       132     379.3\n",
      "14         60     98       123     275.0\n",
      "15         60     98       120     215.2\n",
      "16         60    100       120     300.0\n",
      "18         60    103       123     323.0\n",
      "19         45     97       125     243.0\n",
      "20         60    108       131     364.2\n",
      "21         45    100       119     282.0\n",
      "22         60    130       101     300.0\n",
      "23         45    105       132     246.0\n",
      "24         60    102       126     334.5\n",
      "25         60    100       120     250.0\n",
      "26         60     92       118     241.0\n",
      "28         60    100       132     280.0\n",
      "29         60    102       129     380.3\n",
      "30         60     92       115     243.0\n",
      "31         45     90       112     180.1\n",
      "32         60    101       124     299.0\n",
      "33         60     93       113     223.0\n",
      "34         60    107       136     361.0\n",
      "35         60    114       140     415.0\n",
      "36         60    102       127     300.0\n",
      "37         60    100       120     300.0\n",
      "38         60    100       120     300.0\n",
      "39         45    104       129     266.0\n",
      "40         45     90       112     180.1\n",
      "41         60     98       126     286.0\n",
      "42         60    100       122     329.4\n",
      "43         60    111       138     400.0\n",
      "44         60    111       131     397.0\n",
      "45         60     99       119     273.0\n",
      "46         60    109       153     387.6\n",
      "47         45    111       136     300.0\n",
      "48         45    108       129     298.0\n",
      "49         60    111       139     397.6\n",
      "50         60    107       136     380.2\n",
      "51         80    123       146     643.1\n",
      "52         60    106       130     263.0\n",
      "53         60    118       151     486.0\n",
      "54         30    136       175     238.0\n",
      "55         60    121       146     450.7\n",
      "56         60    118       121     413.0\n",
      "57         45    115       144     305.0\n",
      "58         20    153       172     226.4\n",
      "59         45    123       152     321.0\n",
      "60        210    108       160    1376.0\n",
      "61        160    110       137    1034.4\n",
      "62        160    109       135     853.0\n",
      "63         45    118       141     341.0\n",
      "64         20    110       130     131.4\n",
      "65        180     90       130     800.4\n",
      "66        150    105       135     873.4\n",
      "67        150    107       130     816.0\n",
      "68         20    106       136     110.4\n",
      "69        300    108       143    1500.2\n",
      "70        150     97       129    1115.0\n",
      "71         60    109       153     387.6\n",
      "72         90    100       127     700.0\n",
      "73        150     97       127     953.2\n",
      "74         45    114       146     304.0\n",
      "75         90     98       125     563.2\n",
      "76         45    105       134     251.0\n",
      "77         45    110       141     300.0\n",
      "78        120    100       130     500.4\n",
      "79        270    100       131    1729.0\n",
      "80         30    159       182     319.2\n",
      "81         45    149       169     344.0\n",
      "82         30    103       139     151.1\n",
      "83        120    100       130     500.0\n",
      "84         45    100       120     225.3\n",
      "85         30    151       170     300.0\n",
      "86         45    102       136     234.0\n",
      "87        120    100       157    1000.1\n",
      "88         45    129       103     242.0\n",
      "89         20     83       107      50.3\n",
      "90        180    101       127     600.1\n",
      "92         30     90       107     105.3\n",
      "93         15     80       100      50.5\n",
      "94         20    150       171     127.4\n",
      "95         20    151       168     229.4\n",
      "96         30     95       128     128.2\n",
      "97         25    152       168     244.2\n",
      "98         30    109       131     188.2\n",
      "99         90     93       124     604.1\n",
      "100        20     95       112      77.7\n",
      "101        90     90       110     500.0\n",
      "102        90     90       100     500.0\n",
      "103        90     90       100     500.4\n",
      "104        30     92       108      92.7\n",
      "105        30     93       128     124.0\n",
      "106       180     90       120     800.3\n",
      "107        30     90       120      86.2\n",
      "108        90     90       120     500.3\n",
      "109       210    137       184    1860.4\n",
      "110        60    102       124     325.2\n",
      "111        45    107       124     275.0\n",
      "112        15    124       139     124.2\n",
      "113        45    100       120     225.3\n",
      "114        60    108       131     367.6\n",
      "115        60    108       151     351.7\n",
      "116        60    116       141     443.0\n",
      "117        60     97       122     277.4\n",
      "119        60    103       124     332.7\n",
      "120        30    112       137     193.9\n",
      "121        45    100       120     100.7\n",
      "122        60    119       169     336.7\n",
      "123        60    107       127     344.9\n",
      "124        60    111       151     368.5\n",
      "125        60     98       122     271.0\n",
      "126        60     97       124     275.3\n",
      "127        60    109       127     382.0\n",
      "128        90     99       125     466.4\n",
      "129        60    114       151     384.0\n",
      "130        60    104       134     342.5\n",
      "131        60    107       138     357.5\n",
      "132        60    103       133     335.0\n",
      "133        60    106       132     327.5\n",
      "134        60    103       136     339.0\n",
      "135        20    136       156     189.0\n",
      "136        45    117       143     317.7\n",
      "137        45    115       137     318.0\n",
      "138        45    113       138     308.0\n",
      "139        20    141       162     222.4\n",
      "140        60    108       135     390.0\n",
      "142        45    100       120     250.4\n",
      "143        45    122       149     335.4\n",
      "144        60    136       170     470.2\n",
      "145        45    106       126     270.8\n",
      "146        60    107       136     400.0\n",
      "147        60    112       146     361.9\n",
      "148        30    103       127     185.0\n",
      "149        60    110       150     409.4\n",
      "150        60    106       134     343.0\n",
      "151        60    109       129     353.2\n",
      "152        60    109       138     374.0\n",
      "153        30    150       167     275.8\n",
      "154        60    105       128     328.0\n",
      "155        60    111       151     368.5\n",
      "156        60     97       131     270.4\n",
      "157        60    100       120     270.4\n",
      "158        60    114       150     382.8\n",
      "159        30     80       120     240.9\n",
      "160        30     85       120     250.4\n",
      "161        45     90       130     260.4\n",
      "162        45     95       130     270.0\n",
      "163        45    100       140     280.9\n",
      "164        60    105       140     290.8\n",
      "165        60    110       145     300.0\n",
      "166        60    115       145     310.2\n",
      "167        75    120       150     320.4\n",
      "168        75    125       150     330.4\n"
     ]
    }
   ],
   "source": [
    "import pandas as pd\n",
    "\n",
    "df = pd.read_csv('data/data.csv')\n",
    "\n",
    "df.dropna(inplace = True)\n",
    "\n",
    "print(df.to_string())"
   ]
  },
  {
   "cell_type": "markdown",
   "metadata": {},
   "source": [
    "Ahora, el `dropna(inplace = True)` NO devolverá un DataFrame nuevo, pero eliminará todas las filas que contengan \n",
    "valores `NULL` del DataFrame original."
   ]
  },
  {
   "cell_type": "markdown",
   "metadata": {},
   "source": [
    "## Reemplazar Valores Vacíos\n",
    "\n",
    "Otra forma de tratar con celdas vacías es insertar un nuevo valor en su lugar.\n",
    "\n",
    "De esta manera, no tiene que eliminar filas enteras solo por algunas celdas vacías.\n",
    "\n",
    "El `fillna()` el método nos permite reemplazar vacío celdas con un valor.\n",
    "\n",
    "**Ejemplo**. Reemplace los valores NULL con el número 130."
   ]
  },
  {
   "cell_type": "code",
   "execution_count": 20,
   "metadata": {},
   "outputs": [
    {
     "name": "stdout",
     "output_type": "stream",
     "text": [
      "<class 'pandas.core.frame.DataFrame'>\n",
      "RangeIndex: 169 entries, 0 to 168\n",
      "Data columns (total 4 columns):\n",
      " #   Column    Non-Null Count  Dtype  \n",
      "---  ------    --------------  -----  \n",
      " 0   Duration  169 non-null    int64  \n",
      " 1   Pulse     169 non-null    int64  \n",
      " 2   Maxpulse  169 non-null    int64  \n",
      " 3   Calories  169 non-null    float64\n",
      "dtypes: float64(1), int64(3)\n",
      "memory usage: 5.4 KB\n",
      "None\n"
     ]
    }
   ],
   "source": [
    "import pandas as pd\n",
    "\n",
    "df = pd.read_csv('data/data.csv')\n",
    "\n",
    "df.fillna(130, inplace = True)\n",
    "\n",
    "print(df.info())"
   ]
  },
  {
   "cell_type": "markdown",
   "metadata": {},
   "source": [
    "## Reemplazar Solo Para Columnas Especificadas\n",
    "\n",
    "El ejemplo anterior reemplaza todas las celdas vacías en todo el conjunto de datos.\n",
    "\n",
    "Para reemplazar solo valores vacíos para una columna, se puede especificar el nombre de la columna para \n",
    "el DataFrame.\n",
    "\n",
    "**Ejemplo**. Reemplace los valores NULL en las columnas \"Calorías\" con el número 130."
   ]
  },
  {
   "cell_type": "code",
   "execution_count": 21,
   "metadata": {},
   "outputs": [
    {
     "name": "stderr",
     "output_type": "stream",
     "text": [
      "/tmp/ipykernel_502828/10114066.py:5: FutureWarning: A value is trying to be set on a copy of a DataFrame or Series through chained assignment using an inplace method.\n",
      "The behavior will change in pandas 3.0. This inplace method will never work because the intermediate object on which we are setting values always behaves as a copy.\n",
      "\n",
      "For example, when doing 'df[col].method(value, inplace=True)', try using 'df.method({col: value}, inplace=True)' or df[col] = df[col].method(value) instead, to perform the operation inplace on the original object.\n",
      "\n",
      "\n",
      "  df[\"Calories\"].fillna(130, inplace = True)\n"
     ]
    }
   ],
   "source": [
    "import pandas as pd\n",
    "\n",
    "df = pd.read_csv('data/data.csv')\n",
    "\n",
    "df[\"Calories\"].fillna(130, inplace = True)"
   ]
  },
  {
   "cell_type": "markdown",
   "metadata": {},
   "source": [
    "## Reemplazar usando Media, Mediana o Moda\n",
    "\n",
    "Una forma común de reemplazar las celdas vacías es calcular la media, la mediana o la moda de la columna.\n",
    "\n",
    "Pandas usa los métodos `mean()`, `median()` y `mode()` métodos para calcular los valores respectivos para \n",
    "una columna especificada.\n",
    "\n",
    "**Ejemplo**. Calcule la media y reemplazar cualquier valor vacío con ella."
   ]
  },
  {
   "cell_type": "code",
   "execution_count": 22,
   "metadata": {},
   "outputs": [
    {
     "name": "stderr",
     "output_type": "stream",
     "text": [
      "/tmp/ipykernel_502828/3993554943.py:7: FutureWarning: A value is trying to be set on a copy of a DataFrame or Series through chained assignment using an inplace method.\n",
      "The behavior will change in pandas 3.0. This inplace method will never work because the intermediate object on which we are setting values always behaves as a copy.\n",
      "\n",
      "For example, when doing 'df[col].method(value, inplace=True)', try using 'df.method({col: value}, inplace=True)' or df[col] = df[col].method(value) instead, to perform the operation inplace on the original object.\n",
      "\n",
      "\n",
      "  df[\"Calories\"].fillna(x, inplace = True)\n"
     ]
    }
   ],
   "source": [
    "import pandas as pd\n",
    "\n",
    "df = pd.read_csv('data/data.csv')\n",
    "\n",
    "x = df[\"Calories\"].mean()\n",
    "\n",
    "df[\"Calories\"].fillna(x, inplace = True)"
   ]
  },
  {
   "cell_type": "markdown",
   "metadata": {},
   "source": [
    "**Ejemplo**. Calcular la mediana y reemplazar cualquier valor vacío con ella."
   ]
  },
  {
   "cell_type": "code",
   "execution_count": 23,
   "metadata": {},
   "outputs": [
    {
     "name": "stderr",
     "output_type": "stream",
     "text": [
      "/tmp/ipykernel_502828/1269507780.py:7: FutureWarning: A value is trying to be set on a copy of a DataFrame or Series through chained assignment using an inplace method.\n",
      "The behavior will change in pandas 3.0. This inplace method will never work because the intermediate object on which we are setting values always behaves as a copy.\n",
      "\n",
      "For example, when doing 'df[col].method(value, inplace=True)', try using 'df.method({col: value}, inplace=True)' or df[col] = df[col].method(value) instead, to perform the operation inplace on the original object.\n",
      "\n",
      "\n",
      "  df[\"Calories\"].fillna(x, inplace = True)\n"
     ]
    }
   ],
   "source": [
    "import pandas as pd\n",
    "\n",
    "df = pd.read_csv('data/data.csv')\n",
    "\n",
    "x = df[\"Calories\"].median()\n",
    "\n",
    "df[\"Calories\"].fillna(x, inplace = True)"
   ]
  },
  {
   "cell_type": "markdown",
   "metadata": {},
   "source": [
    "**Ejemplo**. Calcule la moda y reemplazar cualquier valor vacío con ella."
   ]
  },
  {
   "cell_type": "code",
   "execution_count": 25,
   "metadata": {},
   "outputs": [
    {
     "name": "stderr",
     "output_type": "stream",
     "text": [
      "/tmp/ipykernel_502828/2697854522.py:7: FutureWarning: A value is trying to be set on a copy of a DataFrame or Series through chained assignment using an inplace method.\n",
      "The behavior will change in pandas 3.0. This inplace method will never work because the intermediate object on which we are setting values always behaves as a copy.\n",
      "\n",
      "For example, when doing 'df[col].method(value, inplace=True)', try using 'df.method({col: value}, inplace=True)' or df[col] = df[col].method(value) instead, to perform the operation inplace on the original object.\n",
      "\n",
      "\n",
      "  df[\"Calories\"].fillna(x, inplace = True)\n"
     ]
    }
   ],
   "source": [
    "import pandas as pd\n",
    "\n",
    "df = pd.read_csv('data/data.csv')\n",
    "\n",
    "x = df[\"Calories\"].mode()[0]\n",
    "\n",
    "df[\"Calories\"].fillna(x, inplace = True)"
   ]
  },
  {
   "cell_type": "markdown",
   "metadata": {},
   "source": [
    "## Datos de Formato Incorrecto\n",
    "\n",
    "Las celdas de datos con formato incorrecto pueden dificultar, o incluso imposibilitar, el análisis de datos.\n",
    "\n",
    "Para solucionarlo, tiene dos opciones: eliminar las filas o convertir todas las celdas en el columnas en el mismo formato.\n",
    "\n",
    "## Convertir en un Formato Correcto\n",
    "En nuestro conjunto de datos, tenemos dos celdas con el formato incorrecto. Echa un vistazo a la fila 22 y 26, la columna \n",
    "'Fecha' debe ser una cadena que represente una fecha.\n",
    "\n",
    "```plain\n",
    "Duration Date Pulse Maxpulse Calories\n",
    "  0 60 '2020/12/01' 110 130 409,1\n",
    "  1 60 '2020/12/02' 117 145 479,0\n",
    "  2 60 '2020/12/03' 103 135 340,0\n",
    "  3 45 '2020/12/04' 109 175 282,4\n",
    "  4 45 '2020/12/05' 117 148 406,0\n",
    "  5 60 '2020/12/06' 102 127 300,0\n",
    "  6 60 '2020/12/07' 110 136 374,0\n",
    "  7 450 '2020/12/08' 104 134 253,3\n",
    "  8 30 '2020/12/09' 109 133 195,1\n",
    "  9 60 '2020/12/10' 98 124 269,0\n",
    "  10 60 '2020/12/11' 103 147 329,3\n",
    "  11 60 '2020/12/12' 100 120 250,7\n",
    "  12 60 '2020/12/12' 100 120 250,7\n",
    "  13 60 '2020/12/13' 106 128 345,3\n",
    "  14 60 '2020/12/14' 104 132 379,3\n",
    "  15 60 '2020/12/15' 98 123 275,0\n",
    "  16 60 '2020/12/16' 98 120 215,2\n",
    "  17 60 '2020/12/17' 100 120 300,0\n",
    "  18 45 '2020/12/18' 90 112 NaN\n",
    "  19 60 '2020/12/19' 103 123 323,0\n",
    "  20 45 '2020/12/20' 97 125 243,0\n",
    "  21 60 '2020/12/21' 108 131 364,2\n",
    "  22 45 NaN 100 119 282,0\n",
    "  23 60 '2020/12/23' 130 101 300,0\n",
    "  24 45 '2020/12/24' 105 132 246,0\n",
    "  25 60 '2020/12/25' 102 126 334,5\n",
    "  26 60 20201226 100 120 250,0\n",
    "  27 60 '2020/12/27' 92 118 241,0\n",
    "  28 60 '2020/12/28' 103 132 NaN\n",
    "  29 60 '2020/12/29' 100 132 280,0\n",
    "  30 60 '2020/12/30' 102 129 380,3\n",
    "  31 60 '2020/12/31' 92 115 243,0\n",
    "```\n",
    "\n",
    "Intentemos convertir todas las celdas de la columna 'Fecha' en fechas. Pandas tiene un método `to_datetime()` para esto.\n",
    "\n",
    "**Ejemplo**. Convertir fecha.\n",
    "```python\n",
    "import pandas as pd\n",
    "\n",
    "df = pd.read_csv('data.csv')\n",
    "\n",
    "df['Date'] = pd.to_datetime(df['Date'])\n",
    "\n",
    "print(df.to_string())\n",
    "```"
   ]
  },
  {
   "cell_type": "markdown",
   "metadata": {},
   "source": [
    "\n",
    "```python\n",
    "\n",
    "```\n",
    "Resultado:\n",
    "\n",
    "```plain\n",
    "Duración Fecha Pulso Maxpulse Calorías\n",
    "  0 60 '2020/12/01' 110 130 409,1\n",
    "  1 60 '2020/12/02' 117 145 479,0\n",
    "  2 60 '2020/12/03' 103 135 340,0\n",
    "  3 45 '2020/12/04' 109 175 282,4\n",
    "  4 45 '2020/12/05' 117 148 406,0\n",
    "  5 60 '2020/12/06' 102 127 300,0\n",
    "  6 60 '2020/12/07' 110 136 374,0\n",
    "  7 450 '2020/12/08' 104 134 253,3\n",
    "  8 30 '2020/12/09' 109 133 195,1\n",
    "  9 60 '2020/12/10' 98 124 269,0\n",
    "  10 60 '2020/12/11' 103 147 329,3\n",
    "  11 60 '2020/12/12' 100 120 250,7\n",
    "  12 60 '2020/12/12' 100 120 250,7\n",
    "  13 60 '2020/12/13' 106 128 345,3\n",
    "  14 60 '2020/12/14' 104 132 379,3\n",
    "  15 60 '2020/12/15' 98 123 275,0\n",
    "  16 60 '2020/12/16' 98 120 215,2\n",
    "  17 60 '2020/12/17' 100 120 300,0\n",
    "  18 45 '2020/12/18' 90 112 NaN\n",
    "  19 60 '2020/12/19' 103 123 323,0\n",
    "  20 45 '2020/12/20' 97 125 243,0\n",
    "  21 60 '2020/12/21' 108 131 364,2\n",
    "  22 45 NaT 100 119 282,0\n",
    "  23 60 '2020/12/23' 130 101 300,0\n",
    "  24 45 '2020/12/24' 105 132 246,0\n",
    "  25 60 '2020/12/25' 102 126 334,5\n",
    "  26 60 '2020/12/26' 100 120 250,0\n",
    "  27 60 '2020/12/27' 92 118 241,0\n",
    "  28 60 '2020/12/28' 103 132 NaN\n",
    "  29 60 '2020/12/29' 100 132 280,0\n",
    "  30 60 '2020/12/30' 102 129 380,3\n",
    "  31 60 '2020/12/31' 92 115 243,0\n",
    "```"
   ]
  },
  {
   "cell_type": "code",
   "execution_count": 33,
   "metadata": {},
   "outputs": [
    {
     "name": "stdout",
     "output_type": "stream",
     "text": [
      "    Unnamed: 0  Duration          Date  Pulse  Maxpulse Calories\n",
      "0            0        60  '2020/12/01'    110       130    409,1\n",
      "1            1        60  '2020/12/02'    117       145    479,0\n",
      "2            2        60  '2020/12/03'    103       135    340,0\n",
      "3            3        45  '2020/12/04'    109       175    282,4\n",
      "4            4        45  '2020/12/05'    117       148    406,0\n",
      "5            5        60  '2020/12/06'    102       127    300,0\n",
      "6            6        60  '2020/12/07'    110       136    374,0\n",
      "7            7       450  '2020/12/08'    104       134    253,3\n",
      "8            8        30  '2020/12/09'    109       133    195,1\n",
      "9            9        60  '2020/12/10'     98       124    269,0\n",
      "10          10        60  '2020/12/11'    103       147    329,3\n",
      "11          11        60  '2020/12/12'    100       120    250,7\n",
      "12          12        60  '2020/12/12'    100       120    250,7\n",
      "13          13        60  '2020/12/13'    106       128    345,3\n",
      "14          14        60  '2020/12/14'    104       132    379,3\n",
      "15          15        60  '2020/12/15'     98       123    275,0\n",
      "16          16        60  '2020/12/16'     98       120    215,2\n",
      "17          17        60  '2020/12/17'    100       120    300,0\n",
      "18          18        45  '2020/12/18'     90       112      NaN\n",
      "19          19        60  '2020/12/19'    103       123    323,0\n",
      "20          20        45  '2020/12/20'     97       125    243,0\n",
      "21          21        60  '2020/12/21'    108       131    364,2\n",
      "22          22        45           NaN    100       119    282,0\n",
      "23          23        60  '2020/12/23'    130       101    300,0\n",
      "24          24        45  '2020/12/24'    105       132    246,0\n",
      "25          25        60  '2020/12/25'    102       126    334,5\n",
      "26          26        60      20201226    100       120    250,0\n",
      "27          27        60  '2020/12/27'     92       118    241,0\n",
      "28          28        60  '2020/12/28'    103       132      NaN\n",
      "29          29        60  '2020/12/29'    100       132    280,0\n",
      "30          30        60  '2020/12/30'    102       129    380,3\n",
      "31          31        60  '2020/12/31'     92       115    243,0\n"
     ]
    }
   ],
   "source": [
    "import pandas as pd\n",
    "\n",
    "df = pd.read_csv('data/calorias.csv')\n",
    "\n",
    "print(df)"
   ]
  },
  {
   "cell_type": "markdown",
   "metadata": {},
   "source": [
    "Como puede ver en el resultado, la fecha en la fila 26 fue fija, pero la fecha vacía en la fila 22 obtuvo un valor \n",
    "de `NaT` (No un tiempo), en otras palabras, un valor vacío. Una forma de lidiar con los valores vacíos es simplemente \n",
    "eliminar toda la fila.\n",
    "\n",
    "## Borrar Filas\n",
    "\n",
    "El resultado de la conversión en el ejemplo anterior nos dio un valor `NaT`, que se puede manejar como un valor `NULL`, \n",
    "y podemos eliminar la fila utilizando el método `dropna()`.\n",
    "\n",
    "**Ejemplo**. Eliminar filas con un valor NULL en la columna \"Fecha\".\n",
    "```python\n",
    "df.dropna(subset=['Date'], inplace = True)\n",
    "```"
   ]
  },
  {
   "cell_type": "markdown",
   "metadata": {},
   "source": [
    "## Datos Incorrectos\n",
    "\n",
    "Los \"Datos incorrectos\" no tienen que ser \"celdas vacías\" o \"formato incorrecto\", puede ser solo equívoco, \n",
    "como si alguien registrara \"199\" en lugar de \"1.99\".\n",
    "\n",
    "A veces puede detectar datos incorrectos mirando el conjunto de datos, porque tiene una expectativa de qué \n",
    "debería ser.\n",
    "\n",
    "Si echa un vistazo a nuestro conjunto de datos, puede ver que en la fila 7, la duración es 450, pero para \n",
    "todas las demás filas la duración es entre 30 y 60.\n",
    "\n",
    "No tiene que estar mal, pero teniendo en cuenta que este es el conjunto de datos del entrenamiento de alguien, \n",
    "concluimos con el hecho de que la persona no entrenó 450 minutos.\n",
    "\n",
    "\n",
    "```plain\n",
    "    Duration          Date  Pulse  Maxpulse  Calories\n",
    "  0         60  '2020/12/01'    110       130     409.1\n",
    "  1         60  '2020/12/02'    117       145     479.0\n",
    "  2         60  '2020/12/03'    103       135     340.0\n",
    "  3         45  '2020/12/04'    109       175     282.4\n",
    "  4         45  '2020/12/05'    117       148     406.0\n",
    "  5         60  '2020/12/06'    102       127     300.0\n",
    "  6         60  '2020/12/07'    110       136     374.0\n",
    "  7        450  '2020/12/08'    104       134     253.3\n",
    "  8         30  '2020/12/09'    109       133     195.1\n",
    "  9         60  '2020/12/10'     98       124     269.0\n",
    "  10        60  '2020/12/11'    103       147     329.3\n",
    "  11        60  '2020/12/12'    100       120     250.7\n",
    "  12        60  '2020/12/12'    100       120     250.7\n",
    "  13        60  '2020/12/13'    106       128     345.3\n",
    "  14        60  '2020/12/14'    104       132     379.3\n",
    "  15        60  '2020/12/15'     98       123     275.0\n",
    "  16        60  '2020/12/16'     98       120     215.2\n",
    "  17        60  '2020/12/17'    100       120     300.0\n",
    "  18        45  '2020/12/18'     90       112       NaN\n",
    "  19        60  '2020/12/19'    103       123     323.0\n",
    "  20        45  '2020/12/20'     97       125     243.0\n",
    "  21        60  '2020/12/21'    108       131     364.2\n",
    "  22        45           NaN    100       119     282.0\n",
    "  23        60  '2020/12/23'    130       101     300.0\n",
    "  24        45  '2020/12/24'    105       132     246.0\n",
    "  25        60  '2020/12/25'    102       126     334.5\n",
    "  26        60      20201226    100       120     250.0\n",
    "  27        60  '2020/12/27'     92       118     241.0\n",
    "  28        60  '2020/12/28'    103       132       NaN\n",
    "  29        60  '2020/12/29'    100       132     280.0\n",
    "  30        60  '2020/12/30'    102       129     380.3\n",
    "  31        60  '2020/12/31'     92       115     243.0\n",
    "```\n",
    "\n",
    "¿Cómo podemos corregir valores incorrectos, como el de \"Duración\" en la fila 7?\n",
    "\n",
    "## Sustitución de Valores\n",
    "\n",
    "Una forma de corregir valores incorrectos es reemplazarlos con otra cosa.\n",
    "\n",
    "En nuestro ejemplo, lo más probable es un error tipográfico, y el valor debe ser \"45\" en lugar de \"450\", \n",
    "y nosotros podría insertar \"45\" en la fila 7:\n",
    "\n",
    "**Ejemplo**. Establecer \"Duración\" = 45 en la fila 7.\n",
    "```python\n",
    "df.loc[7, 'Duration'] = 45\n",
    "```"
   ]
  },
  {
   "cell_type": "markdown",
   "metadata": {},
   "source": [
    "Para conjuntos de datos pequeños, es posible que pueda reemplazar los datos incorrectos uno por uno pero no para grandes conjuntos de datos.\n",
    "\n",
    "Para reemplazar datos incorrectos para conjuntos de datos más grandes, puede crear algunas reglas, establezca algunos límites \n",
    "para los valores legales y reemplace cualquier valor que esté fuera del límites.\n",
    "\n",
    "**Ejemplo**. Recorre todos los valores en la columna \"Duración\", si el valor es superior a 120, establezca en 120.\n",
    "\n",
    "```python\n",
    "for x in df.index:\n",
    "    if df.loc[x, \"Duration\"] > 120:\n",
    "        df.loc[x, \"Duration\"] = 120\n",
    "```"
   ]
  },
  {
   "cell_type": "markdown",
   "metadata": {},
   "source": [
    "## Eliminación de Filas\n",
    "\n",
    "Otra forma de manejar datos incorrectos es eliminar las filas que contienen datos incorrectos.\n",
    "\n",
    "De esta manera no tiene que averiguar con qué reemplazarlos, y los hay una buena oportunidad de que no \n",
    "los necesite para hacer sus análisis.\n",
    "\n",
    "**Ejemplo**. Eliminar filas donde \"Duración\" es superior a 120.\n",
    "```python\n",
    "for x in df.index:\n",
    "    if df.loc[x, \"Duration\"] > 120:\n",
    "        df.drop(x, inplace = True)\n",
    "```"
   ]
  },
  {
   "cell_type": "markdown",
   "metadata": {},
   "source": [
    "## Datos Duplicados\n",
    "\n",
    "Las filas duplicadas son filas que se han registrado más de una vez.\n",
    "```plain\n",
    "Duración Fecha Pulso Maxpulse Calorías\n",
    "0 60 '2020/12/01' 110 130 409,1\n",
    "1 60 '2020/12/02' 117 145 479,0\n",
    "2 60 '2020/12/03' 103 135 340,0\n",
    "3 45 '2020/12/04' 109 175 282,4\n",
    "4 45 '2020/12/05' 117 148 406,0\n",
    "5 60 '2020/12/06' 102 127 300,0\n",
    "6 60 '2020/12/07' 110 136 374,0\n",
    "7 450 '2020/12/08' 104 134 253,3\n",
    "8 30 '2020/12/09' 109 133 195,1\n",
    "9 60 '2020/12/10' 98 124 269,0\n",
    "10 60 '2020/12/11' 103 147 329,3\n",
    "11 60 '2020/12/12' 100 120 250,7\n",
    "12 60 '2020/12/12' 100 120 250,7\n",
    "13 60 '2020/12/13' 106 128 345,3\n",
    "14 60 '2020/12/14' 104 132 379,3\n",
    "15 60 '2020/12/15' 98 123 275,0\n",
    "16 60 '2020/12/16' 98 120 215,2\n",
    "17 60 '2020/12/17' 100 120 300,0\n",
    "18 45 '2020/12/18' 90 112 NaN\n",
    "19 60 '2020/12/19' 103 123 323,0\n",
    "20 45 '2020/12/20' 97 125 243,0\n",
    "21 60 '2020/12/21' 108 131 364,2\n",
    "22 45 NaN 100 119 282,0\n",
    "23 60 '2020/12/23' 130 101 300,0\n",
    "24 45 '2020/12/24' 105 132 246,0\n",
    "25 60 '2020/12/25' 102 126 334,5\n",
    "26 60 20201226 100 120 250,0\n",
    "27 60 '2020/12/27' 92 118 241,0\n",
    "28 60 '2020/12/28' 103 132 NaN\n",
    "29 60 '2020/12/29' 100 132 280,0\n",
    "30 60 '2020/12/30' 102 129 380,3\n",
    "31 60 '2020/12/31' 92 115 243,0\n",
    "```\n",
    "Al echar un vistazo a nuestro conjunto de datos de prueba, podemos suponer que las **filas 11 y 12 son duplicados**.\n",
    "\n",
    "Para descubrir duplicados, podemos usar el método `duplicated()`.\n",
    "\n",
    "El método `duplicated()` devuelve valores booleanos para cada fila.\n",
    "\n",
    "**Ejemplo**. Devuelve `True` por cada fila que es un duplicado, de otra manera False.\n",
    "```python\n",
    "print(df.duplicated())\n",
    "```"
   ]
  },
  {
   "cell_type": "markdown",
   "metadata": {},
   "source": [
    "# Correlación de los datos\n",
    "\n",
    "Un gran aspecto del módulo Pandas es el método `corr()`. Este método calcula la relación entre cada columna en \n",
    "su conjunto de datos.\n",
    "\n",
    "**Ejemplo**. Mostrar la relación entre las columnas."
   ]
  },
  {
   "cell_type": "code",
   "execution_count": 35,
   "metadata": {},
   "outputs": [
    {
     "name": "stdout",
     "output_type": "stream",
     "text": [
      "          Duration     Pulse  Maxpulse  Calories\n",
      "Duration  1.000000 -0.155408  0.009403  0.922717\n",
      "Pulse    -0.155408  1.000000  0.786535  0.025121\n",
      "Maxpulse  0.009403  0.786535  1.000000  0.203813\n",
      "Calories  0.922717  0.025121  0.203813  1.000000\n"
     ]
    }
   ],
   "source": [
    "import pandas as pd\n",
    "\n",
    "df = pd.read_csv('data/data.csv')\n",
    "\n",
    "print(df.corr())"
   ]
  },
  {
   "cell_type": "markdown",
   "metadata": {},
   "source": [
    "El resultado del método `corr()` es una tabla con muchos números que representa qué tan bien está la relación entre dos columnas.\n",
    "\n",
    "El número varía de - 1 a 1. Si la correlación vale 1 significa que hay una relación de 1 a 1 (una correlación perfecta) y para \n",
    "este conjunto de datos, cada vez que un valor sube en la primer columna, el otro valor también subía.\n",
    "\n",
    "Un valor 0.9 también es una buena relación, y si aumenta un valor, el otro probablemente también aumentará.\n",
    "\n",
    "Para un valor -0.9 habría tan buena relación como con 0.9, pero en este casi si aumenta un valor, el otro probablemente bajará.\n",
    "\n",
    "Por último, 0.2 no es una buena relación, lo que significa que si un valor sube no significa que el otro lo haga.\n",
    "\n",
    "¿Qué es una buena correlación? Depende del uso, pero creo que es seguro decir que tienes que tener al \n",
    "menos 0.6 (o -0.6) para llamarlo una buena correlación.\n",
    "\n",
    "### Correlación Perfecta:\n",
    "Podemos ver que \"Duración\" y \"Duración\" obtuvieron el número 1.000000, lo que tiene sentido cada columna siempre \n",
    "tiene una relación perfecta consigo misma.\n",
    "\n",
    "### Buena Correlación:\n",
    "\"Duración\" y \"Calorías\" tienen un 0.922721 correlación, lo cual es una muy buena correlación, y podemos predecir \n",
    "que cuanto más tiempo trabaje fuera, cuantas más calorías queme, y al revés: si quemó mucho de calorías, probablemente \n",
    "tuviste un largo ejercicio.\n",
    "\n",
    "### Mala Correlación:\n",
    "\"Duración\" y \"Maxpulse\" tiene un 0.009403 correlación, lo cual es una correlación muy mala, lo que significa que no \n",
    "podemos predecir el pulso máximo con solo mirar la duración del ejercicio, y viceversa."
   ]
  },
  {
   "cell_type": "markdown",
   "metadata": {},
   "source": [
    "# Visualización de datos\n",
    "\n",
    "<!-- https://www.w3schools.com/python/pandas/pandas_plotting.asp -->\n",
    "\n",
    "Pandas utiliza el métpdp `plot()` para crear gráficas.\n",
    "\n",
    "Podemos utilizar `Pyplot`, un submódulo de la biblioteca `Matplotlib` para visualizar el diagrama en la pantalla."
   ]
  },
  {
   "cell_type": "code",
   "execution_count": null,
   "metadata": {},
   "outputs": [
    {
     "data": {
      "image/png": "[encoded data removed]",
      "text/plain": [
       "<Figure size 640x480 with 1 Axes>"
      ]
     },
     "metadata": {},
     "output_type": "display_data"
    }
   ],
   "source": [
    "import pandas as pd\n",
    "import matplotlib.pyplot as plt\n",
    "\n",
    "df = pd.read_csv('data/data.csv')\n",
    "\n",
    "df.plot()\n",
    "\n",
    "plt.savefig('grafica901.pdf')\n",
    "plt.show()"
   ]
  },
  {
   "cell_type": "markdown",
   "metadata": {},
   "source": [
    "## Diagrama de dispersión\n",
    "\n",
    "Especifique que desea un gráfico de dispersión con el argumento `kind`.\n",
    "\n",
    "```python\n",
    "kind = 'scatter'\n",
    "```\n",
    "\n",
    "Un diagrama de dispersión necesita un eje x y un eje y.\n",
    "\n",
    "En el siguiente ejemplo, utilizaremos \"Duración\" para el eje x y \"Calorías\" para el eje y.\n",
    "\n",
    "Incluya los argumentos x e y de la siguiente manera:\n",
    "\n",
    "```python\n",
    "x = 'Duration', y = 'Calories'\n",
    "```\n",
    "\n",
    "**Ejemplo**."
   ]
  },
  {
   "cell_type": "code",
   "execution_count": null,
   "metadata": {},
   "outputs": [
    {
     "data": {
      "image/png": "[encoded data removed]",
      "text/plain": [
       "<Figure size 640x480 with 1 Axes>"
      ]
     },
     "metadata": {},
     "output_type": "display_data"
    }
   ],
   "source": [
    "import pandas as pd\n",
    "import matplotlib.pyplot as plt\n",
    "\n",
    "df = pd.read_csv('data/data.csv')\n",
    "\n",
    "df.plot(kind = 'scatter', x = 'Duration', y = 'Calories')\n",
    "\n",
    "plt.savefig('grafica902.pdf')\n",
    "plt.show()"
   ]
  },
  {
   "cell_type": "markdown",
   "metadata": {},
   "source": [
    "En la sección anterior, aprendimos que la correlación entre \"Duración\" y \"Calorías\" era 0.922721, y concluimos con el hecho de que \n",
    "una mayor duración significa más calorías quemadas.\n",
    "\n",
    "Al observar el diagrama de dispersión, podemos observar esa relación.\n",
    "\n",
    "Creemos otro diagrama de dispersión, donde hay una mala relación entre las columnas, como \"Duración\" y \"Pulso máximo\", con la \n",
    "correlación 0.009403.\n",
    "\n",
    "**Ejemplo**. Un diagrama de dispersión donde no hay relación entre las columnas."
   ]
  },
  {
   "cell_type": "code",
   "execution_count": null,
   "metadata": {},
   "outputs": [
    {
     "data": {
      "image/png": "[encoded data removed]",
      "text/plain": [
       "<Figure size 640x480 with 1 Axes>"
      ]
     },
     "metadata": {},
     "output_type": "display_data"
    }
   ],
   "source": [
    "import pandas as pd\n",
    "import matplotlib.pyplot as plt\n",
    "\n",
    "df = pd.read_csv('data/data.csv')\n",
    "\n",
    "df.plot(kind = 'scatter', x = 'Duration', y = 'Maxpulse')\n",
    "\n",
    "plt.savefig('grafica903.pdf')\n",
    "plt.show()"
   ]
  },
  {
   "cell_type": "markdown",
   "metadata": {},
   "source": [
    "## Histograma\n",
    "\n",
    "Utilice el kindargumento para especificar que desea un histograma:\n",
    "\n",
    "```python\n",
    "kind = 'hist'\n",
    "```\n",
    "\n",
    "Un histograma solo necesita una columna. Un histograma nos muestra la frecuencia de cada intervalo, por ejemplo ¿cuántos entrenamientos \n",
    "duraron entre 50 y 60 minutos?\n",
    "\n",
    "En el siguiente ejemplo, utilizaremos la columna \"Duración\" para crear el histograma.\n",
    "\n",
    "**Ejemplo**"
   ]
  },
  {
   "cell_type": "code",
   "execution_count": null,
   "metadata": {},
   "outputs": [
    {
     "data": {
      "image/png": "[encoded data removed]",
      "text/plain": [
       "<Figure size 640x480 with 1 Axes>"
      ]
     },
     "metadata": {},
     "output_type": "display_data"
    }
   ],
   "source": [
    "df[\"Duration\"].plot(kind = 'hist')\n",
    "plt.savefig(\"grafica904.pdf\", format='pdf', bbox_inches='tight')"
   ]
  },
  {
   "cell_type": "markdown",
   "metadata": {},
   "source": [
    "El histograma nos dice que hay más de 100 ejercicios que duraron entre 50 y 60 minutos.\n",
    "\n",
    "**Ejemplo**. Ahora un histograma para las calorías."
   ]
  },
  {
   "cell_type": "code",
   "execution_count": null,
   "metadata": {},
   "outputs": [
    {
     "data": {
      "image/png": "[encoded data removed]",
      "text/plain": [
       "<Figure size 640x480 with 1 Axes>"
      ]
     },
     "metadata": {},
     "output_type": "display_data"
    }
   ],
   "source": [
    "df[\"Calories\"].plot(kind = 'hist')\n",
    "plt.savefig(\"grafica905.pdf\", format='pdf', bbox_inches='tight')"
   ]
  },
  {
   "cell_type": "markdown",
   "metadata": {},
   "source": [
    "Este histograma nos dice que hubo poco más de 100 casos donde las calorías quemadas fueron entre 250 y 300."
   ]
  },
  {
   "cell_type": "markdown",
   "metadata": {},
   "source": [
    "Dado que el método `plot` de Pandas utiliza `matplotlib` como backend, si se desea modificar aspectos finos de la gráfica se debe hacer\n",
    "configurando el gráfico a través de `matplotlib` directamente."
   ]
  },
  {
   "cell_type": "markdown",
   "metadata": {},
   "source": [
    "# Referencias\n",
    "\n",
    "* [Manejo de archivos en Python.](https://www.w3schools.com/python/python_file_handling.asp)\n",
    "* Lutz M., Learning Python, O'Reilly. 2009\n",
    "* [Pandas, sitio oficial.](https://pandas.pydata.org/)\n",
    "* [Pandas en la W3Schools.](https://www.w3schools.com/python/pandas/default.asp)\n",
    "* [Pandas Plot](https://pandas.pydata.org/docs/reference/api/pandas.DataFrame.plot.html)"
   ]
  }
 ],
 "metadata": {
  "kernelspec": {
   "display_name": "Python 3",
   "language": "python",
   "name": "python3"
  },
  "language_info": {
   "codemirror_mode": {
    "name": "ipython",
    "version": 3
   },
   "file_extension": ".py",
   "mimetype": "text/x-python",
   "name": "python",
   "nbconvert_exporter": "python",
   "pygments_lexer": "ipython3",
   "version": "3.13.5"
  }
 },
 "nbformat": 4,
 "nbformat_minor": 2
}
