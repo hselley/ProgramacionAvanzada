{
 "cells": [
  {
   "cell_type": "markdown",
   "metadata": {},
   "source": [
    "# Manejo de archivos\n",
    "\n",
    "El manejo de archivos es una parte importante de cualquier aplicación web.\n",
    "\n",
    "Python tiene varias funciones para crear, leer, actualizar y eliminar archivos.\n",
    "\n",
    "\n",
    "## Función `open`\n",
    "\n",
    "La función clave para trabajar con archivos en Python es `open()`. La función `open()` \n",
    "toma dos parámetros: *nombre_archivo* y *modo* .\n",
    "\n",
    "Hay cuatro métodos (modos) diferentes para abrir un archivo:\n",
    "\n",
    "* \"r\"- Leer - Valor predeterminado. Abre un archivo para leerlo. Se produce un error si el archivo no existe.\n",
    "* \"a\"- Anexar - Abre un archivo para anexarlo, crea el archivo si no existe.\n",
    "* \"w\"- Escribir - Abre un archivo para escribir, crea el archivo si no existe.\n",
    "* \"x\"- Crear - Crea el archivo especificado, devuelve un error si el archivo existe.\n",
    "\n",
    "Además, puede especificar si el archivo debe manejarse en modo binario o de texto.\n",
    "\n",
    "* \"t\"- Texto - Valor predeterminado. Modo texto.\n",
    "* \"b\"- Binario - Modo binario (por ejemplo, imágenes).\n",
    "\n",
    "\n",
    "## Sintaxis\n",
    "\n",
    "La función `open()` abre un archivo y lo devuelve como un objeto de archivo.\n",
    "\n",
    "\n",
    "```python\n",
    "open(file, mode)\n",
    "```\n",
    "\n",
    "### Valores predeterminados\n",
    "\n",
    "| Parámetro\t| Descripción |\n",
    "|-----------|-------------|\n",
    "| _file_ | La ubicación y nombre del archivo |\n",
    "| _mode_ | Una cadena que define el modo como se abre el archivo |\n",
    "|        | `\"r\"` - **Lectura** - Valor por defecto. Abre un archivo para lectura, envía error si el archivo no existe. |\n",
    "|        | `\"a\"` - **Añadir** - Abre un archivo para añadir, crea el archivo si no existe. |\n",
    "|        | `\"w\"` - **Escritura** - Abre un archivo para escritura, crea el archivo si no existe. |\n",
    "|        | `\"x\"` - **Creación** - Crea un archivo, devuelve un error si el archivo ya existe. |\n",
    "|        | |\n",
    "|        | Adicionalmente se puede especificar si el archivo será manejado como texto o binario |\n",
    "|        | `\"t\"` - **Texto** - Modo texto, valor por defecto. |\n",
    "|        | `\"b\"` - **Binario** - Modo binario (i.e. imágenes) |\n",
    "\n",
    "\n",
    "Para abrir un archivo para su lectura es suficiente especificar el nombre del archivo:\n",
    "\n",
    "```python\n",
    "f = open(\"demofile.txt\")\n",
    "```\n",
    "\n",
    "Este código es equivalente al siguiente:\n",
    "\n",
    "```python\n",
    "f = open(\"demofile.txt\", \"rt\")\n",
    "```\n",
    "Dado que `'r'` para lectura y `'t'` para texto son los valores por defecto, no es necesario incluirlos.\n",
    "\n",
    "## Abrir un archivo\n",
    "\n",
    "Supongamos que tenemos el archivo `demofile.txt`, ubicado en la misma carpeta que Python:\n",
    "\n",
    "**Archivo demofile.txt**\n",
    "```markdown\n",
    "Hello! Welcome to demofile.txt\n",
    "This file is for testing purposes.\n",
    "Good Luck!\n",
    "```\n",
    "\n",
    "Para abrir el archivo, se utiliza la función incorporada `open()`. Esta función devuelve un objeto \n",
    "tipo archivo, que tiene un método `read()` para leer el contenido del archivo:"
   ]
  },
  {
   "cell_type": "code",
   "execution_count": 5,
   "metadata": {},
   "outputs": [
    {
     "name": "stdout",
     "output_type": "stream",
     "text": [
      "Hello! Welcome to demofile.txt\n",
      "This file is for testing purposes.\n",
      "Good Luck!\n"
     ]
    }
   ],
   "source": [
    "f = open(\"demofile.txt\", 'r')\n",
    "print(f.read())"
   ]
  },
  {
   "cell_type": "markdown",
   "metadata": {},
   "source": [
    "# Pandas"
   ]
  },
  {
   "cell_type": "markdown",
   "metadata": {},
   "source": []
  },
  {
   "cell_type": "markdown",
   "metadata": {},
   "source": []
  },
  {
   "cell_type": "markdown",
   "metadata": {},
   "source": []
  },
  {
   "cell_type": "markdown",
   "metadata": {},
   "source": []
  },
  {
   "cell_type": "markdown",
   "metadata": {},
   "source": []
  },
  {
   "cell_type": "markdown",
   "metadata": {},
   "source": [
    "# Manipulación y Limpieza de Datos"
   ]
  },
  {
   "cell_type": "markdown",
   "metadata": {},
   "source": []
  },
  {
   "cell_type": "markdown",
   "metadata": {},
   "source": []
  },
  {
   "cell_type": "markdown",
   "metadata": {},
   "source": []
  },
  {
   "cell_type": "markdown",
   "metadata": {},
   "source": []
  },
  {
   "cell_type": "markdown",
   "metadata": {},
   "source": [
    "# Visualización de datos con Matplotlib y Seaborn"
   ]
  },
  {
   "cell_type": "markdown",
   "metadata": {},
   "source": []
  },
  {
   "cell_type": "markdown",
   "metadata": {},
   "source": []
  },
  {
   "cell_type": "markdown",
   "metadata": {},
   "source": []
  },
  {
   "cell_type": "markdown",
   "metadata": {},
   "source": []
  },
  {
   "cell_type": "markdown",
   "metadata": {},
   "source": []
  },
  {
   "cell_type": "markdown",
   "metadata": {},
   "source": []
  },
  {
   "cell_type": "markdown",
   "metadata": {},
   "source": [
    "# Referencias\n",
    "\n",
    "* [Manejo de archivos en Python](https://www.w3schools.com/python/python_file_handling.asp)\n",
    "* Lutz M., Learning Python, O'Reilly. 2009"
   ]
  }
 ],
 "metadata": {
  "kernelspec": {
   "display_name": "Python 3",
   "language": "python",
   "name": "python3"
  },
  "language_info": {
   "codemirror_mode": {
    "name": "ipython",
    "version": 3
   },
   "file_extension": ".py",
   "mimetype": "text/x-python",
   "name": "python",
   "nbconvert_exporter": "python",
   "pygments_lexer": "ipython3",
   "version": "3.12.4"
  }
 },
 "nbformat": 4,
 "nbformat_minor": 2
}
