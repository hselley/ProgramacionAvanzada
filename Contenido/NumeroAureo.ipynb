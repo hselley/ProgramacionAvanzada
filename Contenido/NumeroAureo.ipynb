{
 "cells": [
  {
   "cell_type": "markdown",
   "id": "2108efbd",
   "metadata": {},
   "source": [
    "# Número aureo\n",
    "$$ \\varphi = \\lim_{n\\rightarrow \\infty}\\dfrac{Fib(n+1)}{Fib(n)} $$"
   ]
  },
  {
   "cell_type": "code",
   "execution_count": 30,
   "id": "cc86c6fe",
   "metadata": {},
   "outputs": [],
   "source": [
    "def Fib(n=10):\n",
    "    lista = [0, 1]\n",
    "    for _ in range(n):\n",
    "        lista.append(lista[-1] + lista[-2])\n",
    "    return lista\n"
   ]
  },
  {
   "cell_type": "code",
   "execution_count": 66,
   "id": "c25f4aac",
   "metadata": {},
   "outputs": [
    {
     "data": {
      "text/plain": [
       "[0, 1, 1, 2, 3, 5, 8, 13, 21, 34, 55, 89]"
      ]
     },
     "execution_count": 66,
     "metadata": {},
     "output_type": "execute_result"
    }
   ],
   "source": [
    "Fib()"
   ]
  },
  {
   "cell_type": "code",
   "execution_count": 34,
   "id": "d34ad887",
   "metadata": {},
   "outputs": [
    {
     "data": {
      "text/plain": [
       "[0, 1, 1, 2, 3, 5, 8]"
      ]
     },
     "execution_count": 34,
     "metadata": {},
     "output_type": "execute_result"
    }
   ],
   "source": [
    "Fib(5)"
   ]
  },
  {
   "cell_type": "code",
   "execution_count": 57,
   "id": "93a2b026",
   "metadata": {},
   "outputs": [
    {
     "name": "stdout",
     "output_type": "stream",
     "text": [
      "1.6\n"
     ]
    }
   ],
   "source": [
    "sucesion = Fib(5)\n",
    "print(sucesion[-1]/sucesion[-2])"
   ]
  },
  {
   "cell_type": "code",
   "execution_count": 65,
   "id": "1f298d36",
   "metadata": {},
   "outputs": [
    {
     "name": "stdout",
     "output_type": "stream",
     "text": [
      "1.618033988749895\n"
     ]
    }
   ],
   "source": [
    "n = int(input(\"Ingrese el límite superior\"))\n",
    "sucesion = Fib(n)\n",
    "print(sucesion[-1]/sucesion[-2])"
   ]
  },
  {
   "cell_type": "code",
   "execution_count": null,
   "id": "cdc6f4cf",
   "metadata": {},
   "outputs": [],
   "source": []
  }
 ],
 "metadata": {
  "kernelspec": {
   "display_name": "Python 3",
   "language": "python",
   "name": "python3"
  },
  "language_info": {
   "codemirror_mode": {
    "name": "ipython",
    "version": 3
   },
   "file_extension": ".py",
   "mimetype": "text/x-python",
   "name": "python",
   "nbconvert_exporter": "python",
   "pygments_lexer": "ipython3",
   "version": "3.13.3"
  }
 },
 "nbformat": 4,
 "nbformat_minor": 5
}
