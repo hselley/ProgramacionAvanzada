{
 "cells": [
  {
   "cell_type": "markdown",
   "metadata": {
    "id": "jO08ex8xltiR"
   },
   "source": [
    "# Programación Orientada a Objetos\n",
    "## Python"
   ]
  },
  {
   "cell_type": "markdown",
   "metadata": {
    "id": "QNjnvB-WyjvY"
   },
   "source": [
    "### Ejemplo.\n",
    "Cree una clase llamada Persona, use la función *\\_\\_init\\_\\_()* para asignar valores para nombre y edad:"
   ]
  },
  {
   "cell_type": "code",
   "execution_count": null,
   "metadata": {
    "colab": {
     "base_uri": "https://localhost:8080/"
    },
    "executionInfo": {
     "elapsed": 12,
     "status": "ok",
     "timestamp": 1721094178233,
     "user": {
      "displayName": "Héctor Julián Selley Rojas",
      "userId": "02283004366425993309"
     },
     "user_tz": 360
    },
    "id": "i1tji18NykhY",
    "outputId": "52aa829e-c416-40c0-b516-8f15acd9048e"
   },
   "outputs": [
    {
     "name": "stdout",
     "output_type": "stream",
     "text": [
      "John\n",
      "36\n"
     ]
    }
   ],
   "source": [
    "class Person:\n",
    "  def __init__(self, name, age):\n",
    "    self.name = name\n",
    "    self.age = age\n",
    "\n",
    "p1 = Person(\"John\", 36)\n",
    "\n",
    "print(p1.name)\n",
    "print(p1.age)"
   ]
  },
  {
   "cell_type": "code",
   "execution_count": null,
   "metadata": {
    "colab": {
     "base_uri": "https://localhost:8080/"
    },
    "executionInfo": {
     "elapsed": 190,
     "status": "ok",
     "timestamp": 1721094246164,
     "user": {
      "displayName": "Héctor Julián Selley Rojas",
      "userId": "02283004366425993309"
     },
     "user_tz": 360
    },
    "id": "jJaF1qd_NeLu",
    "outputId": "5ef8431f-9112-4a20-b4c2-dedc205c7936"
   },
   "outputs": [
    {
     "name": "stdout",
     "output_type": "stream",
     "text": [
      "<__main__.Person object at 0x7d8759ac9240>\n"
     ]
    }
   ],
   "source": [
    "class Person:\n",
    "  def __init__(self, name, age):\n",
    "    self.name = name\n",
    "    self.age = age\n",
    "\n",
    "p1 = Person(\"John\", 36)\n",
    "\n",
    "print(p1)"
   ]
  },
  {
   "cell_type": "code",
   "execution_count": null,
   "metadata": {
    "colab": {
     "base_uri": "https://localhost:8080/"
    },
    "executionInfo": {
     "elapsed": 436,
     "status": "ok",
     "timestamp": 1721096026061,
     "user": {
      "displayName": "Héctor Julián Selley Rojas",
      "userId": "02283004366425993309"
     },
     "user_tz": 360
    },
    "id": "GsalJMXtUS81",
    "outputId": "9fa58c10-8b44-4797-a22f-fb9ec1707984"
   },
   "outputs": [
    {
     "name": "stdout",
     "output_type": "stream",
     "text": [
      "Hello my name is John\n"
     ]
    }
   ],
   "source": [
    "class Person:\n",
    "  def __init__(mysillyobject, name, age):\n",
    "    mysillyobject.name = name\n",
    "    mysillyobject.age = age\n",
    "\n",
    "  def myfunc(abc):\n",
    "    print(\"Hello my name is \" + abc.name)\n",
    "\n",
    "p1 = Person(\"John\", 36)\n",
    "p1.myfunc()"
   ]
  },
  {
   "cell_type": "code",
   "execution_count": null,
   "metadata": {
    "colab": {
     "base_uri": "https://localhost:8080/"
    },
    "executionInfo": {
     "elapsed": 148,
     "status": "ok",
     "timestamp": 1721094355375,
     "user": {
      "displayName": "Héctor Julián Selley Rojas",
      "userId": "02283004366425993309"
     },
     "user_tz": 360
    },
    "id": "kCREbESPNsqV",
    "outputId": "15c6b6be-04ba-4592-c533-58654075ff94"
   },
   "outputs": [
    {
     "name": "stdout",
     "output_type": "stream",
     "text": [
      "John is 36 years old.\n"
     ]
    }
   ],
   "source": [
    "class Person:\n",
    "  def __init__(self, name, age):\n",
    "    self.name = name\n",
    "    self.age = age\n",
    "\n",
    "  def __str__(self):\n",
    "    return f\"{self.name} is {self.age} years old.\"\n",
    "\n",
    "p1 = Person(\"John\", 36)\n",
    "\n",
    "print(p1)"
   ]
  },
  {
   "cell_type": "markdown",
   "metadata": {
    "id": "B3IFW1YpxZ9W"
   },
   "source": [
    "### Ejemplo.\n",
    "Crear una clase que reciba la parte real y la parte imaginaria de un número complejo. Debe devolver la representación del número.\n",
    "\n",
    "$$ 2 \\pm 3i$$\n",
    "$$ -4 \\pm 5i $$\n"
   ]
  },
  {
   "cell_type": "code",
   "execution_count": null,
   "metadata": {
    "colab": {
     "base_uri": "https://localhost:8080/"
    },
    "executionInfo": {
     "elapsed": 225,
     "status": "ok",
     "timestamp": 1721094764407,
     "user": {
      "displayName": "Héctor Julián Selley Rojas",
      "userId": "02283004366425993309"
     },
     "user_tz": 360
    },
    "id": "oEmDzYoaxZkW",
    "outputId": "415f7487-4e2c-4179-acb3-03adb3d2d125"
   },
   "outputs": [
    {
     "name": "stdout",
     "output_type": "stream",
     "text": [
      "2 ± 3i\n",
      "-4 ± 5i\n"
     ]
    }
   ],
   "source": [
    "class complex_number:\n",
    "    def __init__(self, real, imag):\n",
    "        self.real = real\n",
    "        self.imag = imag\n",
    "\n",
    "    def __str__(self):\n",
    "        return f'{self.real} ± {self.imag}i'\n",
    "\n",
    "num1 = complex_number(2,3)\n",
    "print(num1)\n",
    "num2 = complex_number(-4,5)\n",
    "print(num2)"
   ]
  },
  {
   "cell_type": "markdown",
   "metadata": {
    "id": "SSteeZN-mxRu"
   },
   "source": [
    "### Ejemplo.\n",
    "Inserte una función que imprima un saludo y ejecútelo en el objeto p1:"
   ]
  },
  {
   "cell_type": "code",
   "execution_count": null,
   "metadata": {
    "colab": {
     "base_uri": "https://localhost:8080/"
    },
    "executionInfo": {
     "elapsed": 168,
     "status": "ok",
     "timestamp": 1721094943425,
     "user": {
      "displayName": "Héctor Julián Selley Rojas",
      "userId": "02283004366425993309"
     },
     "user_tz": 360
    },
    "id": "oZbwmqrImxzm",
    "outputId": "4ef6f0b0-31c0-46d6-dcab-be34b1bb3d6a"
   },
   "outputs": [
    {
     "name": "stdout",
     "output_type": "stream",
     "text": [
      "Hello my name is John and I'm 36 years old.\n"
     ]
    }
   ],
   "source": [
    "class Person:\n",
    "  def __init__(self, name, age):\n",
    "    self.name = name\n",
    "    self.age = age\n",
    "\n",
    "  def myfunc(self):\n",
    "    print(\"Hello my name is \" + self.name + \" and I'm \" + str(self.age) + \" years old.\")\n",
    "\n",
    "p1 = Person(\"John\", 36)\n",
    "p1.myfunc()"
   ]
  },
  {
   "cell_type": "markdown",
   "metadata": {
    "id": "B0JzNua5mliI"
   },
   "source": [
    "### Ejemplo.\n",
    "Registro de perros"
   ]
  },
  {
   "cell_type": "code",
   "execution_count": null,
   "metadata": {
    "colab": {
     "base_uri": "https://localhost:8080/"
    },
    "executionInfo": {
     "elapsed": 208,
     "status": "ok",
     "timestamp": 1721095341322,
     "user": {
      "displayName": "Héctor Julián Selley Rojas",
      "userId": "02283004366425993309"
     },
     "user_tz": 360
    },
    "id": "dOTMfk5tlsTJ",
    "outputId": "f043806f-7c2b-4372-9992-0be7a9bad12a"
   },
   "outputs": [
    {
     "name": "stdout",
     "output_type": "stream",
     "text": [
      "Mi perro pesa 15 kilos\n"
     ]
    }
   ],
   "source": [
    "class Perro:\n",
    "    def __init__(self, name, raza, talla, peso):\n",
    "        self.name = name\n",
    "        self.raza = raza\n",
    "        self.talla = talla\n",
    "        self.peso = peso\n",
    "\n",
    "    def obtener_peso(self):\n",
    "        return self.peso\n",
    "\n",
    "miPerro = Perro(\"Firulais\", \"mestizo\", \"Mediano\", 15)\n",
    "print(f'Mi perro pesa {miPerro.obtener_peso()} kilos')"
   ]
  },
  {
   "cell_type": "markdown",
   "metadata": {
    "id": "d9e4dJnBl1e_"
   },
   "source": [
    "### Ejemplo.\n",
    "Registro de perros con promedio de peso"
   ]
  },
  {
   "cell_type": "code",
   "execution_count": null,
   "metadata": {
    "colab": {
     "base_uri": "https://localhost:8080/"
    },
    "executionInfo": {
     "elapsed": 401,
     "status": "ok",
     "timestamp": 1721095840380,
     "user": {
      "displayName": "Héctor Julián Selley Rojas",
      "userId": "02283004366425993309"
     },
     "user_tz": 360
    },
    "id": "ISgUTzQ5l04i",
    "outputId": "a663651e-31be-430b-e990-9c699d4b955b"
   },
   "outputs": [
    {
     "name": "stdout",
     "output_type": "stream",
     "text": [
      "Mi perro pesa 12 kilos\n",
      "El peso promedio de los perros es 20 kilos\n"
     ]
    }
   ],
   "source": [
    "class Perro:\n",
    "    # Peso promedio\n",
    "    peso = 20\n",
    "\n",
    "    def __init__(self, name, raza, talla, peso):\n",
    "        self.name = name\n",
    "        self.raza = raza\n",
    "        self.talla = talla\n",
    "        self.peso = peso\n",
    "\n",
    "    @classmethod\n",
    "    def obtener_peso(self):\n",
    "        return self.peso\n",
    "\n",
    "miPerro = Perro(\"Firulais\", \"mestizo\", \"Mediano\", 12)\n",
    "print(f'Mi perro pesa {miPerro.peso} kilos')\n",
    "print(f'El peso promedio de los perros es {miPerro.obtener_peso()} kilos')"
   ]
  },
  {
   "cell_type": "markdown",
   "metadata": {
    "id": "EkghAF--m9_K"
   },
   "source": [
    "### Ejemplo.\n",
    "Calculadora"
   ]
  },
  {
   "cell_type": "code",
   "execution_count": null,
   "metadata": {
    "colab": {
     "base_uri": "https://localhost:8080/"
    },
    "executionInfo": {
     "elapsed": 5,
     "status": "ok",
     "timestamp": 1721096229214,
     "user": {
      "displayName": "Héctor Julián Selley Rojas",
      "userId": "02283004366425993309"
     },
     "user_tz": 360
    },
    "id": "ud0jGSyWltOb",
    "outputId": "3f126664-3e31-4169-e91a-3c9689fd8c29"
   },
   "outputs": [
    {
     "name": "stdout",
     "output_type": "stream",
     "text": [
      "9\n",
      "4\n",
      "18\n",
      "2.0\n"
     ]
    }
   ],
   "source": [
    "class calcu:\n",
    "\n",
    "    @staticmethod\n",
    "    def sumar(num1, num2):\n",
    "        return num1 + num2\n",
    "\n",
    "    @staticmethod\n",
    "    def resta(num1, num2):\n",
    "        return num1 - num2\n",
    "\n",
    "    @staticmethod\n",
    "    def multiplicacion(num1, num2):\n",
    "        return num1 * num2\n",
    "\n",
    "    @staticmethod\n",
    "    def division(num1, num2):\n",
    "        return num1 / num2\n",
    "\n",
    "print(calcu.sumar(4,5))\n",
    "print(calcu.resta(8,4))\n",
    "print(calcu.multiplicacion(2,9))\n",
    "print(calcu.division(6,3))"
   ]
  },
  {
   "cell_type": "code",
   "execution_count": null,
   "metadata": {
    "colab": {
     "base_uri": "https://localhost:8080/"
    },
    "executionInfo": {
     "elapsed": 385,
     "status": "ok",
     "timestamp": 1721096378028,
     "user": {
      "displayName": "Héctor Julián Selley Rojas",
      "userId": "02283004366425993309"
     },
     "user_tz": 360
    },
    "id": "1uL2m1NRVYjH",
    "outputId": "37ed1794-fbae-4d72-95ef-e96e9b5c7b21"
   },
   "outputs": [
    {
     "name": "stdout",
     "output_type": "stream",
     "text": [
      "9\n"
     ]
    }
   ],
   "source": [
    "x = calcu.sumar(4,5)\n",
    "print(x)"
   ]
  },
  {
   "cell_type": "markdown",
   "metadata": {
    "id": "QQw6RlKinqxD"
   },
   "source": [
    "### Ejercicio.\n",
    "Realizar una clase que reciba un par de argumentos numéricos y realice las operaciones aritméticas básicas"
   ]
  },
  {
   "cell_type": "code",
   "execution_count": null,
   "metadata": {
    "colab": {
     "base_uri": "https://localhost:8080/"
    },
    "executionInfo": {
     "elapsed": 436,
     "status": "ok",
     "timestamp": 1721096738326,
     "user": {
      "displayName": "Héctor Julián Selley Rojas",
      "userId": "02283004366425993309"
     },
     "user_tz": 360
    },
    "id": "Blf-LmAJnAyj",
    "outputId": "23df29b6-628a-4c75-f394-1e64ccb2a54d"
   },
   "outputs": [
    {
     "name": "stdout",
     "output_type": "stream",
     "text": [
      "5\n",
      "9\n",
      "14\n",
      "-4\n",
      "45\n",
      "0.5555555555555556\n"
     ]
    }
   ],
   "source": [
    "class calculadora:\n",
    "    def __init__(self, num1, num2):\n",
    "        self.num1 = num1\n",
    "        self.num2 = num2\n",
    "\n",
    "    def suma(self):\n",
    "        return self.num1 + self.num2\n",
    "\n",
    "    def resta(self):\n",
    "        return self.num1 - self.num2\n",
    "\n",
    "    def multiplicacion(self):\n",
    "        return self.num1 * self.num2\n",
    "\n",
    "    def division(self):\n",
    "        return self.num1 / self.num2\n",
    "\n",
    "operacion = calculadora(5,9)\n",
    "print(operacion.num1)\n",
    "print(operacion.num2)\n",
    "print(operacion.suma())\n",
    "print(operacion.resta())\n",
    "print(operacion.multiplicacion())\n",
    "print(operacion.division())"
   ]
  },
  {
   "cell_type": "markdown",
   "metadata": {
    "id": "XE_6fFNRoN_O"
   },
   "source": [
    "### Ejercicio.\n",
    "Realice un clase _Circulo_ que reciba las coordenadas $(x,y)$ donde se ubica el centro y el radio $r$. La clase debe tener métodos que determinen el perímetro, área, cuadrante donde se ubica el cirulo en el plano cartesiano."
   ]
  },
  {
   "cell_type": "code",
   "execution_count": null,
   "metadata": {
    "colab": {
     "base_uri": "https://localhost:8080/"
    },
    "executionInfo": {
     "elapsed": 6,
     "status": "ok",
     "timestamp": 1721097437878,
     "user": {
      "displayName": "Héctor Julián Selley Rojas",
      "userId": "02283004366425993309"
     },
     "user_tz": 360
    },
    "id": "KX-sDSW-owZU",
    "outputId": "27e110ac-fa68-46b0-9782-b808d8a3199f"
   },
   "outputs": [
    {
     "name": "stdout",
     "output_type": "stream",
     "text": [
      "12.566370614359172\n",
      "12.566370614359172\n",
      "III\n"
     ]
    }
   ],
   "source": [
    "import math\n",
    "\n",
    "class Circulo:\n",
    "    def __init__(self, x, y, r):\n",
    "        self.x = x\n",
    "        self.y = y\n",
    "        self.r = r\n",
    "\n",
    "    def perimetro(self):\n",
    "        return 2 * math.pi * self.r\n",
    "\n",
    "    def area(self):\n",
    "        return math.pi * self.r**2\n",
    "\n",
    "    def cuadrante(self):\n",
    "        if self.x > 0 and self.y > 0:\n",
    "            return \"I\"\n",
    "        elif self.x < 0 and self.y > 0:\n",
    "            return \"II\"\n",
    "        elif self.x > 0 and self.y < 0:\n",
    "            return \"IV\"\n",
    "        else:\n",
    "            return \"III\"\n",
    "\n",
    "c1 = Circulo(-6,-7,2)\n",
    "print(c1.perimetro())\n",
    "print(c1.area())\n",
    "print(c1.cuadrante())"
   ]
  },
  {
   "cell_type": "markdown",
   "metadata": {
    "id": "Y1b-8Ft5o2Mw"
   },
   "source": [
    "### Ejercicio.\n",
    "Realice una clase que reciba la parte real y la parte imaginaria de un número complejo. Debe tener métodos que determine el módulo del número complejo, la suma y resta de dos números complejos.\n",
    "\n",
    "$$ |2 +- 3i| = \\sqrt{2^2 + 3^2} = \\sqrt{13} $$\n",
    "$$ (2+-3i) + (4+-5i) = 6 +- 8i $$\n",
    "$$ (2+-3i) - (4+-5i) = -2 +- 2i $$"
   ]
  },
  {
   "cell_type": "code",
   "execution_count": null,
   "metadata": {
    "colab": {
     "base_uri": "https://localhost:8080/"
    },
    "executionInfo": {
     "elapsed": 361,
     "status": "ok",
     "timestamp": 1721099558895,
     "user": {
      "displayName": "Héctor Julián Selley Rojas",
      "userId": "02283004366425993309"
     },
     "user_tz": 360
    },
    "id": "RueFi4nKpXPZ",
    "outputId": "a2f36aa3-7725-4d4c-8c45-7d2dc558fd0f"
   },
   "outputs": [
    {
     "name": "stdout",
     "output_type": "stream",
     "text": [
      "2 ± 3i\n",
      "3.605551275463989\n",
      "4 ± 5i\n",
      "6.4031242374328485\n",
      "6 ± 8i\n",
      "6 ± 8i\n",
      "-2 ± -2i\n"
     ]
    }
   ],
   "source": [
    "import math\n",
    "\n",
    "class ComplexNumber:\n",
    "    def __init__(self, r, i):\n",
    "        self.r = r\n",
    "        self.i = i\n",
    "\n",
    "    def modulo(self):\n",
    "        return math.sqrt(self.r**2 + self.i**2)\n",
    "\n",
    "    def __str__(self):\n",
    "        return f'{self.r} ± {self.i}i'\n",
    "\n",
    "    # Métodos Mágicos (Dunder -> double under (score))\n",
    "    def __add__(self, other):\n",
    "        return ComplexNumber(self.r + other.r, self.i + other.i)\n",
    "\n",
    "    def __sub__(self, other):\n",
    "        return ComplexNumber(self.r - other.r, self.i - other.i)\n",
    "\n",
    "# Ejemplo\n",
    "c1 = ComplexNumber(2,3)\n",
    "print(c1)\n",
    "print(c1.modulo())\n",
    "\n",
    "c2 = ComplexNumber(4,5)\n",
    "print(c2)\n",
    "print(c2.modulo())\n",
    "\n",
    "c3r = c1.r + c2.r\n",
    "c3i = c1.i + c2.i\n",
    "c3 = ComplexNumber(c3r, c3i)\n",
    "print(c3)\n",
    "\n",
    "c4 = c1 + c2\n",
    "print(c4)\n",
    "\n",
    "c5 = c1 - c2\n",
    "print(c5)"
   ]
  },
  {
   "cell_type": "markdown",
   "metadata": {
    "id": "_VtKwBH7zrZy"
   },
   "source": [
    "En Python, los métodos *\\_\\_add\\_\\_* y *\\_\\_sub\\_\\_* son métodos especiales que permiten definir el comportamiento de los operadores de suma (+) y resta (-) para los objetos de una clase personalizada. Estos métodos se denominan \"**métodos mágicos**\" o \"**métodos dunder**\" (double underscore, por sus siglas en inglés)."
   ]
  },
  {
   "cell_type": "markdown",
   "metadata": {
    "id": "b96Bcf-zl90T"
   },
   "source": [
    "## Lista de ejercicios"
   ]
  },
  {
   "cell_type": "markdown",
   "metadata": {
    "id": "wE5P73U-0Fps"
   },
   "source": [
    "### Ejercicio 1: Clase *Persona*\n",
    "\n",
    "Crea una clase *Persona* con atributos nombre, edad y métodos para mostrar esta información y calcular si la persona es mayor de edad.\n",
    "\n"
   ]
  },
  {
   "cell_type": "code",
   "execution_count": 2,
   "metadata": {
    "colab": {
     "base_uri": "https://localhost:8080/"
    },
    "executionInfo": {
     "elapsed": 180,
     "status": "ok",
     "timestamp": 1721151190394,
     "user": {
      "displayName": "Héctor Julián Selley Rojas",
      "userId": "02283004366425993309"
     },
     "user_tz": 360
    },
    "id": "6DERutq_qZ6Q",
    "outputId": "8b71b28b-7157-4e3a-9ce2-f70d084ba339"
   },
   "outputs": [
    {
     "name": "stdout",
     "output_type": "stream",
     "text": [
      "Nombre: Juan, Edad: 23\n",
      "True\n"
     ]
    }
   ],
   "source": [
    "class Persona:\n",
    "    def __init__(self, nombre, edad):\n",
    "        self.nombre = nombre\n",
    "        self.edad = edad\n",
    "\n",
    "    def mostrar_info(self):\n",
    "        return(f'Nombre: {self.nombre}, Edad: {self.edad}')\n",
    "\n",
    "    def mayor_de_edad(self):\n",
    "        if self.edad >= 18:\n",
    "            return True\n",
    "        else:\n",
    "            return False\n",
    "\n",
    "# Ejemplo\n",
    "persona1 = Persona(\"Juan\", 23)\n",
    "print(persona1.mostrar_info())\n",
    "print(persona1.mayor_de_edad())"
   ]
  },
  {
   "cell_type": "markdown",
   "metadata": {
    "id": "irysZDW3BOj4"
   },
   "source": [
    "### Ejercicio 2: Clase *Rectángulo*\n",
    "Crea una clase *Rectángulo* con atributos largo y ancho. Incluye métodos para calcular el área y el perímetro del rectángulo.\n"
   ]
  },
  {
   "cell_type": "code",
   "execution_count": null,
   "metadata": {
    "colab": {
     "base_uri": "https://localhost:8080/"
    },
    "executionInfo": {
     "elapsed": 134,
     "status": "ok",
     "timestamp": 1721100610069,
     "user": {
      "displayName": "Héctor Julián Selley Rojas",
      "userId": "02283004366425993309"
     },
     "user_tz": 360
    },
    "id": "wcrPJzIWBQNr",
    "outputId": "c0b1f2e0-aefd-4cb2-8a91-663eeef6d72f"
   },
   "outputs": [
    {
     "name": "stdout",
     "output_type": "stream",
     "text": [
      "28\n",
      "45\n"
     ]
    }
   ],
   "source": [
    "class Rectangulo:\n",
    "    def __init__(self, largo, ancho):\n",
    "        self.largo = largo\n",
    "        self.ancho = ancho\n",
    "\n",
    "    def perimetro(self):\n",
    "        return 2 * (self.largo + self.ancho)\n",
    "\n",
    "    def area(self):\n",
    "        return self.largo * self.ancho\n",
    "\n",
    "\n",
    "# Ejemplo\n",
    "r1 = Rectangulo(9, 5)\n",
    "print(r1.perimetro())\n",
    "print(r1.area())"
   ]
  },
  {
   "cell_type": "markdown",
   "metadata": {
    "id": "I5N0BU4KBQpg"
   },
   "source": [
    "### Ejercicio 3: Clase *Círculo*\n",
    "Crea una clase *Círculo* con un atributo radio. Añade métodos para calcular el área y la circunferencia del círculo."
   ]
  },
  {
   "cell_type": "code",
   "execution_count": null,
   "metadata": {
    "id": "CKqqyQduBSeW"
   },
   "outputs": [],
   "source": []
  },
  {
   "cell_type": "markdown",
   "metadata": {
    "id": "fyUBK-LvBS60"
   },
   "source": [
    "### Ejercicio 4: Clase *CuentaBancaria*\n",
    "Crea una clase *CuentaBancaria* con atributos titular y saldo. Incluye métodos para depositar, retirar y mostrar el saldo."
   ]
  },
  {
   "cell_type": "code",
   "execution_count": null,
   "metadata": {
    "colab": {
     "base_uri": "https://localhost:8080/"
    },
    "executionInfo": {
     "elapsed": 186,
     "status": "ok",
     "timestamp": 1721101134645,
     "user": {
      "displayName": "Héctor Julián Selley Rojas",
      "userId": "02283004366425993309"
     },
     "user_tz": 360
    },
    "id": "qNs0faDsBVEC",
    "outputId": "9fc16cba-02c1-4506-c272-fd17f2d96dbf"
   },
   "outputs": [
    {
     "name": "stdout",
     "output_type": "stream",
     "text": [
      "Saldo de Juan Perez: $ 4930\n",
      "Saldo insuficiente\n"
     ]
    }
   ],
   "source": [
    "class CuentaBancaria:\n",
    "    def __init__(self, titular, saldo=0):\n",
    "        self.titular = titular\n",
    "        self.saldo = saldo\n",
    "\n",
    "    def depositar(self, monto):\n",
    "        self.saldo += monto\n",
    "\n",
    "    def retirar(self, monto):\n",
    "        if monto < self.saldo:\n",
    "            self.saldo = self.saldo - monto # self.saldo -= monto\n",
    "        else:\n",
    "            print(\"Saldo insuficiente\")\n",
    "\n",
    "    def mostrarSaldo(self):\n",
    "        print(f'Saldo de {self.titular}: $ {self.saldo}')\n",
    "\n",
    "# Ejemplo\n",
    "cliente1 = CuentaBancaria(\"Juan Perez\", 4500)\n",
    "cliente1.depositar(430)\n",
    "cliente1.mostrarSaldo()\n",
    "cliente1.retirar(10000)"
   ]
  },
  {
   "cell_type": "markdown",
   "metadata": {
    "id": "UN6DE-RsBV9m"
   },
   "source": [
    "### Ejercicio 5: Clase *Estudiante*\n",
    "Crea una clase Estudiante que herede de Persona. Añade un atributo promedio y un método para determinar si el estudiante está aprobado (promedio >= 6)."
   ]
  },
  {
   "cell_type": "code",
   "execution_count": null,
   "metadata": {
    "colab": {
     "base_uri": "https://localhost:8080/"
    },
    "executionInfo": {
     "elapsed": 136,
     "status": "ok",
     "timestamp": 1721101690287,
     "user": {
      "displayName": "Héctor Julián Selley Rojas",
      "userId": "02283004366425993309"
     },
     "user_tz": 360
    },
    "id": "Rd6ZycZ2BYvx",
    "outputId": "05bf7913-e680-408a-e7d5-4acea93a888d"
   },
   "outputs": [
    {
     "name": "stdout",
     "output_type": "stream",
     "text": [
      "True\n",
      "Nombre: Maria, Edad: 20\n"
     ]
    }
   ],
   "source": [
    "class Persona:\n",
    "    def __init__(self, nombre, edad):\n",
    "        self.nombre = nombre\n",
    "        self.edad = edad\n",
    "\n",
    "    def mostrarInfo(self):\n",
    "        print(f'Nombre: {self.nombre}, Edad: {self.edad}')\n",
    "\n",
    "class Estudiante(Persona):\n",
    "    def __init__(self, nombre, edad, promedio):\n",
    "        super().__init__(nombre, edad)\n",
    "        self.promedio = promedio\n",
    "\n",
    "    def aprobado(self):\n",
    "        if self.promedio >= 6:\n",
    "            return True\n",
    "        else:\n",
    "            return False\n",
    "\n",
    "# Ejemplo\n",
    "estudiante1 = Estudiante(\"Maria\", 20, 7.5)\n",
    "print(estudiante1.aprobado())\n",
    "estudiante1.mostrarInfo()"
   ]
  },
  {
   "cell_type": "markdown",
   "metadata": {
    "id": "xEBZRirEBZJz"
   },
   "source": [
    "### Ejercicio 6: Clase *Libro*\n",
    "Crea una clase Libro con atributos título, autor y año. Incluye un método para mostrar la información del libro y otro para determinar si es un libro antiguo (año < 2000)."
   ]
  },
  {
   "cell_type": "code",
   "execution_count": null,
   "metadata": {
    "id": "5DohEnlsBa0f"
   },
   "outputs": [],
   "source": []
  },
  {
   "cell_type": "markdown",
   "metadata": {
    "id": "mxYcG2T1BbQo"
   },
   "source": [
    "### Ejercicio 7: Clase *Vehículo*\n",
    "Crea una clase Vehículo con atributos marca, modelo y año. Añade un método para mostrar la información del vehículo y otro para determinar si es un vehículo clásico (año < 1980)."
   ]
  },
  {
   "cell_type": "code",
   "execution_count": null,
   "metadata": {
    "id": "fgZXPkelBeQL"
   },
   "outputs": [],
   "source": []
  },
  {
   "cell_type": "markdown",
   "metadata": {
    "id": "A8bqT2mZBe3T"
   },
   "source": [
    "### Ejercicio 8: Clase *Empleado*\n",
    "Crea una clase Empleado con atributos nombre, salario y años_de_experiencia. Añade un método para calcular un aumento salarial basado en los años de experiencia (5%)."
   ]
  },
  {
   "cell_type": "code",
   "execution_count": 1,
   "metadata": {
    "colab": {
     "base_uri": "https://localhost:8080/"
    },
    "executionInfo": {
     "elapsed": 4,
     "status": "ok",
     "timestamp": 1721151061141,
     "user": {
      "displayName": "Héctor Julián Selley Rojas",
      "userId": "02283004366425993309"
     },
     "user_tz": 360
    },
    "id": "vfA0hnJ4Bgpd",
    "outputId": "d5ab4d43-8bc4-4761-838b-8667fa1f6a39"
   },
   "outputs": [
    {
     "name": "stdout",
     "output_type": "stream",
     "text": [
      "Nombre: Carlos, Salario: 15000, Años de Experiencia: 10\n",
      "Nuevo salario: 22500.0\n"
     ]
    }
   ],
   "source": [
    "class Empleado:\n",
    "    def __init__(self, nombre, salario, exp):\n",
    "        self.nombre = nombre\n",
    "        self.salario = salario\n",
    "        self.exp = exp\n",
    "\n",
    "    def mostrarInfo(self):\n",
    "        print(f'Nombre: {self.nombre}, Salario: {self.salario}, Años de Experiencia: {self.exp}')\n",
    "\n",
    "    def aumento(self):\n",
    "        aumento = 0.05*self.exp\n",
    "        self.salario += self.salario*aumento\n",
    "\n",
    "# Ejemplo\n",
    "empleado1 = Empleado(\"Carlos\", 15000, 10)\n",
    "empleado1.mostrarInfo()\n",
    "empleado1.aumento()\n",
    "print(f'Nuevo salario: {empleado1.salario}')"
   ]
  },
  {
   "cell_type": "markdown",
   "metadata": {
    "id": "cxnIPqI9BhHg"
   },
   "source": [
    "### Ejercicio 9: Clase _CuentaDeAhorro_\n",
    "Crea una clase CuentaDeAhorro que herede de CuentaBancaria. Añade un atributo interés y un método para aplicar el interés al saldo."
   ]
  },
  {
   "cell_type": "code",
   "execution_count": null,
   "metadata": {
    "id": "9Rhu1YSOBieb"
   },
   "outputs": [],
   "source": []
  },
  {
   "cell_type": "markdown",
   "metadata": {
    "id": "lB2Dl66ZBi3j"
   },
   "source": [
    "### Ejercicio 10: Clase _Empresa_\n",
    "Crea una clase Empresa con atributos nombre y empleados (una lista de objetos de la clase Empleado). Incluye métodos para agregar empleados, eliminar empleados y calcular el salario total pagado por la empresa."
   ]
  },
  {
   "cell_type": "code",
   "execution_count": null,
   "metadata": {
    "id": "dPthGbWtBkGf"
   },
   "outputs": [],
   "source": []
  }
 ],
 "metadata": {
  "colab": {
   "authorship_tag": "ABX9TyOTQrraSBlb1/1vydex04zE",
   "provenance": []
  },
  "kernelspec": {
   "display_name": "Python 3 (ipykernel)",
   "language": "python",
   "name": "python3"
  },
  "language_info": {
   "codemirror_mode": {
    "name": "ipython",
    "version": 3
   },
   "file_extension": ".py",
   "mimetype": "text/x-python",
   "name": "python",
   "nbconvert_exporter": "python",
   "pygments_lexer": "ipython3",
   "version": "3.13.3"
  }
 },
 "nbformat": 4,
 "nbformat_minor": 4
}
