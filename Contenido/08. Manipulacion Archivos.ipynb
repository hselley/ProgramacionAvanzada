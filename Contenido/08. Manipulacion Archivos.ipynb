{
 "cells": [
  {
   "cell_type": "markdown",
   "metadata": {},
   "source": [
    "# Manejo de archivos\n",
    "\n",
    "El manejo de archivos es una parte importante de cualquier aplicación web.\n",
    "\n",
    "Python tiene varias funciones para crear, leer, actualizar y eliminar archivos.\n",
    "\n",
    "\n",
    "## Función `open`\n",
    "\n",
    "La función clave para trabajar con archivos en Python es `open()`. La función `open()` \n",
    "toma dos parámetros: *nombre_archivo* y *modo* .\n",
    "\n",
    "Hay cuatro métodos (modos) diferentes para abrir un archivo:\n",
    "\n",
    "* \"r\"- Leer - Valor predeterminado. Abre un archivo para leerlo. Se produce un error si el archivo no existe.\n",
    "* \"a\"- Anexar - Abre un archivo para anexarlo, crea el archivo si no existe.\n",
    "* \"w\"- Escribir - Abre un archivo para escribir, crea el archivo si no existe.\n",
    "* \"x\"- Crear - Crea el archivo especificado, devuelve un error si el archivo existe.\n",
    "\n",
    "Además, puede especificar si el archivo debe manejarse en modo binario o de texto.\n",
    "\n",
    "* \"t\"- Texto - Valor predeterminado. Modo texto.\n",
    "* \"b\"- Binario - Modo binario (por ejemplo, imágenes).\n",
    "\n",
    "\n",
    "## Sintaxis\n",
    "\n",
    "La función `open()` abre un archivo y lo devuelve como un objeto de archivo.\n",
    "\n",
    "\n",
    "```python\n",
    "open(file, mode)\n",
    "```\n",
    "\n",
    "### Valores predeterminados\n",
    "\n",
    "| Parámetro\t| Descripción |\n",
    "|-----------|-------------|\n",
    "| _file_ | La ubicación y nombre del archivo |\n",
    "| _mode_ | Una cadena que define el modo como se abre el archivo |\n",
    "|        | `\"r\"` - **Lectura** - Valor por defecto. Abre un archivo para lectura, envía error si el archivo no existe. |\n",
    "|        | `\"a\"` - **Añadir** - Abre un archivo para añadir, crea el archivo si no existe. |\n",
    "|        | `\"w\"` - **Escritura** - Abre un archivo para escritura, crea el archivo si no existe. |\n",
    "|        | `\"x\"` - **Creación** - Crea un archivo, devuelve un error si el archivo ya existe. |\n",
    "|        | |\n",
    "|        | Adicionalmente se puede especificar si el archivo será manejado como texto o binario |\n",
    "|        | `\"t\"` - **Texto** - Modo texto, valor por defecto. |\n",
    "|        | `\"b\"` - **Binario** - Modo binario (i.e. imágenes) |\n",
    "\n",
    "\n",
    "Para abrir un archivo para su lectura es suficiente especificar el nombre del archivo:\n",
    "\n",
    "```python\n",
    "f = open(\"demofile.txt\")\n",
    "```\n",
    "\n",
    "Este código es equivalente al siguiente:\n",
    "\n",
    "```python\n",
    "f = open(\"demofile.txt\", \"rt\")\n",
    "```\n",
    "Dado que `'r'` para lectura y `'t'` para texto son los valores por defecto, no es necesario incluirlos.\n",
    "\n",
    "## Abrir un archivo localmente\n",
    "\n",
    "Supongamos que tenemos el archivo `demofile.txt`, ubicado en la misma carpeta que el script de Python:\n",
    "\n",
    "**Archivo demofile.txt**\n",
    "```markdown\n",
    "Hello! Welcome to demofile.txt\n",
    "This file is for testing purposes.\n",
    "Good Luck!\n",
    "```\n",
    "\n",
    "Para abrir el archivo, se utiliza la función incorporada `open()`. Esta función devuelve un objeto \n",
    "tipo archivo, que tiene un método `read()` para leer el contenido del archivo:"
   ]
  },
  {
   "cell_type": "code",
   "execution_count": 21,
   "metadata": {},
   "outputs": [
    {
     "name": "stdout",
     "output_type": "stream",
     "text": [
      "Hello! Welcome to demofile.txt\n",
      "This file is for testing purposes.\n",
      "Good Luck!Now the file has more content!\n"
     ]
    }
   ],
   "source": [
    "f = open(\"demofile.txt\", 'r')\n",
    "print(f.read())"
   ]
  },
  {
   "cell_type": "markdown",
   "metadata": {},
   "source": [
    "## Abrir un archivo en Google Drive\n",
    "\n",
    "Supongamos que tenemos el archivo `demofile.txt`, ubicado en Google Drive:\n",
    "\n",
    "**Archivo demofile.txt**\n",
    "```markdown\n",
    "Hello! Welcome to demofile.txt\n",
    "This file is for testing purposes.\n",
    "Good Luck!\n",
    "```\n",
    "\n",
    "Además un notebook de Python se encuentra en la misma carpeta. Para abrir un archivo es necesario\n",
    "utilizar la función `google.colab` dentro del paquete `drive`. \n",
    "Una vez que se haya incluído el paquete, ahora es necesario _montar_ la unidad de almacenamiento \n",
    "de Google Drive en una ubicación dentro del sistema de archivos virtual: `/drive`. Cabe mencionar\n",
    "que esta dirección apuntará a la raíz de la unidad de almacenamiento en Google Drive. \n",
    "\n",
    "```python\n",
    "from google.colab import drive\n",
    "drive.mount(\"/drive\")\n",
    "```\n",
    "\n",
    "Al ejecutar la función `drive.mount`, Google Drive preguntará por autorización para tener acceso a \n",
    "su unidad.\n",
    "\n",
    "Posterior a esto, sólo es necesario utilizar la función open tal y como lo hicimos anteriormente.\n",
    "\n",
    "```python\n",
    "f = open(\"/drive/My Drive/demofile.txt\", 'r')\n",
    "print(f.read())\n",
    "```\n",
    "\n",
    "Observe que se precede al nombre del archivo la ubicación `/drive/My Drive/`, que es donde se montó\n",
    "virtualmente la unidad de almacenamiento de Google Drive."
   ]
  },
  {
   "cell_type": "markdown",
   "metadata": {},
   "source": [
    "## Leer partes de un archivo\n",
    "\n",
    "Por defecto el método `read()` devuelve todo el texto, pero se puede especificar cuantos caracteres se desea leer."
   ]
  },
  {
   "cell_type": "code",
   "execution_count": 22,
   "metadata": {},
   "outputs": [
    {
     "name": "stdout",
     "output_type": "stream",
     "text": [
      "Hello\n"
     ]
    }
   ],
   "source": [
    "f = open(\"demofile.txt\", \"r\")\n",
    "print(f.read(5))"
   ]
  },
  {
   "cell_type": "markdown",
   "metadata": {},
   "source": [
    "## Leer líneas del archivo\n",
    "\n",
    "Es posible leer una línea de un archivo mediante el método `readline()`."
   ]
  },
  {
   "cell_type": "code",
   "execution_count": 23,
   "metadata": {},
   "outputs": [
    {
     "name": "stdout",
     "output_type": "stream",
     "text": [
      "Hello! Welcome to demofile.txt\n",
      "\n"
     ]
    }
   ],
   "source": [
    "f = open(\"demofile.txt\", \"r\")\n",
    "print(f.readline())"
   ]
  },
  {
   "cell_type": "code",
   "execution_count": 24,
   "metadata": {},
   "outputs": [
    {
     "name": "stdout",
     "output_type": "stream",
     "text": [
      "Hello! Welcome to demofile.txt\n",
      "\n",
      "This file is for testing purposes.\n",
      "\n"
     ]
    }
   ],
   "source": [
    "f = open(\"demofile.txt\", \"r\")\n",
    "print(f.readline())\n",
    "print(f.readline())"
   ]
  },
  {
   "cell_type": "markdown",
   "metadata": {},
   "source": [
    "Si se utiliza un ciclo `for`, se puede leer todo el archivo línea por línea."
   ]
  },
  {
   "cell_type": "code",
   "execution_count": 25,
   "metadata": {},
   "outputs": [
    {
     "name": "stdout",
     "output_type": "stream",
     "text": [
      "Hello! Welcome to demofile.txt\n",
      "\n",
      "This file is for testing purposes.\n",
      "\n",
      "Good Luck!Now the file has more content!\n"
     ]
    }
   ],
   "source": [
    "f = open(\"demofile.txt\", \"r\")\n",
    "for x in f:\n",
    "    print(x)"
   ]
  },
  {
   "cell_type": "markdown",
   "metadata": {},
   "source": [
    "## Cerrar un archivo\n",
    "\n",
    "Es una biena práctica cerrar un archivo después de utilizarse. Para ello se debe utilizar el método `close()`."
   ]
  },
  {
   "cell_type": "code",
   "execution_count": 26,
   "metadata": {},
   "outputs": [
    {
     "name": "stdout",
     "output_type": "stream",
     "text": [
      "Hello! Welcome to demofile.txt\n",
      "\n"
     ]
    }
   ],
   "source": [
    "f = open(\"demofile.txt\", \"r\")\n",
    "print(f.readline())\n",
    "f.close()"
   ]
  },
  {
   "cell_type": "markdown",
   "metadata": {},
   "source": [
    "Se puede verificar si un archivo está cerrado mediante la propiedad booleana `closed`."
   ]
  },
  {
   "cell_type": "code",
   "execution_count": 27,
   "metadata": {},
   "outputs": [
    {
     "name": "stdout",
     "output_type": "stream",
     "text": [
      "El archivo está cerrado?: True\n"
     ]
    }
   ],
   "source": [
    "print(f'El archivo está cerrado?: {f.closed}')"
   ]
  },
  {
   "cell_type": "markdown",
   "metadata": {},
   "source": [
    "## Escribir en un archivo existente\n",
    "\n",
    "Para escribir en un archivo existente se debe agregar un parámetro al método `open()`.\n",
    "\n",
    "* `'a'`. Añadir contenido al final del archivo\n",
    "* `'w'`. Escribir en el archivo. Sobreescribe cualquier contenido existente.\n",
    "\n",
    "\n",
    "**Ejemplo**. Abrir el archivo `demofile2.txt` y añadir contenido."
   ]
  },
  {
   "cell_type": "code",
   "execution_count": 28,
   "metadata": {},
   "outputs": [
    {
     "name": "stdout",
     "output_type": "stream",
     "text": [
      "Hello! Welcome to demofile.txt\n",
      "This file is for testing purposes.\n",
      "Good Luck!Now the file has more content!Now the file has more content!\n"
     ]
    }
   ],
   "source": [
    "f = open(\"demofile2.txt\", \"a\")\n",
    "f.write(\"Now the file has more content!\")\n",
    "f.close()\n",
    "\n",
    "#open and read the file after the appending:\n",
    "f = open(\"demofile2.txt\", \"r\")\n",
    "print(f.read())"
   ]
  },
  {
   "cell_type": "markdown",
   "metadata": {},
   "source": [
    "**Ejemplo**. Abrir el archivo `demofile2.txt` y sobrescribir contenido."
   ]
  },
  {
   "cell_type": "code",
   "execution_count": 29,
   "metadata": {},
   "outputs": [
    {
     "name": "stdout",
     "output_type": "stream",
     "text": [
      "Woops! I have deleted the content!\n"
     ]
    }
   ],
   "source": [
    "f = open(\"demofile3.txt\", \"w\")\n",
    "f.write(\"Woops! I have deleted the content!\")\n",
    "f.close()\n",
    "\n",
    "#open and read the file after the overwriting:\n",
    "f = open(\"demofile3.txt\", \"r\")\n",
    "print(f.read())"
   ]
  },
  {
   "cell_type": "markdown",
   "metadata": {},
   "source": [
    "## Crear un nuevo archivo\n",
    "\n",
    "Para crear un nuevo archivo en Python se debe utilizar el método `open()` con uno de los siguientes parámetros.\n",
    "\n",
    "* 'x'. Crear - crea el archivo y devuelve un error si el archivo existe.\n",
    "* 'a'. Añadir - crea el archivo si es que no existe previamente.\n",
    "* 'w'. Escribir - crea el archivo si es que no existe previamente.\n",
    "\n",
    "**Ejemplo**. Crea un archivo llamado `myfile.txt`."
   ]
  },
  {
   "cell_type": "code",
   "execution_count": 30,
   "metadata": {},
   "outputs": [],
   "source": [
    "f = open(\"myfile.txt\", \"x\")"
   ]
  },
  {
   "cell_type": "markdown",
   "metadata": {},
   "source": [
    "**Ejemplo**. Crea un nuevo archivo `myfile.txt` si es que no existe previamente. "
   ]
  },
  {
   "cell_type": "code",
   "execution_count": 31,
   "metadata": {},
   "outputs": [],
   "source": [
    "f = open(\"myfile.txt\", \"w\")"
   ]
  },
  {
   "cell_type": "markdown",
   "metadata": {},
   "source": [
    "## Borrar un archivo\n",
    "\n",
    "Para borrar archivos en Python se debe importar el módulo `os` y utlizar el módulo `os.remove()`."
   ]
  },
  {
   "cell_type": "code",
   "execution_count": 32,
   "metadata": {},
   "outputs": [],
   "source": [
    "import os\n",
    "os.remove(\"myfile.txt\")"
   ]
  },
  {
   "cell_type": "markdown",
   "metadata": {},
   "source": []
  },
  {
   "cell_type": "code",
   "execution_count": 33,
   "metadata": {},
   "outputs": [
    {
     "name": "stdout",
     "output_type": "stream",
     "text": [
      "The file does not exist\n"
     ]
    }
   ],
   "source": [
    "import os\n",
    "if os.path.exists(\"myfile.txt\"):\n",
    "  os.remove(\"myfile.txt\")\n",
    "else:\n",
    "  print(\"The file does not exist\")"
   ]
  },
  {
   "cell_type": "markdown",
   "metadata": {},
   "source": [
    "# Referencias\n",
    "\n",
    "* [Manejo de archivos en Python.](https://www.w3schools.com/python/python_file_handling.asp)\n",
    "* Lutz M., Learning Python, O'Reilly. 2009"
   ]
  }
 ],
 "metadata": {
  "kernelspec": {
   "display_name": "Python 3",
   "language": "python",
   "name": "python3"
  },
  "language_info": {
   "codemirror_mode": {
    "name": "ipython",
    "version": 3
   },
   "file_extension": ".py",
   "mimetype": "text/x-python",
   "name": "python",
   "nbconvert_exporter": "python",
   "pygments_lexer": "ipython3",
   "version": "3.12.4"
  }
 },
 "nbformat": 4,
 "nbformat_minor": 2
}
