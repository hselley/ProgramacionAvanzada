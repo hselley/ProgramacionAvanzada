{
  "nbformat": 4,
  "nbformat_minor": 0,
  "metadata": {
    "colab": {
      "provenance": []
    },
    "kernelspec": {
      "name": "python3",
      "display_name": "Python 3"
    },
    "language_info": {
      "name": "python"
    }
  },
  "cells": [
    {
      "cell_type": "code",
      "source": [
        "x=int(input(\"Ingrese el valor de x \"))\n",
        "y=int(input(\"Ingrese el valor de y \"))\n",
        "if x>0:\n",
        "    z=y*2\n",
        "    print(\"Positivo\")\n",
        "elif x==0:\n",
        "    z=y*3\n",
        "    print(\"Cero\")\n",
        "else:\n",
        "    z=y*4\n",
        "    print(\"Negativo\")\n",
        "print(z)"
      ],
      "metadata": {
        "id": "jveDJ0co1SOw",
        "colab": {
          "base_uri": "https://localhost:8080/"
        },
        "outputId": "aa271e19-3860-40df-cdbd-6ffcae2edd66"
      },
      "execution_count": null,
      "outputs": [
        {
          "output_type": "stream",
          "name": "stdout",
          "text": [
            "Ingrese el valor de x 5\n",
            "Ingrese el valor de y 6\n",
            "Positivo\n",
            "12\n"
          ]
        }
      ]
    },
    {
      "cell_type": "code",
      "source": [
        "for i in range(10):\n",
        "    print(i)"
      ],
      "metadata": {
        "colab": {
          "base_uri": "https://localhost:8080/"
        },
        "id": "YgyZ8NG-dGx3",
        "outputId": "b6899e1c-24b0-45d0-f730-118c66e712c1"
      },
      "execution_count": null,
      "outputs": [
        {
          "output_type": "stream",
          "name": "stdout",
          "text": [
            "0\n",
            "1\n",
            "2\n",
            "3\n",
            "4\n",
            "5\n",
            "6\n",
            "7\n",
            "8\n",
            "9\n"
          ]
        }
      ]
    },
    {
      "cell_type": "code",
      "source": [
        "for i in [0,1,2,3,4,5,6,7,8,9]:\n",
        "    print(i)"
      ],
      "metadata": {
        "colab": {
          "base_uri": "https://localhost:8080/"
        },
        "id": "rNkZXcZydeR7",
        "outputId": "961185f5-4cb6-40e9-c5cb-d8dde4e17067"
      },
      "execution_count": null,
      "outputs": [
        {
          "output_type": "stream",
          "name": "stdout",
          "text": [
            "0\n",
            "1\n",
            "2\n",
            "3\n",
            "4\n",
            "5\n",
            "6\n",
            "7\n",
            "8\n",
            "9\n"
          ]
        }
      ]
    },
    {
      "cell_type": "code",
      "source": [
        "list(range(10))"
      ],
      "metadata": {
        "colab": {
          "base_uri": "https://localhost:8080/"
        },
        "id": "SvWWKc4FdoYh",
        "outputId": "5c20e487-edc1-4caa-c6d9-8c977b8061f3"
      },
      "execution_count": null,
      "outputs": [
        {
          "output_type": "execute_result",
          "data": {
            "text/plain": [
              "[0, 1, 2, 3, 4, 5, 6, 7, 8, 9]"
            ]
          },
          "metadata": {},
          "execution_count": 4
        }
      ]
    },
    {
      "cell_type": "code",
      "source": [
        "for i in range(1,10):\n",
        "    print(i)"
      ],
      "metadata": {
        "colab": {
          "base_uri": "https://localhost:8080/"
        },
        "id": "5ZPZXAgNdx_J",
        "outputId": "f122414f-ef84-4b79-e71a-9a0ab58db36c"
      },
      "execution_count": null,
      "outputs": [
        {
          "output_type": "stream",
          "name": "stdout",
          "text": [
            "1\n",
            "2\n",
            "3\n",
            "4\n",
            "5\n",
            "6\n",
            "7\n",
            "8\n",
            "9\n"
          ]
        }
      ]
    },
    {
      "cell_type": "code",
      "source": [
        "for i in range(1,10,2):\n",
        "    print(i)"
      ],
      "metadata": {
        "colab": {
          "base_uri": "https://localhost:8080/"
        },
        "id": "sF5NCyA3d9Ug",
        "outputId": "8dd2ece6-9702-4402-8ff3-fe2a45d92615"
      },
      "execution_count": null,
      "outputs": [
        {
          "output_type": "stream",
          "name": "stdout",
          "text": [
            "1\n",
            "3\n",
            "5\n",
            "7\n",
            "9\n"
          ]
        }
      ]
    },
    {
      "cell_type": "code",
      "source": [
        "for x in range(1,11):\n",
        "    if x<=5:\n",
        "        print(f'{x} -> {x*2}')\n",
        "    else:\n",
        "        print(f'{x} -> {x*3}')"
      ],
      "metadata": {
        "colab": {
          "base_uri": "https://localhost:8080/"
        },
        "id": "VBbX0BpkeKFH",
        "outputId": "ae2f5da4-b6b0-48b5-a5a2-93cdce3ae488"
      },
      "execution_count": null,
      "outputs": [
        {
          "output_type": "stream",
          "name": "stdout",
          "text": [
            "1 -> 2\n",
            "2 -> 4\n",
            "3 -> 6\n",
            "4 -> 8\n",
            "5 -> 10\n",
            "6 -> 18\n",
            "7 -> 21\n",
            "8 -> 24\n",
            "9 -> 27\n",
            "10 -> 30\n"
          ]
        }
      ]
    },
    {
      "cell_type": "code",
      "source": [
        "i = 1\n",
        "while i <= 10:\n",
        "    print(i)\n",
        "    i=i+1"
      ],
      "metadata": {
        "colab": {
          "base_uri": "https://localhost:8080/"
        },
        "id": "dt7FiuOHeaax",
        "outputId": "cbca8fb5-9363-461f-fd98-50db054b228c"
      },
      "execution_count": null,
      "outputs": [
        {
          "output_type": "stream",
          "name": "stdout",
          "text": [
            "1\n",
            "2\n",
            "3\n",
            "4\n",
            "5\n",
            "6\n",
            "7\n",
            "8\n",
            "9\n",
            "10\n"
          ]
        }
      ]
    },
    {
      "cell_type": "code",
      "source": [
        "lista = [\"manzana\", \"plátano\", \"naranja\", \"mandarina\", \"maracuyá\"]\n",
        "print(lista)"
      ],
      "metadata": {
        "colab": {
          "base_uri": "https://localhost:8080/"
        },
        "id": "kGU7cBUWfHkO",
        "outputId": "b5a3b735-6a17-43ef-c7ad-bf74e232ea99"
      },
      "execution_count": null,
      "outputs": [
        {
          "output_type": "stream",
          "name": "stdout",
          "text": [
            "['manzana', 'plátano', 'naranja', 'mandarina', 'maracuyá']\n"
          ]
        }
      ]
    },
    {
      "cell_type": "code",
      "source": [
        "print(lista[0])"
      ],
      "metadata": {
        "colab": {
          "base_uri": "https://localhost:8080/"
        },
        "id": "Ichvdgcjf0Zd",
        "outputId": "4e45c8c4-3074-45c7-e9ba-0f77b28da317"
      },
      "execution_count": null,
      "outputs": [
        {
          "output_type": "stream",
          "name": "stdout",
          "text": [
            "manzana\n"
          ]
        }
      ]
    },
    {
      "cell_type": "code",
      "source": [
        "print(lista[2])"
      ],
      "metadata": {
        "colab": {
          "base_uri": "https://localhost:8080/"
        },
        "id": "0cBegsdtf6D5",
        "outputId": "fcf4e718-561f-4730-8651-a251d8a65084"
      },
      "execution_count": null,
      "outputs": [
        {
          "output_type": "stream",
          "name": "stdout",
          "text": [
            "naranja\n"
          ]
        }
      ]
    },
    {
      "cell_type": "code",
      "source": [
        "print(lista[-1])"
      ],
      "metadata": {
        "colab": {
          "base_uri": "https://localhost:8080/"
        },
        "id": "iGf5-kgaf9Mm",
        "outputId": "8ca96582-dc32-4934-af07-7a507c2eed68"
      },
      "execution_count": null,
      "outputs": [
        {
          "output_type": "stream",
          "name": "stdout",
          "text": [
            "maracuyá\n"
          ]
        }
      ]
    },
    {
      "cell_type": "code",
      "source": [
        "print(lista[-2])"
      ],
      "metadata": {
        "colab": {
          "base_uri": "https://localhost:8080/"
        },
        "id": "YQ78HQwIgA_d",
        "outputId": "3145b8d5-a1bc-44a7-9077-6a6d59582f16"
      },
      "execution_count": null,
      "outputs": [
        {
          "output_type": "stream",
          "name": "stdout",
          "text": [
            "mandarina\n"
          ]
        }
      ]
    },
    {
      "cell_type": "code",
      "source": [
        "lista = [\"manzana\", \"plátano\", \"naranja\", \"mandarina\", \"maracuyá\", \"toronja\", \"mango\", \"guayaba\"]\n",
        "print(lista[2:6])"
      ],
      "metadata": {
        "colab": {
          "base_uri": "https://localhost:8080/"
        },
        "id": "-Xj-kWmogPOQ",
        "outputId": "cbd30123-94ac-4919-8dd4-a46033f54778"
      },
      "execution_count": null,
      "outputs": [
        {
          "output_type": "stream",
          "name": "stdout",
          "text": [
            "['naranja', 'mandarina', 'maracuyá', 'toronja']\n"
          ]
        }
      ]
    },
    {
      "cell_type": "code",
      "source": [
        "print(lista[:6])"
      ],
      "metadata": {
        "colab": {
          "base_uri": "https://localhost:8080/"
        },
        "id": "6WfmE_PWggJR",
        "outputId": "2a43cd1d-a202-489b-92b0-200521ef7579"
      },
      "execution_count": null,
      "outputs": [
        {
          "output_type": "stream",
          "name": "stdout",
          "text": [
            "['manzana', 'plátano', 'naranja', 'mandarina', 'maracuyá', 'toronja']\n"
          ]
        }
      ]
    },
    {
      "cell_type": "code",
      "source": [
        "print(lista[2:])"
      ],
      "metadata": {
        "colab": {
          "base_uri": "https://localhost:8080/"
        },
        "id": "BX6EneNbgmPn",
        "outputId": "64eda6be-06b1-4a85-c855-06d40e000aad"
      },
      "execution_count": null,
      "outputs": [
        {
          "output_type": "stream",
          "name": "stdout",
          "text": [
            "['naranja', 'mandarina', 'maracuyá', 'toronja', 'mango', 'guayaba']\n"
          ]
        }
      ]
    },
    {
      "cell_type": "code",
      "source": [
        "print(lista[-1:-3])"
      ],
      "metadata": {
        "colab": {
          "base_uri": "https://localhost:8080/"
        },
        "id": "_BrHPrgWgsDC",
        "outputId": "44a97f0e-6870-4897-fdb4-b58dc3bce5ef"
      },
      "execution_count": null,
      "outputs": [
        {
          "output_type": "stream",
          "name": "stdout",
          "text": [
            "[]\n"
          ]
        }
      ]
    },
    {
      "cell_type": "code",
      "source": [
        "print(lista[-3:-1])"
      ],
      "metadata": {
        "colab": {
          "base_uri": "https://localhost:8080/"
        },
        "id": "k4APEaZfg1JJ",
        "outputId": "c7d6c99b-9ebe-4f55-e1a6-9e716bd11b89"
      },
      "execution_count": null,
      "outputs": [
        {
          "output_type": "stream",
          "name": "stdout",
          "text": [
            "['toronja', 'mango']\n"
          ]
        }
      ]
    },
    {
      "cell_type": "code",
      "source": [
        "print(lista[-1])\n",
        "print(lista[len(lista)-1])"
      ],
      "metadata": {
        "colab": {
          "base_uri": "https://localhost:8080/"
        },
        "id": "eDlstxejg5T8",
        "outputId": "826b8096-7bc0-4ef6-c401-9c46528b02c9"
      },
      "execution_count": null,
      "outputs": [
        {
          "output_type": "stream",
          "name": "stdout",
          "text": [
            "guayaba\n",
            "guayaba\n"
          ]
        }
      ]
    },
    {
      "cell_type": "markdown",
      "source": [
        "# Factorial de un número\n",
        "$$n! = 1*2*3*4*...*n$$\n",
        "$$0! = 1$$"
      ],
      "metadata": {
        "id": "182tIMq_hkoT"
      }
    },
    {
      "cell_type": "code",
      "source": [
        "def factorialC(n):\n",
        "    if n>=0:\n",
        "        f = 1   # Acumulador\n",
        "        for i in range(1,n+1):\n",
        "            f = f*i\n",
        "        return f\n",
        "    else:\n",
        "        print(\"Número con capacidades diferentes.\")\n",
        "        return None"
      ],
      "metadata": {
        "id": "FpRiy2ZbhMAT"
      },
      "execution_count": null,
      "outputs": []
    },
    {
      "cell_type": "code",
      "source": [
        "x = 50\n",
        "print(f'{x}! = {factorialC(x)}')"
      ],
      "metadata": {
        "colab": {
          "base_uri": "https://localhost:8080/"
        },
        "id": "Rmlsr4tsi9xE",
        "outputId": "ea9166de-016f-4fac-d5e9-7ac614a74af9"
      },
      "execution_count": null,
      "outputs": [
        {
          "output_type": "stream",
          "name": "stdout",
          "text": [
            "50! = 30414093201713378043612608166064768844377641568960512000000000000\n"
          ]
        }
      ]
    },
    {
      "cell_type": "markdown",
      "source": [
        "# Factorial en forma recursiva\n",
        "$$ n! = n*(n-1)! $$\n",
        "$$ 5! = 5*4! $$\n",
        "$$ 4! = 4*3! $$\n",
        "$$ 3! = 3*2! $$\n",
        "$$ 2! = 2*1! $$\n",
        "$$ 1! = 1*0! $$"
      ],
      "metadata": {
        "id": "rqwCEp_2jpJf"
      }
    },
    {
      "cell_type": "code",
      "source": [
        "def factorialR(n):\n",
        "    if n>0:\n",
        "        f = n*factorialR(n-1)\n",
        "        return f\n",
        "    elif n==0:\n",
        "        return 1\n",
        "    else:\n",
        "        return None"
      ],
      "metadata": {
        "id": "PfV7JYr5jAcV"
      },
      "execution_count": null,
      "outputs": []
    },
    {
      "cell_type": "code",
      "source": [
        "x = 959\n",
        "print(f'{x}! = {factorialR(x)}')"
      ],
      "metadata": {
        "colab": {
          "base_uri": "https://localhost:8080/",
          "height": 339
        },
        "id": "dqCZuOXBkwB0",
        "outputId": "e65e431c-b185-47ca-cdeb-c21f7e3db46e"
      },
      "execution_count": null,
      "outputs": [
        {
          "output_type": "error",
          "ename": "RecursionError",
          "evalue": "maximum recursion depth exceeded in comparison",
          "traceback": [
            "\u001b[0;31m---------------------------------------------------------------------------\u001b[0m",
            "\u001b[0;31mRecursionError\u001b[0m                            Traceback (most recent call last)",
            "\u001b[0;32m<ipython-input-3-4d27d0de8375>\u001b[0m in \u001b[0;36m<cell line: 2>\u001b[0;34m()\u001b[0m\n\u001b[1;32m      1\u001b[0m \u001b[0mx\u001b[0m \u001b[0;34m=\u001b[0m \u001b[0;36m959\u001b[0m\u001b[0;34m\u001b[0m\u001b[0;34m\u001b[0m\u001b[0m\n\u001b[0;32m----> 2\u001b[0;31m \u001b[0mprint\u001b[0m\u001b[0;34m(\u001b[0m\u001b[0;34mf'{x}! = {factorialR(x)}'\u001b[0m\u001b[0;34m)\u001b[0m\u001b[0;34m\u001b[0m\u001b[0;34m\u001b[0m\u001b[0m\n\u001b[0m",
            "\u001b[0;32m<ipython-input-1-5936c919726c>\u001b[0m in \u001b[0;36mfactorialR\u001b[0;34m(n)\u001b[0m\n\u001b[1;32m      1\u001b[0m \u001b[0;32mdef\u001b[0m \u001b[0mfactorialR\u001b[0m\u001b[0;34m(\u001b[0m\u001b[0mn\u001b[0m\u001b[0;34m)\u001b[0m\u001b[0;34m:\u001b[0m\u001b[0;34m\u001b[0m\u001b[0;34m\u001b[0m\u001b[0m\n\u001b[1;32m      2\u001b[0m     \u001b[0;32mif\u001b[0m \u001b[0mn\u001b[0m\u001b[0;34m>\u001b[0m\u001b[0;36m0\u001b[0m\u001b[0;34m:\u001b[0m\u001b[0;34m\u001b[0m\u001b[0;34m\u001b[0m\u001b[0m\n\u001b[0;32m----> 3\u001b[0;31m         \u001b[0mf\u001b[0m \u001b[0;34m=\u001b[0m \u001b[0mn\u001b[0m\u001b[0;34m*\u001b[0m\u001b[0mfactorialR\u001b[0m\u001b[0;34m(\u001b[0m\u001b[0mn\u001b[0m\u001b[0;34m-\u001b[0m\u001b[0;36m1\u001b[0m\u001b[0;34m)\u001b[0m\u001b[0;34m\u001b[0m\u001b[0;34m\u001b[0m\u001b[0m\n\u001b[0m\u001b[1;32m      4\u001b[0m         \u001b[0;32mreturn\u001b[0m \u001b[0mf\u001b[0m\u001b[0;34m\u001b[0m\u001b[0;34m\u001b[0m\u001b[0m\n\u001b[1;32m      5\u001b[0m     \u001b[0;32melif\u001b[0m \u001b[0mn\u001b[0m\u001b[0;34m==\u001b[0m\u001b[0;36m0\u001b[0m\u001b[0;34m:\u001b[0m\u001b[0;34m\u001b[0m\u001b[0;34m\u001b[0m\u001b[0m\n",
            "... last 1 frames repeated, from the frame below ...\n",
            "\u001b[0;32m<ipython-input-1-5936c919726c>\u001b[0m in \u001b[0;36mfactorialR\u001b[0;34m(n)\u001b[0m\n\u001b[1;32m      1\u001b[0m \u001b[0;32mdef\u001b[0m \u001b[0mfactorialR\u001b[0m\u001b[0;34m(\u001b[0m\u001b[0mn\u001b[0m\u001b[0;34m)\u001b[0m\u001b[0;34m:\u001b[0m\u001b[0;34m\u001b[0m\u001b[0;34m\u001b[0m\u001b[0m\n\u001b[1;32m      2\u001b[0m     \u001b[0;32mif\u001b[0m \u001b[0mn\u001b[0m\u001b[0;34m>\u001b[0m\u001b[0;36m0\u001b[0m\u001b[0;34m:\u001b[0m\u001b[0;34m\u001b[0m\u001b[0;34m\u001b[0m\u001b[0m\n\u001b[0;32m----> 3\u001b[0;31m         \u001b[0mf\u001b[0m \u001b[0;34m=\u001b[0m \u001b[0mn\u001b[0m\u001b[0;34m*\u001b[0m\u001b[0mfactorialR\u001b[0m\u001b[0;34m(\u001b[0m\u001b[0mn\u001b[0m\u001b[0;34m-\u001b[0m\u001b[0;36m1\u001b[0m\u001b[0;34m)\u001b[0m\u001b[0;34m\u001b[0m\u001b[0;34m\u001b[0m\u001b[0m\n\u001b[0m\u001b[1;32m      4\u001b[0m         \u001b[0;32mreturn\u001b[0m \u001b[0mf\u001b[0m\u001b[0;34m\u001b[0m\u001b[0;34m\u001b[0m\u001b[0m\n\u001b[1;32m      5\u001b[0m     \u001b[0;32melif\u001b[0m \u001b[0mn\u001b[0m\u001b[0;34m==\u001b[0m\u001b[0;36m0\u001b[0m\u001b[0;34m:\u001b[0m\u001b[0;34m\u001b[0m\u001b[0;34m\u001b[0m\u001b[0m\n",
            "\u001b[0;31mRecursionError\u001b[0m: maximum recursion depth exceeded in comparison"
          ]
        }
      ]
    },
    {
      "cell_type": "markdown",
      "source": [
        "# Numpy"
      ],
      "metadata": {
        "id": "Hf-zHu57FOWh"
      }
    },
    {
      "cell_type": "code",
      "source": [
        "import numpy as np\n",
        "arreglo = np.array([1,2,3,4,5])\n",
        "print(arreglo)"
      ],
      "metadata": {
        "id": "qkCvyqbNk1AU",
        "colab": {
          "base_uri": "https://localhost:8080/"
        },
        "outputId": "e86dd728-ce5f-4ddf-c7f0-30f5562218fc"
      },
      "execution_count": null,
      "outputs": [
        {
          "output_type": "stream",
          "name": "stdout",
          "text": [
            "[1 2 3 4 5]\n"
          ]
        }
      ]
    },
    {
      "cell_type": "code",
      "source": [
        "lista = [1,2,3,4,5]\n",
        "print(lista)"
      ],
      "metadata": {
        "colab": {
          "base_uri": "https://localhost:8080/"
        },
        "id": "ciMFC9oQFV_9",
        "outputId": "d7670f26-26ac-449a-f2cf-878f6281e129"
      },
      "execution_count": null,
      "outputs": [
        {
          "output_type": "stream",
          "name": "stdout",
          "text": [
            "[1, 2, 3, 4, 5]\n"
          ]
        }
      ]
    },
    {
      "cell_type": "code",
      "source": [
        "arreglo2 = np.array([[1,2,3],[4,5,6]])\n",
        "print(arreglo2)"
      ],
      "metadata": {
        "colab": {
          "base_uri": "https://localhost:8080/"
        },
        "id": "SitPKZgqFbnP",
        "outputId": "8af203f0-1d27-43d4-b6a8-8258fe4eff11"
      },
      "execution_count": null,
      "outputs": [
        {
          "output_type": "stream",
          "name": "stdout",
          "text": [
            "[[1 2 3]\n",
            " [4 5 6]]\n"
          ]
        }
      ]
    },
    {
      "cell_type": "code",
      "source": [
        "print(arreglo2.ndim)"
      ],
      "metadata": {
        "colab": {
          "base_uri": "https://localhost:8080/"
        },
        "id": "2v_jI_OUGUmF",
        "outputId": "d799174c-993f-4a7d-9c05-6e961591ebff"
      },
      "execution_count": null,
      "outputs": [
        {
          "output_type": "stream",
          "name": "stdout",
          "text": [
            "2\n"
          ]
        }
      ]
    },
    {
      "cell_type": "code",
      "source": [
        "arreglo = np.array([[1,2,3,4,5], [6,7,8,9,10]])\n",
        "print(arreglo[1, -1])"
      ],
      "metadata": {
        "colab": {
          "base_uri": "https://localhost:8080/"
        },
        "id": "TlL2ln07GXsv",
        "outputId": "84398181-192a-4f5c-cfaf-d17f24e6a194"
      },
      "execution_count": null,
      "outputs": [
        {
          "output_type": "stream",
          "name": "stdout",
          "text": [
            "10\n"
          ]
        }
      ]
    },
    {
      "cell_type": "code",
      "source": [
        "print(arreglo[-1,-1])"
      ],
      "metadata": {
        "colab": {
          "base_uri": "https://localhost:8080/"
        },
        "id": "tyJQ9bPFHEGB",
        "outputId": "b440bdc4-de44-486b-cb31-875aa865f0ea"
      },
      "execution_count": null,
      "outputs": [
        {
          "output_type": "stream",
          "name": "stdout",
          "text": [
            "10\n"
          ]
        }
      ]
    },
    {
      "cell_type": "code",
      "source": [
        "import numpy as np\n",
        "arreglo = np.array([1, 2, 3, 4, 5])\n",
        "arreglo2 = arreglo[1:4]\n",
        "print(arreglo2)"
      ],
      "metadata": {
        "colab": {
          "base_uri": "https://localhost:8080/"
        },
        "id": "U0nGhd31HITq",
        "outputId": "180872ca-afda-459b-d0eb-0e63224a5ac6"
      },
      "execution_count": null,
      "outputs": [
        {
          "output_type": "stream",
          "name": "stdout",
          "text": [
            "[2 3 4]\n"
          ]
        }
      ]
    },
    {
      "cell_type": "code",
      "source": [
        "print(arreglo2[-3:-1])"
      ],
      "metadata": {
        "colab": {
          "base_uri": "https://localhost:8080/"
        },
        "id": "DQ-kEREkHmtT",
        "outputId": "64fa1ff3-8648-4875-e209-5230f65743b7"
      },
      "execution_count": null,
      "outputs": [
        {
          "output_type": "stream",
          "name": "stdout",
          "text": [
            "[2 3]\n"
          ]
        }
      ]
    },
    {
      "cell_type": "code",
      "source": [
        "print(arreglo2[-1:-3])"
      ],
      "metadata": {
        "colab": {
          "base_uri": "https://localhost:8080/"
        },
        "id": "BzA-bSdbHyzv",
        "outputId": "a45e9947-0d9e-4365-f5b9-1c31f456e673"
      },
      "execution_count": null,
      "outputs": [
        {
          "output_type": "stream",
          "name": "stdout",
          "text": [
            "[]\n"
          ]
        }
      ]
    },
    {
      "cell_type": "code",
      "source": [
        "import numpy as np\n",
        "arreglo = np.array([1, 2, 3, 4, 5, 6, 7])\n",
        "print(arreglo[1:5:2])"
      ],
      "metadata": {
        "colab": {
          "base_uri": "https://localhost:8080/"
        },
        "id": "w-05huwrIC57",
        "outputId": "ec285879-4709-4797-cabf-9abc41678a9e"
      },
      "execution_count": null,
      "outputs": [
        {
          "output_type": "stream",
          "name": "stdout",
          "text": [
            "[2 4]\n"
          ]
        }
      ]
    },
    {
      "cell_type": "code",
      "source": [
        "import numpy as np\n",
        "arreglo = np.array([[1, 2, 3, 4, 5], [6, 7, 8, 9, 10]])\n",
        "print(arreglo[1, 1:4])"
      ],
      "metadata": {
        "colab": {
          "base_uri": "https://localhost:8080/"
        },
        "id": "HvO5dnLPJAou",
        "outputId": "ce055bb2-8f9e-4ed3-adaa-a8065dd078de"
      },
      "execution_count": null,
      "outputs": [
        {
          "output_type": "stream",
          "name": "stdout",
          "text": [
            "[7 8 9]\n"
          ]
        }
      ]
    },
    {
      "cell_type": "code",
      "source": [
        "print(arreglo[0:2, 2])"
      ],
      "metadata": {
        "colab": {
          "base_uri": "https://localhost:8080/"
        },
        "id": "ff_-vc2lJSP7",
        "outputId": "a83d7f58-fcb9-44ca-e9ef-05670a003ffc"
      },
      "execution_count": null,
      "outputs": [
        {
          "output_type": "stream",
          "name": "stdout",
          "text": [
            "[3 8]\n"
          ]
        }
      ]
    },
    {
      "cell_type": "code",
      "source": [
        "print(arreglo[0:2, 1:4])"
      ],
      "metadata": {
        "colab": {
          "base_uri": "https://localhost:8080/"
        },
        "id": "04PiExjbJkyz",
        "outputId": "2a011a3e-ad62-4cc8-99b9-f217a325dc3e"
      },
      "execution_count": null,
      "outputs": [
        {
          "output_type": "stream",
          "name": "stdout",
          "text": [
            "[[2 3 4]\n",
            " [7 8 9]]\n"
          ]
        }
      ]
    },
    {
      "cell_type": "code",
      "source": [
        "import numpy as np\n",
        "arreglo = np.random.rand(20)\n",
        "print(arreglo)"
      ],
      "metadata": {
        "colab": {
          "base_uri": "https://localhost:8080/"
        },
        "id": "qDMVKOQhJ5BO",
        "outputId": "9ccb3325-c0e3-4c60-a997-e8204ad3d154"
      },
      "execution_count": null,
      "outputs": [
        {
          "output_type": "stream",
          "name": "stdout",
          "text": [
            "[0.59793361 0.29295938 0.35648778 0.82583401 0.78469675 0.77503944\n",
            " 0.71534854 0.29386111 0.36856962 0.04229477 0.65596469 0.78744518\n",
            " 0.35859627 0.18873221 0.78112778 0.79282017 0.89929627 0.29884512\n",
            " 0.93715576 0.77075094]\n"
          ]
        }
      ]
    },
    {
      "cell_type": "code",
      "source": [
        "import numpy as np\n",
        "arreglo = np.random.rand(5, 3)\n",
        "print(arreglo)"
      ],
      "metadata": {
        "colab": {
          "base_uri": "https://localhost:8080/"
        },
        "id": "1EX3DhQsKMdL",
        "outputId": "40e22645-8c34-4174-8e3c-d1f1a78842c9"
      },
      "execution_count": null,
      "outputs": [
        {
          "output_type": "stream",
          "name": "stdout",
          "text": [
            "[[0.50192316 0.25062811 0.44988926]\n",
            " [0.90652375 0.3850137  0.30640688]\n",
            " [0.94742379 0.27972452 0.58919275]\n",
            " [0.37998488 0.82158526 0.72533803]\n",
            " [0.30242836 0.02173225 0.52773112]]\n"
          ]
        }
      ]
    },
    {
      "cell_type": "code",
      "source": [
        "import numpy as np\n",
        "arreglo = np.random.rand(5, 3, 2)\n",
        "print(arreglo)"
      ],
      "metadata": {
        "colab": {
          "base_uri": "https://localhost:8080/"
        },
        "id": "ynpkbTsBKgiW",
        "outputId": "44e23b5f-20a2-4601-c17b-2af24307e873"
      },
      "execution_count": null,
      "outputs": [
        {
          "output_type": "stream",
          "name": "stdout",
          "text": [
            "[[[0.82325199 0.7921431 ]\n",
            "  [0.39365942 0.62783579]\n",
            "  [0.61361481 0.37772566]]\n",
            "\n",
            " [[0.42484743 0.49698194]\n",
            "  [0.09515008 0.64945657]\n",
            "  [0.09585235 0.03699993]]\n",
            "\n",
            " [[0.69569629 0.45804238]\n",
            "  [0.57085378 0.9454701 ]\n",
            "  [0.98855115 0.82840778]]\n",
            "\n",
            " [[0.67209852 0.28690747]\n",
            "  [0.96603543 0.07726727]\n",
            "  [0.93845423 0.98226327]]\n",
            "\n",
            " [[0.98816228 0.6032631 ]\n",
            "  [0.24484934 0.8747269 ]\n",
            "  [0.76031158 0.91379241]]]\n"
          ]
        }
      ]
    },
    {
      "cell_type": "code",
      "source": [
        "import numpy as np\n",
        "arreglo = np.append([[1, 2], [3, 4]], [[10, 20], [30, 40]], axis=0)\n",
        "print(arreglo)"
      ],
      "metadata": {
        "colab": {
          "base_uri": "https://localhost:8080/"
        },
        "id": "msMfAK8hKsFG",
        "outputId": "023f285f-5b9c-48f5-a340-ed604a49e676"
      },
      "execution_count": null,
      "outputs": [
        {
          "output_type": "stream",
          "name": "stdout",
          "text": [
            "[[ 1  2]\n",
            " [ 3  4]\n",
            " [10 20]\n",
            " [30 40]]\n"
          ]
        }
      ]
    },
    {
      "cell_type": "code",
      "source": [
        "import numpy as np\n",
        "arreglo = np.append([[1, 2], [3, 4]], [[10, 20], [30, 40]], axis=1)\n",
        "print(arreglo)"
      ],
      "metadata": {
        "colab": {
          "base_uri": "https://localhost:8080/"
        },
        "id": "MbizP2r_LMa6",
        "outputId": "ce6543c8-af69-4f8b-c650-0056b7415648"
      },
      "execution_count": null,
      "outputs": [
        {
          "output_type": "stream",
          "name": "stdout",
          "text": [
            "[[ 1  2 10 20]\n",
            " [ 3  4 30 40]]\n"
          ]
        }
      ]
    },
    {
      "cell_type": "code",
      "source": [
        "import numpy as np\n",
        "x = np.random.rand(10,5)\n",
        "with np.printoptions(precision=4, suppress=True):\n",
        "    np.set_printoptions(formatter={'float': '{: 0.4f}'.format})\n",
        "    print(x)"
      ],
      "metadata": {
        "colab": {
          "base_uri": "https://localhost:8080/"
        },
        "id": "AEAON57hLNWd",
        "outputId": "29987b32-b985-4d7f-9177-beeede9c03d1"
      },
      "execution_count": null,
      "outputs": [
        {
          "output_type": "stream",
          "name": "stdout",
          "text": [
            "[[ 0.4960  0.9387  0.0350  0.9758  0.9267]\n",
            " [ 0.8688  0.8008  0.6789  0.5612  0.0800]\n",
            " [ 0.3515  0.9020  0.6711  0.7909  0.4025]\n",
            " [ 0.7650  0.7511  0.2193  0.4735  0.3603]\n",
            " [ 0.0186  0.2610  0.0011  0.7906  0.4687]\n",
            " [ 0.5963  0.0567  0.9673  0.2778  0.9401]\n",
            " [ 0.8704  0.9889  0.5275  0.8812  0.3850]\n",
            " [ 0.9818  0.2240  0.3783  0.6337  0.5070]\n",
            " [ 0.4583  0.4164  0.8477  0.6289  0.7336]\n",
            " [ 0.7316  0.2147  0.3381  0.6614  0.0801]]\n"
          ]
        }
      ]
    },
    {
      "cell_type": "code",
      "source": [
        "import numpy as np\n",
        "arreglo = np.random.rand(5, 3, 2)\n",
        "\n",
        "for x in arreglo:\n",
        "    for y in x:\n",
        "        for z in y:\n",
        "            print(z)\n",
        "\n"
      ],
      "metadata": {
        "colab": {
          "base_uri": "https://localhost:8080/"
        },
        "id": "Kx8_zXjkMCDH",
        "outputId": "f9598301-e981-4f21-9dd5-f261200aa907"
      },
      "execution_count": null,
      "outputs": [
        {
          "output_type": "stream",
          "name": "stdout",
          "text": [
            "0.8464264999580259\n",
            "0.5396161732232413\n",
            "0.365906351214646\n",
            "0.008993690107141017\n",
            "0.6330264971907361\n",
            "0.9768938230773706\n",
            "0.4910709345522991\n",
            "0.36692047962927965\n",
            "0.5654468195284397\n",
            "0.5366801744120243\n",
            "0.856898982840132\n",
            "0.6836519323083912\n",
            "0.7089953055403663\n",
            "0.7735367533845893\n",
            "0.16600400073162125\n",
            "0.9673297992138653\n",
            "0.5871654462537841\n",
            "0.6204051975522569\n",
            "0.11681287200327539\n",
            "0.7704761055026805\n",
            "0.007820549921977338\n",
            "0.8770650422212877\n",
            "0.5845047095639851\n",
            "0.23689121480259667\n",
            "0.32915005091904315\n",
            "0.23666702264245765\n",
            "0.7858862284321182\n",
            "0.13310912686904663\n",
            "0.5755517718561979\n",
            "0.8747424571846256\n"
          ]
        }
      ]
    },
    {
      "cell_type": "markdown",
      "source": [
        "# Listas"
      ],
      "metadata": {
        "id": "Q3C-VYLSL-UE"
      }
    },
    {
      "cell_type": "code",
      "source": [
        "lista = [\"fresa\", \"maracuyá\", \"mango\", \"pera\"]\n",
        "print(lista)"
      ],
      "metadata": {
        "colab": {
          "base_uri": "https://localhost:8080/"
        },
        "id": "IZWtIgWuLkdF",
        "outputId": "f82cb212-6d16-4393-b643-23963c88d638"
      },
      "execution_count": null,
      "outputs": [
        {
          "output_type": "stream",
          "name": "stdout",
          "text": [
            "['fresa', 'maracuyá', 'mango', 'pera']\n"
          ]
        }
      ]
    },
    {
      "cell_type": "code",
      "source": [
        "lista.append(3.5)\n",
        "print(lista)"
      ],
      "metadata": {
        "colab": {
          "base_uri": "https://localhost:8080/"
        },
        "id": "dwFuRutbNPkV",
        "outputId": "6bc57d92-87b7-4785-e89c-43264d196cf1"
      },
      "execution_count": null,
      "outputs": [
        {
          "output_type": "stream",
          "name": "stdout",
          "text": [
            "['fresa', 'maracuyá', 'mango', 'pera', 3.5]\n"
          ]
        }
      ]
    },
    {
      "cell_type": "code",
      "source": [
        "lista2 = [1,2,3,4,5]\n",
        "lista3 = ['a', 'b', 'c']"
      ],
      "metadata": {
        "id": "nds1EjZuNX0J"
      },
      "execution_count": null,
      "outputs": []
    },
    {
      "cell_type": "code",
      "source": [
        "lista.append(lista2)\n",
        "lista.append(lista3)"
      ],
      "metadata": {
        "id": "QdrkO4H0Nk1U"
      },
      "execution_count": null,
      "outputs": []
    },
    {
      "cell_type": "code",
      "source": [
        "print(lista)"
      ],
      "metadata": {
        "colab": {
          "base_uri": "https://localhost:8080/"
        },
        "id": "GhsiBuyuNpXS",
        "outputId": "38d8b63c-473f-4990-8fe2-60ec81162e89"
      },
      "execution_count": null,
      "outputs": [
        {
          "output_type": "stream",
          "name": "stdout",
          "text": [
            "['fresa', 'maracuyá', 'mango', 'pera', 3.5, [1, 2, 3, 4, 5], ['a', 'b', 'c']]\n"
          ]
        }
      ]
    },
    {
      "cell_type": "code",
      "source": [
        "megaLista = [lista, lista2, lista3]"
      ],
      "metadata": {
        "id": "JKEZof3fNsYH"
      },
      "execution_count": null,
      "outputs": []
    },
    {
      "cell_type": "code",
      "source": [
        "print(megaLista)"
      ],
      "metadata": {
        "colab": {
          "base_uri": "https://localhost:8080/"
        },
        "id": "W5Q2jOKQN2Tx",
        "outputId": "5c64b15e-eca6-4de4-8ffc-69b7848aa8ac"
      },
      "execution_count": null,
      "outputs": [
        {
          "output_type": "stream",
          "name": "stdout",
          "text": [
            "[['fresa', 'maracuyá', 'mango', 'pera', 3.5, [1, 2, 3, 4, 5], ['a', 'b', 'c']], [1, 2, 3, 4, 5], ['a', 'b', 'c']]\n"
          ]
        }
      ]
    },
    {
      "cell_type": "code",
      "source": [
        "for x in megaLista:\n",
        "    for y in x:\n",
        "        print(y)"
      ],
      "metadata": {
        "colab": {
          "base_uri": "https://localhost:8080/"
        },
        "id": "RiptBCexN3xD",
        "outputId": "54ad34d3-2ab8-4910-f414-5c772b441e6c"
      },
      "execution_count": null,
      "outputs": [
        {
          "output_type": "stream",
          "name": "stdout",
          "text": [
            "fresa\n",
            "maracuyá\n",
            "mango\n",
            "pera\n",
            "3.5\n",
            "[1, 2, 3, 4, 5]\n",
            "['a', 'b', 'c']\n",
            "1\n",
            "2\n",
            "3\n",
            "4\n",
            "5\n",
            "a\n",
            "b\n",
            "c\n"
          ]
        }
      ]
    },
    {
      "cell_type": "code",
      "source": [],
      "metadata": {
        "id": "G9Q8igHlOLWd"
      },
      "execution_count": null,
      "outputs": []
    }
  ]
}